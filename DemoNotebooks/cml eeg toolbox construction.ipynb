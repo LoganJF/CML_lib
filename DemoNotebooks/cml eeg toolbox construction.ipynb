{
 "cells": [
  {
   "cell_type": "markdown",
   "metadata": {},
   "source": [
    "### Add the toolbox to your system's path to allow importing!"
   ]
  },
  {
   "cell_type": "code",
   "execution_count": 1,
   "metadata": {
    "collapsed": false
   },
   "outputs": [],
   "source": [
    "import sys\n",
    "sys.path.append('/home2/loganf/SecondYear/Functions/CML/')"
   ]
  },
  {
   "cell_type": "markdown",
   "metadata": {},
   "source": [
    "# Event Structure\n",
    "\n",
    "#### Key Code: get_sub_events(subject, experiment)\n",
    "\n",
    "The toolbox is built around event structures which are structures that contain your behavioral data that can be used to retrieve the associated EEG data. Typically this is done using TimeSeriesX objects which build off of xarray, pandas and numpy arrays"
   ]
  },
  {
   "cell_type": "markdown",
   "metadata": {},
   "source": [
    "### 1. Load an event structure for one pyFR Subject"
   ]
  },
  {
   "cell_type": "code",
   "execution_count": 2,
   "metadata": {
    "collapsed": false
   },
   "outputs": [
    {
     "name": "stderr",
     "output_type": "stream",
     "text": [
      "/home2/loganf/anaconda3/envs/py3/lib/python3.5/site-packages/ptsa/extensions/edf/__init__.py:6: UserWarning: edffile extension module not found\n",
      "  warnings.warn(\"edffile extension module not found\", UserWarning)\n"
     ]
    },
    {
     "name": "stdout",
     "output_type": "stream",
     "text": [
      "Help on function get_sub_events in module GetData:\n",
      "\n",
      "get_sub_events(subject, experiment)\n",
      "    Returns a single subjects event structures using BaseEventReader from ptsa\n",
      "    -----\n",
      "    INPUTS:\n",
      "    subjects: str, subject_id e.g. 'R1111M'\n",
      "    experiment: str, experiment, e.g. 'FR1', 'pyFR' the prefix of 'RAM_'\n",
      "                in front of any ram experiment, e.g. 'RAM_FR1' will load the\n",
      "                matlab path\n",
      "\n",
      "None\n"
     ]
    }
   ],
   "source": [
    "from GetData import get_sub_events # Relevant import statement\n",
    "print(help(get_sub_events)) # let's see the docstrings\n",
    "events = get_sub_events(subject='BW022', experiment='pyFR')"
   ]
  },
  {
   "cell_type": "markdown",
   "metadata": {},
   "source": [
    "### 2. This will create the variable events into the workspace"
   ]
  },
  {
   "cell_type": "code",
   "execution_count": 3,
   "metadata": {
    "collapsed": false,
    "scrolled": true
   },
   "outputs": [
    {
     "name": "stdout",
     "output_type": "stream",
     "text": [
      "((517,), <class 'numpy.recarray'>)\n"
     ]
    },
    {
     "data": {
      "text/plain": [
       "rec.array([ (u'BW022', 1, 1, u'TRIAL', u'X', -999, -999, -999,   1.10839853e+12, 0, -999, -999, u'/data/eeg/BW022/eeg.noreref/BW022_14Feb05_1114', 269758),\n",
       "           (u'BW022', 1, 1, u'ORIENT', u'X', -999, -999, -999,   1.10839853e+12, 1, -999, -999, u'/data/eeg/BW022/eeg.noreref/BW022_14Feb05_1114', 269764),\n",
       "           (u'BW022', 1, 1, u'WORD', u'PARK',  179,    1,    0,   1.10839854e+12, 1, -999, -999, u'/data/eeg/BW022/eeg.noreref/BW022_14Feb05_1114', 270368)], \n",
       "          dtype=[('subject', '<U256'), ('session', '<i8'), ('list', '<i8'), ('type', '<U256'), ('item', '<U256'), ('itemno', '<i8'), ('serialpos', '<i8'), ('recalled', '<i8'), ('mstime', '<f8'), ('msoffset', '<i8'), ('rectime', '<i8'), ('intrusion', '<i8'), ('eegfile', '<U256'), ('eegoffset', '<i8')])"
      ]
     },
     "execution_count": 3,
     "metadata": {},
     "output_type": "execute_result"
    }
   ],
   "source": [
    "print(events.shape, type((events)))\n",
    "events[:3]"
   ]
  },
  {
   "cell_type": "markdown",
   "metadata": {},
   "source": [
    "### 3. The size of the events structure is equivalent to the total number of experimental events the participant completed. For BW022, that was 517 events. Therefore, every entry in the structure is a single event and all of the fields detail properties of that event."
   ]
  },
  {
   "cell_type": "markdown",
   "metadata": {},
   "source": [
    "### 4. As an example, the first recalled word has these properities:"
   ]
  },
  {
   "cell_type": "code",
   "execution_count": 4,
   "metadata": {
    "collapsed": false
   },
   "outputs": [
    {
     "data": {
      "text/plain": [
       "(u'BW022', 1, 1, u'REC_WORD', u'FISH', 96, -999, -999, 1108398600319.0, -999, 3609, 0, u'/data/eeg/BW022/eeg.noreref/BW022_14Feb05_1114', 286107)"
      ]
     },
     "execution_count": 4,
     "metadata": {},
     "output_type": "execute_result"
    }
   ],
   "source": [
    "events[events['type']=='REC_WORD'][0]"
   ]
  },
  {
   "cell_type": "markdown",
   "metadata": {},
   "source": [
    "### 5. Information on all of these fields are described in detail on the lab wiki\n",
    "(see https://memory.psych.upenn.edu/InternalWiki/Format_of_RAM_Events_Structures). Briefly, this event is a recalled item, a word the participant saw on the screen and was instructed to remember and later recalled in a memory task."
   ]
  },
  {
   "cell_type": "markdown",
   "metadata": {},
   "source": [
    "### 6. For electrophysiological analysis, the eegfile and eegoffset fields are critical as they point to the raw EEG file that contains this event and when in that file this event occurs."
   ]
  },
  {
   "cell_type": "code",
   "execution_count": 5,
   "metadata": {
    "collapsed": false
   },
   "outputs": [
    {
     "name": "stdout",
     "output_type": "stream",
     "text": [
      "('eegfile location: ', u'/data/eeg/BW022/eeg.noreref/BW022_14Feb05_1114')\n",
      "('first eegoffset: ', 269758)\n"
     ]
    }
   ],
   "source": [
    "print('eegfile location: ', events.eegfile[0])\n",
    "print('first eegoffset: ', events.eegoffset[0])"
   ]
  },
  {
   "cell_type": "markdown",
   "metadata": {},
   "source": [
    "### 7. Many users have complained to the author that they don't want to switch from matlab to python because of how ugly the record arrays look, if this is truly a concern for the user, the following code can be used to convert it to a pretty pandas dataframe"
   ]
  },
  {
   "cell_type": "code",
   "execution_count": 3,
   "metadata": {
    "collapsed": true
   },
   "outputs": [],
   "source": [
    "def to_pandas_df(events):\n",
    "    \"\"\"returns as a pandas dataframe\"\"\"\n",
    "    import pandas as pd\n",
    "    df = pd.DataFrame.from_records([event for event in events],\n",
    "                                   columns = events.dtype.names)\n",
    "    return df"
   ]
  },
  {
   "cell_type": "markdown",
   "metadata": {},
   "source": [
    "### 8. By default get_subs will prioritize json over matlab, meaning if a subject has both a json file and a matlab file it will load the json file, and will only load the matlab file if there is an error somewhere in the json loading processing. If one desired for some reason to load the matlab file the following code can be used:"
   ]
  },
  {
   "cell_type": "code",
   "execution_count": 7,
   "metadata": {
    "collapsed": false
   },
   "outputs": [
    {
     "data": {
      "text/html": [
       "<div>\n",
       "<style>\n",
       "    .dataframe thead tr:only-child th {\n",
       "        text-align: right;\n",
       "    }\n",
       "\n",
       "    .dataframe thead th {\n",
       "        text-align: left;\n",
       "    }\n",
       "\n",
       "    .dataframe tbody tr th {\n",
       "        vertical-align: top;\n",
       "    }\n",
       "</style>\n",
       "<table border=\"1\" class=\"dataframe\">\n",
       "  <thead>\n",
       "    <tr style=\"text-align: right;\">\n",
       "      <th></th>\n",
       "      <th>subject</th>\n",
       "      <th>session</th>\n",
       "      <th>list</th>\n",
       "      <th>serialpos</th>\n",
       "      <th>type</th>\n",
       "      <th>item</th>\n",
       "      <th>itemno</th>\n",
       "      <th>recalled</th>\n",
       "      <th>mstime</th>\n",
       "      <th>msoffset</th>\n",
       "      <th>...</th>\n",
       "      <th>expVersion</th>\n",
       "      <th>stimLoc</th>\n",
       "      <th>stimAmp</th>\n",
       "      <th>stimAnode</th>\n",
       "      <th>stimAnodeTag</th>\n",
       "      <th>stimCathode</th>\n",
       "      <th>stimCathodeTag</th>\n",
       "      <th>stimList</th>\n",
       "      <th>eegfile</th>\n",
       "      <th>eegoffset</th>\n",
       "    </tr>\n",
       "  </thead>\n",
       "  <tbody>\n",
       "    <tr>\n",
       "      <th>10</th>\n",
       "      <td>R1111M</td>\n",
       "      <td>0</td>\n",
       "      <td>-999</td>\n",
       "      <td>-999</td>\n",
       "      <td>PRACTICE_WORD</td>\n",
       "      <td>X</td>\n",
       "      <td>-999</td>\n",
       "      <td>-999</td>\n",
       "      <td>1.453499e+12</td>\n",
       "      <td>1</td>\n",
       "      <td>...</td>\n",
       "      <td>v_1.05</td>\n",
       "      <td>X</td>\n",
       "      <td>-999.0</td>\n",
       "      <td>-999.0</td>\n",
       "      <td></td>\n",
       "      <td>-999.0</td>\n",
       "      <td></td>\n",
       "      <td>-999</td>\n",
       "      <td>/data/eeg/R1111M/eeg.noreref/R1111M_FR1_0_22Ja...</td>\n",
       "      <td>46697</td>\n",
       "    </tr>\n",
       "    <tr>\n",
       "      <th>11</th>\n",
       "      <td>R1111M</td>\n",
       "      <td>0</td>\n",
       "      <td>-999</td>\n",
       "      <td>-999</td>\n",
       "      <td>PRACTICE_WORD</td>\n",
       "      <td>X</td>\n",
       "      <td>-999</td>\n",
       "      <td>-999</td>\n",
       "      <td>1.453499e+12</td>\n",
       "      <td>1</td>\n",
       "      <td>...</td>\n",
       "      <td>v_1.05</td>\n",
       "      <td>X</td>\n",
       "      <td>-999.0</td>\n",
       "      <td>-999.0</td>\n",
       "      <td></td>\n",
       "      <td>-999.0</td>\n",
       "      <td></td>\n",
       "      <td>-999</td>\n",
       "      <td>/data/eeg/R1111M/eeg.noreref/R1111M_FR1_0_22Ja...</td>\n",
       "      <td>47889</td>\n",
       "    </tr>\n",
       "    <tr>\n",
       "      <th>12</th>\n",
       "      <td>R1111M</td>\n",
       "      <td>0</td>\n",
       "      <td>-999</td>\n",
       "      <td>-999</td>\n",
       "      <td>PRACTICE_WORD</td>\n",
       "      <td>X</td>\n",
       "      <td>-999</td>\n",
       "      <td>-999</td>\n",
       "      <td>1.453499e+12</td>\n",
       "      <td>1</td>\n",
       "      <td>...</td>\n",
       "      <td>v_1.05</td>\n",
       "      <td>X</td>\n",
       "      <td>-999.0</td>\n",
       "      <td>-999.0</td>\n",
       "      <td></td>\n",
       "      <td>-999.0</td>\n",
       "      <td></td>\n",
       "      <td>-999</td>\n",
       "      <td>/data/eeg/R1111M/eeg.noreref/R1111M_FR1_0_22Ja...</td>\n",
       "      <td>49114</td>\n",
       "    </tr>\n",
       "    <tr>\n",
       "      <th>13</th>\n",
       "      <td>R1111M</td>\n",
       "      <td>0</td>\n",
       "      <td>-999</td>\n",
       "      <td>-999</td>\n",
       "      <td>PRACTICE_WORD</td>\n",
       "      <td>X</td>\n",
       "      <td>-999</td>\n",
       "      <td>-999</td>\n",
       "      <td>1.453499e+12</td>\n",
       "      <td>1</td>\n",
       "      <td>...</td>\n",
       "      <td>v_1.05</td>\n",
       "      <td>X</td>\n",
       "      <td>-999.0</td>\n",
       "      <td>-999.0</td>\n",
       "      <td></td>\n",
       "      <td>-999.0</td>\n",
       "      <td></td>\n",
       "      <td>-999</td>\n",
       "      <td>/data/eeg/R1111M/eeg.noreref/R1111M_FR1_0_22Ja...</td>\n",
       "      <td>50314</td>\n",
       "    </tr>\n",
       "    <tr>\n",
       "      <th>14</th>\n",
       "      <td>R1111M</td>\n",
       "      <td>0</td>\n",
       "      <td>-999</td>\n",
       "      <td>-999</td>\n",
       "      <td>PRACTICE_WORD</td>\n",
       "      <td>X</td>\n",
       "      <td>-999</td>\n",
       "      <td>-999</td>\n",
       "      <td>1.453499e+12</td>\n",
       "      <td>1</td>\n",
       "      <td>...</td>\n",
       "      <td>v_1.05</td>\n",
       "      <td>X</td>\n",
       "      <td>-999.0</td>\n",
       "      <td>-999.0</td>\n",
       "      <td></td>\n",
       "      <td>-999.0</td>\n",
       "      <td></td>\n",
       "      <td>-999</td>\n",
       "      <td>/data/eeg/R1111M/eeg.noreref/R1111M_FR1_0_22Ja...</td>\n",
       "      <td>51614</td>\n",
       "    </tr>\n",
       "    <tr>\n",
       "      <th>15</th>\n",
       "      <td>R1111M</td>\n",
       "      <td>0</td>\n",
       "      <td>-999</td>\n",
       "      <td>-999</td>\n",
       "      <td>PRACTICE_WORD</td>\n",
       "      <td>X</td>\n",
       "      <td>-999</td>\n",
       "      <td>-999</td>\n",
       "      <td>1.453499e+12</td>\n",
       "      <td>1</td>\n",
       "      <td>...</td>\n",
       "      <td>v_1.05</td>\n",
       "      <td>X</td>\n",
       "      <td>-999.0</td>\n",
       "      <td>-999.0</td>\n",
       "      <td></td>\n",
       "      <td>-999.0</td>\n",
       "      <td></td>\n",
       "      <td>-999</td>\n",
       "      <td>/data/eeg/R1111M/eeg.noreref/R1111M_FR1_0_22Ja...</td>\n",
       "      <td>52881</td>\n",
       "    </tr>\n",
       "    <tr>\n",
       "      <th>16</th>\n",
       "      <td>R1111M</td>\n",
       "      <td>0</td>\n",
       "      <td>-999</td>\n",
       "      <td>-999</td>\n",
       "      <td>PRACTICE_DISTRACT_START</td>\n",
       "      <td>X</td>\n",
       "      <td>-999</td>\n",
       "      <td>-999</td>\n",
       "      <td>1.453499e+12</td>\n",
       "      <td>0</td>\n",
       "      <td>...</td>\n",
       "      <td>v_1.05</td>\n",
       "      <td>X</td>\n",
       "      <td>-999.0</td>\n",
       "      <td>-999.0</td>\n",
       "      <td></td>\n",
       "      <td>-999.0</td>\n",
       "      <td></td>\n",
       "      <td>-999</td>\n",
       "      <td>/data/eeg/R1111M/eeg.noreref/R1111M_FR1_0_22Ja...</td>\n",
       "      <td>53689</td>\n",
       "    </tr>\n",
       "    <tr>\n",
       "      <th>17</th>\n",
       "      <td>R1111M</td>\n",
       "      <td>0</td>\n",
       "      <td>-999</td>\n",
       "      <td>-999</td>\n",
       "      <td>PRACTICE_DISTRACT_END</td>\n",
       "      <td>X</td>\n",
       "      <td>-999</td>\n",
       "      <td>-999</td>\n",
       "      <td>1.453499e+12</td>\n",
       "      <td>0</td>\n",
       "      <td>...</td>\n",
       "      <td>v_1.05</td>\n",
       "      <td>X</td>\n",
       "      <td>-999.0</td>\n",
       "      <td>-999.0</td>\n",
       "      <td></td>\n",
       "      <td>-999.0</td>\n",
       "      <td></td>\n",
       "      <td>-999</td>\n",
       "      <td>/data/eeg/R1111M/eeg.noreref/R1111M_FR1_0_22Ja...</td>\n",
       "      <td>67383</td>\n",
       "    </tr>\n",
       "    <tr>\n",
       "      <th>18</th>\n",
       "      <td>R1111M</td>\n",
       "      <td>0</td>\n",
       "      <td>-999</td>\n",
       "      <td>-999</td>\n",
       "      <td>PRACTICE_REC_START</td>\n",
       "      <td>X</td>\n",
       "      <td>-999</td>\n",
       "      <td>-999</td>\n",
       "      <td>1.453499e+12</td>\n",
       "      <td>1</td>\n",
       "      <td>...</td>\n",
       "      <td>v_1.05</td>\n",
       "      <td>X</td>\n",
       "      <td>-999.0</td>\n",
       "      <td>-999.0</td>\n",
       "      <td></td>\n",
       "      <td>-999.0</td>\n",
       "      <td></td>\n",
       "      <td>-999</td>\n",
       "      <td>/data/eeg/R1111M/eeg.noreref/R1111M_FR1_0_22Ja...</td>\n",
       "      <td>67676</td>\n",
       "    </tr>\n",
       "    <tr>\n",
       "      <th>19</th>\n",
       "      <td>R1111M</td>\n",
       "      <td>0</td>\n",
       "      <td>-999</td>\n",
       "      <td>-999</td>\n",
       "      <td>PRACTICE_REC_END</td>\n",
       "      <td>X</td>\n",
       "      <td>-999</td>\n",
       "      <td>-999</td>\n",
       "      <td>1.453499e+12</td>\n",
       "      <td>1</td>\n",
       "      <td>...</td>\n",
       "      <td>v_1.05</td>\n",
       "      <td>X</td>\n",
       "      <td>-999.0</td>\n",
       "      <td>-999.0</td>\n",
       "      <td></td>\n",
       "      <td>-999.0</td>\n",
       "      <td></td>\n",
       "      <td>-999</td>\n",
       "      <td>/data/eeg/R1111M/eeg.noreref/R1111M_FR1_0_22Ja...</td>\n",
       "      <td>82932</td>\n",
       "    </tr>\n",
       "  </tbody>\n",
       "</table>\n",
       "<p>10 rows × 23 columns</p>\n",
       "</div>"
      ],
      "text/plain": [
       "   subject  session  list  serialpos                     type item  itemno  \\\n",
       "10  R1111M        0  -999       -999            PRACTICE_WORD    X    -999   \n",
       "11  R1111M        0  -999       -999            PRACTICE_WORD    X    -999   \n",
       "12  R1111M        0  -999       -999            PRACTICE_WORD    X    -999   \n",
       "13  R1111M        0  -999       -999            PRACTICE_WORD    X    -999   \n",
       "14  R1111M        0  -999       -999            PRACTICE_WORD    X    -999   \n",
       "15  R1111M        0  -999       -999            PRACTICE_WORD    X    -999   \n",
       "16  R1111M        0  -999       -999  PRACTICE_DISTRACT_START    X    -999   \n",
       "17  R1111M        0  -999       -999    PRACTICE_DISTRACT_END    X    -999   \n",
       "18  R1111M        0  -999       -999       PRACTICE_REC_START    X    -999   \n",
       "19  R1111M        0  -999       -999         PRACTICE_REC_END    X    -999   \n",
       "\n",
       "    recalled        mstime  msoffset    ...     expVersion  stimLoc  stimAmp  \\\n",
       "10      -999  1.453499e+12         1    ...         v_1.05        X   -999.0   \n",
       "11      -999  1.453499e+12         1    ...         v_1.05        X   -999.0   \n",
       "12      -999  1.453499e+12         1    ...         v_1.05        X   -999.0   \n",
       "13      -999  1.453499e+12         1    ...         v_1.05        X   -999.0   \n",
       "14      -999  1.453499e+12         1    ...         v_1.05        X   -999.0   \n",
       "15      -999  1.453499e+12         1    ...         v_1.05        X   -999.0   \n",
       "16      -999  1.453499e+12         0    ...         v_1.05        X   -999.0   \n",
       "17      -999  1.453499e+12         0    ...         v_1.05        X   -999.0   \n",
       "18      -999  1.453499e+12         1    ...         v_1.05        X   -999.0   \n",
       "19      -999  1.453499e+12         1    ...         v_1.05        X   -999.0   \n",
       "\n",
       "   stimAnode stimAnodeTag  stimCathode  stimCathodeTag stimList  \\\n",
       "10    -999.0                    -999.0                     -999   \n",
       "11    -999.0                    -999.0                     -999   \n",
       "12    -999.0                    -999.0                     -999   \n",
       "13    -999.0                    -999.0                     -999   \n",
       "14    -999.0                    -999.0                     -999   \n",
       "15    -999.0                    -999.0                     -999   \n",
       "16    -999.0                    -999.0                     -999   \n",
       "17    -999.0                    -999.0                     -999   \n",
       "18    -999.0                    -999.0                     -999   \n",
       "19    -999.0                    -999.0                     -999   \n",
       "\n",
       "                                              eegfile eegoffset  \n",
       "10  /data/eeg/R1111M/eeg.noreref/R1111M_FR1_0_22Ja...     46697  \n",
       "11  /data/eeg/R1111M/eeg.noreref/R1111M_FR1_0_22Ja...     47889  \n",
       "12  /data/eeg/R1111M/eeg.noreref/R1111M_FR1_0_22Ja...     49114  \n",
       "13  /data/eeg/R1111M/eeg.noreref/R1111M_FR1_0_22Ja...     50314  \n",
       "14  /data/eeg/R1111M/eeg.noreref/R1111M_FR1_0_22Ja...     51614  \n",
       "15  /data/eeg/R1111M/eeg.noreref/R1111M_FR1_0_22Ja...     52881  \n",
       "16  /data/eeg/R1111M/eeg.noreref/R1111M_FR1_0_22Ja...     53689  \n",
       "17  /data/eeg/R1111M/eeg.noreref/R1111M_FR1_0_22Ja...     67383  \n",
       "18  /data/eeg/R1111M/eeg.noreref/R1111M_FR1_0_22Ja...     67676  \n",
       "19  /data/eeg/R1111M/eeg.noreref/R1111M_FR1_0_22Ja...     82932  \n",
       "\n",
       "[10 rows x 23 columns]"
      ]
     },
     "execution_count": 7,
     "metadata": {},
     "output_type": "execute_result"
    }
   ],
   "source": [
    "matlab_events = get_sub_events('R1111M', 'RAM_FR1')\n",
    "matlab_events_df = to_pandas_df(matlab_events)\n",
    "matlab_events_df[10:20] # Show events 10-20, remember python indexes at 0!"
   ]
  },
  {
   "cell_type": "code",
   "execution_count": 8,
   "metadata": {
    "collapsed": false,
    "scrolled": true
   },
   "outputs": [
    {
     "data": {
      "text/html": [
       "<div>\n",
       "<style>\n",
       "    .dataframe thead tr:only-child th {\n",
       "        text-align: right;\n",
       "    }\n",
       "\n",
       "    .dataframe thead th {\n",
       "        text-align: left;\n",
       "    }\n",
       "\n",
       "    .dataframe tbody tr th {\n",
       "        vertical-align: top;\n",
       "    }\n",
       "</style>\n",
       "<table border=\"1\" class=\"dataframe\">\n",
       "  <thead>\n",
       "    <tr style=\"text-align: right;\">\n",
       "      <th></th>\n",
       "      <th>session</th>\n",
       "      <th>eegoffset</th>\n",
       "      <th>protocol</th>\n",
       "      <th>intrusion</th>\n",
       "      <th>item_name</th>\n",
       "      <th>serialpos</th>\n",
       "      <th>rectime</th>\n",
       "      <th>stim_params</th>\n",
       "      <th>list</th>\n",
       "      <th>subject</th>\n",
       "      <th>...</th>\n",
       "      <th>montage</th>\n",
       "      <th>experiment</th>\n",
       "      <th>recalled</th>\n",
       "      <th>msoffset</th>\n",
       "      <th>stim_list</th>\n",
       "      <th>item_num</th>\n",
       "      <th>mstime</th>\n",
       "      <th>is_stim</th>\n",
       "      <th>type</th>\n",
       "      <th>exp_version</th>\n",
       "    </tr>\n",
       "  </thead>\n",
       "  <tbody>\n",
       "    <tr>\n",
       "      <th>10</th>\n",
       "      <td>1</td>\n",
       "      <td>54458</td>\n",
       "      <td>r1</td>\n",
       "      <td>-999</td>\n",
       "      <td>RING</td>\n",
       "      <td>7</td>\n",
       "      <td>-999</td>\n",
       "      <td>[]</td>\n",
       "      <td>-1</td>\n",
       "      <td>R1111M</td>\n",
       "      <td>...</td>\n",
       "      <td>0.0</td>\n",
       "      <td>FR1</td>\n",
       "      <td>0</td>\n",
       "      <td>1</td>\n",
       "      <td>0</td>\n",
       "      <td>-1</td>\n",
       "      <td>1453589775785</td>\n",
       "      <td>0</td>\n",
       "      <td>PRACTICE_WORD</td>\n",
       "      <td>1.05</td>\n",
       "    </tr>\n",
       "    <tr>\n",
       "      <th>11</th>\n",
       "      <td>1</td>\n",
       "      <td>55642</td>\n",
       "      <td>r1</td>\n",
       "      <td>-999</td>\n",
       "      <td>WAGON</td>\n",
       "      <td>8</td>\n",
       "      <td>-999</td>\n",
       "      <td>[]</td>\n",
       "      <td>-1</td>\n",
       "      <td>R1111M</td>\n",
       "      <td>...</td>\n",
       "      <td>0.0</td>\n",
       "      <td>FR1</td>\n",
       "      <td>0</td>\n",
       "      <td>1</td>\n",
       "      <td>0</td>\n",
       "      <td>-1</td>\n",
       "      <td>1453589778154</td>\n",
       "      <td>0</td>\n",
       "      <td>PRACTICE_WORD</td>\n",
       "      <td>1.05</td>\n",
       "    </tr>\n",
       "    <tr>\n",
       "      <th>12</th>\n",
       "      <td>1</td>\n",
       "      <td>56900</td>\n",
       "      <td>r1</td>\n",
       "      <td>-999</td>\n",
       "      <td>TONGUE</td>\n",
       "      <td>9</td>\n",
       "      <td>-999</td>\n",
       "      <td>[]</td>\n",
       "      <td>-1</td>\n",
       "      <td>R1111M</td>\n",
       "      <td>...</td>\n",
       "      <td>0.0</td>\n",
       "      <td>FR1</td>\n",
       "      <td>0</td>\n",
       "      <td>1</td>\n",
       "      <td>0</td>\n",
       "      <td>-1</td>\n",
       "      <td>1453589780670</td>\n",
       "      <td>0</td>\n",
       "      <td>PRACTICE_WORD</td>\n",
       "      <td>1.05</td>\n",
       "    </tr>\n",
       "    <tr>\n",
       "      <th>13</th>\n",
       "      <td>1</td>\n",
       "      <td>58193</td>\n",
       "      <td>r1</td>\n",
       "      <td>-999</td>\n",
       "      <td>IRON</td>\n",
       "      <td>10</td>\n",
       "      <td>-999</td>\n",
       "      <td>[]</td>\n",
       "      <td>-1</td>\n",
       "      <td>R1111M</td>\n",
       "      <td>...</td>\n",
       "      <td>0.0</td>\n",
       "      <td>FR1</td>\n",
       "      <td>0</td>\n",
       "      <td>1</td>\n",
       "      <td>0</td>\n",
       "      <td>-1</td>\n",
       "      <td>1453589783255</td>\n",
       "      <td>0</td>\n",
       "      <td>PRACTICE_WORD</td>\n",
       "      <td>1.05</td>\n",
       "    </tr>\n",
       "    <tr>\n",
       "      <th>14</th>\n",
       "      <td>1</td>\n",
       "      <td>59467</td>\n",
       "      <td>r1</td>\n",
       "      <td>-999</td>\n",
       "      <td>FLOOD</td>\n",
       "      <td>11</td>\n",
       "      <td>-999</td>\n",
       "      <td>[]</td>\n",
       "      <td>-1</td>\n",
       "      <td>R1111M</td>\n",
       "      <td>...</td>\n",
       "      <td>0.0</td>\n",
       "      <td>FR1</td>\n",
       "      <td>0</td>\n",
       "      <td>1</td>\n",
       "      <td>0</td>\n",
       "      <td>-1</td>\n",
       "      <td>1453589785804</td>\n",
       "      <td>0</td>\n",
       "      <td>PRACTICE_WORD</td>\n",
       "      <td>1.05</td>\n",
       "    </tr>\n",
       "    <tr>\n",
       "      <th>15</th>\n",
       "      <td>1</td>\n",
       "      <td>60267</td>\n",
       "      <td>r1</td>\n",
       "      <td>-999</td>\n",
       "      <td>X</td>\n",
       "      <td>-999</td>\n",
       "      <td>-999</td>\n",
       "      <td>[]</td>\n",
       "      <td>-1</td>\n",
       "      <td>R1111M</td>\n",
       "      <td>...</td>\n",
       "      <td>0.0</td>\n",
       "      <td>FR1</td>\n",
       "      <td>0</td>\n",
       "      <td>0</td>\n",
       "      <td>0</td>\n",
       "      <td>-999</td>\n",
       "      <td>1453589787405</td>\n",
       "      <td>0</td>\n",
       "      <td>PRACTICE_DISTRACT_START</td>\n",
       "      <td>1.05</td>\n",
       "    </tr>\n",
       "    <tr>\n",
       "      <th>16</th>\n",
       "      <td>1</td>\n",
       "      <td>70352</td>\n",
       "      <td>r1</td>\n",
       "      <td>-999</td>\n",
       "      <td>X</td>\n",
       "      <td>-999</td>\n",
       "      <td>-999</td>\n",
       "      <td>[]</td>\n",
       "      <td>-1</td>\n",
       "      <td>R1111M</td>\n",
       "      <td>...</td>\n",
       "      <td>0.0</td>\n",
       "      <td>FR1</td>\n",
       "      <td>0</td>\n",
       "      <td>0</td>\n",
       "      <td>0</td>\n",
       "      <td>-999</td>\n",
       "      <td>1453589807575</td>\n",
       "      <td>0</td>\n",
       "      <td>PRACTICE_DISTRACT_END</td>\n",
       "      <td>1.05</td>\n",
       "    </tr>\n",
       "    <tr>\n",
       "      <th>17</th>\n",
       "      <td>1</td>\n",
       "      <td>70612</td>\n",
       "      <td>r1</td>\n",
       "      <td>-999</td>\n",
       "      <td>X</td>\n",
       "      <td>-999</td>\n",
       "      <td>-999</td>\n",
       "      <td>[]</td>\n",
       "      <td>-1</td>\n",
       "      <td>R1111M</td>\n",
       "      <td>...</td>\n",
       "      <td>0.0</td>\n",
       "      <td>FR1</td>\n",
       "      <td>0</td>\n",
       "      <td>1</td>\n",
       "      <td>0</td>\n",
       "      <td>-999</td>\n",
       "      <td>1453589808095</td>\n",
       "      <td>0</td>\n",
       "      <td>PRACTICE_REC_START</td>\n",
       "      <td>1.05</td>\n",
       "    </tr>\n",
       "    <tr>\n",
       "      <th>18</th>\n",
       "      <td>1</td>\n",
       "      <td>85868</td>\n",
       "      <td>r1</td>\n",
       "      <td>-999</td>\n",
       "      <td>X</td>\n",
       "      <td>-999</td>\n",
       "      <td>-999</td>\n",
       "      <td>[]</td>\n",
       "      <td>-1</td>\n",
       "      <td>R1111M</td>\n",
       "      <td>...</td>\n",
       "      <td>0.0</td>\n",
       "      <td>FR1</td>\n",
       "      <td>0</td>\n",
       "      <td>1</td>\n",
       "      <td>0</td>\n",
       "      <td>-999</td>\n",
       "      <td>1453589838609</td>\n",
       "      <td>0</td>\n",
       "      <td>PRACTICE_REC_END</td>\n",
       "      <td>1.05</td>\n",
       "    </tr>\n",
       "    <tr>\n",
       "      <th>19</th>\n",
       "      <td>1</td>\n",
       "      <td>96405</td>\n",
       "      <td>r1</td>\n",
       "      <td>-999</td>\n",
       "      <td>X</td>\n",
       "      <td>-999</td>\n",
       "      <td>-999</td>\n",
       "      <td>[]</td>\n",
       "      <td>1</td>\n",
       "      <td>R1111M</td>\n",
       "      <td>...</td>\n",
       "      <td>0.0</td>\n",
       "      <td>FR1</td>\n",
       "      <td>0</td>\n",
       "      <td>0</td>\n",
       "      <td>0</td>\n",
       "      <td>-999</td>\n",
       "      <td>1453589859685</td>\n",
       "      <td>0</td>\n",
       "      <td>TRIAL</td>\n",
       "      <td>1.05</td>\n",
       "    </tr>\n",
       "  </tbody>\n",
       "</table>\n",
       "<p>10 rows × 21 columns</p>\n",
       "</div>"
      ],
      "text/plain": [
       "    session  eegoffset protocol  intrusion item_name  serialpos  rectime  \\\n",
       "10        1      54458       r1       -999      RING          7     -999   \n",
       "11        1      55642       r1       -999     WAGON          8     -999   \n",
       "12        1      56900       r1       -999    TONGUE          9     -999   \n",
       "13        1      58193       r1       -999      IRON         10     -999   \n",
       "14        1      59467       r1       -999     FLOOD         11     -999   \n",
       "15        1      60267       r1       -999         X       -999     -999   \n",
       "16        1      70352       r1       -999         X       -999     -999   \n",
       "17        1      70612       r1       -999         X       -999     -999   \n",
       "18        1      85868       r1       -999         X       -999     -999   \n",
       "19        1      96405       r1       -999         X       -999     -999   \n",
       "\n",
       "   stim_params  list subject     ...     montage experiment recalled  \\\n",
       "10          []    -1  R1111M     ...         0.0        FR1        0   \n",
       "11          []    -1  R1111M     ...         0.0        FR1        0   \n",
       "12          []    -1  R1111M     ...         0.0        FR1        0   \n",
       "13          []    -1  R1111M     ...         0.0        FR1        0   \n",
       "14          []    -1  R1111M     ...         0.0        FR1        0   \n",
       "15          []    -1  R1111M     ...         0.0        FR1        0   \n",
       "16          []    -1  R1111M     ...         0.0        FR1        0   \n",
       "17          []    -1  R1111M     ...         0.0        FR1        0   \n",
       "18          []    -1  R1111M     ...         0.0        FR1        0   \n",
       "19          []     1  R1111M     ...         0.0        FR1        0   \n",
       "\n",
       "    msoffset  stim_list  item_num         mstime  is_stim  \\\n",
       "10         1          0        -1  1453589775785        0   \n",
       "11         1          0        -1  1453589778154        0   \n",
       "12         1          0        -1  1453589780670        0   \n",
       "13         1          0        -1  1453589783255        0   \n",
       "14         1          0        -1  1453589785804        0   \n",
       "15         0          0      -999  1453589787405        0   \n",
       "16         0          0      -999  1453589807575        0   \n",
       "17         1          0      -999  1453589808095        0   \n",
       "18         1          0      -999  1453589838609        0   \n",
       "19         0          0      -999  1453589859685        0   \n",
       "\n",
       "                       type exp_version  \n",
       "10            PRACTICE_WORD        1.05  \n",
       "11            PRACTICE_WORD        1.05  \n",
       "12            PRACTICE_WORD        1.05  \n",
       "13            PRACTICE_WORD        1.05  \n",
       "14            PRACTICE_WORD        1.05  \n",
       "15  PRACTICE_DISTRACT_START        1.05  \n",
       "16    PRACTICE_DISTRACT_END        1.05  \n",
       "17       PRACTICE_REC_START        1.05  \n",
       "18         PRACTICE_REC_END        1.05  \n",
       "19                    TRIAL        1.05  \n",
       "\n",
       "[10 rows x 21 columns]"
      ]
     },
     "execution_count": 8,
     "metadata": {},
     "output_type": "execute_result"
    }
   ],
   "source": [
    "json_events = get_sub_events('R1111M', 'FR1')\n",
    "json_events_df = to_pandas_df(json_events)\n",
    "json_events_df[10:20]"
   ]
  },
  {
   "cell_type": "markdown",
   "metadata": {},
   "source": [
    "## Below needs to be ported to python\n",
    "\n",
    "7. To create a vector of data from a particular event structure field, you can either use getStructField or square/curly braces. To use getStructField, you pass the events structure and the desired field. The output variable will be a vector of that data, e.g. a vector of 1s and 0s for recalled/not recalled items.\n",
    "  recalls = getStructField(events,'recalled');\n",
    "8. Alternatively, you can create a vector of data from a particular event structure field using square braces for integer values and curly braces for string values.\n",
    "   recalls = [events.recalled];\n",
    "   type = {events.type};\n",
    "9. You can select subsets of events using the filterStruct.m function. filterStruct requires two inputs, an events structure which we’ve already loaded and a logical expression. As an example, to get all subsequently recalled events,\n",
    "   recEvents = filterStruct(events,'recalled == 1');\n",
    "To get all WORD events,\n",
    "   wordEvents = filterStruct(events,'strcmp(type,''WORD'')')\n",
    "10. Instead of filtering to a subset of events, you may want a logical index of 1s and 0s across all events. To do this, you can use the function inStruct.m. The results from this function will tell you for a certain logical expression, e.g. ‘recalled == 1’ whether that is true for every event (so it yields a binary vector with the length of the events structure). Sometimes people get errors when using filterStruct, which could be caused by empty fields."
   ]
  },
  {
   "cell_type": "markdown",
   "metadata": {},
   "source": [
    "# Subsequent Memory Effect\n",
    "\n",
    "#### Key Code: get_sub_eeg(subject, experiment, events=None, reference='bipolar', eeg_start=-2., eeg_end=2., eeg_buffer=1.)\n",
    "#### By default: \n",
    "1) No events are passed meaning that all events are loaded \n",
    "\n",
    "2) The reference is bipolar (pass in reference='monopolar' if global average monopolar referencing is desired)\n",
    "\n",
    "3) The eeg is loaded from -2s to 2s relative to each event's start time with a 1s buffer"
   ]
  },
  {
   "cell_type": "markdown",
   "metadata": {},
   "source": [
    "### 1. Load all EEG for a single Subject"
   ]
  },
  {
   "cell_type": "code",
   "execution_count": 4,
   "metadata": {
    "collapsed": false
   },
   "outputs": [
    {
     "name": "stdout",
     "output_type": "stream",
     "text": [
      "Help on function get_sub_eeg in module GetData:\n",
      "\n",
      "get_sub_eeg(subject, experiment, events=None, reference='bipolar', eeg_start=-2.0, eeg_end=2.0, eeg_buffer=1.0, exclude_bad=True)\n",
      "    Returns a subjects EEG using ptsa's EEGReader\n",
      "     -----\n",
      "    INPUTS\n",
      "    subjects: str, subject_id e.g. 'R1111M'\n",
      "    experiment: str, experiment, e.g. 'FR1', 'pyFR' the prefix of 'RAM_'\n",
      "                in front of any ram experiment, e.g. 'RAM_FR1' will load the\n",
      "                matlab path\n",
      "    events: np.recarray like, by default none will load all eeg, if passed will only\n",
      "            load eeg corresponding to the events array\n",
      "    reference: str, what kind of referencing system to load, by default 'bipolar',\n",
      "               accepted arguments: 'bipolar', 'monopolar'\n",
      "    eeg_start: float, by default -2., the time point relative to the event to start loading\n",
      "    eeg_end: float, by default 2., the time point relative to the event to stop loading\n",
      "    eeg_buffer: float, by default 1., the time to add on each side of the data that can be removed\n",
      "                after convolution\n",
      "    exclude_bad: bool, by default true; True if you'd like to only look at \"valid\" channels,\n",
      "                       False if you want to return all channels\n",
      "\n",
      "None\n"
     ]
    }
   ],
   "source": [
    "from GetData import get_sub_eeg\n",
    "print(help(get_sub_eeg))# Pull up the docstring!"
   ]
  },
  {
   "cell_type": "code",
   "execution_count": null,
   "metadata": {
    "collapsed": false
   },
   "outputs": [],
   "source": [
    "# Load all eeg\n",
    "eeg = get_sub_eeg(subject = 'R1111M', experiment = 'FR1', reference='bipolar',\n",
    "                  eeg_start = 0., eeg_end = 1.6, eeg_buffer = 0.)\n"
   ]
  },
  {
   "cell_type": "markdown",
   "metadata": {},
   "source": [
    "### 2. If instead we only wanted to load a single sessions events or a single kind of events, we could pass in the argument events= event_array. This is useful because events are much quicker to manipulate than loading all of them into the eeg and then filtering. Below we will load only the encoding events of session 1"
   ]
  },
  {
   "cell_type": "code",
   "execution_count": null,
   "metadata": {
    "collapsed": true
   },
   "outputs": [],
   "source": [
    "# Load all events\n",
    "events = get_sub_events(subject='R1111M', experiment = 'FR1')\n",
    "# Select only encoding events from session 1\n",
    "evs = events[(events['type']=='WORD') & (events['session']==1)]\n",
    "# Load eeg for only session 1\n",
    "eeg = get_sub_eeg(subject = 'R1111M', experiment = 'FR1', events=evs,\n",
    "                  eeg_start = 0., eeg_end = 1.6, eeg_buffer = 0.)"
   ]
  },
  {
   "cell_type": "markdown",
   "metadata": {},
   "source": [
    "### 3. Apply a butterworth filter to remove line noise (in america 60Hz, in europe 50Hz)"
   ]
  },
  {
   "cell_type": "code",
   "execution_count": null,
   "metadata": {
    "collapsed": false
   },
   "outputs": [],
   "source": [
    "from ptsa.data.filters import ButterworthFilter\n",
    "b_filter = ButterworthFilter(time_series=eeg, \n",
    "                             freq_range=[58., 62.], \n",
    "                             filt_type='stop', order=4)\n",
    "eeg = b_filter.filter()"
   ]
  },
  {
   "cell_type": "markdown",
   "metadata": {},
   "source": [
    "### 4. Z-transform the data using timepoints selected every 60s +/- 10s across the whole session\n",
    "\n",
    "#### Keycode: get_continous_eeg(subject, experiment, session)\n",
    "#### Keycode: randomly_spaced_timepoints(eeg, start_time, end_time, random_range=10, step_in_seconds=60)\n",
    "#### Keycode: DataChopper(*kwds) <- See below"
   ]
  },
  {
   "cell_type": "code",
   "execution_count": 5,
   "metadata": {
    "collapsed": false,
    "scrolled": true
   },
   "outputs": [
    {
     "name": "stdout",
     "output_type": "stream",
     "text": [
      "Help on function get_continous_eeg in module Stats.ZScoreFromWholeSession:\n",
      "\n",
      "get_continous_eeg(subject, experiment, session, channels=None, bipolar=True)\n",
      "    Return a continous EEG recording for a session worth of data\n",
      "    --------\n",
      "    INPUTS:\n",
      "    subject: str, represents the subject_id, e.g. 'R1111M'\n",
      "    experiment: str, represents the experiment to analyze, e.g. 'FR1'\n",
      "    session: int, the session on which to get the eeg\n",
      "    channels: np.array like, the MONOPOLAR channels one wishes to get, by default all\n",
      "    -------\n",
      "    OUTPUTS:\n",
      "    eeg: TimeSeriesX, a continous recording of eeg for the whole session\n",
      "                     has dims = ('bipolar_pairs', 'start_offsets', 'time')\n",
      "\n",
      "None\n",
      "\n",
      "\n",
      "Help on function randomly_spaced_timepoints in module Stats.ZScoreFromWholeSession:\n",
      "\n",
      "randomly_spaced_timepoints(eeg, start_time, end_time, random_range=10, step_in_seconds=60)\n",
      "    Return randomly selected offset points for an inputted array\n",
      "    ------\n",
      "    INPUTS:\n",
      "    eeg: TimeSeriesX, a continous session worth of eeg\n",
      "    start_time: float, the time relative to each offset to start recording\n",
      "    end_time: float, the time relative to each offset to stop recording\n",
      "    random_range: int, used to construct the +/- jitter\n",
      "    step_in_seconds: int, number of seconds along which we step\n",
      "    ------\n",
      "    OUTPUTS:\n",
      "    offsets: np.array, represents the offsets along which one can chop a\n",
      "                       continous eeg recording\n",
      "\n",
      "None\n",
      "\n",
      "\n",
      "Help on class DataChopper in module ptsa.data.filters.DataChopper:\n",
      "\n",
      "class DataChopper(ptsa.data.common.TypedUtils.PropertiedObject, ptsa.data.filters.BaseFilter.BaseFilter)\n",
      " |  EventDataChopper converts continuous time series of entire session into chunks based on the events specification\n",
      " |  In other words you may read entire eeg session first and then using EventDataChopper\n",
      " |  divide it into chunks corresponding to events of your choice\n",
      " |  \n",
      " |  Method resolution order:\n",
      " |      DataChopper\n",
      " |      ptsa.data.common.TypedUtils.PropertiedObject\n",
      " |      ptsa.data.filters.BaseFilter.BaseFilter\n",
      " |      builtins.object\n",
      " |  \n",
      " |  Methods defined here:\n",
      " |  \n",
      " |  __init__(self, **kwds)\n",
      " |      Constructor:\n",
      " |      \n",
      " |      :param kwds:allowed values are:\n",
      " |      -------------------------------------\n",
      " |      :param start_time {float} -  read start offset in seconds w.r.t to the eegeffset specified in the events recarray\n",
      " |      :param end_time {float} -  read end offset in seconds w.r.t to the eegeffset specified in the events recarray\n",
      " |      :param end_time {float} -  extra buffer in seconds (subtracted from start read and added to end read)\n",
      " |      :param events {np.recarray} - numpy recarray representing events\n",
      " |      :param startoffsets {np.ndarray} - numpy array with offsets at which chopping should take place\n",
      " |      :param session_datar {str} -  TimeSeriesX object with eeg session data\n",
      " |      \n",
      " |      :return: None\n",
      " |  \n",
      " |  filter(self)\n",
      " |      Chops session into chunks corresponding to events\n",
      " |      :return: timeSeriesX object with chopped session\n",
      " |  \n",
      " |  get_event_chunk_size_and_start_point_shift(self, eegoffset, samplerate, offset_time_array)\n",
      " |      Computes number of time points for each event and read offset w.r.t. event's eegoffset\n",
      " |      :param ev: record representing single event\n",
      " |      :param samplerate: samplerate fo the time series\n",
      " |      :param offset_time_array: \"offsets\" axis of the DataArray returned by EEGReader. This is the axis that represents\n",
      " |      time axis but instead of beind dimensioned to seconds it simply represents position of a given data point in a series\n",
      " |      The time axis is constructed by dividint offsets axis by the samplerate\n",
      " |      :return: event's read chunk size {int}, read offset w.r.t. to event's eegoffset {}\n",
      " |  \n",
      " |  ----------------------------------------------------------------------\n",
      " |  Data and other attributes defined here:\n",
      " |  \n",
      " |  buffer_time = 0.0\n",
      " |  \n",
      " |  end_time = 0.0\n",
      " |  \n",
      " |  events = rec.array([(47713800607688,)], \n",
      " |            dtype=[('x', '<i8')...\n",
      " |  \n",
      " |  session_data = <xarray.TimeSeriesX (time: 1)>\n",
      " |  array([ 0.])\n",
      " |  Coor... flo...\n",
      " |  \n",
      " |  start_offsets = array([], dtype=int64)\n",
      " |  \n",
      " |  start_time = 0.0\n",
      " |  \n",
      " |  ----------------------------------------------------------------------\n",
      " |  Methods inherited from ptsa.data.common.TypedUtils.PropertiedObject:\n",
      " |  \n",
      " |  init_attrs(self, kwds)\n",
      " |  \n",
      " |  ----------------------------------------------------------------------\n",
      " |  Data descriptors inherited from ptsa.data.common.TypedUtils.PropertiedObject:\n",
      " |  \n",
      " |  __dict__\n",
      " |      dictionary for instance variables (if defined)\n",
      " |  \n",
      " |  __weakref__\n",
      " |      list of weak references to the object (if defined)\n",
      "\n",
      "None\n"
     ]
    }
   ],
   "source": [
    "from Stats.ZScoreFromWholeSession import get_continous_eeg, randomly_spaced_timepoints\n",
    "from ptsa.data.filters import DataChopper\n",
    "print(help(get_continous_eeg))\n",
    "print('\\n')\n",
    "print(help(randomly_spaced_timepoints))\n",
    "print('\\n')\n",
    "print(help(DataChopper))\n"
   ]
  },
  {
   "cell_type": "code",
   "execution_count": 14,
   "metadata": {
    "collapsed": false
   },
   "outputs": [],
   "source": [
    "# First load in ALL off the session's data\n",
    "continous_data = get_continous_eeg(subject='R1111M', experiment='FR1', session = 1)\n",
    "\n",
    "# Generate randomly spaced timepoints\n",
    "offsets = randomly_spaced_timepoints(eeg=continous_data, start_time=0., end_time = 1.6,\n",
    "                                     random_range=10, step_in_seconds=60)\n",
    "\n",
    "# Chop the data using the random offsets\n",
    "dc = DataChopper(start_offsets=offsets, session_data=continous_data, \n",
    "                 start_time=0., end_time=1.6,buffer_time=1.0)\n",
    "chopped = dc.filter()\n",
    "\n",
    "# Since we're not doing any convolution we don't need the buffer\n",
    "# Normally you'd just pass in buffer_time = 0.0, but it's helpful to know\n",
    "# That you can remove buffers like this\n",
    "chopped = chopped.remove_buffer(chopped.buffer_time)\n",
    "\n",
    "# Create a mean and standard deviation from the whole session\n",
    "mean = chopped.mean(dim='start_offsets').mean(dim='time')\n",
    "standard_deviation = chopped.std(dim='start_offsets').mean(dim='time')\n",
    "\n",
    "# Transpose the data so we can apply the mean and standard w/o a dim mismatch\n",
    "eeg = eeg.transpose('events', 'time', 'bipolar_pairs')\n",
    "z_eeg = (eeg[:,:,]-mean)/standard_deviation"
   ]
  },
  {
   "cell_type": "markdown",
   "metadata": {},
   "source": [
    "### 5. Seperate subsequently forgotten and subsequently remembered words and make a plot"
   ]
  },
  {
   "cell_type": "code",
   "execution_count": 47,
   "metadata": {
    "collapsed": false
   },
   "outputs": [
    {
     "data": {
      "application/javascript": [
       "/* Put everything inside the global mpl namespace */\n",
       "window.mpl = {};\n",
       "\n",
       "\n",
       "mpl.get_websocket_type = function() {\n",
       "    if (typeof(WebSocket) !== 'undefined') {\n",
       "        return WebSocket;\n",
       "    } else if (typeof(MozWebSocket) !== 'undefined') {\n",
       "        return MozWebSocket;\n",
       "    } else {\n",
       "        alert('Your browser does not have WebSocket support.' +\n",
       "              'Please try Chrome, Safari or Firefox ≥ 6. ' +\n",
       "              'Firefox 4 and 5 are also supported but you ' +\n",
       "              'have to enable WebSockets in about:config.');\n",
       "    };\n",
       "}\n",
       "\n",
       "mpl.figure = function(figure_id, websocket, ondownload, parent_element) {\n",
       "    this.id = figure_id;\n",
       "\n",
       "    this.ws = websocket;\n",
       "\n",
       "    this.supports_binary = (this.ws.binaryType != undefined);\n",
       "\n",
       "    if (!this.supports_binary) {\n",
       "        var warnings = document.getElementById(\"mpl-warnings\");\n",
       "        if (warnings) {\n",
       "            warnings.style.display = 'block';\n",
       "            warnings.textContent = (\n",
       "                \"This browser does not support binary websocket messages. \" +\n",
       "                    \"Performance may be slow.\");\n",
       "        }\n",
       "    }\n",
       "\n",
       "    this.imageObj = new Image();\n",
       "\n",
       "    this.context = undefined;\n",
       "    this.message = undefined;\n",
       "    this.canvas = undefined;\n",
       "    this.rubberband_canvas = undefined;\n",
       "    this.rubberband_context = undefined;\n",
       "    this.format_dropdown = undefined;\n",
       "\n",
       "    this.image_mode = 'full';\n",
       "\n",
       "    this.root = $('<div/>');\n",
       "    this._root_extra_style(this.root)\n",
       "    this.root.attr('style', 'display: inline-block');\n",
       "\n",
       "    $(parent_element).append(this.root);\n",
       "\n",
       "    this._init_header(this);\n",
       "    this._init_canvas(this);\n",
       "    this._init_toolbar(this);\n",
       "\n",
       "    var fig = this;\n",
       "\n",
       "    this.waiting = false;\n",
       "\n",
       "    this.ws.onopen =  function () {\n",
       "            fig.send_message(\"supports_binary\", {value: fig.supports_binary});\n",
       "            fig.send_message(\"send_image_mode\", {});\n",
       "            if (mpl.ratio != 1) {\n",
       "                fig.send_message(\"set_dpi_ratio\", {'dpi_ratio': mpl.ratio});\n",
       "            }\n",
       "            fig.send_message(\"refresh\", {});\n",
       "        }\n",
       "\n",
       "    this.imageObj.onload = function() {\n",
       "            if (fig.image_mode == 'full') {\n",
       "                // Full images could contain transparency (where diff images\n",
       "                // almost always do), so we need to clear the canvas so that\n",
       "                // there is no ghosting.\n",
       "                fig.context.clearRect(0, 0, fig.canvas.width, fig.canvas.height);\n",
       "            }\n",
       "            fig.context.drawImage(fig.imageObj, 0, 0);\n",
       "        };\n",
       "\n",
       "    this.imageObj.onunload = function() {\n",
       "        this.ws.close();\n",
       "    }\n",
       "\n",
       "    this.ws.onmessage = this._make_on_message_function(this);\n",
       "\n",
       "    this.ondownload = ondownload;\n",
       "}\n",
       "\n",
       "mpl.figure.prototype._init_header = function() {\n",
       "    var titlebar = $(\n",
       "        '<div class=\"ui-dialog-titlebar ui-widget-header ui-corner-all ' +\n",
       "        'ui-helper-clearfix\"/>');\n",
       "    var titletext = $(\n",
       "        '<div class=\"ui-dialog-title\" style=\"width: 100%; ' +\n",
       "        'text-align: center; padding: 3px;\"/>');\n",
       "    titlebar.append(titletext)\n",
       "    this.root.append(titlebar);\n",
       "    this.header = titletext[0];\n",
       "}\n",
       "\n",
       "\n",
       "\n",
       "mpl.figure.prototype._canvas_extra_style = function(canvas_div) {\n",
       "\n",
       "}\n",
       "\n",
       "\n",
       "mpl.figure.prototype._root_extra_style = function(canvas_div) {\n",
       "\n",
       "}\n",
       "\n",
       "mpl.figure.prototype._init_canvas = function() {\n",
       "    var fig = this;\n",
       "\n",
       "    var canvas_div = $('<div/>');\n",
       "\n",
       "    canvas_div.attr('style', 'position: relative; clear: both; outline: 0');\n",
       "\n",
       "    function canvas_keyboard_event(event) {\n",
       "        return fig.key_event(event, event['data']);\n",
       "    }\n",
       "\n",
       "    canvas_div.keydown('key_press', canvas_keyboard_event);\n",
       "    canvas_div.keyup('key_release', canvas_keyboard_event);\n",
       "    this.canvas_div = canvas_div\n",
       "    this._canvas_extra_style(canvas_div)\n",
       "    this.root.append(canvas_div);\n",
       "\n",
       "    var canvas = $('<canvas/>');\n",
       "    canvas.addClass('mpl-canvas');\n",
       "    canvas.attr('style', \"left: 0; top: 0; z-index: 0; outline: 0\")\n",
       "\n",
       "    this.canvas = canvas[0];\n",
       "    this.context = canvas[0].getContext(\"2d\");\n",
       "\n",
       "    var backingStore = this.context.backingStorePixelRatio ||\n",
       "\tthis.context.webkitBackingStorePixelRatio ||\n",
       "\tthis.context.mozBackingStorePixelRatio ||\n",
       "\tthis.context.msBackingStorePixelRatio ||\n",
       "\tthis.context.oBackingStorePixelRatio ||\n",
       "\tthis.context.backingStorePixelRatio || 1;\n",
       "\n",
       "    mpl.ratio = (window.devicePixelRatio || 1) / backingStore;\n",
       "\n",
       "    var rubberband = $('<canvas/>');\n",
       "    rubberband.attr('style', \"position: absolute; left: 0; top: 0; z-index: 1;\")\n",
       "\n",
       "    var pass_mouse_events = true;\n",
       "\n",
       "    canvas_div.resizable({\n",
       "        start: function(event, ui) {\n",
       "            pass_mouse_events = false;\n",
       "        },\n",
       "        resize: function(event, ui) {\n",
       "            fig.request_resize(ui.size.width, ui.size.height);\n",
       "        },\n",
       "        stop: function(event, ui) {\n",
       "            pass_mouse_events = true;\n",
       "            fig.request_resize(ui.size.width, ui.size.height);\n",
       "        },\n",
       "    });\n",
       "\n",
       "    function mouse_event_fn(event) {\n",
       "        if (pass_mouse_events)\n",
       "            return fig.mouse_event(event, event['data']);\n",
       "    }\n",
       "\n",
       "    rubberband.mousedown('button_press', mouse_event_fn);\n",
       "    rubberband.mouseup('button_release', mouse_event_fn);\n",
       "    // Throttle sequential mouse events to 1 every 20ms.\n",
       "    rubberband.mousemove('motion_notify', mouse_event_fn);\n",
       "\n",
       "    rubberband.mouseenter('figure_enter', mouse_event_fn);\n",
       "    rubberband.mouseleave('figure_leave', mouse_event_fn);\n",
       "\n",
       "    canvas_div.on(\"wheel\", function (event) {\n",
       "        event = event.originalEvent;\n",
       "        event['data'] = 'scroll'\n",
       "        if (event.deltaY < 0) {\n",
       "            event.step = 1;\n",
       "        } else {\n",
       "            event.step = -1;\n",
       "        }\n",
       "        mouse_event_fn(event);\n",
       "    });\n",
       "\n",
       "    canvas_div.append(canvas);\n",
       "    canvas_div.append(rubberband);\n",
       "\n",
       "    this.rubberband = rubberband;\n",
       "    this.rubberband_canvas = rubberband[0];\n",
       "    this.rubberband_context = rubberband[0].getContext(\"2d\");\n",
       "    this.rubberband_context.strokeStyle = \"#000000\";\n",
       "\n",
       "    this._resize_canvas = function(width, height) {\n",
       "        // Keep the size of the canvas, canvas container, and rubber band\n",
       "        // canvas in synch.\n",
       "        canvas_div.css('width', width)\n",
       "        canvas_div.css('height', height)\n",
       "\n",
       "        canvas.attr('width', width * mpl.ratio);\n",
       "        canvas.attr('height', height * mpl.ratio);\n",
       "        canvas.attr('style', 'width: ' + width + 'px; height: ' + height + 'px;');\n",
       "\n",
       "        rubberband.attr('width', width);\n",
       "        rubberband.attr('height', height);\n",
       "    }\n",
       "\n",
       "    // Set the figure to an initial 600x600px, this will subsequently be updated\n",
       "    // upon first draw.\n",
       "    this._resize_canvas(600, 600);\n",
       "\n",
       "    // Disable right mouse context menu.\n",
       "    $(this.rubberband_canvas).bind(\"contextmenu\",function(e){\n",
       "        return false;\n",
       "    });\n",
       "\n",
       "    function set_focus () {\n",
       "        canvas.focus();\n",
       "        canvas_div.focus();\n",
       "    }\n",
       "\n",
       "    window.setTimeout(set_focus, 100);\n",
       "}\n",
       "\n",
       "mpl.figure.prototype._init_toolbar = function() {\n",
       "    var fig = this;\n",
       "\n",
       "    var nav_element = $('<div/>')\n",
       "    nav_element.attr('style', 'width: 100%');\n",
       "    this.root.append(nav_element);\n",
       "\n",
       "    // Define a callback function for later on.\n",
       "    function toolbar_event(event) {\n",
       "        return fig.toolbar_button_onclick(event['data']);\n",
       "    }\n",
       "    function toolbar_mouse_event(event) {\n",
       "        return fig.toolbar_button_onmouseover(event['data']);\n",
       "    }\n",
       "\n",
       "    for(var toolbar_ind in mpl.toolbar_items) {\n",
       "        var name = mpl.toolbar_items[toolbar_ind][0];\n",
       "        var tooltip = mpl.toolbar_items[toolbar_ind][1];\n",
       "        var image = mpl.toolbar_items[toolbar_ind][2];\n",
       "        var method_name = mpl.toolbar_items[toolbar_ind][3];\n",
       "\n",
       "        if (!name) {\n",
       "            // put a spacer in here.\n",
       "            continue;\n",
       "        }\n",
       "        var button = $('<button/>');\n",
       "        button.addClass('ui-button ui-widget ui-state-default ui-corner-all ' +\n",
       "                        'ui-button-icon-only');\n",
       "        button.attr('role', 'button');\n",
       "        button.attr('aria-disabled', 'false');\n",
       "        button.click(method_name, toolbar_event);\n",
       "        button.mouseover(tooltip, toolbar_mouse_event);\n",
       "\n",
       "        var icon_img = $('<span/>');\n",
       "        icon_img.addClass('ui-button-icon-primary ui-icon');\n",
       "        icon_img.addClass(image);\n",
       "        icon_img.addClass('ui-corner-all');\n",
       "\n",
       "        var tooltip_span = $('<span/>');\n",
       "        tooltip_span.addClass('ui-button-text');\n",
       "        tooltip_span.html(tooltip);\n",
       "\n",
       "        button.append(icon_img);\n",
       "        button.append(tooltip_span);\n",
       "\n",
       "        nav_element.append(button);\n",
       "    }\n",
       "\n",
       "    var fmt_picker_span = $('<span/>');\n",
       "\n",
       "    var fmt_picker = $('<select/>');\n",
       "    fmt_picker.addClass('mpl-toolbar-option ui-widget ui-widget-content');\n",
       "    fmt_picker_span.append(fmt_picker);\n",
       "    nav_element.append(fmt_picker_span);\n",
       "    this.format_dropdown = fmt_picker[0];\n",
       "\n",
       "    for (var ind in mpl.extensions) {\n",
       "        var fmt = mpl.extensions[ind];\n",
       "        var option = $(\n",
       "            '<option/>', {selected: fmt === mpl.default_extension}).html(fmt);\n",
       "        fmt_picker.append(option)\n",
       "    }\n",
       "\n",
       "    // Add hover states to the ui-buttons\n",
       "    $( \".ui-button\" ).hover(\n",
       "        function() { $(this).addClass(\"ui-state-hover\");},\n",
       "        function() { $(this).removeClass(\"ui-state-hover\");}\n",
       "    );\n",
       "\n",
       "    var status_bar = $('<span class=\"mpl-message\"/>');\n",
       "    nav_element.append(status_bar);\n",
       "    this.message = status_bar[0];\n",
       "}\n",
       "\n",
       "mpl.figure.prototype.request_resize = function(x_pixels, y_pixels) {\n",
       "    // Request matplotlib to resize the figure. Matplotlib will then trigger a resize in the client,\n",
       "    // which will in turn request a refresh of the image.\n",
       "    this.send_message('resize', {'width': x_pixels, 'height': y_pixels});\n",
       "}\n",
       "\n",
       "mpl.figure.prototype.send_message = function(type, properties) {\n",
       "    properties['type'] = type;\n",
       "    properties['figure_id'] = this.id;\n",
       "    this.ws.send(JSON.stringify(properties));\n",
       "}\n",
       "\n",
       "mpl.figure.prototype.send_draw_message = function() {\n",
       "    if (!this.waiting) {\n",
       "        this.waiting = true;\n",
       "        this.ws.send(JSON.stringify({type: \"draw\", figure_id: this.id}));\n",
       "    }\n",
       "}\n",
       "\n",
       "\n",
       "mpl.figure.prototype.handle_save = function(fig, msg) {\n",
       "    var format_dropdown = fig.format_dropdown;\n",
       "    var format = format_dropdown.options[format_dropdown.selectedIndex].value;\n",
       "    fig.ondownload(fig, format);\n",
       "}\n",
       "\n",
       "\n",
       "mpl.figure.prototype.handle_resize = function(fig, msg) {\n",
       "    var size = msg['size'];\n",
       "    if (size[0] != fig.canvas.width || size[1] != fig.canvas.height) {\n",
       "        fig._resize_canvas(size[0], size[1]);\n",
       "        fig.send_message(\"refresh\", {});\n",
       "    };\n",
       "}\n",
       "\n",
       "mpl.figure.prototype.handle_rubberband = function(fig, msg) {\n",
       "    var x0 = msg['x0'] / mpl.ratio;\n",
       "    var y0 = (fig.canvas.height - msg['y0']) / mpl.ratio;\n",
       "    var x1 = msg['x1'] / mpl.ratio;\n",
       "    var y1 = (fig.canvas.height - msg['y1']) / mpl.ratio;\n",
       "    x0 = Math.floor(x0) + 0.5;\n",
       "    y0 = Math.floor(y0) + 0.5;\n",
       "    x1 = Math.floor(x1) + 0.5;\n",
       "    y1 = Math.floor(y1) + 0.5;\n",
       "    var min_x = Math.min(x0, x1);\n",
       "    var min_y = Math.min(y0, y1);\n",
       "    var width = Math.abs(x1 - x0);\n",
       "    var height = Math.abs(y1 - y0);\n",
       "\n",
       "    fig.rubberband_context.clearRect(\n",
       "        0, 0, fig.canvas.width, fig.canvas.height);\n",
       "\n",
       "    fig.rubberband_context.strokeRect(min_x, min_y, width, height);\n",
       "}\n",
       "\n",
       "mpl.figure.prototype.handle_figure_label = function(fig, msg) {\n",
       "    // Updates the figure title.\n",
       "    fig.header.textContent = msg['label'];\n",
       "}\n",
       "\n",
       "mpl.figure.prototype.handle_cursor = function(fig, msg) {\n",
       "    var cursor = msg['cursor'];\n",
       "    switch(cursor)\n",
       "    {\n",
       "    case 0:\n",
       "        cursor = 'pointer';\n",
       "        break;\n",
       "    case 1:\n",
       "        cursor = 'default';\n",
       "        break;\n",
       "    case 2:\n",
       "        cursor = 'crosshair';\n",
       "        break;\n",
       "    case 3:\n",
       "        cursor = 'move';\n",
       "        break;\n",
       "    }\n",
       "    fig.rubberband_canvas.style.cursor = cursor;\n",
       "}\n",
       "\n",
       "mpl.figure.prototype.handle_message = function(fig, msg) {\n",
       "    fig.message.textContent = msg['message'];\n",
       "}\n",
       "\n",
       "mpl.figure.prototype.handle_draw = function(fig, msg) {\n",
       "    // Request the server to send over a new figure.\n",
       "    fig.send_draw_message();\n",
       "}\n",
       "\n",
       "mpl.figure.prototype.handle_image_mode = function(fig, msg) {\n",
       "    fig.image_mode = msg['mode'];\n",
       "}\n",
       "\n",
       "mpl.figure.prototype.updated_canvas_event = function() {\n",
       "    // Called whenever the canvas gets updated.\n",
       "    this.send_message(\"ack\", {});\n",
       "}\n",
       "\n",
       "// A function to construct a web socket function for onmessage handling.\n",
       "// Called in the figure constructor.\n",
       "mpl.figure.prototype._make_on_message_function = function(fig) {\n",
       "    return function socket_on_message(evt) {\n",
       "        if (evt.data instanceof Blob) {\n",
       "            /* FIXME: We get \"Resource interpreted as Image but\n",
       "             * transferred with MIME type text/plain:\" errors on\n",
       "             * Chrome.  But how to set the MIME type?  It doesn't seem\n",
       "             * to be part of the websocket stream */\n",
       "            evt.data.type = \"image/png\";\n",
       "\n",
       "            /* Free the memory for the previous frames */\n",
       "            if (fig.imageObj.src) {\n",
       "                (window.URL || window.webkitURL).revokeObjectURL(\n",
       "                    fig.imageObj.src);\n",
       "            }\n",
       "\n",
       "            fig.imageObj.src = (window.URL || window.webkitURL).createObjectURL(\n",
       "                evt.data);\n",
       "            fig.updated_canvas_event();\n",
       "            fig.waiting = false;\n",
       "            return;\n",
       "        }\n",
       "        else if (typeof evt.data === 'string' && evt.data.slice(0, 21) == \"data:image/png;base64\") {\n",
       "            fig.imageObj.src = evt.data;\n",
       "            fig.updated_canvas_event();\n",
       "            fig.waiting = false;\n",
       "            return;\n",
       "        }\n",
       "\n",
       "        var msg = JSON.parse(evt.data);\n",
       "        var msg_type = msg['type'];\n",
       "\n",
       "        // Call the  \"handle_{type}\" callback, which takes\n",
       "        // the figure and JSON message as its only arguments.\n",
       "        try {\n",
       "            var callback = fig[\"handle_\" + msg_type];\n",
       "        } catch (e) {\n",
       "            console.log(\"No handler for the '\" + msg_type + \"' message type: \", msg);\n",
       "            return;\n",
       "        }\n",
       "\n",
       "        if (callback) {\n",
       "            try {\n",
       "                // console.log(\"Handling '\" + msg_type + \"' message: \", msg);\n",
       "                callback(fig, msg);\n",
       "            } catch (e) {\n",
       "                console.log(\"Exception inside the 'handler_\" + msg_type + \"' callback:\", e, e.stack, msg);\n",
       "            }\n",
       "        }\n",
       "    };\n",
       "}\n",
       "\n",
       "// from http://stackoverflow.com/questions/1114465/getting-mouse-location-in-canvas\n",
       "mpl.findpos = function(e) {\n",
       "    //this section is from http://www.quirksmode.org/js/events_properties.html\n",
       "    var targ;\n",
       "    if (!e)\n",
       "        e = window.event;\n",
       "    if (e.target)\n",
       "        targ = e.target;\n",
       "    else if (e.srcElement)\n",
       "        targ = e.srcElement;\n",
       "    if (targ.nodeType == 3) // defeat Safari bug\n",
       "        targ = targ.parentNode;\n",
       "\n",
       "    // jQuery normalizes the pageX and pageY\n",
       "    // pageX,Y are the mouse positions relative to the document\n",
       "    // offset() returns the position of the element relative to the document\n",
       "    var x = e.pageX - $(targ).offset().left;\n",
       "    var y = e.pageY - $(targ).offset().top;\n",
       "\n",
       "    return {\"x\": x, \"y\": y};\n",
       "};\n",
       "\n",
       "/*\n",
       " * return a copy of an object with only non-object keys\n",
       " * we need this to avoid circular references\n",
       " * http://stackoverflow.com/a/24161582/3208463\n",
       " */\n",
       "function simpleKeys (original) {\n",
       "  return Object.keys(original).reduce(function (obj, key) {\n",
       "    if (typeof original[key] !== 'object')\n",
       "        obj[key] = original[key]\n",
       "    return obj;\n",
       "  }, {});\n",
       "}\n",
       "\n",
       "mpl.figure.prototype.mouse_event = function(event, name) {\n",
       "    var canvas_pos = mpl.findpos(event)\n",
       "\n",
       "    if (name === 'button_press')\n",
       "    {\n",
       "        this.canvas.focus();\n",
       "        this.canvas_div.focus();\n",
       "    }\n",
       "\n",
       "    var x = canvas_pos.x * mpl.ratio;\n",
       "    var y = canvas_pos.y * mpl.ratio;\n",
       "\n",
       "    this.send_message(name, {x: x, y: y, button: event.button,\n",
       "                             step: event.step,\n",
       "                             guiEvent: simpleKeys(event)});\n",
       "\n",
       "    /* This prevents the web browser from automatically changing to\n",
       "     * the text insertion cursor when the button is pressed.  We want\n",
       "     * to control all of the cursor setting manually through the\n",
       "     * 'cursor' event from matplotlib */\n",
       "    event.preventDefault();\n",
       "    return false;\n",
       "}\n",
       "\n",
       "mpl.figure.prototype._key_event_extra = function(event, name) {\n",
       "    // Handle any extra behaviour associated with a key event\n",
       "}\n",
       "\n",
       "mpl.figure.prototype.key_event = function(event, name) {\n",
       "\n",
       "    // Prevent repeat events\n",
       "    if (name == 'key_press')\n",
       "    {\n",
       "        if (event.which === this._key)\n",
       "            return;\n",
       "        else\n",
       "            this._key = event.which;\n",
       "    }\n",
       "    if (name == 'key_release')\n",
       "        this._key = null;\n",
       "\n",
       "    var value = '';\n",
       "    if (event.ctrlKey && event.which != 17)\n",
       "        value += \"ctrl+\";\n",
       "    if (event.altKey && event.which != 18)\n",
       "        value += \"alt+\";\n",
       "    if (event.shiftKey && event.which != 16)\n",
       "        value += \"shift+\";\n",
       "\n",
       "    value += 'k';\n",
       "    value += event.which.toString();\n",
       "\n",
       "    this._key_event_extra(event, name);\n",
       "\n",
       "    this.send_message(name, {key: value,\n",
       "                             guiEvent: simpleKeys(event)});\n",
       "    return false;\n",
       "}\n",
       "\n",
       "mpl.figure.prototype.toolbar_button_onclick = function(name) {\n",
       "    if (name == 'download') {\n",
       "        this.handle_save(this, null);\n",
       "    } else {\n",
       "        this.send_message(\"toolbar_button\", {name: name});\n",
       "    }\n",
       "};\n",
       "\n",
       "mpl.figure.prototype.toolbar_button_onmouseover = function(tooltip) {\n",
       "    this.message.textContent = tooltip;\n",
       "};\n",
       "mpl.toolbar_items = [[\"Home\", \"Reset original view\", \"fa fa-home icon-home\", \"home\"], [\"Back\", \"Back to  previous view\", \"fa fa-arrow-left icon-arrow-left\", \"back\"], [\"Forward\", \"Forward to next view\", \"fa fa-arrow-right icon-arrow-right\", \"forward\"], [\"\", \"\", \"\", \"\"], [\"Pan\", \"Pan axes with left mouse, zoom with right\", \"fa fa-arrows icon-move\", \"pan\"], [\"Zoom\", \"Zoom to rectangle\", \"fa fa-square-o icon-check-empty\", \"zoom\"], [\"\", \"\", \"\", \"\"], [\"Download\", \"Download plot\", \"fa fa-floppy-o icon-save\", \"download\"]];\n",
       "\n",
       "mpl.extensions = [\"eps\", \"pdf\", \"png\", \"ps\", \"raw\", \"svg\"];\n",
       "\n",
       "mpl.default_extension = \"png\";var comm_websocket_adapter = function(comm) {\n",
       "    // Create a \"websocket\"-like object which calls the given IPython comm\n",
       "    // object with the appropriate methods. Currently this is a non binary\n",
       "    // socket, so there is still some room for performance tuning.\n",
       "    var ws = {};\n",
       "\n",
       "    ws.close = function() {\n",
       "        comm.close()\n",
       "    };\n",
       "    ws.send = function(m) {\n",
       "        //console.log('sending', m);\n",
       "        comm.send(m);\n",
       "    };\n",
       "    // Register the callback with on_msg.\n",
       "    comm.on_msg(function(msg) {\n",
       "        //console.log('receiving', msg['content']['data'], msg);\n",
       "        // Pass the mpl event to the overriden (by mpl) onmessage function.\n",
       "        ws.onmessage(msg['content']['data'])\n",
       "    });\n",
       "    return ws;\n",
       "}\n",
       "\n",
       "mpl.mpl_figure_comm = function(comm, msg) {\n",
       "    // This is the function which gets called when the mpl process\n",
       "    // starts-up an IPython Comm through the \"matplotlib\" channel.\n",
       "\n",
       "    var id = msg.content.data.id;\n",
       "    // Get hold of the div created by the display call when the Comm\n",
       "    // socket was opened in Python.\n",
       "    var element = $(\"#\" + id);\n",
       "    var ws_proxy = comm_websocket_adapter(comm)\n",
       "\n",
       "    function ondownload(figure, format) {\n",
       "        window.open(figure.imageObj.src);\n",
       "    }\n",
       "\n",
       "    var fig = new mpl.figure(id, ws_proxy,\n",
       "                           ondownload,\n",
       "                           element.get(0));\n",
       "\n",
       "    // Call onopen now - mpl needs it, as it is assuming we've passed it a real\n",
       "    // web socket which is closed, not our websocket->open comm proxy.\n",
       "    ws_proxy.onopen();\n",
       "\n",
       "    fig.parent_element = element.get(0);\n",
       "    fig.cell_info = mpl.find_output_cell(\"<div id='\" + id + \"'></div>\");\n",
       "    if (!fig.cell_info) {\n",
       "        console.error(\"Failed to find cell for figure\", id, fig);\n",
       "        return;\n",
       "    }\n",
       "\n",
       "    var output_index = fig.cell_info[2]\n",
       "    var cell = fig.cell_info[0];\n",
       "\n",
       "};\n",
       "\n",
       "mpl.figure.prototype.handle_close = function(fig, msg) {\n",
       "    var width = fig.canvas.width/mpl.ratio\n",
       "    fig.root.unbind('remove')\n",
       "\n",
       "    // Update the output cell to use the data from the current canvas.\n",
       "    fig.push_to_output();\n",
       "    var dataURL = fig.canvas.toDataURL();\n",
       "    // Re-enable the keyboard manager in IPython - without this line, in FF,\n",
       "    // the notebook keyboard shortcuts fail.\n",
       "    IPython.keyboard_manager.enable()\n",
       "    $(fig.parent_element).html('<img src=\"' + dataURL + '\" width=\"' + width + '\">');\n",
       "    fig.close_ws(fig, msg);\n",
       "}\n",
       "\n",
       "mpl.figure.prototype.close_ws = function(fig, msg){\n",
       "    fig.send_message('closing', msg);\n",
       "    // fig.ws.close()\n",
       "}\n",
       "\n",
       "mpl.figure.prototype.push_to_output = function(remove_interactive) {\n",
       "    // Turn the data on the canvas into data in the output cell.\n",
       "    var width = this.canvas.width/mpl.ratio\n",
       "    var dataURL = this.canvas.toDataURL();\n",
       "    this.cell_info[1]['text/html'] = '<img src=\"' + dataURL + '\" width=\"' + width + '\">';\n",
       "}\n",
       "\n",
       "mpl.figure.prototype.updated_canvas_event = function() {\n",
       "    // Tell IPython that the notebook contents must change.\n",
       "    IPython.notebook.set_dirty(true);\n",
       "    this.send_message(\"ack\", {});\n",
       "    var fig = this;\n",
       "    // Wait a second, then push the new image to the DOM so\n",
       "    // that it is saved nicely (might be nice to debounce this).\n",
       "    setTimeout(function () { fig.push_to_output() }, 1000);\n",
       "}\n",
       "\n",
       "mpl.figure.prototype._init_toolbar = function() {\n",
       "    var fig = this;\n",
       "\n",
       "    var nav_element = $('<div/>')\n",
       "    nav_element.attr('style', 'width: 100%');\n",
       "    this.root.append(nav_element);\n",
       "\n",
       "    // Define a callback function for later on.\n",
       "    function toolbar_event(event) {\n",
       "        return fig.toolbar_button_onclick(event['data']);\n",
       "    }\n",
       "    function toolbar_mouse_event(event) {\n",
       "        return fig.toolbar_button_onmouseover(event['data']);\n",
       "    }\n",
       "\n",
       "    for(var toolbar_ind in mpl.toolbar_items){\n",
       "        var name = mpl.toolbar_items[toolbar_ind][0];\n",
       "        var tooltip = mpl.toolbar_items[toolbar_ind][1];\n",
       "        var image = mpl.toolbar_items[toolbar_ind][2];\n",
       "        var method_name = mpl.toolbar_items[toolbar_ind][3];\n",
       "\n",
       "        if (!name) { continue; };\n",
       "\n",
       "        var button = $('<button class=\"btn btn-default\" href=\"#\" title=\"' + name + '\"><i class=\"fa ' + image + ' fa-lg\"></i></button>');\n",
       "        button.click(method_name, toolbar_event);\n",
       "        button.mouseover(tooltip, toolbar_mouse_event);\n",
       "        nav_element.append(button);\n",
       "    }\n",
       "\n",
       "    // Add the status bar.\n",
       "    var status_bar = $('<span class=\"mpl-message\" style=\"text-align:right; float: right;\"/>');\n",
       "    nav_element.append(status_bar);\n",
       "    this.message = status_bar[0];\n",
       "\n",
       "    // Add the close button to the window.\n",
       "    var buttongrp = $('<div class=\"btn-group inline pull-right\"></div>');\n",
       "    var button = $('<button class=\"btn btn-mini btn-primary\" href=\"#\" title=\"Stop Interaction\"><i class=\"fa fa-power-off icon-remove icon-large\"></i></button>');\n",
       "    button.click(function (evt) { fig.handle_close(fig, {}); } );\n",
       "    button.mouseover('Stop Interaction', toolbar_mouse_event);\n",
       "    buttongrp.append(button);\n",
       "    var titlebar = this.root.find($('.ui-dialog-titlebar'));\n",
       "    titlebar.prepend(buttongrp);\n",
       "}\n",
       "\n",
       "mpl.figure.prototype._root_extra_style = function(el){\n",
       "    var fig = this\n",
       "    el.on(\"remove\", function(){\n",
       "\tfig.close_ws(fig, {});\n",
       "    });\n",
       "}\n",
       "\n",
       "mpl.figure.prototype._canvas_extra_style = function(el){\n",
       "    // this is important to make the div 'focusable\n",
       "    el.attr('tabindex', 0)\n",
       "    // reach out to IPython and tell the keyboard manager to turn it's self\n",
       "    // off when our div gets focus\n",
       "\n",
       "    // location in version 3\n",
       "    if (IPython.notebook.keyboard_manager) {\n",
       "        IPython.notebook.keyboard_manager.register_events(el);\n",
       "    }\n",
       "    else {\n",
       "        // location in version 2\n",
       "        IPython.keyboard_manager.register_events(el);\n",
       "    }\n",
       "\n",
       "}\n",
       "\n",
       "mpl.figure.prototype._key_event_extra = function(event, name) {\n",
       "    var manager = IPython.notebook.keyboard_manager;\n",
       "    if (!manager)\n",
       "        manager = IPython.keyboard_manager;\n",
       "\n",
       "    // Check for shift+enter\n",
       "    if (event.shiftKey && event.which == 13) {\n",
       "        this.canvas_div.blur();\n",
       "        // select the cell after this one\n",
       "        var index = IPython.notebook.find_cell_index(this.cell_info[0]);\n",
       "        IPython.notebook.select(index + 1);\n",
       "    }\n",
       "}\n",
       "\n",
       "mpl.figure.prototype.handle_save = function(fig, msg) {\n",
       "    fig.ondownload(fig, null);\n",
       "}\n",
       "\n",
       "\n",
       "mpl.find_output_cell = function(html_output) {\n",
       "    // Return the cell and output element which can be found *uniquely* in the notebook.\n",
       "    // Note - this is a bit hacky, but it is done because the \"notebook_saving.Notebook\"\n",
       "    // IPython event is triggered only after the cells have been serialised, which for\n",
       "    // our purposes (turning an active figure into a static one), is too late.\n",
       "    var cells = IPython.notebook.get_cells();\n",
       "    var ncells = cells.length;\n",
       "    for (var i=0; i<ncells; i++) {\n",
       "        var cell = cells[i];\n",
       "        if (cell.cell_type === 'code'){\n",
       "            for (var j=0; j<cell.output_area.outputs.length; j++) {\n",
       "                var data = cell.output_area.outputs[j];\n",
       "                if (data.data) {\n",
       "                    // IPython >= 3 moved mimebundle to data attribute of output\n",
       "                    data = data.data;\n",
       "                }\n",
       "                if (data['text/html'] == html_output) {\n",
       "                    return [cell, data, j];\n",
       "                }\n",
       "            }\n",
       "        }\n",
       "    }\n",
       "}\n",
       "\n",
       "// Register the function which deals with the matplotlib target/channel.\n",
       "// The kernel may be null if the page has been refreshed.\n",
       "if (IPython.notebook.kernel != null) {\n",
       "    IPython.notebook.kernel.comm_manager.register_target('matplotlib', mpl.mpl_figure_comm);\n",
       "}\n"
      ],
      "text/plain": [
       "<IPython.core.display.Javascript object>"
      ]
     },
     "metadata": {},
     "output_type": "display_data"
    },
    {
     "data": {
      "text/html": [
       "<img src=\"data:image/png;base64,iVBORw0KGgoAAAANSUhEUgAAA+gAAAH0CAYAAACuKActAAAgAElEQVR4XuzdB3QUVcPG8X9CkSa99957712aCIqIKCKgoEgRRAHpHZQOogiCoIBiQeWj995777333gIk37nDhjdlQzYJMLvJM+fwntfsbfO7E+XZmbnXCx0SkIAEJCABCUhAAhKQgAQkIAEJ2C7gZfsINAAJSEACEpCABCQgAQlIQAISkIAEUEDXRSABCUhAAhKQgAQkIAEJSEACEnADAQV0N5gEDUECEpCABCQgAQlIQAISkIAEJKCArmtAAhKQgAQkIAEJSEACEpCABCTgBgIK6G4wCRqCBCQgAQlIQAISkIAEJCABCUhAAV3XgAQkIAEJSEACEpCABCQgAQlIwA0EFNDdYBI0BAlIQAISkIAEJCABCUhAAhKQgAK6rgEJSEACEpCABCQgAQlIQAISkIAbCCigu8EkaAgSkIAEJCABCUhAAhKQgAQkIAEFdF0DEpCABCQgAQlIQAISkIAEJCABNxBQQHeDSdAQJCABCUhAAhKQgAQkIAEJSEACCui6BiQgAQlIQAISkIAEJCABCUhAAm4goIDuBpOgIUhAAhKQgAQkIAEJSEACEpCABBTQdQ1IQAISkIAEJCABCUhAAhKQgATcQEAB3Q0mQUOQgAQkIAEJSEACEpCABCQgAQkooOsakIAEJCABCUhAAhKQgAQkIAEJuIGAArobTIKGIAEJSEACEpCABCQgAQlIQAISUEAP2zVgvFIDt8JWTaUlIAEJSEACEpCABCQgAQlIIBILvAqcBfwico4K6GHTSwOcDlsVlZaABCQgAQlIQAISkIAEJCCBKCCQFjgTkfNUQA+bXnzgxqlTp4gf3/xfHRKQgAQkIAEJSEACEpCABCQQlQVu3rxJunTpDEEC4GZELBTQw6ZnBfQbN24ooIfNTaUlIAEJSEACEpCABCQgAQlESgET0BMkMNlcAf1lT7AC+ssWV38SkIAEJCABCUhAAhKQgATcWEAB3b7JUUC3z149S0ACEpCABCQgAQlIQAIScDsBBXT7pkQB3T579SwBCUhAAhKQgAQkIAGPFPD19cXHx8cjx65BQ4wYMYgWLVqIFAro9l0lCuj22atnCUhAAhKQgAQkIAEJeJyACebHjh3DhHQdniuQMGFCUqZMiZdX8GXcFNDtm1cFdPvs1bMEJCABCUhAAhKQgAQ8SsDPz4+TJ0/y8OFDUqdOjbe3t0eNX4MFM4d3797l4sWLmJCeKlWqYCwK6PZdKQro9tmrZwlIQAISkIAEJCABCXiUgAnmhw8ftsK5Y5Vvjxq/Bvs/gStXrlghPXv27MEed1dAt+9KUUC3z149S0ACEpCABCQgAQlIwKME7t+/bz3enjFjRmLHju1RY9dgAwvcu3eP48ePkylTJmLFihXoQwV0+64WBXT77NWzBCQgAQlIQAISkIAEPErAP6A7C3UedSIaLM+aSwV0+y4QBXT77NWzBCQgAQlIQAISkIAEPEpAAd2jpuuZg1VAd8+5VEB3z3nRqCQgAQlIQAISkIAEJOB2Ap4a0M3CaJ9++il///03165dY9u2bRQsWNDtfF/mgBTQX6a2630poLtupZISkIAEJCABCUhAAhKI0gKeGtDnzZtH3bp1Wb58OZkzZyZp0qREjx7dlrn0f+876JcETZs25fr16/z3338vZVwK6C+FOcydKKCHmUwVJCABCUhAAhKQgAQkEDUFPDWgjxkzhiFDhnDixIlwTZy5A//48ePnEuoV0MM1BVGmkgJ6lJlqnagEJCABCUhAAhKQgAQiJuCJAd3cmf7ll1+enniGDBk4cOAAHTt2ZPr06ZgF0YoWLcqIESMoVqyYVc7caa9UqRJz586le/fu7Nq1i4ULF1KxYkX69+/P6NGjMaugv/vuu9bd+Pnz57N9+3arrq+vr1Vm/PjxXLp0iVy5cvHNN99Qo0YN63MvL69Ak1ChQgWr3T59+gT6+bJly6yfnzp1ii+//NLq3+w7X65cOUaNGmWtpG8O/zvvZcuWZdiwYfj4+NCwYUNGjhxJjBgxQpxw3UGP2O/Ci6qtgP6iZNWuBCQgAQlIQAISkIAEIplA0FBn7izfe/jYlrOMHSNasLDrbCA3btywArUJzJs2bbL2/DYB2ryPPmHCBExgHzx4MP/3f/9n7fGeOHHipwE9f/78DB061HosPlGiRJhH5Zs3b84PP/xAmTJlrIBvQrFZ1d4/oJug37t3b8aNG0ehQoX4+eefrfC/Z88esmXLZo2hePHiLF68mDx58hAzZkzrz8cff2x9WTBp0iTrNMw4TJgvUKAApUqVon379tYdfDP2LVu2sHPnTqueCej//vsv77//Pu3atbPOwXxxYAJ6ixYtFNBtuTrD36kCevjtVFMCEpCABCQgAQlIQAJRSiBoQL/r84jcPRfYYrC3b3XixHTtPXITVs0f83j5nTt3rLA9efJkK9Sa4+HDh9YdaROCzZ11/zvo5n1w8+66/1GyZEnrbrt5ZN7/MHeub9++/TSgp0mThtatW9O1a9enZUwgN3fnv//++6d7j7vyDvrUqVOtQL5v376nX0aYO+QJEya03lWvVq2aFdDNeI8cOWJ9+WCOBg0aWHfbzRcIIR26g27LZRtqpwrooRK5b4HDF29x6ZYPpbIkcd9BamQSkIAEJCABCUhAApFGIDIEdHPn2dyVNmHd3D33P9566y0ruJs73v4B/fTp05jA7X+Yz83j5R9++OHTn3Xo0IGlS5daAd1//3BT3zy67n988cUX7NixwyoXlnfQzZcF5u57rFixAl1Dd+/etcL+Z599ZgV08yj9nDlznpYxd9LNY/mmv6gc0FsDHYGUwA6gLbDxGb+N7wD9APPywCGgMzDXUd68LNAfqAVkBm4Ai4GvgbMB2kwMfAe8YV53AGYA7YDbLv5bQAHdRSh3LJbx6ye/hIs7VCBr8njuOESNSQISkIAEJCABCUggEgl44iPuhj/gHfSwBHSzJZu5W21XQDcBfOvWrUybNi3YVZQsWTISJEjw9B30gKu/mycBzBcG5ouCqBrQ3wV+BVoCG4D2gAngOYCLTlBKAyuBLsBswDxbYQJ6YWA3kAD4G/jJEfYTAaMA88xC0QDtzQNSAZ8CJtSbFxY2Odpz5V8FCuiuKLlhmZv3H5K/90JrZAPfysf7JdK74Sg1JAlIQAISkIAEJCCByCTgiYvEBQ3o5hF38363edc74CPu5j1yE2y/+uqrp3fQgwZ084i7eVT9u+/MPdInh1m07datW6E+4m4eczePxp89e9a6K79582aKFCnytJ1PPvmEc+fOMWvWrKc/++mnn+jcubN11z1+fBPdgh/OtmdTQH8Syk0wbuMg8wZOOe5uf+PE8Q8gLlA7wGfrAbP0nwn5zg6zpKC5I2+ewzgJ5AL2Aubnmx0VzNKA5i582iB32kP694ICuof+G3PP2Ru8Pnq1NfrmZTPRvXZuDz0TDVsCEpCABCQgAQlIwFMEIkNAN9YmwP71119MnDiR9OnTP10kzrzHbR5j93/EPWhAN3eyzcJrY8eOpXTp0vzxxx/W9m1mETnzTrk5zN36Xr16WYvSFSxY0PoiYPjw4U8XiXv06JEVtrt162YtOGceXzd3wgcOHGgtLGdWa0+SJIn1M/NuvGnDBPq+ffuSNm1aa6u4f/75h06dOln/rIAe/LcnJnAXqA8E3FXerOVvnof436oC/6trAvZwM38BmjPr6r8JFAjhF7QqYG6ZmjZvAh8BwwBzd93/MKsk3Hfcvf/XhV90BXQXkNyxyPzd52g5das1tOKZEvPnp6XccZgakwQkIAEJSEACEpBAJBKILAHdnIcJuL///rt19zukbdaCBnQzlf369bNWhTdtmMXY4sWLx8aNG1m3bp0102abNVPG3P2+ePEiuXPnDrTNmiljVo83gfvMmTPWHXjzhYB5j7xRo0ZWO2bROf9t1s6fP2/dRTdbvpmxmrBepUoVa3V5E/QV0IP/gqUGzgDmsfUns/LkGAyYlQFKOPmd9AGaAL8H+KwV0AtI4aS8WRVgDbAfaOT43CwLaNowj9EHPMwj9aadsU7aeQUwf/yPV4HTZuuBkB6ZiET/PolUpzJ+5REGzjWXA8SNGY1dvavj7R14T8VIdcI6GQlIQAISkIAEJCAB2wU8NaC/SLjXXnuNlClTMmXKlBfZzXNvOzKv4v6iA7p5t9ws/mYeW6/ouHtuJig8Ab23I7wHmmAF9Od+vb/wBrv9u4tpG8yDGE+OpV9WIHMyLRT3wuHVgQQkIAEJSEACEojCAlE9oJvV03/88UeqV69ubWlm7sCbO+GLFi2ialXzwLPnHJE5oL/IR9xNOP/TsZJ7ZeBKgCkPzyPuuoPuOb8zzxxp44kbWHXo8tMyv3xUnArZk0WSs9NpSEACEpCABCQgAQm4o0BUD+j37t3jjTfesN43NxY5cuSge/fu1KtXzx2n65ljiswB3Zy4WSTOLOBmtlYzh1kkztzeNDvYh7RIXBzH9mj+cGuBnQEWifMP59mASsClIML+i8SZVd23OD6rBszXInEe9/sR5gFXHLKM41fuEidmNO76PGZQvXy8V1wruYcZUhUkIAEJSEACEpCABFwWiOoB3WUoDygY2QO62WbNLApntjszQd1ss9YAyAlccGzBZt5TN9uqmcO8r77Csa+52cy6oeORdf9t1kw4N9usmX82K72bNvyPq4B5h90cZps18866Wfndf5s1s6K72bbNlUOLxLmi5GZl7jx4RP4+C3ns60fVXClYvO8CbStn5ctqQZcjcLOBazgSkIAEJCABCUhAAh4toIDu0dMXaPCRPaCbkzVbrHUEUjq2S/vccWfdfGZ2iD8ONA2gYvZJ7w9kBA4BnRxbpJki5mfHQph+czfdf8f5xI679G+YBQMd76qbfm+7eOkooLsI5U7Flh+4SNNJm0ibKLa1//ng+QeoVzgNwxsUdKdhaiwSkIAEJCABCUhAApFMQAE98kxoVAjonjhbCugeOGuD5u1j3IqjvFMkLWWzJaXd9O2UzJyY6Z9oqzUPnE4NWQISkIAEJCABCXiMgAK6x0xVqANVQA+VyJYCCui2sEes07rfr2HHqesMe6cA6RLHocG4daRPHIeVnczDFTokIAEJSEACEpCABCTwYgQU0F+Mqx2tKqDboR56nwrooRu5VYlHj33J0WO+9f75qk6V8PKCst8uI2Y0b/b3q6G90N1qtjQYCUhAAhKQgAQkELkEFNAjz3wqoLvnXCqgu+e8hDiqs9fvUfqbpUT39uJg/5o89vMjR/d5+PrBxm5VSP5qLA87Iw1XAhKQgAQkIAEJSMBTBBTQPWWmQh+nAnroRnaUUEC3Qz0CfW45cY23x64lTcLYrPm6stVSqUFLOHfjPv+0Kk3h9Iki0LqqSkACEpCABCQgAQlIIGQBBXTXr47ly5dTqVIlrl27RsKECZk8eTLt27fn+vXrrjfipKSXlxf//vsvb775ZoTaUUCPEN8Lq6yA/sJoX0zDc3aeo/VvWymSIREzPjO79UHD8etYf/QqwxsUoF7htC+mY7UqAQlIQAISkIAEJBDlBRTQXb8EFNCfWHm5TqaSgAK6h10GE1cfo9/svbyePxXfv1/YGn2Xf3bx+8aT2gvdw+ZSw5WABCQgAQlIQAKeJhBZArqPjw8xY8Z8ofwK6Aro4bnAFNDDo2ZjnQFz9vLTqmM0L5uJ7rVzWyOZsOoo/efsCxTabRyiupaABCQgAQlIQAISiKQCnhrQK1asSN68eYkePTpTp04lX7581mPiX331FTNnzuTBgwcULVqUESNGUKBAgaezN2vWLPr27cuuXbuIFy8e5cqVs+qZY8qUKYwaNYoDBw4QN25cKleuzMiRI0mePLn1uSsB3fTdp08f9u7dS+rUqWnSpAndunWzxmmOQ4cO8fHHH7Nx40YyZ85s9VetWjU94h5Jf7/MaSmge9jktvltK7N3nqP767loXi6zNfol+y7w8S+byZUqPvPalfOwM9JwJSABCUhAAhKQgAQ8RSBYQPfzg4d37Rl+jDhYWxq5cJiAvmXLFj777DMr8JqjTZs2xI4dm549e5IgQQLGjRtnvSd+8OBBEidOzJw5c6hbt64VmBs2bIi56z537ly6dOli1f/5559JlSoVOXLk4OLFi3To0MF619yUcSWgr1q1itq1azN69Ggr+B85coRPPvmEpk2b0qtXL3x9fa0vC1KkSMGwYcO4ceOG9Q77tm3bFNBdmHNPLaKA7mEzV3/sWjafuGY93m4eczfH0Uu3qTxsBbFjRGNPn+raas3D5lTDlYAEJCABCUhAAp4iECyg+9yBgantGX7XsxAzrkt9m4B+8+ZNtm7dapVfvXo1r7/+uhWsX3nlladtZM2alU6dOllBuXTp0tZda3PH3ZVj8+bNFCtWjFu3bll320O7g161alWqVKnyNPCbPkxfpv+zZ8+ycOFCa4wnTpyw7q6bY/78+dSsWVMB3ZUJ8dAyCugeNnFlvlnKmev3rAXizEJx5nj42Jecjr3R13WpTKoEsT3srDRcCUhAAhKQgAQkIAFPEPDkgJ4tWzZ++ukni/n777/n888/t+6gBzzu3btnPfb+7bffEidOHKtcs2bNnE6NuSPfu3dvduzYYa3Ubu543717lz179pA7d+5QA3qyZMm4ffs20aJFe9r+48ePMcZ37tyxxmoeaT969OjTz81ddHOXXqu4e8JvS/jGqIAePjdbavn6+pGjxzwePvZj7deVSZ3wf/9CqTR0Occu3+G3FiUonSWpLeNTpxKQgAQkIAEJSEACkVvAkx9xL1iwoPWOuDlMAP/uu++sEB30MAE4adKkJEmShKFDhzoN6CZAZ8iQgerVq9OyZUtM2D558qT1z+YRdNNXaHfQzZcD5v3zevXqBRuDuXNvxqeAHrl/n5ydnQK6B835tTs+FOq3yBrxwf41iRnd++noG0/cwKpDlxlcPz8NiqbzoLPSUCUgAQlIQAISkIAEPEXAkxeJCxjQFy1aZD0qfvjwYTJmzOiU3+xhniZNGqePuJu752ZRORPK06V78ndv83h648aNXQ7oZcqUIWfOnEycONFp//6PuJs+zLvu5liwYAE1atTQHXRP+YUJxzgV0MOBZleVwxdvUXX4SuLHis7O3tUDDcN/q7XPK2elQ7Ucdg1R/UpAAhKQgAQkIAEJRGKByBLQ/fz8KF++vPW++ODBg8mePbv13rdZGO6tt96ywre5A27eEe/evbu1SNyjR4+sBeA6d+7MpUuXSJs2Le3atbPuoO/evZuOHTtaC8y5egfdhG2zSJxpv379+nh7e1uPy5u2+vfvbz0yb1abN18SDBkyxHqH/osvvrAWu9Mj7pH3l0wB3YPmdv3RKzQcv57MSeOy9KuKgUb+w/LDDJ5/gHqF0jD83YIedFYaqgQkIAEJSEACEpCApwhEloBuvE04Nyu0z5gxwwrcKVOmtEL7oEGDnt4V/+eff+jXr5+1DVr8+PGtz015c/z+++907dqVc+fOUbhwYWuxtzp16rgc0E0bJqSbbdxMqI8RI4Z1R7158+a0aNHC6sMEfv9t1sydfrPiu+6ge8pvS/jGqYAePjdbas3ZeY7Wv22lWMZE/NWydKAx/N+Os3z++zaKZ0zMny1L2TI+dSoBCUhAAhKQgAQkELkFPDWgR+5ZCd/ZPWsuzd16s/UcYP7nZvh6eFLLtY3wItJD5KqrgO5B8zll3XF6zNxDjTwp+bFxkUAj33ryGvV+WEvqBLFY26WKB52VhioBCUhAAhKQgAQk4CkCCuieMlOhj1MBPXQjO0oooNuhHs4+Ryw6yKglh3i/RHoGvpUvUCsXb92n+IAleHvB/n6BF5ALZ3eqJgEJSEACEpCABCQggUACCuiR54JQQHfPuVRAd895cTqq7v/tYur6kzhbCM4sdGH2Qn/wyJcVHSuSIUlcDzozDVUCEpCABCQgAQlIwBMEFNA9YZZcG6MCumtOL7uUAvrLFo9Af59N3cK83efpUycPTUoH3w6i8rDlHL10h2nNS1Amq/ZCjwC1qkpAAhKQgAQkIAEJOBFQQI88l4UCunvOpQK6e86L01E1+HEdG49fZcz7haidP3WwMg3Hr2P90auMaliQugXTeNCZaagSkIAEJCABCUhAAp4goIDuCbPk2hgV0F1zetmlFNBftngE+qsybDlHLt3htxYlKJ0l+B3y1tO2MmfXOXq9kZtmZTJFoCdVlYAEJCABCUhAAhKQQHAB/1BntvyKHTu2iDxY4N69exw/fpxMmTIRK1asQGeiVdztm1gFdPvsw9xzwb4LuX73IQu/KE/2FK8Gq9/jv91MWX+CNpWy8lX1HGFuXxUkIAEJSEACEpCABCTwLIGHDx9y+PBhUqdO7b8Nl8A8VODKlStcvHiR7NmzEy1aNAV0N5lHBXQ3mYjQhvHwsS/Zus2zim3pXpUk8V4JVmXk4oOMXHyI94qnZ1C9wKu8h9a+PpeABCQgAQlIQAISkEBoAmZh4pMnT2KCugnp3t7eoVXR524mYObw7t27VjhPmDAhqVKlCjZC3UG3b9IU0O2zD1PPRy/dpvKwFcSK4c3ePjXwNvupBTn890mvnicF4xoXDVP7KiwBCUhAAhKQgAQkIAFXBHx8fDh27Bi+vr6uFFcZNxUw4TxlypR4eQXPFQro9k2aArp99mHqef7u87ScuoV8aRIwq21Zp3Xn7DxH69+2UixjIv5qWTpM7auwBCQgAQlIQAISkIAEXBUw4dwEdR2eKRAjRoxgj7UHPBMFdPvmVQHdPvsw9Tx6ySGGLzpIvcJpGN6goNO6649eoeH49WROGpelX1UMU/sqLAEJSEACEpCABCQgAQlIwAgooNt3HSig22cfpp7b/LaV2TvP0aVmTj6tkMVp3UMXbvHaiJUkiB2DHb2qhal9FZaABCQgAQlIQAISkIAEJKCAbu81oIBur7/LvVcbsYKDF24zqWkxKuVM7rTeldsPKNJ/sfXZoQE1iRFNi3a4DKyCEpCABCQgAQlIQAISkIAloDvo9l0ICuj22bvcs1nBPXfP+Tx87MearyuTJqHzPScf+/qRtdtc/PxgY7cqJH818H6GLneoghKQgAQkIAEJSEACEpBAlBVQQLdv6hXQ7bN3ueez1+9R+pulxIjmxcH+NZ2utOjfWJF+i7hyx4d57cqRK5WZXh0SkIAEJCABCUhAAhKQgARcF1BAd93qeZdUQH/eoi+gvb1nb1Jr9CqSxnuFzd2rPrOH14av4NDF20xrXoIyWZO+gNGoSQlIQAISkIAEJCABCUggMgsooNs3uwro9tm73PPaI5d5/6cNZEsej0UdKjyzXoNx69h47Cpj3i9E7fypXe5DBSUgAQlIQAISkIAEJCABCRgBBXT7rgMFdPvsXe553q5zfDbNtf3NW/y6mUV7LzDgrbw0KpHB5T5UUAISkIAEJCABCUhAAhKQgAK6vdeAArq9/i71/vvGk3T5ZxdVc6VgQpOiz6zz1V87+HvLaTrVyEGrilldal+FJCABCUhAAhKQgAQkIAEJ+AvoDrp914ICun32Lvc8dvkRvp2/n/pF0jL0nQLPrNd31l5+XnOMTytkpkvNXC73oYISkIAEJCABCUhAAhKQgASMgAK6fdeBArp99i73PGjePsatOErzspnoXjv3M+uNWnyIEYsP8l7xdAyql9/lPlRQAhKQgAQkIAEJSEACEpCAArq914ACur3+LvX+9YydTN90iq+qZadN5WzPrDN5zTF6z9pLrXwp+aFREZfaVyEJSEACEpCABCQgAQlIQAL+ArqDbt+1oIBun73LPbecsoX5e87T7828NC757IXf/t12mi/+2EGZrEmY1ryky32ooAQkIAEJSEACEpCABCQgASOggG7fdaCAbp+9yz03HL+O9Uev8t17hXijwLO3Tlu6/wIfTd5MvjQJmNW2rMt9qKAEJCABCUhAAhKQgAQkIAEFdHuvAQV0e/1d6r3GyJXsP3+LKR8Xp1y2ZM+ss+XEVd4eu470ieOwslMll9pXIQlIQAISkIAEJCABCUhAAv4CuoNu37WggG6fvcs9lxy4hPM37zOrTVnypU3wzHqHL96i6vCVJIgdgx29qrnchwpKQAISkIAEJCABCUhAAhIwAgro9l0HCuj22bvcc84e87j/0JdVnSqRLnGcZ9a7eOs+xQcswcsLjgyohbe3l8v9qKAEJCABCUhAAhKQgAQkIAEFdPuuAQV0++xd6vn+w8fk7DHfKruzdzXix4rxzHoPHj0mR/cn5c0ddHMnXYcEJCABCUhAAhKQgAQkIAFXBRTQXZV6/uUU0J+/6XNt8fyN+5QctIRo3l4c6l/TpTviYbnj/lwHq8YkIAEJSEACEpCABCQgAY8XUEC3bwoV0O2zd6nnHaeuU/f7NaSMH4v1Xau4VKfEwMVcuPmA2W3LkjfNs99Zd6lBFZKABCQgAQlIQAISkIAEooyAArp9U62Abp+9Sz3P332ellO3UDBdQv5rXcalOtVGrODghdtMa16CMlmTulRHhSQgAQlIQAISkIAEJCABCRgBBXT7rgMFdPvsXep58ppj9J61l5p5UzL2gyIu1Xnnx7VsOn6NHxoVpla+VC7VUSEJSEACEpCABCQgAQlIQAIK6PZeAwro9vqH2vugefsYt+IozcpkpNcbeUItbwo0nbSR5QcuMaR+ft4pms6lOiokAQlIQAISkIAEJCABCUhAAd3ea0AB3V7/UHtvN30bM7efpWutnHxSPkuo5U2BVtO2MHfXefrWzcOHpTK6VEeFJCABCUhAAhKQgAQkIAEJRKaA3hroCKQ0O1wBbYGNz5jid4B+gElQh4DOwNwA5esBLQHzXHNioBCwPUh7y4EKQX42zlHPlatLAd0VJRvLNBi3jo3HrjL6vULUKZDapZF8+ecOZmw9zdc1c9Kygmuh3qWGVUgCEpCABCQgAQlIQAISiPQCkeEd9JWyCDsAACAASURBVHeBXx3BeAPQHjABPAdw0ckMlgZWAl2A2cD7joBeGNjtKN8YyAScBX56RkA/CPQM0Mdd816/i1eNArqLUHYVKz94GSev3uWvlqUoltF8TxP60XPmbn5dd4LPK2elQzVzCeqQgAQkIAEJSEACEpCABCTgmkBkCOgmlG8C2jhO2Rs4BXwHfOOE4Q8gLlA7wGfrHXfIzV3zgIe5w37sGQHd3FU3XwiE51BAD4/aS6rj5+dHju7z8Xnsy6pOlUiXOI5LPfu/t968bCa6187tUh0VkoAEJCABCUhAAhKQgAQkYAQ8PaDHBMxd6/rAfwGm9BcgIVDXyTSfBIYDIwN81gd4EygQxoBuVg7zAs4DsxyPzZvxuHIooLuiZFOZK7cfUKT/Yqv3g/1rEjO6+d4n9GP0kkMMX3SQ94qnZ1C9fKFXUAkJSEACEpCABCQgAQlIQAIOAU8P6ObF4DOAeWx9XYBZHex4P7yEk5n2AZoAvwf4rBXQC0gRhoD+CXDC8Rh8fuBbx3vv5v11Z8crgPnjf7wKnL5x4wbx45usrsOdBLafus6b368h+auvsLFbVZeHNmHVUfrP2cebBVMzsqFZukCHBCQgAQlIQAISkIAEJCAB1wQU0J84hSegBxWuDCwBsgJHnPD3dnwJEOgjBXTXLtSXXerfbaf54o8dlMycmOmflHK5+2kbTtDt391Uy52C8R8WdbmeCkpAAhKQgAQkIAEJSEACEvD0gG7nI+5Brx7zXvttoAawwMmlpTvoHvT7NnzhAUYvPRzmR9X/23aG9n9sp2zWpExt7uwBDg9C0FAlIAEJSEACEpCABCQggZcq4OkB3WCZReLMlmpmazVzmJeFzXvmY56xSJxZ8euNANJrgZ1Otkh71iJxQSeqDLDa8R67aSu0Q++ghyZk4+dtftvK7J3n6FYrFy3KZ3Z5JAv2nOfTKVsonD4h/7Qyl4QOCUhAAhKQgAQkIAEJSEACrglEhoButlkzi8J96gjqZlX1BkBO4IJjCzbznrrZVs0c5n31FcDXwBygIdAVCLjNmtlTKz1g3nH3L3PAsRicWRDObHBttmcze6dfAcw76CPMO+VO9kYPaSYU0F27Rm0p9froVew5e5OfPizKa7mDLk0Q8pBWHbpE44kbyZnyVea3L2/L2NWpBCQgAQlIQAISkIAEJOCZApEhoBt5s8VaRyClY7u0zx131s1ny4HjQNMAU2T2Se8PmDvkh4BOjrDtX8SUneRkSs1q7+Zd8nTAVCCvY8s2s63bv442tQ+6Z/4uPB212WItT68F3PV5zOIOFciaPJ7LZ7TlxDXeHruW9InjsLJTJZfrqaAEJCABCUhAAhKQgAQkIIHIEtA9cSZ1B91NZ+3izfsUH7gEby/Y38/1LdbM6ew7d5Oao1aRNN4rbO7u+urvbkqhYUlAAhKQgAQkIAEJSEACL1FAAf0lYgfpSgHdPvtn9rzt5DXe+mEtqRPEYm2XKmEa5ckrdyk/ZBlxYkZjb1+zXqAOCUhAAhKQgAQkIAEJSEACrgkooLvm9CJKKaC/CNXn0OaSfRf4+JfN5E+bgP9rUzZMLV669YBiAxbj5QVHBtTC29yG1yEBCUhAAhKQgAQkIAEJSMAFAQV0F5BeUBEF9BcEG9Fm/9x0ik4zdlIpRzImNSsepubuPHhkvb9ujr19qxMnZvQw1VdhCUhAAhKQgAQkIAEJSCDqCiig2zf3Cuj22T+z5x+WH2bw/APUL5KWoe8UCNMofX39yNzVLO6P9Q66eRddhwQkIAEJSEACEpCABCQgAVcEFNBdUXoxZRTQX4xrhFvtN3svE1cf49MKmelSM1eY28vVYz73Hj5mVadKpEscJ8z1VUECEpCABCQgAQlIQAISiJoCCuj2zbsCun32z+y5/fRt/Lf9LN1q5aJF+cxhHmWRfou4cseH+e3LkTOlmWYdEpCABCQgAQlIQAISkIAEQhdQQA/d6EWVUEB/UbIRbLfxxA2sOnSZYe8U4O0iacPcWrnBSzl19R7/tCpN4fSJwlxfFSQgAQlIQAISkIAEJCCBqCmggG7fvCug22f/zJ7NPuZmP/PJzYpRMUfyMI+y+oiVHLhwi6kfl6BstqRhrq8KEpCABCQgAQlIQAISkEDUFFBAt2/eFdDts39mz8UHLObirQfMbluWvGkShHmUb36/hu2nrjO+cRGq5UkZ5vqqIAEJSEACEpCABCQgAQlETQEFdPvmXQHdPvsQe/bz8yNbt3k88vVjXZfKpEoQO8yjbDRhPWsOX2FUw4LULZgmzPVVQQISkIAEJCABCUhAAhKImgIK6PbNuwK6ffYh9nzj7kMK9F1ofX6gfw1eiR4tzKNs/stmFu+7wMC38vF+ifRhrq8KEpCABCQgAQlIQAISkEDUFFBAt2/eFdDtsw+x5yOXblNl2ApejRWdXb2rh2uE7aZvY+b2s3R/PRfNy4V9FfhwdapKEpCABCQgAQlIQAISkIDHCyig2zeFCuj22YfY8+bjV6n/4zrSJ47Dyk6VwjXCLv/s5PeNp/jytey0rZItXG2okgQkIAEJSEACEpCABCQQ9QQU0O2bcwV0++xD7Hnp/gt8NHkz+dIkYFbbsuEaYd9Ze/l5zTFaVsjC1zVzhqsNVZKABCQgAQlIQAISkIAEop6AArp9c66Abp99iD3/t+0M7f/YTpmsSZjWvGS4Rjhs4QG+W3qYJqUy0Kdu3nC1oUoSkIAEJCABCUhAAhKQQNQTUEC3b84V0O2zD7HnX9cdp+fMPdTMm5KxHxQJ1wh/WH6YwfMPUL9IWoa+UyBcbaiSBCQgAQlIQAISkIAEJBD1BBTQ7ZtzBXT77EPseczSQwxdeJB3i6bj2/r5wzXCyWuO0XvWXl7Pl4rvGxUOVxuqJAEJSEACEpCABCQgAQlEPQEFdPvmXAHdPvsQex44dx/jVx6lRblMdHs9d7hG+OfmU3T6eyeVciRjUrPi4WpDlSQgAQlIQAISkIAEJCCBqCeggG7fnCug22cfYs9fz9jJ9E0RW4F99s6ztPltG8UzJebPT0u54VlqSBKQgAQkIAEJSEACEpCAOwoooNs3Kwro9tmH2HOraVuYu+s8ferkoUnpjOEa4bL9F2k2eVOEVoIPV8eqJAEJSEACEpCABCQgAQl4tIACun3Tp4Bun32IPX8wYQOrD19mxLsFeKtQ2nCNcP3RKzQcv57MyeKy9MuK4WpDlSQgAQlIQAISkIAEJCCBqCeggG7fnCug22cfYs91xqxm5+kbTGxSlCq5UoRrhDtPX6fOmDWkShCLdV2qhKsNVZKABCQgAQlIQAISkIAEop6AArp9c66Abp99iD1XHLKM41fu8lfLUhTLmDhcIzx88TZVh68gQewY7OhVLVxtqJIEJCABCUhAAhKQgAQkEPUEFNDtm3MFdPvsQ+y5cL9FXL3jw4L25cmR8tVwjfDs9XuU/mYpMaJ5cWhArXC1oUoSkIAEJCABCUhAAhKQQNQTUEC3b84V0O2zd9qzn58f2brN45GvH+u7VCFlgljhGuH1uz4U7LvIqnuwf01iRvcOVzuqJAEJSEACEpCABCQgAQlELQEFdPvmWwHdPnunPd/1eUTungusz/b2rU6cmNHDNUKfR75k7z7PqrujZzUSxIkRrnZUSQISkIAEJCABCUhAAhKIWgIK6PbNtwK6ffZOez5/4z4lBy0hurd5NL0mXl5e4R5h1q5zrTvx67pUJlWC2OFuRxUlIAEJSEACEpCABCQggagjoIBu31wroNtn77TngxduUW3EShLHjcnWHq9FaHT5ei/g1v1HLPmyAlmSxYtQW6osAQlIQAISkIAEJCABCUQNAQV0++ZZAd0+e6c9bz5+lfo/riNDkjis6FgpQqMrOXAJ52/eZ1absuRLmyBCbamyBCQgAQlIQAISkIAEJBA1BBTQ7ZtnBXT77J32vOLgJZr8vJHcqeIzt125CI2u8tDlHL18hz8+KUmJzEki1JYqS0ACEpCABCQgAQlIQAJRQ0AB3b55VkC3z95pz/N2neOzaVspnjExf7YsFaHR1f5uFbvP3GRS02JUypk8Qm2psgQkIAEJSEACEpCABCQQNQQU0O2bZwV0++yd9vz3ltN89dcOKuZIxuRmxSM0ugY/rmPj8at8/35hXs+fKkJtqbIEJCABCUhAAhKQgAQkEDUEFNDtm2cFdPvsnfb867rj9Jy5h9fzpeL7RoUjNDrzqLx5ZH5w/fw0KJouQm2psgQkIAEJSEACEpCABCQQNQQU0O2bZwV0++yd9jx2+RG+nb+fd4qkZcg7BSI0uja/bWX2znP0rJ2bj8pmilBbqiwBCUhAAhKQgAQkIAEJRA0BBXT75lkB3T57pz0PXXCAMcsO07R0RnrXyROh0XX/bxdT15/k8yrZ6PBa9gi1pcoSkIAEJCABCUhAAhKQQNQQUEC3b54V0O2zd9pzn1l7mLTmOK0qZqFTjZwRGp1/2G9SKgN96uaNUFuqLAEJSEACEpCABCQgAQlEDQEFdPvmWQHdPnunPXf+eyd/bD5Fx+o5aF0pa4RGN2HVUfrP2UfdgqkZ1bBQhNpSZQlIQAISkIAEJCABCUggaggooNs3zwro9tk77dn/vfFeb+SmWZmIvTf+lwn6f++kQvZk/PJRxFaEdzMmDUcCEpCABCQgAQlIQAISeEECCugvCNaFZhXQXUB6mUU+mryJpfsvMvjt/DQoFrGV1xfvvUDzXzdTIF1CZrYu8zJPQ31JQAISkIAEJCABCUhAAh4qoIBu38QpoNtn77Tnd8etY8Ox57N3+ebjV6n/4zoyJInDio6V3OxMNRwJSEACEpCABCQgAQlIwB0FFNDtmxUFdPvsnfb8xner2XXmBpOaFaNSjuQRGt3hi7eoOnwlCWLHYEevahFqS5UlIAEJSEACEpCABCQggaghoIBu3zwroNtn77TnykOXc/TyHf78tBTFMyWO0Ogu3XpAsQGL8fKCwwNqEc3bK0LtqbIEJCABCUhAAhKQgAQkEPkFFNDtm2MFdPvsnfZcYuBiLtx8wOy2ZcmbJkGERufzyJfs3edZbWzv+RoJ48SMUHuqLAEJSEACEpCABCQgAQlEfgEFdPvmWAHdPnunPefrtYBbDx6x7KuKZEoaN8Kjy9NzPnd8HrP8q4pkfA7tRXhAakACEpCABCQgAQlIQAIScGsBBXT7pkcB3T77YD37+fmRpetcfP1gY9cqJI8fK8KjK/PNUs5cv8d/rctQMF3CCLenBiQgAQlIQAISkIAEJCCByC2ggG7f/Cqg22cfrOf7Dx+Ts8d86+e7+1Qn3ivRIzy610evYs/Zm0xuVoyKEVx0LsKDUQMSkIAEJCABCUhAAhKQgNsLKKDbN0UK6PbZB+v5yu0HFOm/2Pr5kYHPZ1G3RhPWs+bwFUY1LEjdgmnc6Gw1FAlIQAISkIAEJCABCUjAHQUU0O2bFQV0++yD9Xzq6l3KDV5G7BjR2NevxnMZWatpW5i76zx96uShSemMz6VNNSIBCUhAAhKQgAQkIAEJRF4BBXT75lYB3T77YD3vP3+TGiNXkTReTDZ3f+25jOyrv3bw95bTdK6Rk88qZnkubaoRCUhAAhKQgAQkIAEJSCDyCiig2ze3Cuj22QfrecuJq7w9dh0ZksRhRcdKz2VkPWfu5td1J/i8clY6VMvxXNpUIxKQgAQkIAEJSEACEpBA5BWILAG9NdARSAnsANoCG58xbe8A/QDz3PEhoDMwN0D5ekBLoAiQGChktrMO0p5Z5nsY0BB4BVgAtAIuuHi5KKC7CPUyiq08eIkPf95IrlTxmdeu3HPpctC8fYxbcZTmZTPRvXbu59KmGpGABCQgAQlIQAISkIAEIq9AZAjo7wK/OgL1BqA9YAK4uWV50cnUlQZWAl2A2cD7joBe2Czg7SjfGMgEnAV+CiGgjwVeB5oCN4AxgC9QxsXLRQHdRaiXUWz+7nO0nLqVohkS8fdn5hKJ+DFy8UFGLj5EoxLpGfBWvog3qBYkIAEJSEACEpCABCQggUgtEBkCugnlm4A2jpnyBk4B3wHfOJm9P4C4QO0An6133CE3d80DHuYO+zEnAT0BcMkR7v92VMgJ7ANKAaa90A4F9NCEXuLnM7ac5su/dlA+ezJ+/aj4c+l5/MojDJy7n3qF0jD83YLPpU01IgEJSEACEpCABCQgAQlEXgFPD+gxgbtAfeC/ANP0C5AQqOtk6k4Cw4GRAT7rA7wJFHAxoFcGlgCJgOsB6pxwtDvCSb/mMXjzx/94FTh948YN4sc3WV2HnQJT1h2nx8w91MybkrEfmDcbIn5MWX+CHv/tpkaelPzY+Pm0GfFRqQUJSEACEpCABCQgAQlIwF0FPD2gpwbOAOaZ5HUBkAcDFYASTuB9gCbA7wE+M++O9wJSuBjQzWPxk4IEblPVvPe+zPHIfNCuezv6CPRzBXT3+NX4ccURvpm3n7cLp2VYg6Df04RvjGYFd7OSe4XsyfjlOd2VD99IVEsCEpCABCQgAQlIQAIS8AQBBfQns/QyArruoLvxb8TwhQcYvfQwH5bKQN+6eZ/LSOfuOkeraVspnjExf7Y0bz7okIAEJCABCUhAAhKQgAQkELKApwd0T3rEPegs6B10N/rN7Dd7LxNXH6NlhSx8XdMsJxDxY9mBizSbtIm8aeIzu+3zWRk+4qNSCxKQgAQkIAEJSEACEpCAuwp4ekA3rmaROPNoudlazRxmkTjznrlZVT2kReLiAG8EmJS1wE7HSvAB5yq0ReLeA2Y4KphV4/drkTh3vdSfPa6vZ+xk+qZTfPladtpWyfZcTmL90Ss0HL+eLMnisuTLis+lTTUiAQlIQAISkIAEJCABCURegcgQ0M02a2ZRuE8dQd1ss9YAMLdBzZ7kZgs285662VbNHOZ99RXA18Acxz7mXYGA26yZvc/TA+Ydd/8yB4Dzjj+mHbPNWi3HNms3HavG+7fvyhWjO+iuKL2kMm1/38asHWfpUTs3H5c1O+y5eJzZApcPQYGGwSrsPH2dOmPWkDpBLNZ2qeJigyomAQlIQAISkIAEJCABCURVgcgQ0M3cmS3WOgIpHdulfe64s24+Ww4cdwRp/3k2+6T3B8wd8kNAJ2BugIvA7G1uFoELepjV3s1ib+aIBQwDzF108375Ase77CbEu3IooLui9JLKfDx5E0v2X+Tbt/PxbjHz3YwLx6MH0D/5k4JN50LGMoEqHb54i6rDV5IwTgy296zmQoMqIgEJSEACEpCABCQgAQlEZYHIEtA9cQ4V0N1o1hqOX8f6o1f57r1CvFHAPDgRyuH7GLb+ArO/eFKwwtdQyf8hjSc/On3tLmW/XcYr0b050L9maC3qcwlIQAISkIAEJCABCUggigsooNt3ASig22cfrOc6Y1az8/QNfm5alMo5g+62F6S4nx9MrAanzdIHjiNzJfjwv0AFr97xoXC/RdbPjgysRTRvLzc6Yw1FAhKQgAQkIAEJSEACEnA3AQV0+2ZEAd0++2A9Vxm2nCOX7jD9k5KUzJzk2SM7uQF+DvLIeoy48PVJiBb9ad17Po/J1XO+9c97+lQn7iv/+8yNTl1DkYAEJCABCUhAAhKQgATcREAB3b6JUEC3zz5Yz6UGLeHcjfvMalOWfGkTPHtkM9vAtimQqw7U/R5G5oX7N6DR35Dttad1/fz8yNx1LuaG+6ZuVUn2qlmqQIcEJCABCUhAAhKQgAQkIAHnAgro9l0ZCuj22QfrOX/vBdy8/4glX1YgS7J4IY/sxhkYUxQe3oVm8yBDaZj3NWwYC4kyQqv1ECP20/q5e87nrs9jVnasRPokZnc/HRKQgAQkIAEJSEACEpCABBTQ3e0aUEB3kxkxd7qzdpvHY18/1nepQsoEZoH+EI4ZLWDXn5CuJHw0H7y84P5NGFMMbp+H96ZDjv8tCFek3yKu3PFhQfvy5Ej5qpucsYYhAQlIQAISkIAEJCABCbijgO6g2zcrCuj22Qfq+f7Dx+Ts8eRd8Z29qxE/VgznI3t4DwamBj9faLEU0hT5X7m/P4bdf0PVPlC2/dOfl/12Kaev3ePfVqUplD6Rm5yxhiEBCUhAAhKQgAQkIAEJuKOAArp9s6KAbp99oJ4DrrZ+eEBNokfzdj6yczthXDmInQg6HXty99z/WP4tLB8IBRvBmz88/XG1ESs4eOE2vzUvQemsSd3kjDUMCUhAAhKQgAQkIAEJSMAdBRTQ7ZsVBXT77AP1fOrqXcoNXkasGN7s7/eM/cp3/Q0zPn7yePvHCwKPfvc/8HczSFsMmi9++lndMavZcfoGE5sUpUquULZvcxMPDUMCEpCABCQgAQlIQAISsEdAAd0ed9OrArp99oF6PnD+FtVHriRJ3Jhs6fG/VdiDDW9pf1g5BAo3gTqjA398YQ+MLQ2xEkDnE0/vrjccv471R6/y3XuFeKNAajc5Yw1DAhKQgAQkIAEJSEACEnBHAQV0+2ZFAd0++0A9bz15jXo/rCVd4tis6lQ55FH90Rj2/R9UHwilWgcu9/A+DEz15P30rw5BvOTW5x9N3sTS/RcZ/HZ+GhRL5yZnrGFIQAISkIAEJCABCUhAAu4ooIBu36wooNtnH6jn1Ycu88HEDeRM+Srz25cPeVRjisPlA/DBDMhaNXi5UQXh2jFoMhsylbM+bz1tK3N2naNPnTw0KZ3RTc5Yw5CABCQgAQlIQAISkIAE3FFAAd2+WVFAt88+UM/zd5+j5dStFE6fkH9alXE+KnOHfFAa8H0E7XdDQid3w6e+DYcXQ50xULix1U6nv3fw5+bTfFUtO20qZ3OTM9YwJCABCUhAAhKQgAQkIAF3FFBAt29WFNDtsw/U8x+bTtJ5xi4q5UjGpGbFnY/q+GqY/DrESwFfHgi8grt/jdlfwOafoXxHqNzd+uk38/bz44ojNC2dkd518rjJGWsYEpCABCQgAQlIQAISkIA7Ciig2zcrCuj22Qfq+aeVRxkwdx9vFkzNyIaFnI9q2SBY8Q3kfRvq/+y8zOoRsLg35H8X6o23ykxYdZT+c/ZZC8SZheJ0SEACEpCABCQgAQlIQAISCElAAd2+a0MB3T77QD0PW3iA75Ye5sNSGehbN6/zUU2qBSfWQO2RULSZ8zL+W60F2IZt5vYztJu+nVKZk/D7JyXd5Iw1DAlIQAISkIAEJCABCUjAHQUU0O2bFQV0++wD9dxz5m5+XXeCtpWz8mW1HMFH9fAefJMeHvtAmy2QNKvzkZ/eAhMqw6up4ct9Vpk1hy/TaMIGsiWPx6IOFdzkjDUMCUhAAhKQgAQkIAEJSMAdBRTQ7ZsVBXT77AP13H76Nv7bfpZutXLRonzm4KM6ugJ+rQOvpoIO+5y/f25q3bkMQ7IAXtD9AkR/Bf891hPFicG2ntXc5Iw1DAlIQAISkIAEJCABCUjAHQUU0O2bFQV0++wD9ey/V/m3b+fj3WLpg49qaX9YOQTyNYC3fwp51H5+MDA1PLwLbbdCkixcuf2AIv0XW3UODahJjGjebnLWGoYEJCABCUhAAhKQgAQk4G4CCuj2zYgCun32gXp+e+xatpy4xo8fFKZG3lTBRzWxOpxaD3W+g8IfPnvU35eAS/vhg38gaxV8ff3I1n0ej3392NC1Cinix3KTs9YwJCABCUhAAhKQgAQkIAF3E1BAt29GFNDtsw/U82vDV3Do4m1+a16C0lmTBh6Vef98UDrwfQifb4PETh6BD1jj1zfh6DJ4axwUaGh9UmzAYi7desDstmXJmyaBm5y1hiEBCUhAAhKQgAQkIAEJuJuAArp9M6KAbp99oJ5LDFzMhZshBOgzW+CnyhAnKXQ8HPL75/4t/tUU9vwLNQdDiU+tn9YYuZL9528xuVkxKuZI7iZnrWFIQAISkIAEJCABCUhAAu4moIBu34wooNtnH6jnnD3mcf+hL6s6VSJd4jiBR7V1CvxfG8hUAZr8X+gjntUOtkyGSt2gQierfOOJG1h16DJD3ylA/SJpQ29DJSQgAQlIQAISkIAEJCCBKCmggG7ftCug22f/tOcHjx6To/t865939KxGgjgxAo9qfhdY/wOUbAU1BoU+4kU9Yc0oKNkaagy0yn/xx3b+3XaGr2vmpGUFs8q7DglIQAISkIAEJCABCUhAAsEFFNDtuyoU0O2zf9rz5dsPKOpYZf3IwFpE8/YKPKpf6sCxFVBnDBRuHPqIVw2HJX2g4Afw5vdW+T6z9jBpzXE+q5iFzjVyht6GSkhAAhKQgAQkIAEJSEACUVJAAd2+aVdAt8/+ac9HL92m8rAVvBorOrt6Vw8+osFZ4O5laLEM0hQOfcSbJsKcDpCzNjScZpUfseggo5YcolGJ9Ax4K1/obaiEBCQgAQlIQAISkIAEJBAlBRTQ7Zt2BXT77J/2vO3kNd76YS1pEsZmzdeVA4/ozmUYYh5J94KuZyFmkPfTnY1/198w42PIWA6azrZKTFh1lP5z9lGnQGpGv1fIDc5aQ5CABCQgAQlIQAISkIAE3FFAAd2+WVFAt8/+ac8rDl6iyc8byZ0qPnPblQs8ogt7YWwpiJMEOh11bbSHFsO0tyFlPmi52qrz5+ZTdPp7JxVzJGNys+KutaNSEpCABCQgAQlIQAISkECUE1BAt2/KFdDts3/a87/bTvPFHzsonSUJv7UoGXhEx9fA5FqQJCu03eLaaE9vhglVIGF6aL/LqjN/9zlaTt1KkQyJmPFZadfaUSkJSEACEpCABCQgAQlIIMoJKKDbN+UK6PbZP+15zNJDDF140Nr+zGyDFujYNxv+aARpi0Hzxa6N9vIhGFMUYiWAr09addYevsz7EzaQLXk8FnWo4Fo7KiUBCUhAAhKQgAQkIAEJRDkBBXT7plwB3T77pz13+Wcnv288Rbsq2fjiteyBR+S/B3q26tDoT9dGe/siDM325L31nlfB25vdZ25Q+7vVpIwfi/Vdq7jWe26r6gAAIABJREFUjkpJQAISkIAEJCABCUhAAlFOQAHdvilXQLfP/mnPjSduYNWhywyun58GRdMFHtGa0bCoB+RvCPXGuTbah/dhQIonZTufgNgJOXHlDhWGLCdOzGjs7VvDtXZUSgISkIAEJCABCUhAAhKIcgIK6PZNuQK6ffZPe648bDlHL93ht+YlKJ01aeARLe4Nq0dAic+g5jeuj7Z/Cnh0H9rthEQZuHbHh0L9Fln1Dw+oSfRo3q63pZISkIAEJCABCUhAAhKQQJQRUEC3b6oV0O2zt3r28/MjV8/53H/oy4qOFcmQJG7gEc1qB1smQ8WuULGz66MdmgNun4dPV0Gq/Dx87Eu2bvOs+tt6vEaiuDFdb0slJSABCUhAAhKQgAQkIIEoI6CAbt9UK6DbZ2/1fOX2A4r0f7L424H+NXglerTAI/rzQ9g7E2oOgRKfuD7aMcXh8gFoMhsyPdm6LXfP+dz1eczKjpVIn8SF/dRd700lJSABCUhAAhKQgAQkIIFIIqCAbt9EKqDbZ2/1vPP0deqMWUPyV19hY7eqwUfzyxtwbCXUmwD533F9tBNeg9Mb4d2pkOsNq16JgYu5cPMBs9uWJW+aBK63pZISkIAEJCABCUhAAhKQQJQRUEC3b6oV0O2zt3qet+scn03bSqH0Cfm3VZngo/mxLJzfBY1mQDYnAT6k8U+tD4cXQd3vodAHVqnXhq/g0MXb/NaiBKWzBHnX3WYHdS8BCUhAAhKQgAQkIAEJuIeAArp986CAbp+91fOkNcfoM2svtfKl5IdGRYKPZkReuHEKWiyFNE4+D2n8M5rDrr+g+kAo1doqVe+HNWw9eZ0fPyhCjbwpbT5zdS8BCUhAAhKQgAQkIAEJuKOAArp9s6KAbp+91fO38/czdvkRmpbOSO86eYKPZmAa8LkNn2+DxJldH+2cL2HTBKjQGSp1teo1nbSR5QcuMaR+ft4Jup2b6y2rpAQkIAEJSEACEpCABCQQiQUU0O2bXAV0++ytnjv8uZ1/tp6hc42cfFYxS+DRPPKB/sme/KzzcYidyPXRLukLq4ZB8U+h1mCrXtvftzFrx1l61M7Nx2Uzud6WSkpAAhKQgAQkIAEJSEACUUZAAd2+qVZAt8/e6vmDCRtYffgywxsUoF7htIFHc+sCDMsOeEHPq+Adhr3L14yCRT0hf0OoN85qt9u/u5i24STtqmTji9dMuzokIAEJSEACEpCABCQgAQkEFlBAt++KUEC3z97q2X/htmnNS1Ama5CF2y7sgbGlIXZi6HwsbCPd8gvM+hyy14T3p1t1v5m3nx9XHOGjMpno+UbusLWn0hKQgAQkECUExq88wp6zN/n27fzEihFk688oIaCTlIAEJCABBXT7rgEFdPvsrZ7z917AzfuPWPRFebKleDXwaA4vgan1IHkeaLU2bCPd8x/81QTSl4aP5ll1f1h+mMHzD1C/SFqGvlMgbO2ptAQkIAEJRGqBi7fuc+PuQ14bsdI6z261ctGifBjWPonUOjo5CUhAAlFLQAHdvvlWQLfPnvsPH5Ozx3xrBDt6VSNB7BiBR7NtGsxsBVmqQON/wjbSI8tgypuQPDe0WmfVnbL+BD3+2031PCkY17ho2NpTaQlIQAISiLQCjx77UnHock5fu/f0HJPGi8mstmVJlSB2pD1vnZgEJCABCTgXUEC378pQQLfPnpNX7lJ+yDJixfBmX98aeHl5BR7NyqGwtB8UbARv/hC2kZ7ZCj9VgvhpoMNeq+7M7WdoN307pTIn4fdPSoatPZWWgAQkIIFIKXDx5n02Hb9G69+2Bju/V6J7s7hDBdIljhMpz10nJQEJSEACCujudg0ooNs4I5uOX+WdH9eRIUkcVnSsFHwkczvCxvFQ7kuo0jNsI716FEYXgpjxoOsZq+6y/RdpNnkTedPEZ3bbcmFrT6UlIAEJSCDSCZhtPoctPMAjX79A51avcBprhxFzjHy3IG8WShPpzl0nJAEJSEACIQvoDrp9V4cCun32zN55lja/baNYxkT81bJ08JH88QHsmwW1hkLxFmEb6d2rMNixlVqPKxAtOltOXOXtsetInzgOKzs5+UIgbD2otAQkIAEJeLDApVsPKDZgcbAzME91LfuqImOWHrZ2/jBbgJqtQHVIQAISkEDUEVBAt2+uFdDts2fU4kOMWHyQeoXSMPzdgsFHMqEqnN4EDaZA7jphG+njR9AvyZM6HY9C3CQcvHCLaiNWkihODLb1rBa29lRaAhKQgAQilcDaw5d5f8IGYkb3Jm7MaDz29eOfVqWJ5u1NpqRx+XXdcXrO3EOVnMmZ2LRYpDp3nYwEJCABCTxbQAHdvitEAd0+e1r8uplFey/Qs3ZuPirruNsdcDwj8sGNk/DxYkgXjr8cDUwDPreh7VZIkoXzN+5TctASonl7cXhAzeDvvNtooa4lIAEJSODlCvyy9ji9/m8PVXOlYFC9fFZAT5kg1tNBrDtyhfd+Wk+6xLFZ1anyyx2cepOABCQgAVsFFNDt41dAt8+e0oOWcPbGff78tBTFMyUOPBI/P+iXDHwfQvvdkDBd2Ec6PA/cPA0tlkGawtx58Ig8vRZY7eztW504MaOHvU3VkIAEJCCBlytw6wKc2gC53oCgi4lGYCTd/9vF1PUhP8J+5fYDivR/8gj8nj7VifuK/psRAW5VlYAEJOBRApEloLc2DxMDKc2uWUBbYOMzZuIdoB+QETgEdAbmBihvlvTuA5iXjxMCa4DPHGX9ix0HMgTpowvwjYtXgAK6i1DPu9jVOz4U7rfIanZ3n+rEC/oXnztXYIhj/9nulyB6zLAP4YfScHEPNP4PslTCz8+PrN3mWXdJ1nepEuhOSdgbVw0JSEACEnhhAiaUz/8arhyCC3vB7zG8PRHy1X9uXb47bh0bjl1lxLsFeKtQWqftFu2/iMu3fZjZugwF0pm/iuiQgAQkIIGoIBAZAvq7wK9AS2AD0B4wATwHcNHJJJoVwVYCJkzPBt53BPTCJq85ypvAbj5vAhxzhPl8QG7gvqOMCegTgZ8C9HELuOPihaOA7iLU8y626tAlGk/cSOakcVn6VcXgzZu/kI0tBbETQ2cz/eE4fq4JJ9fCO5Mhz1tWAwX7LuT63Ycs+qI82VK8Go5GVUUCEpCABF64wJS34MjSwN3kewfenhDhrlccvESSuDFp8vNGrtzxYXbbsuRNk8Bpu/XHrmXziWt8/35hXs+fKsJ9qwEJSEACEvAMgcgQ0E0o3wS0cZB7A6eA70K4m/0HEBeoHWCK1gPbHSHf3D0/CwwDhjrKmP96XgCaAtMDBPSRZheUcE61Ano44SJabeLqY/SbvZda+VLyQ6MiwZs7sRYm1YTEWeDz4HvTutT/bw3h4DyoPRKKNrOqlB+8jJNX7zLjs1IUyRDksXqXGlUhCUhAAhJ4oQJmkc+BqeHxg8Dd5KwNDadFqOs9Z2/w+ujVT9swT8ybx9dDeuXJ7I0+Z+c5etTOzcfO1kqJ0GhUWQISkIAE3FXA0wO6efb4LmCeO/svAPIvjkfT6zqBPwkMDxKszePsbwIFAPNs8xGgkCO0+zexwvHP7QIEdLOiSwzAtPkbMAJ4FMJkvwKYP/6HuYV6+saNG8SPb7K6jpclMHDuPsavPErzspnoXts8FBHkODAffn8XUheGT5aFb1j/tYbtU6FyDyj/ldXG66NXsefsTSY1K0alHMnD165qSUACEpDAixO4uB9+KAFe0Z482u5/JMkGbTdHqF////b4N1Iyc2Kmf1IqxDb7ztrLz2uO8Wn5zHSplStCfauyBCQgAQl4joCnB/TUwBnAPLa+LgD7YKACUMLJVPg4Hl3/PcBnrYBeQApHW+adc9P2uQBl/gT8APNIvTk6AOb26lVHnUHAJMfPnV0BvR19BPpMAf3l/7K0m76NmdvP0q1WLlqUd7xrHnAYO/6Afz+BzBXhw5nhG+CinrBmFJRsDTUGWm28N349645eYVTDgtQtmCZ87aqWBCQgAQm8OIGdf8E/zSFdCchdF1YNg7tXngT2bucgesDv2V0fhq+vH+UGL+PM9XtPK4X234LxK48wcO5+6hZMzaiG5p6BDglIQAISiAoCCuhPZjk8AT3o9fERMA6IBwR5Ns4qqjvobvIb5b84T4h/OdowHuZ1fPKXswZmeYNwHCacm5Ce/12oN95q4JNfN7Nw7wX6v5mXD0oGXV8wHH2oigQkIAEJPF8B/y9Xi34MtYeD2dXjm/Tw4CZ8tg5SOHnqyoUR7Dh1nbrfm+/+nywGnyzeK6zsVIlYMaKFWHvm9jO0m76d0O60u9C9ikhAAhKQgAcJeHpAt/MR96DTnMexyFxO4IAL14DeQXcB6UUUqTR0Occu32H6JyUpmTlJ8C5WDIFl/aHwh1DHLGUQjmPbNJjZCrJUgcb/WA189dcO/t5ymk41ctCqYtZwNKoqEpCABCTwQgWm1IMjS6D2CChqvncHJlSF05ug/iTIWy9c3X+/7DBDFhygWu4UdK6Zk9gxopE6YexntrX+6BUajl9PpqRxWeZsQdNwjUSVJCABCUjA3QU8PaAbX7NInNlSzWytZg6zSJx5J3zMMxaJiwO8EWBy1gI7gywSZxaIMwvFmcOEabMifMBF4oLObSPHavJJgWsuTLwCugtIz7uI2e7M7Ed+1+cxy7+qSMakZr3AIMeCbrBuDJRuC9X6h28IBxfAbw0gVUH41CxfAH1m7WHSmuN8VjELnWuY73F0SEACEpCAWwkMyQZ3LkLzJZC26JOhzWwN26ZCha+hktngJeyH/ytO/ermoXEps8Nr6Mfxy3eoOHQ5cWJGsxaT83qO+7CH3rtKSEACEpCAXQKRIaCbd8LNonCfOoK62WatAWASkFl53TyjbN5T9/+vqnlf3SSmr4E5QEOgKxB0mzXzecBt1vIH2GbNrOpi3m83K4iZrdXMP5sF4uY56rgynwrorig95zI37z8kf++FVqt7+4aweu7/tYWtv0Ll7lC+Y/hGcHozTKgCCdLBF0927xux6CCjlhyiUYn0DHjL7NqnQwISkIAE3Ebg9kUYms08hA5dz0BMxxe4a7+Dhd0h95vQwPx1I2zHPZ/HFOizEJ/Hviz9sgKZk5k34UI/TL1cPedbBXf2rkb8WGZNWh0SkIAEJBDZBSJDQDdzZLZYM0kqpWOl9c8dd9bNZ8sBs2e5ufvtf5h90s2tUfM19iGgEzA3wOdmqzWzsvsnjtXgzb4o5j31g44yJsz/4PgSwLxbbjbLnuJYHd7Z++fOriMFdBt+uw5fvEXV4St5NVZ0dvWu7nwEf34Ie2dCzSFQwlwC4TiuHoPRBSF6bOh+3mpgwqqj9J+zjzoFUjP6PS34Ew5VVZGABCTw4gQOL4Gp9SBJVmi75X/9HFoE0+pDslzQ2uzKGrZj0ppj9Jm1lzQJY7O6c6Uw3QnP33sBN+8/YnGH8mRNbjZ/0SEBCUhAApFdILIEdE+cJwV0G2ZtzeHLNJqwgWzJ47Gog1no38nxa104uhzeGg8F/BftD+NgH9yCQWmfVOp6DmLG4c/Np+j0904q5kjG5GbFw9igiktAAhKQwAsVWD0SFvcKfqf82gkYlR+8Y0C38xAtusvDME9tlft2GTfuPWTgW/l4v0R6l+uagq8NX8Ghi7eZ8nFxymVLFqa6KiwBCUhAAp4poIBu37wpoNtgP2PLab78awdlsyZlanNnu/AB4yvC2W3w3h+Qo0b4RmlW/u2fHB77QPtdkDA983efo+XUrRTJkIgZn5k3LXRIQAISkIBbCPj6wqSacGo9VO4B5b/637DMZ4PSwMO70GYzJDWPwbt2LNxznk+mbCFDkjgs6VCB6NHMMjmuHx9N3sTS/Re1+4frZCopAQlIwOMFFNDtm0IFdBvsRy0+xIjFB6lfJC1D3yngfASjC8HVo9BsPmQwywuE8xiWC26dhRbL+H/2zjlOrqUJw09s27Zt2ze2bdwkN7Zt84tt29nYtm3uZne/X50zk53NamZnZpWuf+7NTnd1nfcMTnVXvS8JsnP8zhvq+XR678ul1DSFgEJAIaAQsAIBI3u7uKi3GlL/0QI1uwg8vwC1l0I6U45Z79ecsu82E/bcolr2BEyoldXiAIdvu8bcI/dpWiApAyuJWIwyhYBCQCGgEAjqCKgE3f/usErQ/QH7NkvOsvPqC/pVSEeLQsk9j2BMCvj2xirNW83xrILw4jLUXwepSnL5yUcqTTtK3MhhOdmnhD9cvVpSIaAQUAgoBDwg4PgNRsQHXPX+81aHIMwfRG7rW8OllRaTh7Zbdpbtl1/Qt3w6Whb24jfHm1uy8tQjeq2/TOHUsfhfM9Uapd69CgGFgELgb0BAJej+d5dVgu4P2Bcec4BH776xrEUeCqQURbw/TErTh8YCFyfoehWiGPrIfRPr71722ZClDg/ffqXIWF0y59oQX5bO+yYONUchoBBQCCgEvEbgyVmYVxwixIYewhvriR0eB/uHQqZaUH2u2WgWH3eQe2++srR5Hgqm8uQ3xwdPp+6/o9bsExrB3LFexc1eVw30YwS+vIab2yBYCMhUE0KF9eMA1HIKAYVAUEJAJej+dzdVgu7H2H/+4UQmg8Tauf6liB4htMcItJOUePrfez+BMFaw5q5tBlfWQZkRkK897786km3oHs31neHlLO5F9GO41HIKAYWAQuDvQODsYtjSCZIXg0YbPb/m61tgVQOIlxVai1Krz/bN8RcZBu5C9n3P9CtJzIgi+mKZvf3ykxzD9iIS6NcGlyVc6BCWOVCj7Y+AsP+vawHf3+lrlRwMBUXxV5lCQCGgEPAdAipB9x1utpilEnRboGiBjzMP3lFj1gniRA6DQ5+Sns/89BwmpIVgwWHAO7SnIt/a1q5wZgEU6QXFeuPk7EKqvjs0b+f7lyKaZxsEvl1LzVMIKAQUAgoB3yGwvSecmg35O0JpUWD1xF7fgum5IFQEffM2uM9kb1suPqPjivNaYi4Jum/M1dVV29j98M2J7Z0KkT6+PDooCzAIPDkDiyrCr+9uISXKC813BZgQVSAKAYVA4ENAJej+d89Ugu7H2I/acYNZh+56L3P26gbMyAPhosF/D6yLcM9AODYJ8raDsiM1X+kH7OSbozOHexQjcYzw1vlXsxUCCgGFgELAegQWloeHx6Cq3o7kqTk7wfC44PLLrPanu6+/UG7yERx/udAkf1IGVfY9wVv1mcc5+/A9k+tkpUrWBNZfr/JgPQLnl8LlNfDhMby7CylLQbnRMDW7vsHf4y6Ej279OsqDQkAh8FcioBJ0/7vtKkH3Q+yNUjey5JjqmamVK5Hnqz88rkvtREsGnS9YF+GR8bBvCGRtAP9M13zlGbGXl59+srVjQTImiGKdfzVbIaAQUAgoBKxDwMUZRieDnx+hzVGIm8lrf9NywZtb0GA9pPSe6HPS3ltM2nub3Emjs6xlHkJZKK9mGkT/jVdYcvIhrQonp0/5dNZdr5ptGwQG/fH7beSsmZ4XXl+H6vMhUw3brKW8KAQUAn8dAipB979brhJ0O2P/7qsj2y4/p0b2hPTdeJn1555SN3ciRlbL7PXK0jMuveOJ80MzvRzd13ZqLmzvrkvyiDQPUGrCIW6/+sLylnnIn8JywiBfx6ImKgQUAgoBhYBHBJ6eg7nFIExk6HkfQoT0GqWV9eHGVig7CvK29RbNytOOcunJR+83hM28H6tOP+K/dZfJnyIGy1vmNXOWGmY3BH45wrBYbu5lU0c2d8R2/AcOsyBfBygz3G4hKMcKAYVA0EZAJej+d39Vgm5n7NsvP8e2S881zfNLTz5w6+UX5jXKScn0cbxe+cQM2NUbMlSDmguti/DSGljfApIVhsZbNF/VZhzj3KMPzGqQg7IZ41rnX81WCCgEFAIKAesQODoR9g6CNOWh7grvfUlFlFRG5WwGFSd6OfbV5x/kHr5Pe/1U3xLEjmQdo/eVpx+pOPUokcOG5OLA0gSzhhvFOrSC9uz3DyFkGIjkw2/zq+sww2SjJH8nKD1Ux8a4MZ+6HNRbGbTxCkhXJ/fuzW1N0laZQiAoIKASdP+7iypBtyP2pg9Ipss49ClBnMjePCzt7g/Hp7jrG/d1mLd2wfJa7lh/myw8xcGbrxlbIzM1c3pRZu/rBdVEhYBCQCGgELAIgf/9A/cOQNnRkLeN91MvroINrSBJQWi6zcuxOy4/p+2yc6SPF5ntnQtZFI5ng6WPPcPAnTg5u3KkZzESRVf8JVaD+qcDkUmbnAXCx4C05eHzc5DEO2FOj0td3QBrmuh/z1gDKozTeWvE7u6HJVUhZhrocMrmYSqHXiBgbDlotgsSqyoT9T4J/AioBN3/7qFK0O2I/cyDdxm984a7FYRJ93TfEt6fPqxvBZdWQakhUKCzdRE+PAELy0L05NDpvOZLGH2F2bd/xfQ0L5jMOv9qtkJAIaAQUAj4HgGR1RyTXGfgbncSYvvQ320sh48QC3rc8XLd5Q6P6LPhMqXSx2FuI08SPF9EXHHqEa48/cSsBtkpm9EgBeoLP2qKFwicXQRb/vjNDxEGet71KLd6YCQcGgXZGkAVnV/mt8lJ7uTMECI09H0BwZUsnt3fc0LUNymjvkyZkZCvnd2XVAsoBOyNgErQ7Y2w1/5Vgm5H7JsuPMWBm69pkDcxS08+0lZKFjMCB7oX9X7VxZXg/mGoOgey1LYuwpdXYWZ+CB9T/5EH+m64zDKHR3QpmYouJVNb51/NVggoBBQCCgHfI2DUNo+SGLpc8llW8+cXGGlgUZd+dS9YukUtRFRDqmdPyPhaWXwfn8nMdsvOsv3yCwZVSk+TAmpz1yagmjox8gv86bj5HkiUGza0gccO0GIfiITqtY26JJ9I85makA4K27+zI3S+BNGS2DxU5dAEge094NQctz8U6wtFeiqIFAKBHgGVoPvfLVQJuh2xLzh6P0/ef2dVq7wcuvWaGQfvMqBiepr5dGptZOlttBmSF7Euwo9PYGIGCB4K+r/WHv6MUm/NCiRjQKX01vlXsxUCCgGFgELA9wisbw2XVlrW0jQhA3x6As12Q+I8nq4t1VtSxdW0QFIGVvK9vJqpcyOTe8fiKfm3dBrfX7Oa6REBpx96JYXTV4+vVZoCGavByIT6a1Jdd3wafH0FDdZBSk96no3PEQ03QIriCnF7IfD8Iswu7N579kZQeaq9VlR+FQJ+hoBK0P0Mag8LqQTdTth/d3Qm/cCduLrCuf6liBY+FHdefSF5rIiECB7M+1VHJtbldtqfhlhWnnD/+ASjDH3mUuoWKhwzDt5hzM6b1MyRkLE1bXOyYicYlVuFgEJAIRB0EZAfiNFJ4ccHaLIdkhYw71qlv1j6jCUJkGTAE7NHpZRRtq1u7sSMrOaNFJx5V6FGmSLw4BgsKu8ek/jZ4dk5ffMmVWlY8o/71yPFgy6XIUQoj1gurwO3DCowlry31F2xDIHVjfVKBlNLUQIarrfMjxqtEAiACKgE3f9uikrQ7YS9kfE2eoTQWoJutjl+hRHx9eG9HkFYK3XKXVxgSHTAFf69BZHiaFq2chJSJkMcZje0TW+i2denBioEFAIKAYWAjsDXNzA2hf7//V7p7N3mmLGktmA3KDnQ0xkdlp9j66Xn5lVtmbMmsOTEA/pvuqp+O8zEy6xhwhMTJSFcXg3C0C/J3fMLetVb4e66TKpY1CTw4aF7lyUGQKF/PV/m4Cg4OFJ/LUNVqLnIrHDUIAsQ+PoWxqUCV2douhPkNH3nfxArLbR3sMCRGqoQCJgIqATd/+6LStDthP2mC0/pvPICuZNGZ3WbfOav8vYuTM0OocJDn2c+9yOa49l4It/hDMRMhTE2pWdrDnhqjEJAIaAQsBMCzy/B7ELuOELMWunoJNg7EDLXhmomva8mkxstOMXhW68ZVzOLJvNpC9t++Tntlp0jZ5JorG2b3xYu/24fxvsfJrLO+n17t04wluEfCBZCT8jne7HBHzkhtD0G4aJ6jqFs9u8ZAKfngYztdvXvxtoeV39mIWztAnEzQ5sjusTatJwQOiL0fmKb5zd7xK18KgTMREAl6GYCZYdhKkG3A6jictyum0w7cAeLSwEfHIVFFdyxrlsd4sRM8PGRTiyTMCcHbryi6aLTZEwQma0drZffsTo+5UAhoBBQCPyNCBhlMONmgjZHzUfg8lpY19xbqbV/ph/jwuMPGoO7MLnbwhzuvaX2nJPmkZ3aYsGg7kP07OXU3NRa7ocEOfS/mLaoGccU66e3RAgJmU8VdkIoKC1uri7Q7TpENlTnBXVc/er6jIS+JQdBwa4gigwjDOoG/z30evPEr+JT6ygErERAJehWAmjFdJWgWwGed1ONbLf9KqSjRaHk5q9ybgls7qCTugi5iy1sZgF4eQUarIeUJTj78B3VZ54gSYzwHOpRzBYrKB8KAYWAQkAhYCkCxhO4VGWg/mrzZxvlM6Mlhc4XPZ1XfNxB7r35qpGU5kkew3zf3owUHpWSEw4RKWxILg8qYxOff7WTdS310najSeWctLaZ9pTvGQhC9pq1Hnx/D5lqWAbZzILw8jLUXKyfzCuzDQI/P8OoJHp5e6cLEN2gajA6GXx/B1ET6+0H2RoqmTvbIK68+AMCKkH3B9ANS6oE3U7YV552lEtPPjKnYQ5KZ4hr/ip7B8HRiZCrBVQYb/4870YuKAePjus9aBmqcuvlZ0pPPKwR150fUNo2aygvCgGFgEJAIWAZAgdGwKHRkKMJVJps/lx3OtcvIXhwD3NzDtvDmy+O7OxSiLRx5afeevvwzZGsQ/Zojm4NK0fokB7XtX6Vv8jDlOzwTpc/1cwzyTRr4RA5tjMLIGYayNUcMteCcNGs9arm39kLS6vribgQ9RltbnF4etbt37WWQPrKCi+FQKBEQCXo/nfbVIJuJ+xzDN3D26+ObOtUkAzxLSB6W90Irm3S+9DytbNNdEY2V5FqydEPIgMPAAAgAElEQVSYFx9/kHfkPkIGD8bt4eUIFswHVnnbRKG8KAQUAgoBhYApAps6wPklULQPFP3PfGycnWBoLJ38s/ttiBjb3VxXV1fS9NuJo7MLx3sVJ37UcOb79maki4srqfvt4JeLKyd7lyBulLA28ftXOvnySicYE5NTVtE594KR3yp8Xl7T2+bkVFcsS12oOssql2oysHcwHJ0AWepB1ZlukDw+DTe2wtlFeitC4R5QvJ+CTCEQKBFQCbr/3TaVoNsB+2+Ov0g/YJfm+eLA0kQJ54kEilfrzioILy5D3VWQpqxtolvfCi6tglJDoUAnvv78RYaBenzXhpQhfOiQtllHeVEIKAQUAgoB8xGQEzg5ifNGLs1LZ+PSwJcX0OogxM/mbpjIfKYbsFP725XBZYgYxnbf8bmH7+XV559s7ViQjAks2Hw2H5WgO1LKonf0guRFQErXPz+DGKmg4xn7XvOX17CtG1zfrPet97gHIWz3nrBv8AHU+/zS8NgBqsyAbPU9BnlyJuzsBekqQe2lAfQiVFgKAe8RUAm6/71DVIJuB+zvvPpMyQmHiRQmJJcHW9CnJ5q4IxOC4xfbaKAbr23Hf+AwCwySPHK6krLvDpxdXHHoU4I4kdUpiB3eBsqlQkAhoBDwHoEZ+eHVVai/DlKVtAwtYylt7WWQrqK7uS8//SDPiH2ECB6MOzaukio3+QjXn39icbPcFEktp/jKzEbA+FtsnBApPtRarJ+e29tcnGFsSv0kXemiW4f2iyu6+oKQ73W+BNGSePR3dz8sqQoxU0OH09atp2YrBPwJAZWg+xPwgErQ7YD9wZuvaLLwNGnjRmJnl8Lmr/D5JYxPDcGCQ98X5mvi+rSCUQ/VpM8x65DdfPjmxJ6uhUkVJ5JPHtTrCgGFgEJAIWBrBEYn1Ym/2h6HOBks876qoX4iWm4M5Gntbq49eUYazHPg6J03jK+Zheo2km+z7MID8ejZRXSNc6MV6g4l+vvdBRmr6WRFAyeN3y0eRFaSgxRhb39wBNL/o2+weGafnsGEdLpcnvY8FzqIAKAu429CQCXo/ne3VYJuB+yXnnxIv41XKJkuNvMa5zJ/BSMz75+kI+Z78HykwxzY0QPSVYbaS7Qxhccc4NG7b6xrm58cSRRhjLUQq/kKAYWAQsAiBKTcWSqmxP57YDlx1+/KqK4gMk8mdubBO2rMso9SR+/1l1hx6jEdi6fk39JpLLrkv3qwnGCPSQY/PrrBUHclpCnnd7AYic1kxeChoPkuN0k3v4si4KwkPABShi6HF8nMPEy5thlWN4SQYaH9Kc9Pz+UKJZEflRh+foJ2JyF2uoBz3SoShYCZCKgE3Uyg7DBMJeh2AHX0zhvMPHiXxvmSMLhKRvNXOL8MNrWD5EWh0Sbz5/k00qiZm7QQNNmqja4w5QhXn31iYdNcFEvjnmDIJ3fqdYWAQkAhoBCwEoH7h/WTuCiJoOsVy50dHA0HR0COplBpkrv5S04+pP/GK2ROGIXNHQpa7tubGQuP3WfwlmuUTh+HOY1y2tR3kHb2/CLM/iMJ9ITgz+4YfHgEG9rCw6OQogQ0XG/3JQPsAlKCLqXowUPCgLc+hymbajPzg2BYuCcU7+v9nHkl4clpiJMJGm2ECDF9XkONUAgEIARUgu5/N0Ml6HbAvtOK82y++Iy+5dPRsrAFGuj7hsKRcZCzGVScaLvI7uyDpdUgTkZoe0zzW3fOSU7ce8uUutmonCW+7dZSnhQCCgGFgELAZwQOj4P9QzXpS63c2FJzmA07enoosz11/x21Zp/QvBVOHYv/NbNtf/Pxu2+oN9eBpDHCc7BHMUuj/nvHHxkP+4a4v/5BJqfpfonMk7MwrzhEiA09bvvlygFnLaloGBLdLR5RzklRzPOT7u8fdDLHE9Ph2Tl9U629A4SOoM0/fucNu6+9JGG0cDTKl9RNflD7jIo6gyskyguNN9uudTHgIKkiCcIIqATd/26uStDtgH2tWSc49eAdU+tmo5Ilye+aJnB1g+21UJ+eg7nFQAhp/r2uXXGr/53RflCG/ZORBnk9ITixAy7KpUJAIaAQUAgYEDDKX/pWUvPSaljfEpIV0R/8DTZt/23G7b6l/Wt163zkTmaShNgA/LdffpJj2F5EnfPqYKUCYjakcnoup+hFe8P1rZC1nu2kVM0OwjDw5xcYmUD/R8/7EN627xFLw/GX8fePwGL35IqEiQK9H7kPRxjw5d4J475mwfRKxKR6ZcoPJ2dE2eDTj1/av2VTbH7jnIQKEVwf/uwCLK4MPz9C1gZQZRrah0eZQiAQIKASdP+7SSpBtwP2Rcce4MHbb6xqlZc8yWOYv4LxB7zOckhbwfx5Po18/wAmZ4GQ4aDfC2109zUXWXv2CT3LpqFd0ZQ+eVCvKwQUAgoBhYCtEJD+1LEp4NtbaL4XElnAVWKM4fYeWFYD4maGNkd+R/bf2kusOvOYriVT07mkQWfbVnEb/OQctoc3XxzZ3KEAmRNGtbH3IOjO+BssBLBS1h4QSp0nZoKPj/5eRvcDI+HQKI9vtn6v3RO67R0ERydCiNC6Tn3aivpJu8GkWlKqJsVChwyO4y8XZtbPTrlM8dx8SxWjfFaF9V3UdEoMUEl6EPyYB8VLUgm6/91VlaDbAfv0A3byzdGZA92LkiymXgLlo7kjFHGA2Gl9nGL2gB+fYFQifbiwiYYKx+AtV1l47AFti6bgv7I2XMvsoNRAhYBCQCHwlyIgMk2zCuhEU70e+a7s9ckZmFcCoiSGrpd/A2lsX5pQKwvVshtI6GwMc725Jzl+9y1ja2SmZk7Db4uN1whS7oxKKiY8MP5+fctqwu3dUGEC5Gru7+HYPIBfjvqpd7SknrteWR9u6Jw87qzlAYgUT68qcHaE8enA8TPUWQFpy2tDh269xvtvjoypnpnGC09x7M5bOpVIxafvTiw6/oC6uRMzslom935PzYXt3fW/lR0Fedva/JKVQ4WArRFQCbqtETXfn0rQzcfKrJFffv4i48Bd2lgp/4sQJqRZ8/j6Rj9RkfIpLYm2oTa5JP9DY4LLL+h6DaIkYOKeW0zed5v6eRIzvOofPyTmRaxGKQQUAgoBhYBvEDg8FvYPg9Rlod4q33iAt3dhanYIHQn6PPnto+Do/Tx5/521bfKRM6l9Spd7rr3I6jNP6FEmDe2LqQosb2+g4zeYlFGvlqixADJW9939tvWs3f3g+FS9D73NUYgUx9Yr+K+/PQPh2CSovRTSVfIYy+Ss8P4+RIwLX/TKQs1Sl9P7zSPHh3ztNZ4Hp8iJedfcgThRwvPgzVeKjjuoDc2ZJBpnHr4nZPBg2oHM7VefabboDImih+NIz+Ie1xS8BffQEaHDGYhscsruv2ip1RUCniKgEnT/e2OoBN3G2N99/YUS4w8RMUxIrgwuY773Rw6woDRETgjdrpo/z9yRY1PC19f6D3HcTCw4ep8hW69RIXM8ptfLbq4XNU4hoBBQCCgErEVgbgl4egYqToKcTX3n7ds7XbZLrP8bCBEKJ2cX0vTbgYsrOPQpQZzINtzoNYly1I4bzDp0l6YFkjKwkoX67b672sA76/xS2NQeoiaBjucghJmb9va+4gvLYaPhFDdcNKi3GhLZllDQ3pfgrf9BUfSXPWNo13rwpbrEVS/xX1kX5G+uzp66XOtcmFFhOnGqT0nthFyenUytdeHk9C6fjq8/f5F1yG6cnF21XvRUsSPyb+nUhA9tuOcuLvpznjC7524N5cf4K0RqcYWATwioBN0nhOz3ukrQbYztibtvqTv3JMljRmB/96LmexdyOCGJE6ZP0Sa1tU3LDW9uQuMtmt7nxvNP6bLqAgVSxmBZi7y2Xk35UwgoBBQCCgHPEPj+HkZLYu0K3W74/hTNlIW6+x2IGItHb79ReOwBwoQMzvUhZQke3D5kVHMP32P49utUyRqfyXWyqfvsHQLrWsDlNVDkPyjWJ+BgJXrs61vBg2N6CbdU78XLAjFTQdnREMEC/pyAc1V6JFI1ONiEG0EOPor3g6x1wem7XmouGycR40B3nVCRB0dhkYH7R9pGPj3Re8aBXk4tWOlcnJ1dCjF823WO3H6j/V0+XoVSxWJG/ey/qyWbLjzFgZuvfyMypkZmapm2gRi5I2RTRDYHYqWF4AZCuYCGo4rnr0dAJej+9xZQCbqNsd904SmdV14gT7LorGqdz3zvp+fBtn91ApI6y8yfZ+7I+WXg8UmouRgy/MPBm69osvA06eNFZnvnQuZ6UeMUAgoBhYBCwBoEjL3jkRNAN/cncRa7HZlYZ4dufxpipebo7Tc0mO9AilgR2PevBRvEFi687uwT/l1zkUKpYrKkeR4LZ/9FwyVRnJBe74VutBmSFwl4F+/4Vdf2FiI7o8XOAK0PB5zTfktR+/wCxqfxOEuqBJ6ehUOj9deSF9P1yY12/zDIxleSArChla6qA5T6OYbbru75HPZ2K0zi6BHcJNUMPuQUXaQOl558yL4br2hWIBkDKqV3W8P5F0xMD19e6n+TjYPCPSy9QjVeIeAnCKgE3U9g9nQRlaDbGPt5R+4xbNt1TVtcNMbNtkNj4cAwnSW08lSzp5k9cEVduLld11fP2YyLjz9QZfox4kUJy4neJcx2owYqBBQCCgGFgBUIGOXRbEEYNikzfHgIzfdo5ckrTj2i9/rLFEsTi4VN7VeurDZ4zbz/Rvb24KF0MsDQ4c2c6MfDjBV8pstWnQNZavtxIDZazvQ03NRlzmbw+BS8vKL/tdpcyFzL80VvbIOV9bTXkv1Yiiv6KbcopLWSkvZy6bwNdtXpR/y37rLnm1hGZnjxkKYC1F1uowtXbhQCtkVAJei2xdMSbypBtwQtM8YO33aNuUfu06JgMvpVNNk19Wnujl7gMBMKdIFSg30abfnrG9vDhaVQvD8U7v67FDJsqODcGFrOcn9qhkJAIaAQUAhYjoCR0dsWm7Gzi8DzC3r/cOoyjNl5gxkH79IoXxKGVMloeWxmzrj85COVph0lTuQwOPQpaeasv3CYsc87UR5ovjvgAiAn/dc3Q/QUOrP7vsEQI6VemRGYyq/f3IHHDvDrB2zrBonzQ9Fe8OERbO4AMVLB29t6OX+Pu96X8bu64nx6Ac22vOOQk9uznLnEiOcevafajOPEjhSGU33/+IwIw/yWTnBxhd5WINUKyhQCARABlaD7301RCbqNse+88jybLjyjT/m0tCosrOxm2rqWcHk1lBoKBTqZOcmCYbv7w/EpkLcdlB3J5x9OZBqkPzBIr2K40CEscKaGKgQUAgoBhYCvEJC+30uroOQgKNjVVy5+T/rfP3DvAFSdDVnq0GH5ObZeek6/CuloUSi5db69mf30w3cKjNpPqBDBuDWsHMHkWFGZRwT2DYEj4yFXS6gwLnAg9PMzTMigt040WA8pA1GF3axC8OKSG86G5x0enYQFJqS9CXNDiz0+3o8bLz5RdtIRQocIToJo4TTy3zVt8hE2lM/PS6bPWOf7lyJahNDu13txGWYVhPAxoeddH2NRAxQC/oGAStD9A3V9TZWg2xj7OnNOcPLeOybVzso/2RKY731pdV3ao8oMyFbf/Hnmjjw2Bfb0h0y1oPpcXF1dSdV3B79cXDneqzjxo4Yz15MapxBQCCgEFAK+RWBeSZ3F2cAH4ls32rw1TeHq+t+6ytK2JO1LsxrkoGzGuFa59m7yDydn0vbfqQ25NKg0kcOGsttagdqxsLcLGZmhci3QXMuO/8BhlkYoq7HPhwoP5Ubr9d0B1UxJE40xGlUSvryGcSZygEX7QNH/fLySbZee0375ObIljsr6tvk1dYQQFhAvyiaWbGatapWXPMn/IN3TyCINGu2atK56BvPxhqgBfo6AStD9HPLfC6oE3cbYFxt3kPtvvrKyVV7y/vmF7N1ac4rCs/NQdyWksUPJubHULkVxaKgTn+Qctpc3X36yrVNBMsQ3SJLYGA/lTiGgEFAIKARMEBiTAr69gdZHIF5m66DZ2hXOLIACnaHUELIP3cO7r45+8p2efsBOvjk6c7B7UZLGjGDddQTV2UtrwJ09UHkaZG8YeK7y9S2YLhwGrm4xd74E0ZIEzGuQBPz+IVjX3C2+8DF0WbtwUXVW95GJDGz1QNOdkMRnEt+p+24zfs8tauRIyLiaWSy+9uaLTmtEcZ5WVEpMIxKA01c9zhgWVFxaHImaoBDwHQIqQfcdbraYpRJ0W6Bo8CGn0ukH7OK7ky8eWiZl0vukDGQ/NgxLd2WU9oibSddCB0pPPMStl19Y1iIPBVLGtPmSyqFCQCGgEFAImCAg0lajEut/6P0EwkSyDp5z/4PNHSF0JL62OEqGCVc1f35xql1w9H6evP/Ourb5yJEkunXXEVRnG0uu662B1KUD11WeWagryxi1wWv9D9JXCZjX8L8qcO+gW2zJikCFCRDT5NR8WFz49V0f0+8VhAzj47V0WXmejRee0bNsGtoVNfHl40x9wMJj9xm85ZrXqj5G+dtGmyC5/VQXzAxXDVMIeEBAJej+96ZQCboNsf/43Yksg/W+7htDy5rVp/R7+REJ9d1de+2kPj0Hc4tBpPjw73Vt2VqzT2hyINPqZaNi5vg2REK5UggoBBQCCgEPCNw7BP+rDKLL3E1Ppq0yKetdUBaenOJ9ugZkO1+eqOFDcWGA/ZPBKtOOcvHJR+Y0zEHpDPYrp7cKH/+ePC4NfHkBrQ5B/Kz+HY3l67+7B9u6w919ULAblBxouQ+/mDHIpAIwRxOoNNnjqqZjBn00K6rK045y6clHZjfMQRlfvMcfvf1G4bEHtLL4c/1KESX8H60gS6rC3f32a2006yrVIIWA1wioBN3/3h0qQbch9jdffKbMpMNECReKiwMteEASRs9hsfRIet6H8HY4jfjwGCZlBJF76f9a6yVrveQMu66+ZGiVDDTMZ+iFsiEeypVCQCGgEFAImCBgZHDPWANqzLcNNPKAv6QqjmGik/bjFDImjMbmDgVt49sbL80WnWb/jVeMqpaJOrkNVQF2XzUQLSCbJ0Nj6SfQ/96ESIF0E0NO0rd28agZHlBuxfcPMNqk9N4r8sXzy2BTO/hnJmTV5dO8M6mIzDhwF18dndnbrQgpY0f0aYqnr5eacIjbr754/pwl1S9SBWNmT7yvAlCTFAJWIKASdCvAs3KqStCtBNB0+qFbr2m84BRp40ZiZ5fC5nv+/ALGp4FgwaH/W/vImjh9h+GGBwTRYw0bhd7rL7Hi1GO6lUpNpxKpzI9XjVQIKAQUAgoByxFYXFnvla0gzN4tLJ/v2QxnJxibEn58oI5jP2JkKMH0+tlt49sbL8bfjw7FUtK9TBq7rxfoFvhNTBYM+r+BECED3SVoAQs3jnDkhIumHyAEBKI42fzY3gNEZ75ob5hvkDELE1lv4fOsV156vr+9815azeQOvfj4g7wj92mn36J0EzqkroNuqc07co9h265rDPA7OhciUfTwbi4OjoaDIyBzbag2x1LXarxCwO4IqATd7hB7uYBK0G2I/erTj+m57hJFUsdicTMhWDHTXl6FmfntL7chhCSOX36X0Y/eeYOZB+/StEBSBlbKYGawaphCQCGgEAjECMiD+oY24OwI1eaalThtOP9E+64cXT0z2RJH893FSyI9KolOCtX2BMRx01b2nUOTWRvbw4WlLPhVlreFBtOjTFqrXfrkYPHxBwzcfJViaWKxsKkFv3c+OQ4qrxtltCLEgh53Au9VSYXfiHjg8gu6XoMoFqjT2Pqq5bN7aAycXQifn+veM9eBSyshXlZoecDqAw4XF1fmHrnH26+OzDl8Tzs5lxN035qziyu1Z5/gzMP3VM+ekPG1TMjmHhyFRRVANha631JM7r4FWc2zGwIqQbcbtD46Vgm6jxCZP2DKvttM2HOL2jkTMbqGBey89w/D4koQMw10OGX+gpaOnJQZPjyEZrshcR7mHr7H8O3XqZwlPlPqZrPUmxqvEFAIKAQCHwLPLsAcwwO39KpKz6oP9s/0Y1x4/IEEUcOxvVMhj72kPjmQ140JW5go8N8DqxMJd0teXqsxWF90Sc6dKluoniOhORFZNebsw3dUn3mC2JHCcKqv4QTTKo9BbLLIpop8apyM0PZY4L64qTng7R1otBmS+z5ZtRoEoxqNZ46EwE6I7Ky0tWef0H3Nxd9eauZIyFhfMLibhiHfHfIdIqfxonrw+xTdxQUmZ4GPj6DGAshY3cro1XSFgG0RUAm6bfG0xJtK0C1By4exvddfZsWpR1q5uJSNm21X1sPappA4HzTTtWXtYnNLwNMzUHsZpKvI5ovP6LTiPLmTRWd1a58lR+wSk3KqEFAIKAT8EgFjH7isGTEudLkMIUN7GYHjLxetF9XR2UUbUy5jXGbUz04wS0t9DUm0Xb7nRQFkUiacXENwrck1siSzf7/z15+/yDhol6ZgdbpvSWJF8pkV2y9vs7+v9VvatAQ0XO/v4VgVwPLacGunzoyey0TKzCqnFk52/gVjk4MoIaQsCalKw46ebk7yd4TSwyx06nF4q/+dYfe1l79fGFE1E/XyWM+x0GCeA0fvvMFDS8i+oXBkHKSrDLWXWB2/cqAQsCUCKkG3JZqW+VIJumV4eTvaSJpj8Rf6iemwqw9kqAY1F9owoj9cGX9kDadGZx68o8asEySMFo6j/xW337rKs0JAIaAQCAgI/PgEchr49ZVbNC32Q8IcXkZ38fEHqkw/RvjQIZBk/ZeLq5agl88Uz7IrMj6Ie8UybZk3d6M/f3fk+6hUxA72ga/1txIhVSErvJk/tcT4g9x9/ZVFTXNRNE1s8yf+DSOPjId9QyBLPag6M3Bf8a6+cGIa5OsAZYb7z7Vo2uy5IFQE6P1Yj0G4e76+1v+//DjI3dKq2L47OpN96B5NKtdo0jeeLp48Kltn684+4d81F8mYIDJbOxbi4zcnFh6/T+z3F6h3taXe4iitEJZu/FkXlpqtEPAWAZWg+98bRCXoNsS+/OQjXHv+iYVNclEsrQUPK37142foU6R4Pyjcg2cfvpN/1H5ChQjGjaHltPIrZQoBhYBCIEgiIESZU7IZeleDQbws8PwClB0Nedt4ecn/O/GAAZuuUjRNLFLGisi8o/c99pKaA9jK+nBjK5QdBXnbmjPD7DGyifB8Tg3KhjgNpYZCgU5mz7VmoFRgSSXWv6VS01ERjbqHcmkNuLMHSg2BAp2tgdn/556eD9u6QeqyUG+V/8RzdSOsaQwJckDL/XoMZxfDFsN7ve4qSFPWqtiGbr3G/KP33fm4O6K8TZ6N3nz5Sc5hezXfp/qWYOGxBxqvRWicuBquBaFcnaDDGYipCHutuolqsk0RUAm6TeG0yJlK0C2Cy/vBOYbu0YhFpEcxfXwLdlzXNIWr66HMSMjXzoYR/eHKeIKTszlUnMAvZxdS99uBiys49ClBnMhh7be28qwQUAgoBPwTgUcnYUEZPQKpIhKW7QPDwAfJsy4rz7PxwjM6l0hF1kRRabroNMljRmB/96KWXc3UnPD2NjTcAClsW7EkJHY31w6lV6iV9q/EMrnqBUfvM2TrNYqnjc2CJrkswyMoj5bNoNFJ4dcPaHcSYqcL3Fd77xD8rzLESAkdz/rPtRwYCYdGQbYGUGW6HoP0V2zpDPLZbr4bwkX1dWw7rzynzdJz2vyJtbOw99orsieJRvOCyXzt88+JRl310dUzaQR0Un0itjr0EHIHvwGVpkCOxjZbTzlSCFiLQFBJ0NsDPQBp/hKGiY6yUeYNODWBoYAIUN8G/gO2m4yX48zBgNTsyLeOsIzItruMNZoIZk+Vxw1AGuTWAbJV+8XMm6ISdDOB8mnYz1/OpOmn94+f61+K6BG87mn04Gt+GXh8Emouhgz/+LSU71837jZL/1YDeatAvpH7eP7xBxva5fc9O7HvI1IzFQIKAYWA3yBwai5s7w6pykD91XDvIPyvCkRNrPehe2LyvS6nXp9//GJlq7yahGbWIXss/57/9ROGx9M1sbvdgMgWlsf7gJAoctw8vIYFocdBnEzQ9qifYGokv4oaPhTn+5eyvC/fT6L0h0Vu74FlNSByQuh6JfCXLX98ChPTQ/CQ0PcFhAjl96CuagjXN0OZEZBPHrdtZ+++OlJywiHkv22KpKBXOfuoIEw/cIexu27+DlyqF+VgpPbnxXQMuTFotEPY7rYoTwEAgaCQoNcGhD5S6uQcgC6AJOAiDmrS7PYb7fzAYaA3sBWoZ0jQRbz0imGUJOzyumynSc2NJPOZANFm+WEYswOQX/rWgHxjSgPzaYM/c26tStDNQcmMMY/ffaPQmAOaVubNoWUte1CZmEln8Wy+FxLZ8RTC+EAaMzV0kLcJVJ95nLMP3zO9XnYqZLbtQ6MZsKkhCgGFgELAbxDY1AHOL4FC3aFEf5B+9NFJwNUFmmyHpAU8xLHx/FO6rLpA3MhhOdaruFbqauy7nt84JyXSxTEvdlMG914PbZ6wNZzvwKM7VzgUphuEDAt9ntuWJd6Lq5Se/EyDdvHzlwv7/i1CilgRzcMjqI8ytjPkaAqVJgX+qxW2cSFo+/4eqs2DzPJ468dmZJK3QwWKsT88eawI7Oxc2Nea5z4h8uXnL4qMOaBVWooVShWTAiljcmHX/5gVehJO8XIQqrWhfN8nZ+p1hYAfIBAUEnRJyiXj6WDAKzggLBZyuj3KEwyliScCUNHktZPABUOSL6fnz4QCAxhnGBMFEGpJ0YRZCUjN1DVAMrozhjHSgCOn8KKxIvN9MpWg+4SQma+ffvCOmrNOkDh6eA73LGbmLKl7cIFhsfxGY/TdPb0HUx7gZBc8WDA6LD/H1kvP6VchHS0KJTc/bjVSIaAQUAgEJgRmF4bnF3UpJpFkEtvUHs4vhcgJoOM5COXW5jNh902m7Nf1q1sUTEa/irpueY81F1lz9ollJ21nF+mluMkKQ+MtNkXN1Z1QmAYAACAASURBVNVVO9X//P0nd8I3I7iLI3S+CNGkOM/+VnPWcU4/eM+YGpmplTOR/RcM6Cs8coAFpSFYcF3vPrZ9TmP9HIbDY2H/MIiWTO+VDhHS70J4dx+mZtc30/69CZFsq1Ig8rgik1s3d2JGVpNzMPuZtKP0WHOJmBHDaJ+ZHEmi8e/kxcz61o0vIaMRsd8D+y2uPCsELEQgsCfoUsv8DagBbDS59sWG0nTDk4A7VB4BEwDTrVUpZ5f65iyAZEp3ARGnlqTdaIcM/5Yy9maGBD6ayevyjSmn67K9ucGT+yA6KKZaKJGAJx8/fiRyZAt6pi28wX/D8C0Xn9FRJMuSRmd1Gwskyz6/hPGp9R/zfq/t+6P3yxGGxzH8yN2CSHEYsf261gvVrEAyBlTSH0A1k96uu/shenKIbrserL/hvaCuUSGgEAhgCDg7wYj44OwInS64faf9/AKTM8O3t9B8DyTKrQX+w8kZ4RT56uhMpDAh2dKxIEljyp46GHWSpR99Y3uPp+6eXrlxI6DQv1BigE3Befj2K0XGHiR0iODciD+Y4K+vQ/21kKqUTdfxypmRWMvDb4ifrB4AF9nQBi6ugGwNocq0ABigL0OSz8r4tOD4Gdochbj2TWTdPYuIAs3tXZC8GDQyfcz25bX8Ma3bqgusP/+UnmXT0K5oSts49caLi4srwU1IeXefvUHpLXn0GX2eQWj9u0aZQsC/EQjsCXp84CkgZesnTMAcAxQBDJ86dzBLfYuUrq8w+auwgw0EpGZOfEnPufh+bjJmtaROgJTU9zH4kDJ6U5OSevHjma7HIMNr7iaoBN36j8Dcw/cYvv06lbLEZ2pd2Vcx056dhzlFIVJ8+Pe6mZOsGDYhA3x68rucftGx+wzaco1S6eMwt1FON8dG6bcoiXRSmJBK49YK1NVUhYBCwD8RkJNzOUEPEwX+LDFfUg3u7tOJ40QCDdhx+Tltl53TSttP9C7urmXp6YfvFBi1Xyt3vziwNBHDmHGSOD0PvL4BdVdCmnI2RcK4OZwlYRQ2xZ4D1zbZpU/Xq6CNLPcefkNsepWBxJlsbEsS++UFNNoMyeURMAjZ3BLw9Iz9+XJMITs+DXb3heChoO1xiJXa5oDWmHmcMw/fM61eNipmlsduv7Xrzz+RYFYaIgf7FjRIBf0WPrWaHRFQCboOrl8k6OoE3U5vZOMpQstCyehbweQk2qf1bmyDlfXcS4f4NMea1xeUg0fHofp8yFSDo7ff0GC+A0ljhOdgD0Np/tu7ejmZqWWtD+VGQxgpulCmEFAIWIqAaOzOOnQX6UMUEqJQIaQTSpmfIHBmAWztCsmLQqNN7pc0ylzmacMomnLo1mvk1lx5+onWRZLTu5xHBu7CYw7w6N03SqSNzYTaWYkSzo00y8nZheUOjyiQMgYpY0eC7x/0Xnex7ncgYiybXvKgzVdZdPwBDfMmYWjkTXB4DGRvDJWn2HQdr5wduPmKpgtPawR6O7sU9pM1A+wiL6/BzHwQMpy+ERTUNrbXt4JLq/QqEKkGsbe9fwBTpLTd2Uc5RGtCyT18L68+/2RzhwJkTuh7JnjfxiC/CQ+G5yBj8Ad8q7GM8BlNu19961XNUwhYj0BgT9ADU4n7n3dL9aBb//7VPLRffo5tl57Tv2J6y2Q5jA+OaSpA3eU2isYbN8byO8MP7OvPP8k1fK+0o3NtcFnChQ4BV9bD2qYenSQtBE2E01CZQkAhYCkC9eae5Pjdt9q0Yf9kpEFeQ9JmqSM13nIEfpeYGwjiTD1ID/qm9rgmK0Ky68K3qpt8JwphVJq4Hjcle627xMrTQjOD1h7UIG9i+my4TL08Sbj3+guT9t7WpNiEOC3YvQOwpKreEy694TY06T8vOu4gD99+Y3bDHJRxPgLrW0Di/NBMOGTtb3defdEYsKWS4PKg0pYRpNo/PL9d4cgE2DcYUpSAhuv9dm2/WO3gaDg4ArI2gH8MUmf2XNe4eZasiL6xJh9KG5tsnKYboCvwXBhQiqjhLVDgsWEs+waVpgQOPM8/mHilhWdamULA/xEI7Am6ICgkcSKpJtJqYnI0In3m0oDkFUlceIM8mvEOHAcu/UESJwRxQhQnJsm0lK//SRIndclGYcrSgHzTKJI4P35f+5oN3fiDJ6WVUmJpb9s/XD9hMWihywNejmF7NXmR37vHJ2bArt6QtiJEjg9v7+j96GK9HkFY4StUphBQCJiLgHy+sg/V5bnEhCDoSM9i+oaYMvsjMD0vSG92nRWQtrz79Z6ehbnFcQ4fixTv3L6DtRPpfzJ6GpuodtSde5In77+TLGYEUsSKwN7rHgVbVrfOR+6Hc/WkJlMtqD7XptcqmwHFxx9C5JouDChNhLdXYE4RCB8TegqNjf1N+vXT9tcTHJFai2aJxKj9w/O7FYSpf14p+PUdKoyHXC38bm2/WunyWljXHBLng2b6PbebPT0H//sHfn6EeqshdRm7LHX75WdKTTxMpLAhuTTQ/zaYNoxuStXv63mQqglJ6k36uze67HKnlVPfIBAUEnTpCRdSONl+l0Rdtr9qAULfKczrIsEmfeoimyYmPeZC+NYL2AbUMfSU/ymzJq+byqxl9kRmTXrWRd7NKLMmjO4i22aOqRN0c1DyYYwkudmG7uHDNye2dixIxgQWJLDbusPpuVC4BxTvZ4NofHBxeh5s+1dPvuss0wbXnXOSE/feMrZGZmoKC+/ufnB8KuRtD2VH6A6lr+7zc3dESvYPVq2gEAgaCBy784b68xyIHyUszq6uvPz0k2Ut8mgSO8rsjMDPzzBS2MVd4V+dHNOdCfnVyATan7L/mMU7IlMzR0KNNDNSWK/1nj//cCLbkD38chFaGM8tW+KorAw/njAP9kG5sZCnlU0vds7hu4zYfoOCKWOytEUecPyqk+GJ9bwP4aPbdD2vnBlLhDe1L0CWRH5fIuwnF+nTIhvbw4WlkKK4TtIXPAhuvknSPLcYRIgNPW77hIjvX//wGKbnBqdvEDcztDpkN9nAvdde0uJ/Z8gQPzLbOhXyfcxWzlw9oz+1Xk3hZtgsNHYeQPnM8Xnw9iv5U8TwU4UdqYhJFD0cYUIGwfevlfcIF2f4+hpWN9I3qUoJt3fQtqCQoMsdEom1HoDoPwjzeifDybq8dhAQ7QSdgUY3YVofBogWinzT9TRIpBlfl1oeufvyiy6/eEcNfeq3THzIr6+c0lcSwS5gnWHdL2a+ZVSCbiZQ3g178+UnOYf9USZurt/VjeHaRig3BvK4lVeaO93icde3wqr67nrejT2Mv6WE1rWAy2ug9DDIbygKkZ1sKdWsNAVyyJ6RMoWAQsBcBOYducewbdcpkyEOwYMFY8eVF0ra0FzwrB13/zAsrgRCeNn1iufeJmeF9/dp4NibsGlKMK+xqJf6bNVmHOPcow/awHIZ41IrVyLuvPyinap3WHFOY4O/Eq41EV2/QMsDkOAPbg+fl/ByhPguMvaAttkzvGpG6ucxtExMzAgfH0OzXZA4rxUrmD/VWEE2pW42Kmfxe5It8yO148jFleH+Iag6G7LImUsQNFM+hV6PIawP6j9OP+D5BUiY27IE21jaHj87iO55OPtt+vRce5HVZ55om3Jja4qIkv/Y3A27aXyhDqGDOdPGsQs7XXRFCbEbQ8sSNpT9E+bjd95Qb54DFTLFY3p9231X+Q+iNl5VpP5mF9ErOozW+gjEk3PToGtBJUEPjHdIJeg2uGsn772lzpyT2q7jkZ7FLfO4sAI8PAo1FkDG6pbN9c3oJ2dgXgmInBC6XdU8rDj1iN7rL1MoVUyWNM8DxpgMRHLaoJ294eQMyNsOyo70zcq+nyM/8nv6Q4jQIAR2MVNB6aG+96dmKgT8GIFuqy+w/txTupRMRYhgwRi/5xbVsiXQCMaU2RmBoxNh7yBI/w/UkkI3T2xtc7iylrFOtfhVsJunxHCeTTOqdwhBmlRExIjopnZx7dknOk5dyb4wPXANGZZgktCE9L6/deeV59x785W2RVL4WOK6+PgDBm6+SoKo4djfvYjbiZf0uxtbkuqvg1Ql7QwwdFl5no0Xnmnr/LVJupGpv+FGSGEgXLU78v6wwNiU+ilii32Q0ET55c9QvryCZTX1BF02+mXD3ycTFvxzi2GLKAlLLaj9Stul93zSvlvMPnRPW2ptm3zkTOo3FSeewbD69GNebupHx5AbOeuSiuqObqezS5rnplAq25JLehZDy/+dYc81KfqFuyPKa0oVygwIGNUETAExqUQNqjipBN3/7qxK0G2A/ZKTD+m/8QrF08ZmQRPzTl5+LzstN7y5CY23QDI/YMCV0rFJGXXJkv6vNdKVsw/fIycgsSOF4VTfkjpr6ru70GQbJC2oh3pWfjQ72U2H1Nvb4DAHdkhxiom1Pgzx/G+32wZvG+UiCCIgRJGP33/TNrsyxHdrdSk3+QgipSNEXiGDB6P54jOkiROJXV394DMfBHG26JJWNYDrW6DUUCgghW2emIF3Y49zDj5UWay3+phhjr9cOHrnNXmSxSCCJ3Jr60c1odqPDbyMlZ847b0mbZM2qfffnH7zFGi968m8TxY6rjiPSKz1KJOG9sVMtJu3doMz8/XoY6aGDqfNuBLrhghrvZDkiVXJGp/JdSyQGrVu6YAze1QS+PEh6MtkLa0Od/ZC+XGQu6Xn+D8+BfK5+6Ine5q1c4DY0vXpjZ1fBptE0EhEhrNBi/2Wnbxb8G6YefAuo3fe0GakjhORXV0K+7gpZoF7i4d+/O7E3E176X6jDo6EIsOP+TihSzgKEaW03Njb5DMsn2Wx9e3ykz1xNHsvGXj8r6gLN7fr8Uo76v5hECIM9H7i48Zr4LlIj5GqBN3/7p5K0G2A/cBNV1h84iGtCienT3mPkjzeLjE6GXx/53c/6r8cYZhhJ7bHPYgQA+mlzDRotxbm+X4liTY5qd771fEcxEihh//4NMw3nMRkawCVp9mFUdUDVhLvlKzwSSgcTCxhLqizHCLGtsEdVC4UAtYjcOvlZ0pPPKw5Etmtk71LaCRwH745akoJTs6uGjFcyBDByDdS19G+OriMn5QuWn91gdjD+HTw+Rk03QFJhP7Fo7k+PEGwhWV57RqFJ80ukC2JFSdpX9/AqoaQvgo/9wwhjPNXZiYYRduWbT1du/PK8+y4/AJHZ+lS081D0u3JzCrTjnLxyUdmNchB2YzSWWewc/+DzUa+WmDAe7slOcYlZYNh5qG7jNl5k1xJo7Gmjec4B+J3kfehS5XXcAO3wX8PIFwQTmwkMTk81msm9+cX9So8x88QKy3IqbgcQghpnpDnmZr09J6ao7PeR4gJU7Lpmxx52kKxPj6X0Fvxhqo1+wSn7r/TPKxrm48c1nzmrYjD3VTBanRSDYOKP4dxxTW59nISkcHtXtTuGwimJ+hS7dWlpO01520FlZ/6cXGBMcn096ZUjiTI8fs+0eqgvpkURE0l6P53Y1WCbgPs6887ybE7bxlTIzO1zDx50ZZ1/gVDYxieyO7qP1B+YWOSw7e30PY4xMmgrVhg1H6efvjO2ibpybnSUHbb5zmEFrEBwPEbTM2hP+iKNd8Didx6pOwW9pV1sLYZRIyrx/v+vl6iLyZas7KTmV/oH5QpBPwXgaUnH9Jvo1uP8/iaWaieIyELj91n8JZrpI8nJER6RYpROUFYwmvlTKgIeex16z49hwlpIVhw/aQjdARPV3ry8g1xZ6QiZDAXfnS8RNgYVkjgGRMYw0p3XeJRJ9RkTvXzyBD9J7u/MbiiaWKxqKn336/ZhuzWTt23dypE+vgmvcCSLDrM1Mv6xUw3Wu2Fs2zuPnpP1RnHNSLE470N39F2XC9AuX7/ECZn1k/U+r30m81r/wLgxjZYWQ9ip4d2JzxGIZtT1zdDkoJQfzXcPaDz3sRIBR2Fw9jEzi5yK2evOBG2doVY6aDNUQihnx7bw0wJHg/3KEbiGIbnHHssZqnPJdXg7j76OTVlR9gKiEb6z18ubOlQkEwJLSAgtnRd5NzlKJee6D3WUsEjlTzKhOr7KszMD6EiQK+HECIUGO5TkFVsMNx4laD73ydAJehWYu/i4kqWIbv5/OOX5V+gn1/C+NT6w2P/N37H+jojP7y6Cg3WQUr9VLz5otPsu/GKySXCUeVYVV1KTSTVTM3pOyyvBUK6lLkOVJttJXpmTDf2UxbuCcX76hNEp/34FHh2Xv93hzN6X7oyhYA/ItB9zUXWnn3yO4IcSaKxpnU+pLz95svPDKmSgUb5hBMUJu29pWlli0UIHYIdnQsHrIdEf8TRpktLcrDkHx9LvaVUPP264qQI/tz6dqOdfeCkm0b0pF81mPSrGkf/K0bCaO4TgdMP3lFzlp7kCCeBw/132kapmPS1L2+ZV2uN2HX1Bb3KpSV8aD1p+fTDicyGqqcrg8toGuQeTAiNpP+31hJIX9mmsHrm7NWnH+QesQ9pW705rByhQoja7F9ijxxgQWmImhi66KX+QdY82/SSk19J3J+e0X+fPzwEI/+BEMvJ6aOrC3S9BlF0xQTNNrSBiyv0/4+WFN4/gJKDoGBXu8K388oL2iw9q5E5Huhe1K5rWezcIIX7KkV1XCrPYOi2a0jr1G8SX4sdmj9BKr1ef/6pTZDfpcuDyhBc9aGDsfUiaSFoslUH1ChZnLU+/DPDfJAD2UiVoPvfDVMJupXY33jxibKTjhA+dAhNQzOkJQ8lL67ArAIQIRb0uGNlJBZMNya9VWZAtvraROnFkp6sAelf0uye7GKnhfYOHp0aSebkpEAS+FBhLVjYwqGa5qpoybpCpwsQPZmbA3kgEAKaO3ugYDcoOdBC52q4QsC2CJSccAiRqBFGbVFGkJL2lLEjan+T74cTvUoQJbwu2+Xs4kqr/53RNsXE+lVI56dSOra98gDs7cwC/VQudVmot8rLQIduvUZxhxYUCHEVqs6BLKKc6ktb0wSubvg9uV2U6Wx/GY3p9bJTIXM8d05XnnpEr/WXKZw6Fv9rllt7X2QdvJvPP39p42RTZ8AmncyzfbEUdC2ZWiORk973ilOPEiNCaM72L+V5oEbZryL/6eXCtrCbO+DcEqg8VWuPMjXZrBY9dCnV92wzwhbLB1gf1zbp0kvCVt5iT4AN02aBjUsDX17oSgG/fur9uE9EYdjETCs35haHp2fB+Mwhv98i2bbzP3jyB0eCH2y4t116VlPS8Kvebotwv7EdVtaFOBmh7TF2X31BqyVniRUpDMd7FbfbxpeTswup++3QOhKMtrdbEe037K+3PQPh2CTI3QrKj9XhuLkTVtSGmGmgwx/v/SAEmErQ/e9mqgTdSuyNZa0FUsZgWQsLJW2EaVeSZa9KxayMzcvpG9rCxeVQYgAU+lcbtunCUzqvvECnmGfo9mWC12RwWo+UkOF8hDbHIG5G+0RpPJEQ714xZcpDsDwMiyar9KMnspCgzz6RK69/IQJC8JNlsM7jcKZfSeYfva9teBnN9PTc+Dfp2526/w4T9tyiZLo4zGvsDSPyX4ipTS55dz84PlXvaS03ykuXQpJZ79lwqoc4av0J3pyibtU9svmS5QhLHR7TslAyWhZKjsimS995nMhhiRM5DHOP3KdpgaQMrKS3G60/94Ruqy9q/y9cBvLeEksRKwJ5k8dgmYHESf4mOusb2hXw/LoMxHdefn/6BuBBhhLbzLWh2hwPHkT27eHbb6xqlZc8yd0n8L5ZLtDMMRKZpqsEtZcGmrB9HaiRMMt46v2nI6kK7PvSjTzLeNoYIyWINNW9g3oS+qd5dTDg60A9ThRZ3Lwj9vHLxZUdnQuRLp4PUnE2XNssV29uw7ScECo89HmGo7Mr+Uft480XRybUyqLJGFp0EGTWovDsw3fyj9pPqBDByJQgiiYfObF2FqpmS2imhyA8bEU9uLkNyo2FPKJ8DXx9C2OFo8kVut2AyO43X4MKGipB9787qRJ0K7E3yst0LpGKrqUsJNQwkvkIe7uwuPuV7R0MRydAlrpQdZa26ouPP8g7ch/tQ26iR8hVkKUeVJ3peUTzS8NjB/tIw317pxMcvboG7+5BqjJQewmEdJMv+h2U9FrKD5lo/gYPqZNA+UVfvF/dJ7VOoEFg4/mndFl1gaRC5tOjGN8cf1FvroNWrlwpc3zthNyzUsFLTz5QedoxIocNyfkBpZWsja3v+Mr6cGMrlBsDeVp76l3KxXMM3UPXYCtoF3Iz5G4N5cf4PhIhefr+XifRytOKNU+j02PtJaKFD6WdfH91dP7tO3PCKFrP57B/MtIgr1vf++2XnyllIBz0LpCyGeIyq2EOz4cY9d8lieqsJ/xWmbMTDDXwpJj6/PEJrm2ETDWpt+gix+++1RKJatn/ogf7fUPgyHjI1RIqjLMK5kAx+dAYODDcLdTsjSFaEhAcxKIkhq4mpf7yeZiRDz4/h8I9QJJQec8YrWgfcHaEjNV+8+LYCwfZPJWKmSyJorKpvRebW/Za3By/Qow7PC64OkO36xA5PmN23mCGYcM3S8IobGxfwOaEcUY1H5FtLJU+DouOP3C3cWhO6EF2zNSc8PY2/CmhOKcYPDvnVhkSBAFQCbr/3VSVoFuBvZT05Ru1j5effrK0eR4KprKA5E1YIWcXgpdX9B8sITvzK3twDBaV10nWul2D8DpjcfHxB2n0fjpNQu7WT9blhN0z29QBzi+BIr2gWG/bRv0HwRLV5kLmWl6vIf1wIv92e7eu7d7xrH3L7m17tcpbEEHAyAgsJcidS5rPh/DL2YVsQ/ZoJc1bOxYkYwL7kgAFEbjNv4yZBfTv2HprIHVpT+dtvviMTivO0y3KQTr9nAPWnIJKv61UGIn1fgphIvL43TeKjjuola97ZSta5iVfCrcTZ6muKD7+EPfffNWmhA0VnB9ObizvRj+diqekW+k0nrvVTnh0FmiNIC9MJPNx82ykkShJXjNtcZLSbinxztWCHt8asebsE/4tlZqOJcz/HFgXWACYbeylLt4fCncPAAHZOYTbe2BZDX2RiHH0E8QXl2BOEf1vpr26xlCuboQ1jSFcdF0dxrS0fZBOTOYXVm/uSW0TaUDF9DQraNI25xeLm7vG5Kw6IW7jrZCskPYdUmLCIW2DT0zUQBJFty2x3fbLz2m37BzCndIgb2K6rrpIoujh2NO1yN+tNCIbk7Jh4vLLI4fCgRFwaDRkqAY1F5p7dwPVOJWg+9/tUgm6FdhfePyBf6Yf08g0zg0oZRkT8/WtOrNpmMj66YYhSbYiHPOnSpn6rIL6g2vp4b9Z0EXLvcDZLpQNcRqHdL0Jna812TzTwZSSUSkdTV8Faiy0Lbmd9JVLsm20f29BJIN8jVdX+PMzyA/atzfeSimZD5AaqRAwH4GHb79SZOxBjRzreK8SxI1iGS9Dw/kOHLn9hjHVM1Mrl3n62+ZH9xePlO+5EQnA6St0OAsxTbTCTWBpv/ycRsI0MfNjqt76DxLkhJb7fAecSEzNLuyBV2TE9uvMOXxP89kwbxI2nH+qsTMb7VTfEsSO5P59c+XpRw7ceEWauJG00z7hOBAy0r7l05E9STRWnHpEt1KpiR81nNexjk+rn1raQnXjwgrY2MZtLan6kkRscNTff5tY4DST992mbu5EjKyW2XcYBrZZ0oM9Po1eNWEkRgts12BpvCIlqJX3olVOUH0emErNpSoN9de49yqSavI7/fEP8tlKUyBHY0sj8NV4+cyJ+oHwgwg5nJDEBUgzas1Xmgw5mmghPv/4XXvelAOhSbWz8k82E7I9G1zE5L23mbj3FpWyxGdktUwUH3eQV59/miX5aIPlA66L17dgei6dwb3PU/cKDY9PwfxSECaKftgVJuj166sE3f/emipBtwJ7Y9mREP8IAZBFtrUbnJnvY2+kRT4tGXx8Guzu666/W5hN46yuQLbgd2jt2JUDwfNo/bSLjj3Qfsjki1uzW7theU39/6On0KVWPCtBtyQeGSulXWNTwk/DbrpoyYqmrDlm7IkrMxLytTNnhhqjELAJAsYT2OyJo7Leq35gb1YSQjkpJ2xVODl9yqezSUzKCWCqkmHaD2sCjlQwZB2yR0uWd9eKQOrNVSByAv1hyzdmPCVMmAta7P3t4bujM303XtaY2VsVTsGsQ3cZteOG9rr8bWeXwj6u9uDNV41UUBL80CHNZEg3PuhXmAC5mvu4hrcDdvaGkyZsxaWH6VwlQnRqsA2lj9F180MKpYrJkuZ5rFsvsMwW1vK1TSFSfOh6xbYb1gEZg8HRdGb2uishTTk9UiNHQfKi0GiTx+iPTYY9xsq8YND3hZ9WvIkaQuslZ3+3IgVYeHf8Bw6zIH8nKD30d5hSmi8l+vIdIBKdtrSqM45x/tEHLTmvmzuxpkgiyiTJY0Zgf0BjurflhfvkyygrGC8rtD7kfrRsOk3LBe/uQtnRkNdkA9Mnv4HkdZWg+9+NUgm6FdiXnniIWy+/MLlOVqpktXA30yh1JoQyUlLp13ZnL8jDm2iOtj+prS7lU++HpSQOb6nycwgXXVMiSYeQhYjdGlZOfzAUKZTJWdwiFtKXeBaelsiupPxQ//igPxDLD/pmg555iNAgzMMpS0D8bOYhc3A0HBwBXpAXmedEjVIIWI6AkLxN2Xeb2jkTMbqGhZ8DYMnJh0j1Som0sZnfRBEdWn4HvJhhbOX5sx/WZLix71L6w892ykDwSekhWAiD7KWZSbDp8saSRx+kd47cfk3D+Trzr5yItyxsKEW32cUbHBnZh3M2h4oTfO9dqhGkXUDkOaWV6NMTyNFUlxXbN/i33xuFZ1B2d1SSx4rA/n8DmHyV76/e65nSYrWgjC4r5l1bmD3W9m+fLy7D2zuQoapbJLv6wonp0GwnJPaENFeq3UaacBP4YWm7BNl7/SVWnHpMk/xJGVRZJ2UMkGYkHfyDINdYhp4+XmS2dy6khX7t2SdE1923pIzSqrn72ktNdk7siHPasAAAIABJREFUZG+9Cuztl5/kGKZvMl4eVJpIYXUFkr/Ojk6EvYPcKkX+BMCoFCK/M53OQwhPJC8DMWgqQfe/m6cSdF9iL0ygOQ1fXuf6lyJ6hNDme5JSuNHS++QK3e9AxFjmz7XVyHf3YUpWvZdQdrGDBwcXF1yGxCQ4zuT9MZUXuGfhXdc2HzmSRNfGMSMPvLmlR1NzkfsfaXNiXN8KLnkhe+QVa7t3fo2n+kFc8sIcaNUYv0XAWCLt20Tr+N03GqGckWDOb6MPwqs5zIYdPb2VWJu67zbj99yifKa4zKiTBYbF0k8FzWmt8Qy65XXg1g5vSelk2vuvjmQbqstxeVbebrO7oklVNtdL7oVEM6Yv+8KNLVmhI0KxvrCrNwi5qZR9yvUa7HO6OmQ6X1nrmb8+pKzNiaxshoutHK1vDZdWQrRkesVEhP+zd5ZhUlxLGH5xh+Du7u4Oi0NwCBbcXUKA4H7x4K7BNUBwd5fF3WVxd7lPdU+zs94927M7u0z9ubnMOXXqVPd2d52q+j4DODRm2eBIeuQgR75vfGvZ00Bq5YCn0rgAs15wHfIP28HDVx+Y1yQPRdMEwneX3t1e2wkLqqjJi05SlaEeFrq9+kDeodsJEQKl4urJ60+sPHGX0CFDcLhXSWJG9gZM1481Z+y5zpANF5RRgmgvyPaaFBy+QwE6XdIin8Ig8VPKmjZwaqH63Cva3asLPr+HsZnUFsvqsyCzBZshmDjLGaAH3oV0Bug2+n7T2Qe0+ucEaeJGZktnCzCKXl2XN8OiWiCUIwJqFhjy9YsF+OIzdDqjZkIsJaHfCMGWqmfo+e8Fnr9TKX5EupdNS5tilj5OKUeXD78Laz3Qtenaiqwt/WuSPU+YU+VH1USqCaQcM3IcXap+DHrzCEbJx2cI6HnH/4BIxlZ3jv6JPVB23B4uPnzN7Ea5KJHOD7wEb/z06NUH8gzdrvSwXxhU1hiWRXD0+6OLcGs/5PgdpNfVVvoaDczSFxDOOtMPcfD6U6VcVMpG0fidm++EhAbbluRajE4Pr+9D402QNL+vV+fA1ScKar+tmS9dl/7TW5jporJixMsCLfd47KHUpQSYUwFu7YPC3dQDj1kuavAgz1vJphfvDTsH8z1cFNK9nMBHwnK8t4tNAYNekxxi3NTCKjia0Hymq+AQJjm8EXLALxSziXJBBHf8AnvbfeHBK8r9vVc5PDrVt7RjA59JP798I316A023eaCQbT7/GFvPu3lxlyDSC1aFERHu8yIjdvLg5QdlmmcclJYLjrH5nJt9q3yMGBwYY+X5KYCGviWiNFaD+FnVZ2wwEmeAHngX0xmg2+j7gevOM3v/DQXtcnCVzMa0SLmMlM1krw+VJxmba+Zo6Z2RLLhGHXH/lIrCKqis3S7TZdkpVp2492PFYmljM7dxHncLtLJyoROqYmAfN/bCvIoQMaZKIzJYghoLwnHn8xDNYLuAZtG4LGqpYdXpkLW2mZ5y6nJ6wFsPCDJ3+r6blPaQPX8UJ0lM48i6ktnJMmCLAgC2uVMRBRTspxaN0kZzgo5g11t/aXzkNedBxipehgi9Wq5B2/j09RvbuxYlZezIMLMU3D1iW1XQm8cwSg4wHeyQUA4vx2WGLx9sA4sTFGMpS5b57Y6pz+0RntCv/7ylAo++vEOvUF1Y9DYXa9sVJEsiYwFDkLvvBTPl7WOV29tom1eQ22zQNnjyrquM2HSJEuniMDsotBKtbAZnlkO+tlB26A/nn77zgsqT9nu5GDN/z4VLBmMHxFrJfKzIYdnfo4SXw+GJO64wastlhXt9fB213VCYJd58+EK6+FEIE8qGNqCgdBtJRYiwcnx4Ca0P+EwBaA2a2OM2hA8+bCzOAD3wblhngG6j7ytO2MvZe69s6z+fXRZuH1SDcwnSA0u0cszyoyBPc7i4AZbUAcsp4LrT92m/+OQP66KED41rv9LuZYta+WSSAtDEvczRz+1ofZEa17oE6PLxJ+KfnrQ9I0Fo2qQyQR6mZgDX+bkZ54Cf2QMagnu40CE5P7CszTzmgs4rrBCT6+WgfOb4P69Ln16DCZ4y14U6g0t/Yz6RKp1hCdXnSvsTKq2TJ1kpdGDLT5MydiS2dSmqPtf8Q5clVGNCORaYlVE+eWl1azi9CLLWgapTjfnygatKCSpIxQLaKeW2w+WjVcUmQeNEt5Qu7wlXlN9ftmRKvRyUC873slSRSUuEyB/XnOXtxu6qAB9da+pBjtx8xqDKGWmQP1mAr294Qa2tJGZqaH/Mw/Tlx+4oKY1auRLTdO5RBTxyaNXM1M2bxNAyHZec5N9T92ldLCV/lk3nZe6ey4/5ffYRYkYKS6uiKQkfNpTCIS8H0lkSRVN45JXnZnCUh2dhZknLt6kOQMP/JVPbO1rth3jmAvgFpnudAXrged8ZoNvge3k4Zei7iS/fvhvno5TSpeGJ4esnHz8cbTDJtikKoMtEyNcGyg6DncNg9/AfQGsCHiKnziliR0b6bOUw8ehfLsSOYulzktL0GSXUtQu0B5eBP3qlfDVoYS24slktZRdk4R+0bVWg1jzb9iKzJFM0JgN8+6z2XNZf5cxq2O5N50wdHth+wY2m847pRuL2SaXwcAsafK/y6RSU759W9o7xADqm+EFK3X+dYMwljy/BpDxqj7RwgFt6OK2VNJ5zhJ2XHtOxZGo6l0qj/rR7pFKqjR8gb16MeXRBfRZ+fqfSIgk9kiOJRgcUJiJ0u2KMDujYHFjfSQXy1JC5Z5SEe5agIf2vUHsBWCqjXoWKTpa3E+ldIQPNCtsJ/M4RfPvitlqZIKCmvR/Z1jrgCPv4CWx4+f4zOQZtRSqe7MEhbhcXvrwHYzNAyNAqTlAo70HaNOC7zi5p6OiiH2NCKrdyD9mO4Cn51GMuJfAFhu/g8euP3m5RDjZTxQl+1GLKZlc2hzPL3PftV/JIa3epsxTSlrXLLREYSp0BemB4XV3TGaDb4PuLD19RdtxeooQLjWt/q4yyHl23D6mor5HiKGXkCtpHYMnJhfBvG9AogTRKnnIjIW8LD1YVHrGDO8/es7xVfnIni6H+poDdWZ1E6y1FHZ8dnl0H4dEVoCHpSbu6FZLkh/ByS/pDZE+CKvzGTS3FbHPYIwjf6SUqerz0vkvlgK3l9P4wMTCnHrr+lG3n3WhXIhW/RDQAbBiYRjvw2tN2X2PYxotUzBKfiUapFq32pVE2/p4/KQMrB5/Td92XTjK851bDl/fqFEEdv7kPnlxSnxHyrDAiGrJu0oLQeIOXmdZ8yNu6FCFVHEtbwY+qoPwqErVe0dp95LnSYLXjlTjK6ao8d5/fgGozIEstvTuDte3hxHwo1AVc+qnz/usGR2eo/12iDxTppvJgD08CXz9S8uNIihQoSL9KDoyUrd8D3o+8fRhml1bxWwTHxSkO64H/XB8oSQYJJiWoDBIi30VSBSSHfj5UAck+xmy5xPgdVw23W156+Joy4/YoPfmn+5X2EftEYymx9pmw+Uiiqn+lDDQq6KndJUg41w8jpa1H2le0KiHBRhLGJd9kST24uF79rpSK1GAizgA98C6kM0C3wff/nrpHxyWnyJk0OitbF9CvQUriltRVg1Et66B/tvkjtRPaECHVEj0pLZWgu/kONYC1kgazDrP3yhMvICJodHHKh1pvEEAm3+TLRxgSH75/hS4XbQeA8m0N6RcSYA/pr68wGnI3AwHmOz4PHl9QDwdE8raCcv8z368OqlFOzIuP2sXNp+9IHCMCmzoWIVK44EUJEtCu/2P5aZYfv0snl9R0crFkYW0wYtHh2/RafSbo9EfasEcfp0ggPtcKYCtlSfVjSMC35DDTlgBoaQMVwNIH5F05pGo2/xhJY0Zk9x/F3U27fxKkd10OUP+4on+XWgm5nmegfq3mjtQo4FKVgvor9OuemEc9KLGmBJVgXPpjhf9XWhC0nsu5FeHmXnp/bszlxLVZ1sp3oDz9RjjgSDlQWt4IEueFplsc0ECnSZoH+v17lnkHb9GkYHL6VsoQdBwzpRC4nYG6yyBNGW/tXnDwJn3+PUfpDHEZWTOrQrmWKLrfWCiz991g4PrzFEkTm/lNrLCFPK0i2fP6Mw+TKHoEbjx9i1C8ZUgQVennd0kfh7KZ4isAp5Jtf/jyI+1LpCKk/ENQlitbYWENiBAdSg+BFEUhmhU9oHd729gDDk/xwl0flN0gtjsD9MC7gs4A3Qbfa9muOnmSMKyaAYC4feNgWz8IHR4arveAzGmDGeZMmZQXHl+Ekv3UzLPQrklJaGiP2VXtBSd9SD3KWfUqfXqnlqgLB3mK4vD7Gt/tEoRmoWgTuh5Zx14VBHtHw/aBkKacirA7MLpXuzxRmJjjUMfVInyp5cfv/WHgmFpZqZbDj5eO427HISyrNnk/J26/YEKd7FTKmsBmm7ReP5tYIWxe1UEmzimvorYLlkW54SrauDwXXj+E0WlVXvLebj6WeHrZxbevMCKFmv3whIAsY6V1p/+6c8w/eIt6eZMwpKrVM1wO9yQLLCLPp3A6Afs0XBFHptl5cgUm5lJLZuVAVg+CtkbHKdegu8zx5jlqfQF2DYddw1j5tRA9vrVVMnMRwwbTQ8CDk1W6uQz+bM1ykD/D4GxGm4XH2XDmYdDL+AqmhWBblBkG+dt4e4k2nX2ocJhnS/wLHz5/5fqTt+zoWtTPIF0rje9QMjVdtBYfnTfBmbsvqTRxn7ej5zTKTfF0Bll4dK4bYMM0fKY8LaH8CH3LHpgIW/5SKYcF8T2YiDNAD7wL6QzQbfC9Bsox4NeMNCxgAGxkWlF4cMqxSmA29YRDk0Gy6ML/mygPNFP5ea1l7v4b9F93njIZ4zKtQS6PP7qdgykFQPobBcHSh14pZdKFdbC0PsTPBi132+B9nVM0YCPZV50lKq2dJtKXKvL5LTTbrtK9BHOR7LmUqk3YcfXHTj303gbz/dtje+LTrAO28OrDF4U7VjhkbRVBxpXqhohhQ3FuQJngC7zj2UGv7sOY9CryeedzHltOpCx7SDwVpKfDKYihs5RSw8YQULPu1yGUGiDK9Rq+6SILD91GStxFptbPSdlM8TxaNSKlymnbYjckyKbvko5OB68fQDOhj/JYfaRPQQCN0g5kq82ELDX9XvTQFNjUA5IVhkbr/R5/bg0sb8jZEGmo+L4/cxvnplhaEz/W37+AV/d8RlP220LzRmzprR5Oaxgu5ml2ajLZA7WnHeTwjWf+Pkg12Sy/1UmSQZIN0vJTcYy344/fek71KQc8/DaqZlZq5PT98L3h7CPsvvyY/1XPTO3cxsDl5JBTDgW2eEP3Jpn86b8H4W8q7SBT3knCWhHLQi3s19XSQEK1llG/xgeR350BeuBdKGeAboPvC/1vB3efv/cRWMNblVo5ufzRS++5UZ5vG+zUNeX6Lphf2X1osZ5QrIeXqfIglwd62rhR2Ny5iMffpVdqZAq1PN6vD1QNBCpzTag+U5eJNg2Sj3v5aH7z0Ot0ORyQj30pUfShBNamNR10Us9VZ1jvel+h8RKRLO1ltzfKC1xe5E6xzQOPXn8gz5DtSrL3wsCy/uLV/fjlK2l7qz3PJ/qUIkaknwQf4OhM+K+rjweDaOXVElDK8yV7PQhrOWDz6bIdnQX/dYFULlB/5Y9R1x6/oeRo90PBSGFDcaBnSaJF8AS+JM9DeS6WGQr52/p9c3x+rx4kiHS/AREtGB1+zwz4EdsHwd5RkLa8WlnkVwWT5gsp8yzQzm97Bfl4akHehopKxrdTaVEkBb3KywGMSTKrNNw5rItn3qQVfVazoimcXQGlBkHBDnZfzrmA7R5wGbObq4/esKhZXgqkimW7ooCeeWoRrGkNyYtCw7Xern7n2TsKj9jp4TfJiEtm3DcpM3YPl9xeK+XtUuZuVCRIX+d6n7kHbnLytoXRAZRy9/XtCytl8EFSLFVApCkLdZfq38K9EzCjOESOB90u6Z/n4COdAXrgXSBngG7Q95KFSf3XRgXB/UCPEiT4JYI+DUdmwIZujtevJuWgQpnz6bW6j1b7IJ7Xsn3tJRA2VEjODPAGUGR+Fbi+EyqOhVxNfPaJhuCuAQvp855to4SmRACO3j9T0ZwlYy4i1HbRkqhl+bYgRNtmTaDMev/pq8LTrYn03LYtnoruK1zJlyIGS1oE4x5RO3v84LWn1JlxiCQxIrKnu1Ufs43r5h26DbdXH38O/mjNR9pzw2UAFOrk1XOLasNlK7C2bPWhyiTfPby+MwhIXMFOUGrAj7GrTtyly7LTCv7C/6plIXqksN5XPWily3qzxlrbTrioagWRX0GvjfeHKdO0yiJR5olf2Yt+OXgVxpFPb3znALaeKC1PQ1WawGwfppEmeVKWtTTpGSP2aK1K2RtA5YmmuMRmJcL7/vAM1JgNmarbrMY5UfWAoIkLlWu40KFMd4kguD97+4nNnYqQNp7OthXTrbBB4Z2jMMtFBbwV9oWQXn0jZe3p+ngEtKySLQHjflN5y32SzP03K4f2HkAybTDx6qPXuIzZo8yU6yc6U8SOxIYOhY0fWsv3qFRZpiweeECb2jdquRGQt6V+j1hzoQvqfhidsYH+FQJlpDNADxS3K4s6A3SDvn/14TNZ+quAMBcHGciaaX2WjnjavqAaXNuueqLfC28/MK0pOZa2yEfeFDE9ek7jNs/ZGCqN896rQoMmWW0BiGt7FGLbDqql+7JJduvlXYiWGO6fAMmuyYP30gZY285Llk233iAycN+VJ9SfdfiHtTN/z0X0SGGoPuWgAvqy708LTV4Q2Y8jmbng0C36rDlrGrCblClKueJPw4WuAbLJRfUJpfjUYljTyuNl9wbE0sMALcvqqR+8/9pzSrbHT6AoAZEUxHM9fdfyQSl0lQIOJL3zrdwxHhzpXvVgi3YAIfuTPvuwPgBKaZz0gpnS896PVgE/9yVUl6/uUfXjAK6GS49rP4NMJz4toF0X+V0OWSv7cVDjp6H+GKBRrEkLVVepiDOegfTH6sFuquvdF9SYclB5lk5tYG6LiFCrpfprg1ea2KDgRUETl5abjy+hyRZIktdbq/MM2cYjKyo04Shf266QjzuUFp9M/TYrv0tLlX/AYuXbsOuy0wiV3bDqmak0YZ9y0GwTwrtGuasHz8he129UGpUFyBd/e7u0VG0K8ru0RwWj1klngG6vG81vvc4A3W8feRhx6+lbio5Ue0XPD9TJdSgB4lgL3YzSZ+lgwFzyIba8oYpqLh8+Pki7RSdY7/rAI2+wNvbsSljRREV/lw9o7+TgJNjcy/cxBq+HzcOvbgOhlYuTEdp47N+yWacDThy5+SKTdl6jWNrYCsq4AMk8fPmBfMO2EypkCC4NKkvoUCEd0HLHN0kL+Mwq42214Dibzj1kUOWMNMhvANvC8V3lvYXzKsGNPZC5FlS3UHZ5HikB8P+Sqx+omuRuDsV7qYBlnrPV1llfoViM4w5oWXXyfqUU8+/fslE5W0LfvaaV1teaDxmsWoA8z9I+KOXfHYGZQ8+9YN3+4xs1poZSniAHtPBYQuvrMpbr+seX1iz/Utg83mmtx1MWT1pI7YkPrGoFrTdfgA2bbNTjdecYXzxQd8YhDlx7qow43tuFmJHDmeYvycznGrxNuVWuDC4X9N53K5upjAkFOkDpQd765cTt59x7/p40caMo1GmRw4XmjC8UwFfcXlNq7B6ihheqYO/R4W29AP8cukXvNWeJFzU8u7sXM1YRMSYjvLqrLt3nqf5DQVuN9Tzv1QMYk07FZJJDSZ8OL31aT6MqDkZUa84A3ayby7geZ4Bu0Gcnbz+n6uQDJPwlAvt76Mw+7hkJOwaDD5y8Bk0ItOEaFVSe5DG8li36lW359BbG51B7wiuMgdxNA20fysKPLsDkfBD+F+hxK3BtsePqGsr4iBpZqJUrsbKS9I6l7bORz1+/s+/P4n6ivdrRvCCtWqhn9l19YhPIjncb77HSlSVH79C1VBra+9E/GKQdJ8a/eQyjLOA7wiEtVGo+iWTapWRdMtTSJqRJpb8hZyOPsyyo419ChGVPjVOUyKgG4sLZKyWdH798Y2e3YiSP5Ucf+7qOcHwuFOwIpQZ6b5kEuoKK/tQCvNhoAyQrGDQuzeK6cOk/lULIp95yDaAqR0P4dbz+fVlaDBaHr03PF5WZ1iAnZTJ6AuLTr819pLxD5V2qiVC7Fe4G+dtByAA+ZJz3K9zYrR+nwJb9/iRz5MBYcH2kbVBkRPUs1MqtvqvMEI3vO3rEMJzsW9oMlQGr4+wqWNEYYqWBdkd9XVuwTNL32YS40jdmEQ1TKF28KGzq5AlTyJ+7ExuKjNipZNGn1s+h0LDplrGZ4eVtdXiTzZAkn+6ppgy8tBEW/wZxMkCbg8ZVas+owK7wMW65jzOcAbqJzjSoyhmgG3TYjotuNJl7jMwJo7Guvc8lRD/UyoncxNxqj3eVqZCtjsEVHWe4hjQtfejnB5bxeBKtZK6SqPvUuMetTdfA4X5Jqr5kQpt3Qm6ThwQN+H9J1am9Hhg/KbVp0YCflKX/ZgVl3HPvXbGROxU+dCl5d8kQN+ANCwYr5h+2nQcvP7CydX5yJvU/MNiwjReYtvs6TQslp0/FIMTVa8u11D4642aG1t7T9XhR+9oNRlu1xQhdWF816/ZDLm6AJXU4+y0ZFT8NJXyYkPyaNYHSby6+jRU5HEf/Kuk3Sv6JBWoLjGRqG//n/Q5vHYQ5ZVX2CgH+1EvJZou/zJ6j0VDKoUej/yC8J0AnOXwQ5osrW4yzjljwVh6FTUyBV0No55Jeqd4xLO+egbQoRbNUO2i9oZ4VJS+iMnX4BR5o2AAfJohv5N0hlHwt90L8LGZpDhZ6lh+7w8jNl0gXPyrDq2X2E6dHq0TSNl8yXRxmNcptmi8OXHtC3RmHSRk7Etu7FjNNb4ApevtUBeEVkaxuuMi+Ll1i9C6uP1bxdta0LahUzXmWpUdv8+fKMxRPG5s5jX3mQLd1j0P+O8+MvTeonC0Bf/vRC/9jDet9yj/6glxvq11+ztMA4rLWgapT/RzuZYDgHi2tB0bea8ZXCdAZzgA9QN3tYTFngG7Q9yuO36Xb8tMK6qWgX/opGhVLwlzQdGvAn/T7aaD+AdLLlfqvDcrp7JFeJYkTNbzHydKLedAC3NP2CMRO6/67VvpTbiTkbaF/UXuNlI+soQlV4Dif+l/ttXYA6bUGjxE+Ymu06gazDrP3yhPFklVtCpAjiR/8xgFkc1BZxrqH71TfUvwS0f+o61N2XeN/my5SPUciRtcK5uj66zrB8TnGKar6R3O/RYRGracl26L96+FpsLE7G77moc1nr6BzU+rloFxmHRkdt/MwJb8KLtnzjjs4k5Tk7x4BGavAtoFq6b2tH3OBebNf3w3zf1UtiJES2h93Lxdf1lAFahKsEBGj/ZQfXsGEHPD2Mee/JeXfJD3p2czgwfTnD2qFk1Cq/f6vmtES/JIv7z16TQ5HPr8zfojgH9+/uAPjMql88r3uB/5hs3/2Yoe5GpaGqParGkiy50VG7lQqXHqVT8fQDRcRdgV5X5nVerXu9H3aLz6Jt5V/dti/XVSOSqtWHzbdBol9P7w4fuuZgjEj8keZtAoorGcZu/Uyf2+/Qp08SRhWzSsosH/3oFG/San98T4u+srcr2yDhZ7AFgO62nJ5I5Xdx1asKK2dVcH3uBNwh4b+vWC+zHcG6HZ0rh+qnQG6Qd/P2HOdIRsuoAclU1GtlcIJoI0v/d0GzQi04RoYybp2hcicyOpjWSySoHemC9w7BlWnQ9ba7nZKFcGTy+rHVgoHOcWekFMtT224HpIXDjSf2mvh20/fKR8/4UKHVAANQ1j1a1qDx9XNm4S8yWNQLlN8woYO4FJRe23eznpP33lB5Un7iRU5LMd6lzJltcVHbiOUeC7p4zCzoXkZJFOMM1uJ9rcnmc+05fRrn1sRbloBsf15U+1F18RyIDrzSzkGf2ngQW/HkqnpXEpnJldht5CKIE8I5tKm8+yau145eP1tIUQxoYRbvxf8P1LQ1ifnBQE7E+l2VQU6k6z1CCu+eUGyb7jOeK+3Fbjf6TDZyPqXhd5O3hGnF0Oc9JDAF5RprcdbbIsYC3I3g93DIXZ6iJUaLqyFXyeoz+/9f6v4KeX+53+/6NFgqdII7vglelzheYy0T2UZsAU5wBSR6pXxdXy+zn9vu8LYbZfJnSy6wiiSfeAWpeJrbbuCZEnkNfNri03zDtyk39pzlMsUjyn1zQWgs8Uem+ZoQL4Vx0Guxn6qmLn3OoP/u4BL+rjMbOiVk7znKlcWH7lDZ5c0dHTxnY7Nz8W8GSD3QYHhO3j46gPzmuShqB4atzVt4NRCFZPkl8Qq/7s8I1rsssUE2+ZMLgCPzkHdZZDGht58eb79nRVe3IJaCyCD5RDUNmscYpYzQA+8y+AM0A36XjJckulqXDAZ/SpZgN980zE6Pby+r+vk06ApgTK84oS9nL33ilkNc1EyvTel0Wvawql/PPKLy0NLeIK/fIAOJyGGpVwrUHZgtagGUuX5MCGw7TJp/WM3n1Fj6kEfacBWHr9L1+Wnf6zWvWxa2hTzetpukjnBSo1G2SUHG0tNopHaeOYBrReeIFfS6KxoXSBY+cvDZgSPYmgC9Z+M8oY/v6UGZJJ9//5N1fHrRMihBuPP5tUjxo31DPpcn7qd/keymJGYs/+GgrNQNpPBIFo7XNXodr58gsGe0LqFVk16oYOiWIPFNdsBiXKCdRYrSgK1vN/G5/WNbTNIvq8b7whPxL73Qa67gHNKP61IfyvgP2v/SbvUmPRqxtCzyLXIVAOeXIKkBVRWDuG8F173OosD5ipIBcXOIZClNlSbHjBrBpFVPHNyp48flY0dvT/8FvTvYqN2cevpO8bWzkrV7IloOvco2y8+UgDGBDfFFn5uz64as+US43dcpX6+JAyuYn62OEAuzda+6nNPDqrXNf3/AAAgAElEQVSkhdAP0TLYMSPJAbKLl5aeFvOPseW8G4OrZKJ+Pkurn19KDf4ulaZScdqqaEp6lHMH6/RWjcYhLj9KpWmk2DA+G4QKq1aphApjcHUbhn/9olJEfv0EHU5BDKuDSiPqtErSzDWh+kwjMx1yrDNAD7zL4gzQDfreEJDTx9cwzILY7jnTY3BdRxneZO5Rdlx8pJRFSXmUF9E+Xqz5irXeUUHG/MsNQvu/HNgUf6xqCa5LwKU/FOpsikpHUvKf6wPaLvI54Lv55K3ygaSJWXzejuQDe9kyYtNFJu+6Rr28SRhS1ZyPPq1XMlWcyGzrUtRepge+3odnYWpBNfMtz0VbZFYZuHPIfWbvR8w9fJ/Mm2uSM+QVuoboyqi+ffzuNfdt7X3jYFs/SF0Gyg2HDX+oAaaIfDhKcJaxqi3WO84cjZKu5lx1LzuHqZlqCT7l4MMfz+obj14Re1JqIof4ANVmwNr26iGtJvIuCOOpTUp++9FeEFHNQmllr9GTqzR21r3+2oFCQLJxLG2gZvBLD4YC7R3nWjqAJVvOPaTFguNECRea1x+/KBVZFwaWVRhD7j5/x4hNlxQrBbDtxfvP/HvqvlLSfrS3CxHDhmba7msM23hRGSP/frBXSaKG919w1mv1GQTgtkPJ1HTRW0HjAL70YILrMljVHJLkhyYeOc+9M1WA2jL328Knr9/Y/Ucxksb0CIqptSEYBnEz4BctAZA18S/829YP8MwN3eHINPXwrcYstRpzeFK1hSigcB6sgY7lUMAbznld279zBGaVgrBRoPu1IN8C4wzQdV11uwxyBugG3Wro5FE7FYwUB/64YnAlxxyuHVD4WBqlvUikNFJocETuHIVZLhA1EXQ55zgb2zYA9o2BPC2gvBU6sONY6C9LZu+7wcD156mQOT6T6uXwoksyGMl7bvjx7xkTROW/DsGv1N9fTvRhsvYc6FsxA00K2XjS7kn3+fuvKD9+L7GjCJCZiz3Mdgyd0t+8tD4Ype+ytn73SNg5+Me/PCw+mkKbE7AnTFsShHjGlNTTaV3PqsXGlp1rBwmhI6hAZRpau9CuCf1acJAVTeHsCveeSxNpgl5/+IzrkKIUDOXDM7/1AYhrVYUmH+Wbeqqc8iLSCiUtUYKof/uw2koQM6VHrz++DJNyqx/D0vMZELRr47KoJayO1K7lIPfi+O1XGLP1stICKJSRHz5/Y1e3YiSLFYm/Vp9h4WFPmBHgoRpRewZq2zHj+apRuI2skYWaFiYTB3GXfjO0Z5EB1pkqk/Zz6s4Lb9Hci4/ahYD+LmuZX+nNt4fce/GegsN3KIczgtMSxbeDlunF4f4JqD4LMtdQzdHamawqpOxh5w+dWuuKfwHepAJIQP3eP1fL831r5bHrhsxR7gzQzfGjLVqcAbpBr9WceoCjN58zuV4OyvsFNqQFq0GcXs3aRVq5mI+ZQ/mQml0aoiWGzmfVqWdWwMqm4GicsRa0YdJVVD/+gpkM33iRqbuv0ahAMvr/6n07htCh3H72Ttl5hDChODegDCFDhghmnjB/OxpSrgBFmlGGKRbef/Fe6dsTloRLgz1iBpi/g0DUuH88bO0DmapDjdm2GSJAZKeXwLPrSkB3M2YRejwowpKwatD+rcslQkY1WNLu2RLrEnDr34I4G4eHbW7rD/vGqoeUQrkm1HeCTt58JyT0eqhn5GLJAeDUfo1oHXKN99O0rL30vQvgmlzL6VaVI8V6QbE/fV9SUN6lfUrEaLuEkc1oY3/QA4ZQ6TmDanuDLXvXMaflgmNsPuemAL5Jdvzc/VfUypVIqTKSd42wXjTMn1SpbBGKSjk8lsy2BHGaSCWR0IAJ64LQIe7oWtRflTAabs7qNgXIHlTBUK2xIXyqPPF0fbRkSocSqehS2gqwFxTKydcfviiVWlKxZS/Rvi+saV69rCV/w1Jp+u0LdHSF6JaSe61UPHdzqDDKXia665XnoDwPtSy+f1bU2icFJyPH7/7RFOhznQF64F0CZ4Bu0PclR+/i2uO3LG6ej/wpY/o+W+NEFK5e4ewNBrLg0C36rDlLqQxxmfG7V/ARXj+E0WlBytl7P1J7hzSKtSy/QbVpjuOFi//Bkrr+y+Q5zm48WCIgPW0WnmDP5cf8WTYdrYt5yjxZRl92e838gzf555Ca2XDyovt9QT9//aZwzQpv74EeJfykEfJbozri3acvZOi7WflvoTGUks9gKRaebIXDumQf/23xxl6YV9GjjpBh1GePGdzY0vcp/Z8iBTpAhipqRsQM3f7buTmztR7uNOVUUE9BMY4cDzqfg1D+v/+aD53KjE8+BNlFuquBuXCbCyhUyhJw1KpnUy9456g08MYtYLJVGk9y7HTQ9rA518BkLYKM/t+ZB9TIkYhoEf1XHm7ENEFizzFoqwIQJ8GwfCusOnFPUVE1e0JWn7yn0B6e6lua8GFC+apanoU5B23j/eevPlKF6bHt1YfPZOm/RRnq2r+0v8vl9axplzGSlRX8Cwli5W8zmqV10pfFZu27waD15ymbMR5TG7iD48l1StN7ozLTLAYSn8yQBIEkChL+EoEd3Yp6j+auJXWk77zbFfcqGC2xkzAnNN9hF7d6ULqkHlxcb07Lo3a4kKcllB9hf9vtuIIzQLejc/1Q7QzQDfpeXkDP3n5y55V+eQ+EWiFJXndN8v+vbAUJAK9uhTLDIH8bgys55vDN5x7ScsFxfOwr8g4QTkoUj8+Fon9C8V6OszGtBSFKfOiq9r0FFyn3914uPHilbGd0zaxUz+n7C7302N1cdnvDnMa5KZ42TnBxg132cfXRa1zG7CFiWLXiwBod3z8LSsYxbe9NSt+gmYG/f2wyfa6Uai6oCm8fgRnMFp65czWDfQIgs2VDtw/BA1eQg1Z/9GTbsrTd58h7amENFETyyHHg+k5MOTixGC5MB9Hv7WRcvC38kru26seHZ1SkZN9EAuAWu73vUfc8T5hD7h5V2w6k/cBeouGriH5rjBV7rWej3u4rTrPs2F3iRwvPls5FfC8ttnEN76ZpzCCxIodTaFhvPn1Lg1lHkFJnTYwwVHRYfJK1p+/TpGBy+lbKYJOlJ24/p9rkA8SNGo7DvYJ425DQDL5+oLu6Ze+Vx4r/U0gVQjd35hw5wMk3bLtStXBlcDm7Vsy9//RVYZJ5/PojsxvlokQ6b4CFtYoqz0CPz2+qiOhy4CrtK2Ei2HQP6JqklKWnhPfPVJC6xDoolH1TLNVdq1s6XtWoLmd4HOQM0G1wmklTnAG6AUd++fqN1L03KvgVR/4qSZwo4WFMRnh1V+2dkQeIPGSmFPT4AaIh5BpYy1GHnrz9nKqTD5AgWngO9CzpvZkT86gou/VWQmoXmF4M7p/0Sr0W2Ju0Bq/r/diUjFFgb0nWf/TqA3mGbv9hyoKmeSic2hP6tCdD2y48oWRd/iqfnuZFHARl3xGc6Y0Nk3ZeZeTmS2ROGI117QuZamXuIduUj5kNHQqTIYE8noORfPkII1PBR/XgiEYbIJkf4EE6tv99VBpCSAZVk+RFoeFaHTOdQ3h0UaVbU0TKjL9Dx9MQPZkpzmk27yjbLjxiaNXMCJ2jIlqvp/x3hBiQygXOLFN/i5YE2h1VgZX09pOvaAJnV9rOXax3p/2t0Pp10l3pVW3muLxDt+H26qOiMlH0CMxtnJtUcaKYuYSiSwDhpMdZgNeEs7z/2nPMPXBTKWkfUSOrMkaeZfJM0+Tv37JROVtCXbZsO+9Gs/nHlOD6UM+SNh2ELjt6h+4rXSmYKiYLm+XTta7DDppaGB666qYAc3v1gbxDtyPdA+cHllWqFp68+ciozZdYcvROgGGdNJt3jG0XfECMl4/pyfnh8QUo+z/I18rd/UqLkfC/u0HjTZA0v/0ujfYcFLwRYebw70Gs2zmYUkDFxhB9Qbjiyhmg2++280uzM0D3y0NWv2uBjzzwrgwpT6gv79zpgrRxgggufSyayB+8nP4FBE2Egb3YOlTrkw0TKgSXBvlw+rq8MZxbBSX6QI6Gal+jSNdLjsUX7KFs7LwKBBUMZMdFN5rMPfZjJ3rK1kdvucSEHVeVj2j5mHaK9x44cuMZtacfVA7p+lXKQOOC5gDE/Xh8jNnN1UdvWNQ8LwVSxgpel+HFHRiXyX1PXS5C1Pj+3uPHaSUJ90C9378W+ZNQUqrtGUzM36sEUwXS/yl870ItJOJfgCRPbtL6YCWIk15jRaTqYWIutde09kKIFAukvFSk0jhd5bseltnSGw5MgHxtoOww+1wo+YMfYMXL3ekM/OINi4l9VtetVZIIGfptRsqYNSmQMiaLmpsbnEqbT85BWxXO8ol1syu95JIpvfPsPdMa5KRMRnf8h9R/beDz1++KOVeHlFOCeT3y4fNXMvXbrLQS6XmHeadz6IYLTN9zXel7H1DZ6tmjxwBHG6MBOOoETZOKrGwDt/Ly/Wcm1c1BhSzx+XXiPlzvqvSG6eJFYVOnInbfpa8o+td3wfzKECYSdDkPEaz+xsQyrey81EAo2NF+tmqtPsmLQMN1/l/n62c1NlAo2xyIWtiGnTkDdBucZtIUZ4BuwJFn772k4oR97iePWu+MbzocuFfNwNZ/DJUXc8a+m32k71AGyseSfDQJ+JqUHAo9SLzM0GqfLUvad87YTPDyTrDhqRdnTdh+hdFbL5M1UTR6lEvvN1YCoFGi2ONjzr4XMGC1a2WXglI8tnY2m7I6vllcY8oBjt16zpR6OSjnFwhlwG7d/6tJFY1U04iYSG34elw+ory4oOo1s7Td/zsOGhqWNYTzFiA3oZuUa2OSSLZu4s6r/J4/KQOtAyThlJdDa71Zct/sOTgZNvdU8QFqzTPJck9qBJH5f5aqAgemTLVuv9ncqQgCZinBsS7MHAOeO3T9Kb9NV2kOy2eORyeXNJQeu0ehVZO+Zmv8jDUn79F52SnG1FK5zo1IxQl7OXvvlT5QXm8Ua9nbgZUz8nt+c6pCjNhv6tjVreH0IijZDwp30aW6zvRDHLz+VBk7q2Eums5zP7gPqHf9uG2XGbftCnXyJGZYtSzudgsYpaC3P7sGPgHBaeXv9gbyXd0KTi82tw1zRgm4d9wjMr2uq+ZYg5wBeuBdD2eAbsD3Oy89ovGco2SIH5UNHQvD4WmwsbvvGvyDVGzAtoAcKn2Fp++8YHyd7PyaNYHXpW/uh7nlIUoCtTf/3GqVZ9zEDz/T9juzFNw9Yv/+RdMM9luRhqTbu0J6mhXWV65+/NZzhBvV19YFv5cO1iME/CjX4K0KdZDwugoOg9mifVAOqpyRBkH9g9KzczTOapMP65bMHc9vN/twMkpRsnd1lrYbvicvb4FFNdVpJrUdaDbM2X+DAevOK0Hc5HruQFWGbfRtwrk1sLwhJM4LTVVAMNPlyVWYmBPCRoZeKvCZo8iDl+85efuFkrXeePYB7Rad/IER03PVGRYfuU3NnIkYWVMtO/evrD55l85LT/9QI8BvzQunUCqwiqWNzdzGXvt3JbOvN3NubZ+WfW1ZNAU9y6U3bLqGrTKvSR6KpvG9zcuw8oCesKUPHBhvqFJEDmx6rDyjHPp6Fh+Bfk3el9x/ch+WSBeH2Y1yu2vf2g/2S8VMYhVvIpI3oMuC/zG7DAhVcbfL5hzoebe/yQXUttQ6SyBtOXM8sOEPODId8rWFskPN0RkIWpwBeiA43bKkM0A34Ptlx+7QfYWr8qCXBz5r2sApT/Rc8iBJXxHSVoCjM6DiWIjqTRBrYF1HG9r337PMP3iLpoWS06eiN+AtH9/A8MTw3b3MTnkAJ8jmaFsBLXtUdjjka+149tlgkXCPCjCPkazJ0zcfyTlY7RW8OEjtV3OKRw/8e+oeHZecUkB3tvuT+scn32rUeMGy1eDUYljTClIUh999oN4yeNO9fPeZfMO2kebLZXo2rEq+dI5XdmxwSwE//OsX9UBVnteNN5rajrXp7ANa/XPCLngNPxx15wjMKqX2r3c+Yx//adVyvySFTq72WcNGrVrVTeOCyYgcLrQSKNfOlZj/1ciC1u7kGSjMxqWUcuncg7cpFXQiUgAh1f+aDKqSiQb5LDRZti5iNW/p0dv8ufIM+VPEZHELY2X63759J33fTXz84s7FboJJgadCq0w0SAN27fEbSo7e7cXuNHEjs6WzFa2hnXa2/YKbkrnPlDAq69sXdl9FyzBXna4ySHgnnz9YKNg+Q4dTEMPcljJlSWnzGZoQvn+Fzia2Omrvu8T5oKnKzmIt0sIh4ujfWs4A3U5/GDrUOgN0HU7ShmjgUDVyJmJUjSwwMTc8vQJhIqpvqZa7IbZHvkkD6oPMUK0cOney6CxvVcB7uwX449F59bfUpaHecsfc36aecGgyFGgPpVUO5aAs8tBP12eTsoUTfUoRI1JYXduRfrUsA7Yo3KhSGpk2nvmgQroMceBB/9t0kSm7rikfoPIhag9Z73pfzYAlisa/7cwFoLOHvYZ0ah+YmWtB9RmGpvo0eMmR2/RYdYa0caWfsrDpLQemGPkTK7n55C3FRu1SSp/PDyhjUxbVT/dp2AZm0ut5XlSj5Awoyic/N60O0EraPQ/XKnDkACvrQLWq4FhvFwRh3T+ivftFR7lM8YgXLTxz9t9UVAo2z6FeFvBc/yxiNff8/VeUH7+XKOFCKzRpRhgzrNHK5dA5jM7ed5NMN1/N6aWwugXY0CfdaM4Rdl16TJE0sbn26I1ygO8fdHwjmztz9yWVJu4jTpRwHPnLgqRvJPCeURLuHYNqMyBLLSNL6xsrZehyWBAxFvxx1bws/ePLMCk3KDhUd72AEEs8sfDQLfr/mpHSVpgN+owOuFHOAD3gfO15JWeAbsD3Gkppm2Ip6Z76ASyoogbngnobKqxXgAsDuoPSUO2jIEKYUJzpX9r7jy4pm9zWT6UF+X0txLfqPXKkzWo9TiYGDYG5Pe2DWMoOLwwsa+iDRgOQ8QzyE5j7cZS1X3/4rFTPbDz7UKkakeoRe4h1QCMUbkH+o9LaScInLrziJoJ5aRUHjQokUz50nOJYHpAsZub+m3n76StbOxchdVw7HPwJINMgKV/+Dt2uQmQ7lDIfnwfrOkDqMlDPgjjvAK4etuEC0/Zc92BJ6jiR+bddwR994FqZt3fPdbk+cw7cRA7bsyTyu2Wnydyj7Lj4iE4uqZW+cw2XRwzw9cDeRl99/KIeOEv+w+gBw+HrT6k9/RBJYkRkT/fiNlrgQNOu7VApKuNkgDYHDRkmFXJS5i5l5kITvO70fWrmSky0CGEM6bFlsDWavAKuLCc5d47CLBd9QfGmXnBoks996rYYZT3n2BxY3wlSloAGq/2rzX2+gBALAOen19D6IMR1rzYVdoNiI3cqz0UjzAbmGadfkzNA1+8rs0c6A3QDHtWoqBT05utd4dp2yNMSyo8woCXoD7UuHdvbvTiJY0QMuptyXQ6rmkGywtBofdDdh8XyA1efUHfmYVLEjsSOru7cp3o21n7xSeXF3aNcOloVTalnyk8xRqP70TbrI5+rCd6Qvy2pZJB+d8kIp4sXjKjW1rSFU/9Ayb5QuKsJ3oKOS07y76n79CyXjpbOe9YUn5qtpNrk/Zy4/cK+H6IjU8PbR9ByD8Q3p9fagx/2jobtAyFbPagy2WwX2ayvwvi9nLv/SkFSF2yMzeceKn8LKWJH/qFT60P3rvJnxfG7dFuu9pNfH1reV05sQYbP1F9FiBd+9TRxoyCVV2l6b1SA6IZVy0ydPOa3mOQftp0HLz+wuk0BsieJrttXWkti4dSxWNBUoxLUPd3xBj48C1MLqkFt92sBb58AJS6spbYqlh+pe33BH5B75JvQE0uFRdTwoAE7pikLdZf6rkswjJY3ggTZocUu3evqHri+CxybBQU7QakBuqfpGqhRDNf+B9JX+jFFS/ZJpdzqNgXtykWvy05fBjkDdP960Pb5zgDdgO9qTT3IkZvPmPRbRiqszQXfPkO7YxDLQh9jQFdQHyrosNcfvw36dFA39sK8ihAzNbR3RzgNqtdH++AqlCoW/zQz9lEyeddVRmy6pGAsCCWScBhLlqRhgSCOfuvPi5mx7yblpFuTHV2LevgA9qd6L9NrTTuI0LmNrpmV6jmNoR6bbYup+hbVhsuboNJ4yNnQFNWar3wErDRlFacS/3ig95oz/HPotnLoJ4d/dpFpReDBafWgtdZ8iBjD3GW0LF6BDlB6kLm6/aEtS//NCtWZFjB7p2rvlcc0mHVE+UkqTaT6RztUb7PwOBvOPFR+W9IiH/lSeAPUZVGqZcsl6ypI7Vq5+bn7Lzlx6zn18ia1S6ChfXcZ/Rsfufkik3Zeo17eJAwJDtSh757BCEvlVq8HEDaAEyNaO6DcD8LtHT6a7js395BtSNZ4fftCZEoYDVa1BNclUPwvKOoH0PLjSzApjwrQKKXiZjA/WFs+tyLc3AtVp0HW33TvSdfAFU3g7EqwoomTQy3hp3/0+iNzGuWmeLo4ulQF1iBngB5YngdngG7A98VH7eLGk7esqxGNzOsrqA+oP2+Z/8AwYFNgDW0w6zB7rzxhRI0s1MqVOLDM8P+6T66onLxho0Cvu/7XF8gaxm+/wpitl6mVKxEjahjLJGlgMqFDhlCo2eT6ivzMPenyMk3ec4OHq3p5cDmlp9Ze4itvrL0WDQi9GijQb4sgXQVTViwyYie3n71jeav85E5mclBmioVOJQsP3+Kv1WcVcMUVrQvoxsUw5Ln5VeD6TnVKsZ5QrIeh6X4OXtUCXJd6+ND2c46dBwhgW9YBan/5+YFlPFCbWS8tz7Aqwrxi4b/W0LS/fvuusFI8f/dZGa4By/lktnYdAzoj3WXZKVaduMcfZdLStngq3V5tu+gE/7k+oFf5dLQoEkwqwoTqTzLZrfZDPPvgoHjrYDkcEEraz2/Vn+sugzRldF8LrdJDqN5Kpo8Ls8vC7YNQYzYI05FvIpSMQ+KpIG5dLkLU+LrX1TVwVBp44wbNd4BgTJgpO4bAnhGQsxFU+lvRfMXtNaXG7iFc6JCc7lfaCRJnpr+DmS5ngK7zgspLLnN/tfT0SPmHxNnRJdiURet0gYdhWtmcZFq7lEpjiwrHmPPxtYoSKiKns+Hs0CMZQDu98OCVApglFHgdS6amsw3XpdzfexE91lIte0LG1HZABP4A8KvWE2691M3h5gSXPpk/cccVRm25bCo1UgC4yu8lxmWBF7eg6VZI7JWKyW8FHkdIO4D0pwqi9L4/i5MoegBnlIwa/JOOl8yZPFeevPmIcC8vbJbXEDaGLrdp+AYy2B7Upv9Uh6vboPIkyF5fl0n2HqRltGNGCsvxPqV8Xe7ozWfUnKr2Lcvhovy9tPnnhAf6rajhQys9ytKL3sQbjI0eK11ZcvQObYun5I8ydqqE8GYXY7de5u/tV/gtd2KGV9ePZVNy9C6uPX7LnMa5KZ7WsbOUuu+VmS5w9yjUnAcZq+ie5u+BpxbBGiuWm3BRofpM3UF6u0UnWO/6QPlWlG9GxmSAV/eg2XZIlMtv88Znh2fXoeE6FSTPLBEudukTF+lxB8Kb3FKmIblbtVBq1JO2VDmatW0jepwZdCPeMnesM0DX6c87z95ReMROJLt4seAuQh+dZirYkU4zHGaYhmhfLUdCxtQK4sGbUGx8egPtjkMs/Sf0DnMxAAHTydxvyw/6mxHVs1Art/HKBq3M3XpvWRJFY21wQxTXefEmbL/C6K2XPYy2d4CuISUXTCXBjDFqIZ3bCpxhQxKoGZj2JyCm/zNaEvDlGrxNqXi8NMi+VQ2B47Dgs6pkjSpM2Kf0L9uFk/rDKxXETfpVkxaExh6rXvztyWlF4cEpqLMU0pb1tzozFGw6+5BW/xz/wXnul05JMsg3zN3n78mW+BdO3XmhTJGS9wUHb/14d8i/XRtqAfOyKJW5cshy8eFrptbPSdlM8fxazrTfbXkeCptJhr6bPPY9m2ZRICpa3QpOL4YSfaBIt4AzZHljOLcKfkkCL26r6wo6eY9bENpvZoAFB2/S599zKO+0RjlgsByYCKjjFYis4/BEa4+qMBpyNzNv33ePw8wSEDkedLtknl5Nk0YBGTURdDmn/KuGqP9n2XS0Lub/96D5RnvU6AzQ7e1hn/U7A3RPvtly7iFJYkb0As60+uRdOi89rbzY1kQcCrf2QZUpkK1u4F29QFxZ44TOkzwGy1rmD0RLTFh6Qk54ehUarofkVjydJqgOKBWeM70LmuahcGrjaMaPXn0gz9DtHsyOEj40rv2MUdwE1L7tuc6qE3fpskwFUKqUNQGCCiw9tNVy2Lcv/OC1p9SZcUgpCd7RzRjQnz394S/dwjUrZYoiBvsXfVpXo++JHSUcRzX6Hn8Z6ZxsTw8MWn+eWftukCPJL6xqU9D8pW4dhDllwR5c5UYzfubvzovGmXuvM/i/C1TMEp+JdXPoWlEDp9IGa2XjGpe69u+ecTb+WH6a5cfvKgjcB3qUIK4AfQWQCB6HYE0YQWOXKrLKk/Yj1QWC/m6Eni2AtmXbMntGwo7BkLUuVJ1imw6js55egwmW+6vWApB2jy/vVS06q6Euu72m9Ng9CLuMa/s0hJ2cA0KHh78e6msR3fwXHJwIeVtDueFGd+DzeG8y3OYpB94+gZGWIPyvh9x+9Z2io3YqrATbuhQlVRx3MEdT1zVRmTNAN9GZBlU5A3Qrh2kPdfkn6Q2xpqDQSrqbF0rGX2fKwceXAd8HZPDi2nP48VvPqT7lAAl/icD+HiXsuZT9dWsgIdVmQpaa9l/PDiscuPaEujMO/9C8vWtRUloh+RpZMt/Q7Tx89UHhLRUgE5GTfUoRXSenupG1HHls7WkHOXzjmcJ7PuDXjHYBQPJu/7eevqXoyF3Kx4xRqjyH9efzW/B3FggVDnq76fso82MzcpjaYsHx4MkZ77AX0nbDHr3+QP5hO5DeZ/88n3y0wF586NYf2YI5E8FvOixtT+0AACAASURBVDLbvaR/phZsGwHfE0C3CuP3/VjkdN/SRIsYBs90bZPq5qBCFrXX9/bTdxQZuVPhOR9aNTO/2QGp3bddP3j5XrlvpHrx3MAyhAsdyk8nLTlyW2n3CiplxH5uSBugIZonygPNtuqeZvPAh2dgaiF1evhfoPt1eHUfVjVXe8jl3ySTX6C9r0tIO1JOC97BlsrfSbO5HsRKA+2O6jPt+FxY1xFSuUD9lfrm6Bm1bQDsGwO5mkLFMXpmGBsjkfjwpGq80OYQAw5/Y87+mwof/fwm/m/zMmaMbaOdAbptfjNjljNAt/KiBrAl/6RwnZdNx3rX+wjf97CNF7n66A0LqsWh8AYXlfe8130IZX8eSTMutNk6tEyrvLQvDS4XtPmaVzaDM8tVF9VdDmlKm+0uu+uzzvZK5nVTpyI2A5kJWNzg9edpXzI1Qi1oC8WN3Tds5wVevvtMjsFblWAioKkEpV0hbe9Nyg6DzcGIxnsbLQl0PmPK1Zt/8CZ9/z1HmYxxmdZARx+jKas6lfjHA43nHGHnpce0L5GKrqXT+keV17lfv8Dg2PD9G3S9BFFMKsO+tAkW14ZYaaGdiobuCNJ07lG2X3zEkKqZFAR1vaK1p5XPHI/J9VRQLAFTE1A1TdoVT0W3Mur1mbv/Bv3XnSdfihgsaRHw1XJSXi9VXYJlsKh5XgqkjOXnVvv+e5b5B2/RokgKepVP7+f4IDNAC5gjRIc/b9rfbGvk9uqzIHMNdc29Y2C7FSWZjr+3FvOPseW8G/OzXaTIxYGQqhTUX6FvD7cOwJxyaol9J3PeH8rCWutKxbGQq4k+W4yOsqzxrtp8cq8IpzDC2KXNx6hdOscH9QBdoGMnSBUk8A2Q452OwBtf9i/1QaMBwfSXBo7NEhMCblZzBLlAaliKW3TNExgr4ItljNQ+WmBLPawkx54qb4bf8tMH6G6vPhApXGgihwtN/ZmH2XdVRa7+JWIYNnQoTIHhO354UXodXWt9JMq/jVWuVeFc/UlFTkQz9tvM+89f2dalCKniBF1wNbTyKbmWMVKoPbJmU3nY+T7RPrqqZEugYAKElJMTE+S36Qc5dP0Z42pno0r2hCZoDBoqNLq6NHEjs6Vz0QA3WtCVn7z55E5LE+AWmLzghXWwtD4kyg3NtpmifPjGi0zdfU2hjur/a0ZTdDqV2NcDa0/fp8PikySKHoE9fxQ37Tn1w+rR6eH1fWi2AxKZhMgsJcVSWuxgHOhlx+1ResLnNs5NMQMgaBLwnrj9nNRxoxA1vJpgkPf5uO1XOHn7ucLeUTJdHGY1yq389vvsI+y5/DhQ0dA7Lz3F6pP3fiRO/LpLtfdWsKOq/PgGhlnewya1Cvnoy29fVTC3Nw+hzhJIW8596M19MNcKLLX2Qkhf0dfLouHbTEmwkXLPFhjLWr95DKMEHygE/PUAwkTw6xbw/XdpuZKkzNr2EDKMeqAXyWeKQX8tZqFaO5yqM7XP5iZ1HPmmKBJk2i6CeoC+EZCguCUgT7s5gNRt+NacLIG33N2NgJfAREtwrzVmSQ3PKUug/YdF/3xgBtDLcrNoAbocc1rDLj+y6NJzTwWPAP2BK1zdCgU6QqjQevatjJGXjgA2SH+SIITKR/nHL3LGokrvCumVHi9NFHqR5NtU2gRBchVE159YtL61sbWzUjW7ffty7erm24dgST14px7O0GQzJAla4Fx/rT7DwsO3Tc9M/bnClaXH7tDJJbXCif4zyLGbz6g/6zAfPn8z3Z96/ffrxH243n3JjN9zUSpDXL3THHfc0ZnwX1dIVxF+W2iKnZ2WnGTNqfv0LJeOlkUdH2zHlE0HcSUC3pV78DZef/zC0hb5yOsL77ZNW9VQroULPUNlm1R4mCRBirRA3T4A9syy2WBpzkFbefr2Exs7FiZ9fHPQp7V+b+ndltY1AWIsMWq3AiC3tXMRJagPDNGA4mRtqb4QNHDf+srzDNmmtGetaVtQwQ0KViIl0x9eQOuDEDeD/bZ2ZgWsbKrSCXe7CqHDuq8lAe7E3PDyjvpvBTtBKauMujdWHbj6hLozD7M44kjyfzsJLgOgUCd99kup+P9k3y+h9QGI688D2XWd4LiEapj6TvJ2M5YDvv/ClqXtq9+VNpG6eS3I8fp2H6ijgnKALrUz5wE5ajxm8aJAfAqEqEQs973xbDTgsSWA1+o7hLNCIkGpHzoEyFHVeiCBVVa9FfA/QJCfPgnbpyWDHh1Q4TiNS9AP0OUFOtDCf+sHaJsAVQjYSf18SZVsoJxACw2HtcSKHJY4UcJz/sErUsaO5OH3CXWyU+lcF7i8EcqNhLwtjHs8GM0YsO6c0k/TuGAy+lXy5wPTEfyypg2cWmjsZNcR7BasFku5o/Lwfz4F7p+CPM385hj1w37t1Fsy8+N+y+4gu7WvGe0Xn2Td6fsK4uz0BrmUCpuAlpYLjrH5nBv9KmWgccHkAb28+evtHAq7/6eWEUqgY4JoGAF//5aNytl+nuoOE1wXqCq6rzjNsmN3DdNm6TJ6WUM4vwbKDIP8UpToD7myFaW66okF3dneAZEBUz9//Uaa3hsVsCkBQYsV2W8kbT3qpb2m2MhdSluT0Gu6vf7A/qtPETBYOVAJLLA1aanLO2y7sl8Rz4cFAuIrhwtSSfP563cy9ZOiVK9YQnp84PBjpCdcSt3t1Y4nrSIn58PW/mrvdJE/oERvr24RfvIT82BDN12Uw68/fKb5wL9ZEnYQ30OEIkSbgxDbQJvLD4q5uZCxqu2XSW6i0WlV7nMReydkLBR1B75lpO6nv5SDL8FuCioSlAN0aVqQUnUJkjWRr7kPgKBNrfbmIgiilsAkew6sbwHjAPl6GQj8CljzV8lX2nVA4BRPWgXoMk+ezmeB/sB+Axc+6AfoFzfAkjrqlvO2gnJyhuG9aFlG+bVsxnhsOveQGJHCIv1WQzZcUEDhhlfLzPYLj5SsobUkixmRTR0LE35CZrWErvEmSBrw/VgGrq3dh2rI9rmSRmdF6wJ2X8/uC7guh1XNIGkhaPyf3ZczcwGNv/yf35JTaI3VfdlkCyTJa/NSW8+70Xz+MdLFi6L0tf8MopWOzm6UixLpAid7reFhSPZcsuhBXtZ2UD/mivWEYj1M2U6RETu5/ewdy1vlJ3cyyyGtKZqdSuzpAS2TZhf0fa1dKV9bKDvU9m1IADS9GHz7omYQi/8FeaVI0jFEWvPyDt2uoKpfHlxO+V+zZPmxO/yxwvWHujChQijtfoGVPdcM0Zhj5P9b991rYJHy70IBJ8FPpYn7kGTLsd6+88Ob5bMA1bO4DlzaABXGQO6m5i0tgfnXTyrewg1L+6a0JDXe6DPW0qMLMDkfhImksnP4UcG6b3AZCn05xJ2UdUjcYKox21e3htOLoHhvKCqFxTbKkyswMZcKWCo2h7EzI8HtwzC7NHe/x6LM90mcHVAm0A66bPFYUA7Qpdy8IeD5GEjKzPtZesg9+0RK36W2wvORp6CPSE/5n8B0QFA/ylhNjiig/UB5QMrqZU3JokvmXnQJOWADCVMBd7QPj6vLOOt1pV7p7suXL4ka1ZwSKVtuAH/NWVgTrmxRVaQpC3WXelEnKKATdlxl2dE7fPlmOYK1jGpZNAU9y6VHTmijhA9DhLCh0DgbNUUrWuUnY4JoRHh6FqYVUekhBM0ybCR/mR7UJwtonsuY3QqI3pn+pQkdKmTQ3pLGWRktMXSW866gI9kGbuHFu8/sq/yGRJs9VXbUnAt3j4GU8svfRyS/QXa0nT98+YF8w9QPwXMDyhA+jN8IukHHa14t/fL1Gxn6blZKOgMaHM7aGg1tWZDcT/UtHfT9vug3tfKo4jjI1djft4j00QqQXmBfJ39v5CdU8O7TF+VvTOREn1LKIblpcmgKbOqhlrdLmbst8uUjzCoFD05D6jJQfYYapDuQnL33kooT9ilMG0dMphgUYMwRmy+y4cwD4kYJr5STF0il/51hTzeN3XqZv7dfUXrkh1XPrFQ7Fhu5k5tP3ynLdiiZWql87LjkFHmSxWBZq2CYRNnwBxyZDoU6g4vk5EwQCcjn/aqWjrudVQPu4r0gZyMI5wsVmFSwDksMn99C2yN+ZsSfDU5DjC9urM0xk19/NciYs3c0bB8IWWpDNQmRbJRjc2B9J7skYuS9JMClgs00onoWFWPD0j//7XsIasVaxYr2QYv1yBEDdCHak0DZN5Hy9mqBGKB7Z9tuYcWwBOre/S5/zXJw4EGCbIAuD4fhSeCTBY/PB4RgrVfRO4d41wcnACrVJh9QhkvwKZRrYUOHhK19Yf/f/nv52/hMccRpAiyTqf9m3n0SoLigwenokx/P33/F0GW7+OdFA74Tgk1VT5MzRVzlA8DR5eLDV5Qdt1cx81LhvYQ7OgVSFFNPwQXR2FokE1S0u+4tyQsn95DtSi/iqjYFyJHEulhIt5ogM/D64zeUGL1boTg7P6Cs+SBWOj0hfi84fAf3X35gWoOclMloEiK1zvVNHza9ONw/Ab8thnRyxuw/kfsx1+BtCpbjpUHlbGYs8J8Vztm2eqDwiB3cefaeJS3ykc/MPvTza2FZA0iYC5pLoaINolV7CFJ2m8MQJXCqaHyzfOfFRzSee5SMCaLyX4fCNmwyaE7Rqi/E+ohhQzGnUW5qT5euUK8iuELDq2cJmhv1zWr5BpVv0cw1ofpMc/Y3MhW8lc5biwhtWunB+nRrpefWKO/ezXz3DEao7VrDs22hRxWDlX0a0GjMVGr/vXVPvD5L1VEaa0/RHlBccLfNE/mOLD9e/RZb3aYA2eV76ft3Pg5OSLivb5mYbCLtGkkeNeiIIwbo0uftF6SflJvXD8QSd++u8EhASAt9OjYMXhl0t3MwxVNpdY87EN5jNUDGvpsUagNN5MT+2Vtp44crQ7xShMkJcs9VrsqYOnmSUDK95QU9LjO8uA0150HGKkHnL8yOlmql1YFZDmzG9nqsdGXJ0dtcCNeYCCE+UfTjGDJlys6ketJR4rjy6cs3pYpBSn2LponNvK894N5xqDZDBVSRl9rdo/BZzTAg1QEdT0NI/ZlwjRppYOWM/J4/meM6wwTLNp97SMsFx8mUMCrr2wfuh+/AdeeZvf8GcaOGY227QsSN6viHRT5eAkEDfnXPNHRtLYNolzJpE+4jpwrfPdBs3lG2XXiE6c8UefbNKAFR4kPXi/ovg/SlCkaCVBoJ4GyIkFBvBaQqqV9HAI5cevQ2f648Q/G0sZnTOGjwKZvhnvefvpJ14BbkveeX9CiXDuGID3ZydhWsaAxJ8kMTlY7T39JfgPSsqksrT4bs9fSpXd8Zjs32GyhOydJX4va32AxNvZSpDQyyLLx9AuOzw8dXkKcFlJdwxwYZnwOeXYP6q0z/+x61+RITd15VjOogYIYWKskTo34lx5vdvAkXl8idj3mJUWzYRYBNccQAXe/mNZA4aRI8bpkkJMryV+MXSJw0Tgslm4iUq8vbxDNInKDDS7m8iNStyh0ZB/jog4FbgdeWzL6ePQTtHvTjc2FdR0heBJ5cVXvDm26FxO4vrFtP31J05K4fvuhWOg3JY0VWOD9r5EzEqJpZ9fgJ3r9QUSRFet6FcIGDZqrP2IAb1fqf42w8+5C+FTPQpFDQA7OSF/3uy48Z8t95pUxuS9g/SBPyHvU/9eRixFwKAI8jiyCO15h6UKEF3NmpINHHJVH7JiUIj24Jpt8+VdFW51dW0V8r/a2WrumUMVsuMX7HVWrmTMRIvX8vOnU72rCJO64wastlqmZPyNja1hAgAW/py/efqT7lANJKIqWbUmoaJOXbNxgcB759hs7nIJr/GR80bIQsiaIphxdOCVoeGLHpIpN3XaNe3iQMqZrZPOPfPIJRqVU6pt6P9GfZPB/2524GFQReyDFFe07VypWIETV0fsM45lYMWyV/+2fuvmDWvhs/Ei/CsCP0cJpIZc2/bQuSJVEwQ3CXDd45CrNc1MN2M1rxBJF9iKcKLSM0hUdnwX9dIJUL1NdCGm8u68HJsLknm77mZkrc/vxry3P78mZYVEs9QOtwCqJbvsn13kUfXsHwxOroP66bSq0mVW9SfXfjiQo8LcCN0iYnbbPVx2xgwsu2JAjxDH5bBOmsKOr02h5I44JygC4uk35wSbEKyrpGsyZ94RrNmsDLSq3V74D0mYsIzZrU+clXslCkCY+6iJYO1mjWBAVe6lHlr2cBIPUsGs2a8BPcAM4BklqRHvT2gBwQ6K3tCtoB+pq2cOofKNwNHrqqveilBkHBDj9uZa2fXFBIhRMzwS8RlH7aM3dfkjJOJCKG1YnQLKAxgp4ZMabaf+4UxQPDNl5g2u7rQZaLWONS1i7noaTTiOe2m0/fQ1H/a18WDejg0L31Gsp6uUzxmFLuF5iQA0JHULlCPXO57xsH2/qpv7c9rPvltt71Pu0WnSR3sugsbxUMwAB9+dsVjmbhav6jTFraFhfe1cCVKbuu8b9NFxVE5TGBeGAgmSvpSS2fOb7ywWFI5IBoZAp1ihI0+R9xev7Bm0qvX5mMcZnWIBiA6BlyaNAfrAF+mf5MkcOgIXFVsKuOrl6fce+fgyC9C6dzvtbujjwyQ0WjFokUB9ocMvXj3ewr1u/fs8w7eIu2xVPyRxkhAfr5ZPSWSwq2kIhky+VdLlI7V2J6lU9PtIgqx3uwk1cPYEw6CBEKerv5DOCmd+MWEDMPw40koTTsHlHg27xVLcF1CWM/V2dxxLq2YydIouH6LsjXBsoO07tLddzN/TC3PERNBF0kdDJPNOBGa42CEbG5UxFyD9nG2FB/UynUIS8xinkW2EdTUA/QBT5WeMwrWfjH5QhJIkRLYzSSxpJAujigpXIloJbjWcmiy9eKIKYIJ8hDKxfL0ZAE8gIEJ0cy8+Q5BHyxjJHAXbLqcgAg9asCuyno7wI0p1eCboAuGe0JOVXu6rrL1NJzecEmzgdNVQAakTrTD3Hw+lO6l01Lm2L++ODW0OITZIcW7hl5vY4OruMWH7lNz1VnKJY2NnMDsNROA+OQGHTArxltQsWUoCN9X48lYjcL7wDhbAZOfUtBzE77SRxD8BkdU7Tyc6WCId41+Kc6xE4Pbb3py5OP15kl4P5JqDQecgq+pd9y6PpTfpt+iBSxIrGjmzyOgq9Iu4BkrKW3sXg6KVYKXFl14i5dlp2mQMqYLGqeL9CM0WjfWhRJoXz8GpK7x9X7LnI86GahrDKkwOtgrXJHSljl49wpQcsDV9xeU2rsHgQhXPBLksY0EXD176zw/KaKPp3U04GiVnUn7pIS9tQWlO/ljeDcapUJRmilDABpBobn2yw8zoYzD+lfKQONggMNow1OFGDfPEPVXNS8Jnl4+PK9Us03tlY2opsJPGiDbXadIu/xoQngy3tofwJi+rOM/9BU2OQJcqv/S/1b+PhGzUoL3k2k2NDhpNcKU+k/H5tJAZOr+6kXB79nsh075Mo2WFgdwv8C3W9ASB3gxNLCIpWFchC3uSekrQB1Funfo46RGj6CMD41LJCMAeuEgRu6lkrD6K2X6RV+JS2kaFqqF6WKMYhIUA/Qg4ibvTUz6AboG3vA4SkQKw202g9vH8FY4eIOAUW6wYGJPK26mFz/vFO4M/2NyKw9xNL/CrWlmMEp4oED155Qd8bhAA/epAJCqFRE0saNopyWz2+SxxDataD6d1/pTiej8LlH36pmmS2yp+5ViqQRSArHE2vAnPXtC5Hp/nL4ryukLQ91FntvsIYAW7ATlBqga1NXH73GZcweooYPjWt/a2IJXdODzCA5sMnYbxNC9HC4V0mH6PnWrnGK2JHY0TVgD0fkYGbq7msKO8CpOy9+XMebww2W57kug1XNIWlBaLzB3/fDo9cfKDBsh8LIIdmJtPGc7Ub+dmoAK5AD1t9nH1HKkpXqn/oG+1F9s3dOBbi1T8XhyFLL48h1neC4kOiIhFBRsAt2dOdF9i6oD2Df6FmuxpQDHLv1nEl1c1Ahi3RC/pwilHDnH7yid4UMplLNObw3pxRU0dYlOZXGn+/kjX/CYU+UZ0YCdHHW4Wmw0QI+a33wpTly9wjYOYTvcTOR9u5ffPr6XWlByJrYhhYEoYMTcGhBjm99QEWe903O/wtbeqttqlETwOOLUKwXFPMLB9zYXaBVdbmkj8PMhrn5c4WrQtesYV79Gf8ErZ+P0sUZb2xl+452Buj29a9v2oNmgO52Xi03//4VGqyGlBbaAuEtleygRdyiZSGvWw9zSnM1ftX87aDMkMC7Yg628r0X7xW0acmEXBhYNkDKwbedd2PCjiucvuvxlPfv37JROZsUlOgTLQvRvkQq5SNfQNaifHmuonzeEEIEWFzyAHUK+/EC0LecqaNuP31HkZFqsUz0iGEUvtdQW3vDwYm+l35pNEQGDppevPtEtoECbwGXBpclXGiDJc6m7tx+yiQIrTJpPzEjCX+ui01VGWZbd+3xG0qO3k2ksKE4N7Cs2eq91Sc9dLP33VBAEz9/9UhLKawWQren0MfolZ1DVQCuHL/Dr1o3l97JXsfN3Hudwf9dIGfS6KxsHbxbLmz3kuPP1BCPTadwXNUCXJdCyX5QuItHR0wtrLbDhQqrlsFLu48cZi6oEnC8yCZcGnnnyrtXKGBzJZMiTqf8VB6QNo3za6D0ECjQzn9bX1IPLq5XQd6eXIa8LVUWGKOi8ZQX7gol+3qcPSkfPL4AVadRZHNcBdRWxGaGEq3MXXAiBC/CJ5Hs3Oh08Ma6OFm4t9ZDcvNAYN98/EL/tedYcfwuGnWzVv2mmdYv2xsaX2wBURNCFzW7HhTEGaAH3lUKmgH6PzVUpNX0laD2P+7e09AtLf/yLmRkMr2bSvdyGfyP5rm0AVxYC+VGqA8wpyge+D97ZwElxdW04Qd3CO7uzuLu7pDgED6CuxPcgjsJwUKCB7fg7m4Li7ssros736nu7WV3GemR3ZmFrnP+839k7q1bt27vTNetqvcVqrUM/TcoqKo7uhUnRRwnlioKaMPVx0i/YpG0cSmfJYHy79rT9pv0fuE0cZjXTB91h2RwhN/73rO3mKLaezkkBVE+POGvjLNoXqeG2522dlsbPkxohf4sS+IYoP3QVhgN+QJxoWs70EBW4meB1nt17UvOOF3f9UrGcn+vkiSMEUnXvJA26N+DN+i9wgsBHJrbVN9zFNR7fPn2A5kHqC07XgPLEi1i0PdV/jLrMNvOqdikAsJ2MtBF2JYuRUkTz4as9dKmcGoplB4EhQU6xTHpssiT5cdvuQ1OgGO7+X5ny3ewx2+blQqN/9o5EdBLuJKFMzlXE6gy4YuDBQxrWGL1Yr/TKZhZEXyEldZXcjSE6n+6/YG8ea+2ZknscbhPaYTJwJDvzANbf4PdY75+xu1xw7RicMfTcQrMY3Pgv/aQrCD8ItBcviK4DyN9AWu7XcJj3HGevHqvfGh3a+SOEbBjuHWquUeXVVwe/2JDckKPO5+9eU/JMTsVKlqR0T9lo1bupMoFmlykaTKpWjIqb/QFNO19B8K7b+uk/30bAbqepyBoxoS8AN1//41wIcbPFNAzy5qD12K//1bz7UBaNaxHWUd5hJ31JRY05+hSrTUn7+XYjaeM/DErdfIkc5otchvZbckJRZ+glB/tW0YJzo9ef2J2jb09S5L4B+sBpPeTVxQeuZ2wAhg4sNxXwFf3JhYn/pPjTIvTm5btnFsK5QwHNZ9zBEGzDQBmppW9mSox0xZ9eBEm5YZwkaH37a+B5MwYl2/YFuUyQymll8uAb1D6rTzF3APX/W7A3WWLWQds5PnbD9gcGNu5gbxDt3D/+VuFYlLwHaSkfNnRW6z1us2Fey8U5gthwNAtWmWTXKbKpaqDUmPyXo7fePrdl/c66Ea3mN5gxgH2XnrEiJpZqZvXSb8dJxbBihZf01BpYFgCAtftAmzsDQcmq34IHQ7aH9UNnOlK52ktR1EjhFUu7UIFBgN1pXHG2sHjAc8FsLKVc8qlR6VWsZxa7oaEDvDGC5PSJN9WldSl1AqV4j1BetQX1IFYqaHDMTT6UHGU3dVqV3bCnKoqnaIwg5ijjT06G1Z3UC8NpNJAEhTS2hcpptPOab3XHVrPP+anz4//XJDAJ+5WWjCk4Gxbl2Kk+DuTSn+rpzTfaRY6psgI0B3znyOzQ16ALmBwwkcuJWpyCxUmEAr7p48KpdTnrYMJdWoZuz5mJWHbtaRN4BtUyLWzULEICIwNXNCMSgWvHkGrPZDAibQwjpyem8wdt/kCv2+9SOVsCZlU3zm84VJmW3b8zgAltkLJM//gDSKGC61Qy0ggLqjbklEQjmj5IuxdMQMtiloHTdFQhM3RNN2b24z4l5fwT7i6/NJnmpt4WjXjw8dPeAzerARtfpknea6HJ4F3L6DdUYhjBhDxwzsV5VgAXbqeh2iB6FXM7FT7oZnZJA8l0rsePC0oDqTR3weVnthRP2Wjdm5fKpagWMhGnRpw3fxm+SiUJo6Ns20b/uTlOyWrKXJqUDkkCNDktzVnFGqj/xVMwcCqOts+5LmUfkHhrhVk7Hg2AsyZMN9j8CYlA7O2Q2EyJ/o2L4tsO7WQO3rYurNM33WFRvmT81v1LM7ZiMa4EjEG/Hr9yyXk5v6wdyJkqga158CNA/CPb/9upXGQp6lz1g9iLRrFYOZE0VnbwXllukFstqHemR7wPgIzSqkBalcVvd4u8U+xJoBrkR1ol5Dv+j/zqmXypiRHA6g+GcF6OX3bh4Z/H+TN+0/24YiI3eMygmTn6y6ADEKKZUK0dhcBfizZ1y4XWZvUa/lJFhy66Tfs5MCyRPetdJMKOMGKEPwej2QxYXoJuH0Mas+FTFWtqXaLz40A3XXHEPIC9EtbfJGqM6hUUWbkybUTRJxZmkih3vEpVhpCR42roicK1ZT0wtjyB/v8rgoiI9LzBsgPvyF+Hjh87TG1pu5XwDCO9CltW3+qGT/O2nuVnl2QmAAAIABJREFUgavPKPgBQoUnXOWa9K2UkWZFVNqmxy/f8fHTZzacvotkQJPFisy2rsWs9sL3XenFvAM3zAYbL7eOJsruIaz6WJCy/dbYTi0VhM/HSe+nVJ20lxiRwnGsXxkVHEdQiwW9WDJBkhkPG968BROywdPrplGOzczSglebs6dB6Adnqy4zbicX779gXtN8FE4btIGwLbY3nHGQPZceKjSRP9qSubZlEd+xGmJ/kpiR2POrL7aH72caqKItrSS8eABj5LIoFPS5C+GEwMR+8Xn1nuyDNykKpBc+ir8LBPu1GjNd5QHtojRnsh9Y3qaQc8x4/0ZFuZZS9i5nVWAoqbyTi/1n3mpwLkG6iNdS+CE5JM3jnLWDQYuGwSDgcAISZ8h36AH/ZePyex/eztZCrQTcxoo6sx738YZ9f4C8M0tCSy4SBG1eJBBzjPZO0a9yJpoWTmn7IW4eAHsnqFUE9RaqF3GB/aAxOvjHqrJ9JbMzpE1HKjGlnD1DgmjU8EhMy2IWEkSCb+S1RAWnLNzZiZYEnSojQA8631rTHPICdD+Qq0D954F2euTaY2ZNH8fY8NOIwLuv/RAjKXTy0lfie+QfWNMZkuSBZlus+fS7+/z9x0/kGLSJl+8+sr5jETImlMfKMem08DgrPW/TpUw6JWM+bJ16SyzBgaC1Bwapkv4fKc0VBO6EMSKysXNRv1vMwJbIl2rBEdu44/OGvxvnplTG+F8be+Y/WNwIz0+pCdNiO1mTuM+ljEZtFyBQkhfNZU0hUU5oYYVpcW4NuLxNpfqQSysdovX9CqWVUFt9i5J14Eaev5FS8mKkiRfVbbbYdfEJlh3zDpaeaw3boFSGePz9v4BBy9Hrj/lxyn7l72t/r1L6/COgnVLi7iSKtRM3n1Ltz70Iv+yhPqX12WCMclsPaOXakQUEcVA555VrT8qjZvIaLoM0peH6fphZHiJEh24XHb4ocqVD+6zwUirJ2pVIQ7dyvokDVxpkrB38HpBs9dAE8OENdDwBMX17vG21RCsVj50W2h+xdbb18R/ewv4/4dZRJXvuP7mlXTTZTSH69CZM8K26CR8VosaDtoe+8MLL2uIjpVrwAkQz8Z5nfQcWR2w/d58msw4TPmxoPPuXUZJJFkXrnfdoBNWEndv9xQjQXXdGIS9Al0BZAmZTSJH+/Cj0G92XnqRCytBMyXwOtgz82sttD0PcdNa9L9zSkrkPQbde1jfl3BF1p+/nwJXHTisPLj56O9cevVL4TRNEj0i5CbuUjLHQKiWIYToL98fWiwrfpIilLKhG0SYvhZKBjhjOBCr5bU+YXowHn2Owq+q+IM9c2nIa/VedYs7+6wTgpN7QS+2nzNsCKo62rE4oR+SWO09zqDRG19JD157hr91XaV4kJX0qBcJ90KXBvQcJCmsWXzC2wKXdrrZ87Kbz/LHtEvXzJWNYDee318iFlYj0sgpInoDltSmemh7lA/KL+0fz1+2j8xvU/sOE2aHlLoddqWVc86aMxeKWBRzWZyhwrQekPSlDvw2KEfKC+0NkC5U/tpiqoVwLmrS8K+wcDduHQOaaUEujWbNFofuM1fr2NTAq97HMsCRYPSC84j43odlWSJLbvqWPz4dVbSBVCfh5pX067Jx1/dFLio3eocyuliMRHUulJVVcGy/GJxeE+6e/WOC/j/7BebXkXoL3Xt76knE27OXVuw8Kw4okenS/F51cAsubOY1y1AZz7R5qBOh2u87hiSEvQJ9VGa7tVugayF7XrAPGbDzPpO2XkL7lofJSqwFohQoDKQqrNFrlR0L+VpadKL0uw5PCp/egN6B3+FhCnoIha84wY89VGhdIzqBqjvUS+u+DPdG/rMJxLnzrgh6e0gpKvIZAPbRGFhrkS/6VIwVtvvMiT9Z63bHMv/vqMYxSy65G5dlJj0o5XH4oG07dVcDy5NmWvqYJdXJQ3cOXVu7vsnDzINSYDtnrWLbVHIiShVnChz1i/TlqeiRmXB3X+8LZh3Hp/guk1ztaRAFecpBX1snGaWCJhdLEZn6z/E7VLsF5uwXH2XvpISvaFKLrYk8F8NEcZWHuIZt5+OKdfg7bo7NgdUdIWxYaLHHI9j0XHyp9iyK1cydRcCgMCfke0DAFNnQqQoYEjldfKR7ZM169lA8VWv29f3JdbespPwLytw7RTiswfKsSFBgUayH6GB03XgMurrcI0ttJwbljJOwYBh4NoVrwMxho+CrijOSxI7O6fWGzlY8mHbZBgB792e2/jP7cOlhYDxJkg1a7Hfd3IA2LDt/g12VeChaSVN1FCq+DflYqCf4qCVHjq0CVIUCMAN11hxSyAnQJlqUXXFAQm2+DxL6IkSb813HhcVZ53v4CGnb/LKzrrqJKyh+JAMakrwT1/rXs/TsnYVoRiBQLfr3qupNy85VXHr9Fp0WeTuEmln7zxv8cUoLx7d1s4+MctPo0M/deC5hd9vXdlQcvaDP/GOfuPlfalWY3yUvRdHFNe/bzZ94PSUi4j6/pmWgmI1rUdOkJmKKX29S5KOniRwMBfhuRVC13swQQp+3g3hmYUgDCR1MxFUKHtro3LUh0Jwoyq0bbMEAL/tLFj8qmzsVsmBn0Q7XScnkREJYCZ8o6rzvK34RIpawJFXq11+8/mkWMrzNtPwevPtbfD79zFGwfCk4o6ftpyj7lYkrEbv5cZzrP0OUUD5SfsEv5Tp7VJA/FnQVA+e4lrGyjckX7l6ZbQlS/eWAHC+ZKTl8Qx+CiXXTKIRtKnO8BrbJTAmsJsO0RrSe61AAo0sUeDQ7Nmb7rsl/7oihqVjglfSvbUKGn0cZqVvinVpQqQakWzFwDas1yyE5Tk6tN2sMJbx96Vchgue/c/+TXT2Gkb+JIsvoRbKArdfoO9Ck0AnR9fgqKUSErQD88A9Z2hR+SQfvjXyO4+/OQ0HFJUPN7PQ+qZk8U0HdXd8HsKmrfjvTvWBKttzdpfmiq8hEb8rUHtF7CSOHCKOjPCnCZnTJ3/zX6rTpN2Uzxmf6zbaVbGrhcuczxmdYo4FwNbCtm5HCMrZ2dkhks9yS9npCbSE8v0pK+TOnfzSngd3a6BK1fy//8S0MrqGB4V3fD7MoQJa7aX2mNdufjexVESWhQOnhCLOsALfsvP6LeXwcUEL5dPUrYuw23nae1xMiFjWAcuJM8evGWXEO2KMd6dnB50y0ZdhgsJetlx+9SKNX8i6W/Ya3/tXXx1PwaqATepAlrusCRv20D5TSh6ObjVxQZpWIrBBfdnB0uNabY4YH/zTzEjvMPnE7TqZiiZaw0u/rcC9H957svPqDR3/ZdXttxNMYUd/bAilZwYgGUHgSFO9ln6dTCIKwHdf+FDJXs0+HALKngEoC1s3eeI9SxgnY+pEZWiqSJQ8woOtpdhMJNytif3VKtkFYqSbz53FCrZ4SbvUg3KNXPASu/nqpV3IULE0rBY4kTNYJ+/RojVIudkMj9qxGNAF3/0Tp7ZMgJ0KVPUvibH12CCqMgX0uLvig6ajs3Hr9iSasC5EkRiDri5UMY7Qt0ZQ0BMwSCOjj7IdGjT5DUpYdXsm+bOxclrWR27ZTh684ybdcVfimUkv5VbLhNBTTQDkHU3NCpqJ8FknnIM3SLgvi+tWsxUuvodfo070dCX9rCr++b07htfzIlclL5pR1++XXpSRYduamA5J27+4yiaeN+KTWXUk4p6cxWB2pO16d9WlG4c0I33YeA8OUOgiBRn7FBP0rDL6iTOykjf3KACzYITJWXmGwDNym0en5VE05YR1o9Vhy/Raq4URTgN+GjFrGEqC088cKWoLuSYmEDOLcGKo6BvM3ttvrP7ZcYvfE8QVHmb7dRxkSneKDnspMsPHyTzqXT0bF0WqfoDKBESkolUBcZ6ON8/cGoccqOy4zccA4DwT0Yne6uS23sA/snQcH2UHaI7VYKs4Fc1AvKevtjENt14K8CNJzTlzpWNmIT3sqbZyDo8VIVaEqqT4Ec9W33j4UZCw/doOdyL/KnisXCFjZioUhyUJKE8bPCL+vdPotuBOhOfXRsUhZyAnQN8EH4z3tcsfhQywtt+n4bkH7j3T1KkDRW5K+dMio1vHoIzbdDYgtUJUt/gVPLoMxvUKiDTc793gZr5a8CZCVfsPZK2/nHlB7x/pUz8YuN9BtSxl5y7E4CowJr/UKZEkZnXUed3LG+gIS/f6hO1PIDbbbF3v2bmldz8l6lN3hSfQ8qZEkYsEJBuwWv+Rdkq61v2WXNwWux7tt3+ZuS0spvlX9aA0cToJrOZXQAR+rzstNGVfljD163fJjeKBdlM+vjrre0+PM37/EYvJkPnz6zvE1B7j97Q6t5aqm7H26HCQWnbvlQ+Y89RIsQlhMDylqvKvmrFNw6AnXmQcYqdvtDw5YYWCUT/ytkveLD7oWMicHugfGbLzBx60Xq5U3G8JrOB0FU+s9XtYU8zSBz9WDfnzMX1KippHpFqlgM+Y49oOEsZK8HNaba7giNmlXeqXvfsViRarty22do1VkyU/rRd3a3oVJPEnhj0sLLL3S8fhb8sgmS5bPdIAsztISJKTBVqwvdPQVzq6u2Vp0EORtZneLKAUaA7jrvh5wAfd8k2NRHF9qk/z6tC0MqKBQIX4kGNldtMng0MH8CWvAjPIvpK7jupELAytqLlrQUSGuBvaL19tgTjMilTIZ+6xW6tcN9ShM3mlp6pJVRdiubjnYldWZpdo+DrYNY9rEwG9IO4i8by+3t3X/gef4zqIJinz6Bv+oEf2B2dLsEUc301AdWum0I7BoNuZtC5XG6TK01dR+Hrz0xCyCmS4mbDtKejxE1s1I3r/2XS0G1vfYLjrP6hD9MDQcX2nT6Li3mHvV7EXr74SPp+6po2pao9D58/ES2QZt49e6jvmy+hjTsYO9v4ZHb8H7ymoUt8pM/VWwHd29MdycPaLSRJTPE459A1H7uZKcrbZHfgA4LPZXvAJG5TfNSJK3O73pXGm6sHXQeOD5PvXhKUwYaLrV9Ha1/O15maLPP9vlOnnHH57VySSxUmlLqLhfAwiyiW7RqLf8ToiWEjichrI5yed0LQdnxO7lw74XyTlgmkx30bVr1Q96WUHGUDSsH/1AjQA9+n2srhpwAfU41uLIDyg2DAm0teuz0bR8q/b6HOFHDc6RvGdNj1/WAQ9NMlwfJzWLEGBAhhtuUALnuEdG/stanHD96BA70KmXbl6u/ZXL9tplHL9+xrkMRu8rKtfaGcbWzUzNnEnxev0fQp99//Gwbx7Uv/sDBTxnoEnm40wG69Hr2rs8b8g/fqmTNpQc5wIXTrWPwVwmQH6KuKle8Ljk6G1Z3sOnHvddyL+Rlun3JNHQt+23x75Yau4PLD17yb7N8FEwTR5cLg3PQuM0X+H3rRWrlSsLoWo6jl/dd6cW8AzdolD85v1VXWRcE6FEqVwSfIXrEcGa3p1EqWr3MkKzGkHgq1kEnLxU7xA4ROptM/VX8j6N9SxPbln4/O9YzpgSvB7S2pIwJo7Neb3VT8Jro8tVWHPem8yIVL0d4o+UiwyQ9qMstNQwINg9oFJaJPKCFSldmk+z9HTb3CzIQNZts8R38+t1HMvZXL4qFAjeWnj50bSEtied/4ZJ9VfwTJ8qzN+/JPmgT8vPmPwlk0xKeC2BlK0heGJqstWlqcA82AvTg9viX9UJGgP7po2+g/AbaHIR4Afl5A7tv69l7NJ19hCyJo7OmvZlyZuFSlxLmNKWh4bIvKp7dht89VMCtWrNhRkkIEwGkVz1MWNedVAhYWThtpVf23cdPCvq6NUo0U1vy/zIuN6jCfW6raP2qgnq9rVsx1p68Q5fFJ7AZofv2cZhenIefo5P77VQlONZFpWGrwVbG77rwgJ//OUTquFHY2jUQqv2Z/2BxI0iSB5pt0b/y5e1qmVWc9NDukK55/+y5yuA1ZyifOQFTG5lnUNClzI0Gffr0mQz9NxD5gw9bfgxLnJzV3e5vXct4B8ZWsMeNko0rOno7Nx+/tisDID2w0gtbN09SRvxooV/ff3VH3/sQ1gYgHX8b8/L2ocqkPcSOEp6j/cxcuNrjCGOOW3jgzO1nVPx9t/IyLi/lhnztgSKjtil/rzZVgBmO/LY94H0EZpSCGMmgs5fte/2vAxybDcV+hRK9bZ8fRDMKDt/KbZ83LGtdUGEF0i2aP2SCXAaLX+ovdHqPtxZfJI0Vid097GRV0dihJBH463XrwL66neD8gUaA7nyf6tUYMgJ0AYAYnxlChwV50QttmW9w/sHr9FlxitIZ4zOjsRkU8BsH4J9yED0JdDn9xV/Sby595/4laT5oukmvT7/rcVoZ9Jha2fkpVxKbfXHx3nPKjN/lEB+13MIWG71dQaeWEqTlx7xZf+ouHUqlpYst/cVC1SMgKoDHm6nM71DJroy+zU7wnSCByYLDN7j15DVCPefXOiC0aot/hiS5IFxk2Njb9lvwR5fhj5wQNhL0uaPrB0JDEE4VJwrbbKS/s9cHwTFPq1AYGe4v6oTZDtnqQs1pwbG07jWkRzzvsK0IOYKwJEQOb99loVyiHbvxhPp/HSRiuNAc7VuGKBFs0yVltlJybwlMTtmYUFtOzg+RYsKv13TvNfDAZUe96brkBPlSxmJRSxsBeexe1ZgYXB6QCifJSIkc6l2KeNEjBtfSIWKdl28/kHmAWkFycmBZ23iiQ8QODSPt8sDjq/B7DvU3vO9d21VobZ41pkP2OrbPD6IZDWYcUABLbX6HlPeiIb5tH90vQ5SgqYTrtfwkCw7d5OcCyRlcTa0+s1k+vFXfLT99gM6nIYbt78o2r2nnBCNAt9NxTpgWMgL0a3thVkWImRI6elrd9thN5/lj2yUa5k/GkOpmQGf88xEKF7TcZIlsHgB7JwRco0A7KDfU6rrGABi27izTd12x7HsLjlrvdYfW84/haLmjVo7dvEhK1nndVag8FrXITz5b+1cnZIWnN6j1tj8/161HlcCUfUF06EeuPeanqfsDaB9UNTONC6aAi5th/k/qZ3lbwKHpULADlP1NvzXyAzFEeqc+o7d33T+S+2kHgkT9RpofKVlgQRR/9OId5TIncOjiROOYvxbRH9Jrs62QxDaKP2fsy5KO/MO2cvfZGxa3LEDelIGYKXQsLgwGZcbv5MqDl8roytkSMqm+BYBMMzqFRaD8hN0KUJwEDGb7BLUqjbgZoO1BHRaaHjJ8/Vmm7bwSoBzfbmXGRLf0QLU/9yq9pyN/zEqdPPa1QrjlxpxglHZpLX25JweWc4JGQ8U34QGhGBueWN2KNTYiUxsel0mlJ3MQH8TZvtTA4tqWSE33cparZb9aWxIPH95A/MzONkvRJ9V2+YZv5cHzt47jQEwuAPfPQL1FkL58kNjrDKVGgO4ML9qnI2QE6Mfnw6o2ugDixA3dlpxg6VFvupdLT9sSacx7ZmxGeH4bmm6GpL7cx3OqwxWVb9dPas+BTNXs8/B3Nmud1x3azD9G5kTRWdtBJ1q6r4+kvL3ixN1ce/TKsdtJQOvZk2zvlYdqQGJXyfy8n+DSZnq9b0qCEq2DhgbIxDPSfckJlhz1DvDJmvaFyZI4BpxZpWbQRWKn8aUeHA35Wtj2tGnPf7NtajZehwjVmgTqK9oUxCOZDeVnOnTbMmTf5YdKFlgkQfSI7P61BOGEE94Oke+Kbks8OROpOZE/v1I1ZKoOtWfboS3oprSYc4RNZ+7Rt1JGmhVJZfNCGkaENnFao1zK5YatIoBy0hMuAf/+XiVJGCOSaRUnFsKKlpCyGDT+z9ZllPHS71dq7E7lhcgI3uxyYYiYNHHLRcZvuUC5zPGZ1si9LsZc7cDt5+/TZOZhnNHe4uq9GOs70QPSBD0sMbx/aTtN2rtXMCyhakyPqxDZ9gtfJ+4kgKqZe68yaPUZhfpzUYsCJIttgoUpqBa3ovf4jSfUmLxPuZyWdiuTANR6bdOYdMqPgPyt9c4K9nFGgB7sLvdbMGQE6NuGwq5RkKsJVAmU3Tbhu4YzDrLn0kPG1srOj5bKrOfWhMtbocpESJBV7Vn5My+8fqyudXSmqr3LWYiuljobYtkDgsRZYPg2BdDs1MByNvVsa2i+8sUsHOb29J9r1knGvNCIbX7GSj/63p529Av5om3+86E8npl7OoROr/fZkcAn79AtClCef7k0tAJhJQg99Bes6xZQXd0FkKGi3iXUcX+Xg5sH4Kd/IMuPuuZqND+OUunpWszCoFl7rzJw9Rm/EZMb5KRiVt8XDhuVCwDb/K1HOBrR349k6HAq6F4QlcnZaKIyXMNWqJYjERPr2s6SMGDVKWbvv67oKp4+LhKgRwhruV3InJ0aqN6cX/JSNJ0ZNOk9E2DLAMhWB2pOt3nLkjmUy9YT3j4KnsWGTkXsttfmxY0JweoBDWcgSvgwSpZYfj8MUT2gteyVyhCPvw2Ue+Ox8O+BP/PBg3PQaAWktuH95t4ZlTfcDXugn756x49T9imgrRbbVF3wJIzacI7JOy7bXX0WwGSfWxA+stoC5sZiBOiuO5yQEaD7cTYPhMKdrXqr9LidXLr/wjois0Z1IABb3ochQnR4+wxChYHul2B2FbU3pP4iq2saA754IN+wLdx79tbmUtxOC4+z0vO27b3iZpwvAboE6iJ2v9wcmwv/tWPXx6z8GnkQGzoWJUZk24HrbHk+jl5/ovxARYsYVsmW/rrMiwKpYrOgRX5VzdbfYPeYgCpb7VEvmWwRX553MlaFOnN1zRy+7izTHGhh0LWIjkH+g00Znj3pD3Qvm17J7l+495xEP0SiYf7kOjRB50WeXPfczvIIAyFGUhUg8vYxKDsUCrbTpSM4Bm0+c4/mc46QKWF01tmIdi2lecIEILgMM/+XhxIZ4jlkcqu5R9lw+q7lbP6GXnBgsu3tF76WVf5jN6duPSNC2NDMapKXAqkNejWHDs2NJ8ulZLq+65WqDGEASRDD6EPXjmv0xnP8uf2yw1Vlbnz8hmn2esC3wo8qv0Ouxvq1nF0DixqAvQjw+leya6TGxBQpXBg8B5Rxm4tZjV5tYt0cVMvh215g1w5DziQjQHfdWYWMAP3vsnDzINSapYJhWZEsAzby4u0HtnYtRuq4Uc2P1ngkA48wQOGsudji59rLe68KGWhZLLVVXVLGOnPPNaXEUWRe03wUTus4wMeELReYsOWiolN60ftUymTVlq8G+OIf3AiVkKKvx1I6YzxmNM5jux4bZrT995iCPF89RyLG18nBrosPyZgwGvGi+b60CvepPLv+RUC4bL2JvX8OJucDQqk9wnGtU6cJFVenRZ7kTh6Tpa0L2rAr5w7VMvkC+jd152WFlzuw6EWBrfT7bjLcXcPY8FPVcuyMVdQKhUQ5oUWgdhfnbsMmbdcevqT4mB1KwHpmcHmbsowapoFc+hzpW9rhF55xm87z+7ZLX4ALTe1kSRM4vVwXNWbg6adu+VD5jz2EDxNa+R5PGst9yhxtOjRjsG4PFBi+lTs+b1jZthA5kv6ge963PlC7uO5ZIQOtdPyefuv+MPbnzwPaJbtQiQmlmF7ZOxE294csP8FPf+udFWzjBGNGQFGltWl+s3wUcgPq0+uPXlJs9A7ld/dY3zJBnqgJNmdbWcgI0F13EiEjQB+TDl7cU7ke5cbPgjx/856sA1VEWAGysohQLHznE01wCttQ8uu6o3PflSVgGrH+HBWyJGBKQ+u9zV0WebL8+C2/DVk9N51b90/Z9mf9nFTKZkcJ9OMrCu3ep7CRSPvqbz5+glVtCykZ26AQrdQzVCgUTuAMCeRPNJDMrwUX/bEKRE2glmPLJFvl3zpwYQOU7AdFA5XNm9Cl9WAlihGRfb1K2bqa08YXHrkN7yevWdKqAPefvUUuNUTiRI2gZNFFBGVcgnRzIGZ7Lj5k3ak7/HvwBl3CLqZD2JWQ+xco3hvGpoPPn6DDcYhle7+30zbqT5FkFzP138DbD5/Y2b04yWNHsbiMoGMLIm7sKBFIETuyUt5ewyOxcunjqAgSfM3J+xQ1W7oUI008ExehMyvC9b3w49+Q1RfUUOfC/VedYs7+684pJdS5pjHMtR6o/udePG8+ZWrDXJTPYjs2gmutD7rVa0/dz6Frj/mjnkewgZQG3W4MzU71wO5xsHWQ7cwjqzvC0VlQtAeU7ONUk5ylrMtiT5Yfu0XLYqnoVSGjn1pJ6Mgltb3tWbbaJ5cFW87eZ9u5+0gbZpG0cZjbVBIb34cYAbrrztn9A3SNDk0o1npc+YK2bsZnNiOe/pkfHpz9ok34E9sfdzseZNc9IravfPDKI+pMP6CAdx3obTmIC4xWHidqeI70dR4XrnDs7rn0gKaFU9mUcfTb9fvXMFR9Weydbg3/nnymXDyMq51D0ecQSIgJ10o/9O9bL1IxawImNzBzuTG1CNw9qQKZJcwGGSrryn6bPMldY2Dbb7p/4LXe/nBhQnH+twqEdkGvqFCFZey/AcHIkWywBOWCAP1D5HBK0CqUZIVGbuP9x8/s6FacFHFMB7Ipeq4lNJ+IwhvGRfqbMp/3Q9khULA9aGCRbsbgICCKZ+48Y8bPuSmdSVD4zUvXxSdYdiwg0OD0RrkoawcwnKlVNDoc+UwqGYTGMID8nhMeX4b/rYUUhW36Iik5ZocC7qhnnzYpNga7rQe0yis/tgq3tTR4DdNatfRWBAWvdcZqLvWA11JY1hSSF4Im6/SbIu2bV3dBjWmQva7+ecE4UqPXzJMiJktaqdV6t5++pvyEXeRMHlNpewoO0XjPtbUm1fegcrbvB5PKCNCD4ykzvYb7B+izq8LVnZCzMVT93aqndl14wM//HCJ9/Ghs7FzU6njWdoXDM9RxArQhVG6xUlqfZ4ww6wHJXEsVg1WUZ2DImjPM2HOVtPGiEiFcaJoXSeV+vT0jksObp1ypvZWSc+4p+5bAPGOCaEo5plmaKTuekY4Lj7PK8zYWyxn9KkrXhdcoAAAgAElEQVR2QiIHs6GnV8KSxpA4FzT/AqpnzvR3Hz4pvaIiR/uWJnbUCHbs0rEp0mNedvwuizRfdabt5+DVxwypnsVkL7oE+Rn6bWBw2JnUDbON8KF8S+S1YPLCJvi3lmqoBOlFuroF0q32fGjtD+aevZuPX1FkVMDyfAFf3N6tOBHD2QcMF/jUTno/VagA5ZmQUvQpDXMqLUXJY0dW/yaGJYF3z6HdUYhjgU0jkGKfV+/JPlitEDnerwwxo4R37IExZocIDwz87zSz9l2jdfHU/FreRnqlELFD240ULB2hRpTLyEN9Sn1pc7JdlTHjW/TAjYPwT1kV4Lizl/4djssMz7wDMhjpnx0sI+X3peqkvcoFvFzEiwxde4a/dl9V/rcfaG4QWzN+8wUmblVbJaVF7GhfB9Hbg9heZ6s3AnRne1S/PvcO0O+chGlFQBCVOxwDyW5bkcVHbtJj6UkFWVgQhq3Ky4ew9BfIXF0tbzXEKR6Qvt7Tt58xrnZ2auZMYlZnvekH2H/lEaN+ykbt3EmdsrbTlWh8lY1WUH51WM7dfe63xOp2hcmaJIbTltTKPKc0yEkFU6jknz7Cb3HU8uuu5yGag6Wg907DlIIQIQb0vK6rTD7nb5t5/PKdUoIvfPXBLeu97tB6/jGyJYnBf+1MZ2b/2HqRsZsvmG2zUHucd3MtYoMv5oeLDNLLH9b30mFZM/Baon4ufPMVRwf3Vr9aT0Nylw86lExDl7KmcQM2nr5Ly7lHlfORDIQE0ZLhFvA8Z4qU/8lLlNctHz+19fImY3jlVDDMN8vQ8yZE1P+c7LzwgMb/HFLK8nd0L+FMcw1dbuyBKTsuM3LDOWp6JGacE9ow3HirCNtJ3xWnFJrD2nnM/+61nneU9afuuh2atTv79ruy7dltGJdRBTbue19f5ae/qkC6X3YrphL/ZyctWtkHqRe1pwaVI2qEsErL1t5Lj5T/JpfNwu4R1NJ+wXFWn7itLGP2vSyojXChfiNAd53z3TtAF78ISNe9U5CvpS4vSXmwlAnXyZ2UkT9l0zXHGOR8D2gAbZb6deTlPsfgzcgXsR/Ht/NNcVzj3BpweRtUm8yER3n8gOdEcdsSqeleznnZHo/Bm3jy6j1rOxQmcyITgf/zuzA2PYQKDf0eQmgHs6HKj7X05n+GbpcgqhnKLH9elBIzuaSY/Uteipmj2HLc62Y1jNl4nknbL1n8G/ffIy0Z3YhhwygZ3lS+oJFLjtxkwtKt7I3Y8cs6yQrCL2p1gCIf3sHyZirvfJz0aoVB+Ci6LjGCavtSvi/tI1cfvrTIi6xdUNTMmVhpxwhK2XvpoVK1JBUzIlJdsqtZchLMKgBy6dH7tk0+0zixpUpggh10ckG5V0N30HlgxXFvOi86QcHUsfm3uS9jRdAt5zLNUr1TYswOBRBP5MqwiiZbhe49e0O+YVuVMRs7FSV9gmgus9lY2E098OkTDI0PH99Bx5MQUwdzyf2zMDm/TZfyrtq9lgyQ96EkP0Qm99DNSuuayN+Nc1Mqo+U2L2fYrSWb/vo5N2WstJU5Yz1302EE6K47EfcP0G30Ta/lXgqQQ8dSaelcJp2Ns43hzvKAhngpLcr7e5UifvSvaXO8n7yi8MjtSD/z6UHlnd7P7ay9sLIteM5TgNSuZmqNUG1oPxKp40Zha9fiTlnK1I3xV4pve8L0YhA1PnRTUe8dlglZ4ekNaLIekltHZtcQ1Ef/lI1aLqh6aDLzENvPP+C3aplpVCCFye1/+PiJ0mO2MfjFQKKEekPdd/2IETUK27oV4+ztZ0qQWyn0Af4M769tplAnKDMooL5Xj2GUv5aX0oOgcCeHXe6IAu3FXf62JLMQOXzYr9S1+/cYa07eQS+TgiP2yFxB240eKSzlJ+xWLg/yhDrHkgiD+RwzJaE6etqk/pdZhxVAnoFVMvG/Qka7kU3OC8GD911+SP2/DpIqbhS2Oek71R3dsfjwTXosO+ln2n/tCinAlol/iBwgCBfwyt4rvBREe2mlMsTwgEkPTMoLD89Dw+WQRgdw67m1sLA+JMwBLXe6tVNrTN7L8RtPkXcNaX+RqkxNhIK2aeGUTm0xDOwMoSfNPGAjr99/tM4K5daetN84I0C333eOzvzmAvTa0/Zz6Opj5Q/aFcGDowfyLc3XvlxH1MxK3bxf2hPkS+/G41ecv/fcrwxXyqXdVrYNgV2jIU8zqDSWs3eeKT2BFX/frZislV85av+O8/f538zDWATK03qjE2SDVur6DsvcmnB5K3q5VDXwse7l0tO2hP7eYoft9FWQZ+gWJSA0C5okh3NyMR+8lhP20gZl1s9hRrLrZVIFzEyjZesTdh7Nw65Ts+NJ86p0YKZKsYXpQRgfNBn4pZzbWXuyVU/+YVu5++wNi1sWIG/KWF9N1/haZzbJQ4n0jnGe22KbsDeIf7XLjxfx8xC19RZbVFBq7A4uP3jpNvQ6NhlvDLbbA5cfvKDU2J1ECR+G04PL263H3Sc2m31YQYXWpGym+Gw6o2KbnBxYFkkyfPz4WbmkevfxE676nnV3Pxr2+XpgYQM4twbKj4T8rSy75fp+mOn7t5W5JtSa6dZu7LzIkxXHbyH4KVJxEjtKeKW1TS7oS2aIx60nrxUKzhmNcwfJPgSUruCIbYQNHYqzv5UnXJjQQbKOOys1AnTXnc43FaBL1kzAyeS2a1PnoqSLb5SEue7RglEbzjF5x2Vq507CqJ++0NlpNGyabbVyJWF0LRN0d6403v/aAiIoYILpK0G9f/0+8V9+ZbIc3Qb7NewEmZI1cQxWtzeDen1sDvzXHtKWhQa+/dE2rGNy6LoecGgaFOoIZQZb1aada+MCyRlULYvV8Y4OOH3bh2azjyiXAWUzxyfv0K0Ko5zQ8SnZYynz29gL4mWEXP+DzQNg74QAy25J2YNmZ7+UeofiE5sj9iINN6H6FMhR37yZ/nvRZZS0FoQJ5+i2HJrfcu4RNp6+p4BpCaiWf5F+c6Fj+/DpM/t6lnR637klwwXAT0oCG7KOAeHmcjxacTy6rrJpr1kHbOT52w/m6dts0mYMDikeePn2g5KtEjnRv6xunmGhXfJ+/JqMCaMFaTbNGX6UPXr8tlnBhJDvT6E+9C+CnSNAt/7FeJdxhue/YR1bBsKe8X4JBLM7leBc2vU+vFaHFPsVSvR2a8dorZKakf0rZyJmlHBKK4x/cVaSJLAzhIq14d/fflWPpYfACNBd9yfyTQXoktmsMHG3AiZxYkBZ+2i1XHcW39zKW87co9mcIwpHsnAli0jfefExO7j+6JXyb6HGWtKyAGnd+TLl3DpYWA8SeUCLHX7npFUITG6Qk4qmAN1sOFGtbFymWOwb3jkatg8Bj4ZQ7U8bVrAwdP9kNcDNVA1qz7Gqc9beqwxcfUY3z71VhVYGNJ9zhM2+GSbpeRcQsQCtBZe2wLwfVS1i/+Kfv9L4KG0tcnnVUP67II7vrfyIuBvbQoTo0PGEZYT2x1dhQy+44Nuf3nIXJHTthdLkHZcYteG8sp/AwDUayr18D3oNLBvsQctdnzd83NSfxKen8S8VqD9woe5HwH+QFlQvXbqNMQYGuwc0SrGFLfKTP1Vsq+uvPXmHTouOKy1HzvgetrqggwM2nLpDq3nHSBYrMktbF0D2q7VLBVadOVF0pTpGghJnMoU4uAVjurt5wPNfWNkaUhaDxv+Ztk4usacUgAfnIFIsyFgFSvSBaEHfw+2Iu1Z53qLjQrVFSrLYh/qUVrLmVSbtCaDWLGaPI4sDfVZ4Mf/gDSplTcifDXI6qC1kTjcCdNed2zcVoEvvuZSHfesgM657XGxbWfrqcg9Ry1vlwiRGpHAIL7lWGi6ZdaFVc+vgXIy/d0b9cQsfDXregNBqmVOnhcdZ6XlbKUFsUzy13S9Rkk0RtFKp/EgXP6oC6pUlsRlkeI0WsEg3KNXPtgMxN/r8elhQVw06Jfi0Iuu87tBm/jFyJY+plJkHpQjwWN6hW3j08p3fMtJ7PaJmti/ox4f+gnXdApohXOZCjXZ2tVJx8DleJoo8H4r3k9f8Uc+DKgfrw+3jUKIvFOuubwtzqsGVHVBlopqpd6EIjZrc7MtFl1C/7Opewo+ObMOpu7Sad9Qiyn1Qm/5+WUvCeS1k5Pu6tOk3iWgR9VUcXHnwgpJjdyqXrBKgG/J9eUC7jOtXOZPSX2pNGs44yJ5LD5VhrYqlVugp5RJY2j/iRo1AWDcrSe2y2JPlx27RrHBK+lbOhIa3IPZHChdG+Q0QcWvQVGuHYnwevB64eRj+Lg3REkHXs6bX1uhUha2l00mI9EPw2mjnanJh23flKTadvqv83g+okln5+5607RLvP31m+TFv5Tc9KNDVPW8+pbbQiH78xKIW+cmn48LQzm269TQjQHfd8XxTAfqvS0+y6MhNJVjqYfCouu6p8rdysdHblSBCQ/wet+k8v2+7RLnM8ZnWKGj6hpy+8Y/vVcooQUrt4Amx1BdHYQsQ1gCRDAmiKWXp9vQoHbzySAEtk97zw31KWw70tX6zimMgb3PnbFVDdY0oVGs3rOo8cu2xwn+dNFYkdvcoaXW8IwO0tURHvGgRyJksJt3KpVeqMvxkdSc46q+XLnpiaHdYRVx/dgfGZVBQ72+2uMD9d2HJlTACDE8Cnz9C5zMQI7E+E7VSwkzVofZsfXOCcJS09FSZtFfBRJBgRoIaEa2FpGr2RPxezyMILbCg2pf5oOu7VjTv0IcMCfTRrH0vQGGuORT3X1VD8NfLPqBhMcjOfsyZhLG1s6Nl3eJHj8DvdT1c/mItAcWZO89IHTeqgsouYKDaC7+Xtw9SiSV9tePr5PADyROKWCNr7v7Pq1tY+PoJjPQFS+3lDRFMtHZOLwG3j4WIsnZbfNpx4XFWed5WLubkgs5ZIr9DDWYcVLCGpIpFsF6+VzECdNed/DcToMvLav7hW3n44h2zmuSheDACI7nu+Nx/5Q4LjvPfidv0KC9Z5jT4IXBXz0Kj/DooQdxli1OLwN2TUGeeWh4Gyu1tl8VfeqGWtS5ApoQxiBTeNuqzsZvO88e2S1TJnkjJ7lqUGaXB+zDUnguZqjrHO+9ewTChWkPlAY8U06LeG49eUXT0dgV1//xv5YP0RbLt/GOs9bpDDY/EygusSZlRBrwPffmo9EAo3PnLvyfmgCdXocY0yF4XbhyAf8pB1ATQ9Zx+CjDvozBDUHI/B3gOnHMISv8HCO2dlNJvH6Yi6gtqfOSvQeC0NbU2ksQ/RGJvT/WypOeykyw8fFPhPRdQPJfI5IJw/zSN3vWkccNfKK2TnuZ7odpyyZmEgEW151mQ3Ld2KWbxu+X5m/cK5owm0r8tga320i7/XXiSN3cuGiCT/vrdRyKEDW2S2iwoXCQcysKlrEmsKOE51LuUn03CehAzcjh+iBweAVANLSVChhgesMUDGhNL4N8+0XHrKPxVEsKEhy5n3Zb33JbtamO1hE+9vMkYXjOrPSpMzum+5ARLjnorrXRC+WiKhchpi7m5IiNAd90BuXWALj/AS496K+iNvStmNOslKUUZsOoUJ7x9lB866VOxJ5PpumP4dlf+c/slRm88j8ZpXHjkNqUkKcSVDGlUa8V6QoleyoEdvf6YH6fsD3B4kgVf2KJAwAyvleMtPW4nl+6/YGyt7PyYK4nl0eOzgs8NaLpZRR53loxJBy/uqT320mtvQYTHN0M/FR3dFjAnW009cfMp1f7cqwDCCcq/ySys9NaNSAbvnn9R3+NqwKB25yjYPhTiZlBL+AX0b2Pvr0D/dNmnAdBFSwjtjkAEf5l8XQrMDJLgfGUbOLlIzexrUrQ7lOxrVrOUAGYbtEnhIN/fqyQJY0SizrT9HLz6mPF1slPDw8rz5IjNluaOSgWvHlH+7QjqVi6vmy5Ny/5bvJAJKpsNvS73wB2f1xQYvk2xQ9p9VrUtzN5LD7ny8IXSDqVllecduK6UvvqXjAmjK98TGoOB9ln2JDGU4Pd/BVOQJGYkqk7aS3WPRAyvmS1Y9qu97GuLNS+Skj6V1GoXQwwPOMUDngtgZSsIFwU6nwr4+7e0KZxaCtnqQM3pTlnOXZRIfNBtyQkKpYnN/Gb5nWZW0VHbFaYhI9kHRoDutMfKZkVuH6BrN+RaD7P/HZ665cMJ76fM3neNC/deKB/Vy5s02H54bfb2dzhBy4hICfjyNgUVlF6JRY71K4NkEkKMHJgCG3oGCOoev3yHILkHlhSxI7OpczFdvO4aoJcAlx3pV5rolnp1xXFD4sPHt9DxJMR0YgXC32Xh5kGoNQsyq2BqliTbwI08e/NByU4FFYaAILdvOXuPmh6JGWcqe/7xA/zXDk4sULMD0hsu5e2pVEBCP/HxhvGCNv8ZYqaAGEnh2m6F156igXrXrW38/RuYnE+lXbMSPFtTFeDzo7NgdUfTU+TCpMKogBcyz+9B5NgQJiyV/9jNqVvP1N767InIN2wL9569ZUWbgngks1wNYZONegd/eAdD4iqjc76ZSs3C2ZV+Wz0y8L/TCt+t1k+sZ44x5tvxgJSD1/vrAAeuPFY2Jb8b5+6ql29LWhUgTwq1miRFz7V+mxag0aev3hMnagT29ixBpv4blQurXwql5J+9V/3GiS7JhAnIpMi1EZWCxXFyySiXjSKdSqelfcm0BoBtsHj+O1pELqr/zAOPLkHdBZChorr5q7tgtlT8hfK9fDdThRZCXXX42mNqTd2vXLzt+dU57XYatVqY0KEU7CTBQ/mexQjQXXf6bh2gi1sKDN+qZNClfDhX8i+lnveevVEQUIVKyL+s61CETIn09Tu6zu3fz8oCZlVk1HbChQml9PHUmLxP4bI82q9MyHKC9kMXMyV0VFFFRdZ73cHrlo9CJ+dfVrUtRPak1oFYtJ7L0hnjMaNxHss+8d9r1ucehIvoPB8ub6Fmb3UGrVrWf36zfBRKE8d5dvhqunjvOWXG71Ky58IAIP2bX8nlbSptjEiGylB3vnk7hMde+Oz9y8//fR3M69nJySWwvBnESaf2ujtD/synIuxqEi4yvFeZDhQRAKAuZ9Ry/Cs7YU5VKNwFSg9AC2olQyitJBKgiHj2L6NkDoNdlAuRzHwKFZbUr2dRLnMipjbKpcuMNvOPss7rLgOrZNKdddel2BgUYjwgQXr/VaeZeyAgBVnfShlpViQVWouNtqH8qWIpAb1Uhq9sW0jJkAsgqTz/wjcutGWBdcnc4/3K+AErOtM5O87fp9+qU/SukJEymeIrl9JvP3xie7fiSsm9IYYHgsQDUoHlOf/LxfHB6bDhV/j8SQU1lQvsb0wePH9LnqFblJ/FzZ2L2VS5aM4VWpuVVN6sameG7vYb86Ol7RgBuusO2+0DdI1+akTNrNTNm8zPU63nHWX9qbt+/86R9AclY2QAq7juYTK1srxsZRmwkZfvPirgfRLI5ksZi0UhDXTjyXWYmA3CRIC+9wL0LQsKe8ER23jx9j2JYkTiysOXjKudnZo5rZcXt5hzhE1n7ukLSO6fU7O3OsHcbHoS9k2CTX0gTRlouNTq1Pp/HWDf5Ue692lVYaABGtd62Uzxmf5zIDDBR5dVWhmhP3t5HxLnhqabILSV3v+za2BRA3WleJmh1W7rc0wZ/vIRjE6lfhK4nN7Wjcr4F/dhTNqAM5Pmh5sHAv63/62FFIXVfkLpKxQZ6IPW4ypAU9KHV+n3PQp9oWf/svZY4/gcpVe/JG8iJSDDk3FkSRydNe2L6NJbc/Jejt14GiSovLoMMAa5hQc0ylT/xlTOlpAxtbIrKOi9V3j5ffRr+QyM3ngOuatPHz8a5+89R4J2aTXSRNCYD11Ts/KaBFWblYazIutMqu9Bu3+PEzl8GE4NLGf0l7vF0/WNGqGxmaQprWbRx6SBNz6QrryKvxJCkNttPZ1msw8rF3ElM8Tjn/9ZSXLoUC7tsrP3Xw8AvKpj2jc7xAjQXXe0bh+gD159RilT849SLD2w0ncpgZEmkj0aWDWz6zxprGzWAxpfuDagYf5kDKnuPECPYHG9v7Jdul+BKAE5er2fvFLKKqftusK/B2/QrkQaBW3cmpQau4PLD14yr2k+Cqe1konW+L6ll7rtQWuqbfv8rhdMLaz2sAlQXFjLmdfOizxZcfyW09FTNaP9wASrZaZRAV+EWvnw7XMlO6u8eGhSdggIrZo1kTLA6cVAUOubrIekDvyY/5EbHl2EegshfQVrK1v+/NRyWNoE4meFdOVgzziQYPzuKVjfA8JGhA+vv2RBZlaC6748sB1PcuNTXBW0L0xohtTIQo+lJ8mbIhaLW7kIefbcWlhYnzfxspPhxq9EixCWkzr52DVUbsmEyqWrId+nB+RiV1CUrzx4SZey6ZRnWkSy5FrRnLAUSGVNy2KplCotyaZpotGYaf+etvMyw9f7q1ABhlTPQsMgACr9cco+jl5/oiwtQJrynpIz2Q8sb1Po+zxMY9fB4wHfi1Gl9anGdJj/I0SJpwKhWru8Dh4Lg2QVoeYsO36XUk0rIJECFumIaH+/E+rkoLqHToYXRxZ087lGgO66A3L7AH3hoRv0XO5FkbRxlD8+4V/WMucCyCV/jMLLLLyhaeKZoJdwnW+NlX09MGvvVQauPuPnj4l1c1AtRwj84huVGl49hFZ7IIHpC4a/91zltzVnqJAlAVMaWi7rff/xExn7bVB+WDSAL4sPjZblzlQNas9x7vMlwavcuL96pAavgiBuQYavO6tcRkifZ/8q+vqLbTG44PCt3PZ5o7RFCM2Jn5xYBCtaBFSlZZb1LCCBvfzfD1+qcfRM+2rMqrZwfJ6KFi/IuY7Ims5w5B/I1xrKDVNL2wV8TkF1fwVSyr+ooZr1b7MPNMReWbPqH3z2aKRcWD5/80H5ntx98SE/F0jO4GrSd+8Ckb2s6cyndBVId+pn5fkWhHlBmrckEsik77de2bbQDcaNFsEFxhtLuosHJEiXS095rj0CYX3IpY9gmmj4F+Un7PLrVZcKrT/qexAv2pcWoBdvPzBs3VnlGbz19LVyiSqyrHVBciV3Lk6Df+o3zZdGAsFdnqpv2I4Pb2FYYvj0HlKVgCvbIfcvUHn8N7xpdWvyziXvXgIsuaFjUbsrVeT7Rio+X7//qLTWBaBz/ea9aHqDRoDuuoN3+wBdQ8pOGCMicqMlfNGaVMyagD/q5UQCnYjhbKO2cp3Lv8+VhUpGsgryBZotSQjNjEmGWTLN9ZdAOtPlw9vP36fJzMNKqeXGzkUtHvblBy8oNXanUv54elA56+0ZGpJ88V5QvKfzH6QlTeD0cr/eZksLzNh9hSFrzyJlp5Pq53SqLc/evCebL33SVyjxm/vD3kC9dD1vQsRgxp04Ngf+aw/JC0OTL4BVdjlC6z+vMx8yVv5axfO7MNa3GiNnYzgWiIO99EDqnsnvB6wlCobWyEKDfE4EEbRlY9uHw84RkKsJ5S/XVAKnvxvnplTG+Ba1aL3FQoF1Lojp+2zZjjHW9R4oMmobNx+/VthAaudJikfSmAHoLDP0W8+b92pF3YUhFSwCdC45cpPuvhl5aQU50KuU094f/DNc+Peaf4A713vTsOCb9YD2jqJtsOEykJL3b1x8Xr2nwIitvHr3EUdwqDTsG3kn8xpYzgBzxEBxd+WfjtsH6D6v35N9kMp1KjfdWumY/FsDjXGlA421vyMP/FsHLmyAyhMgdxOTG9dA8aS08ezg8ha/4DedvkuLuUfJmjgGq9vrACOZXgJuH1Oz55JFd7Z4LYVlTVWUc0GJDx3a7ArCbS8c95Ldliy3M+XItcf8NHU/cim3v5fwjvuT+bXh4kZImB3u+HLQD/RX7u5MQyzpkrWnFVU546UPXVBq7BH/wH/dLkFUM+V5gkLvczPgCqHCqJRs4aMxKvMKJu+/7/d5UGQGdW9P0OgFlb54LzrdLcdKz9t0L5eetiXSWFSx7/JD6v91kFRxorCtW3HdyxkDv30PCJWqsLYI37GgKweWihN3c+bOM9PfGYEGy3e0gFwKcJvIyB+zUiePgxU1vmsIXaboFuRnycJJRk7kyrCKdmf1vv3TNXboNA8sbwknF35R5wyMFKcZF7SKGv9zSGFo6Fc5k9ISa6toiPAyL3fymCxtbbmK0Fb9IXW8kUF33cm5fYAurtFohDQ3ybtwmFChlAylSXRn1/nTWPlb9sDqTnB0JhT7FUr0NrlTeSHL2H+D0ne4s3txksc2j9o7ZcdlRm4458cRb9F1UoI+PLFa8iz823ECgYo5w+/vX8OY9PDWB35eBanMB0kHrjyi7vQDCKXcju4lnLG6nw6N47h4+rjMahKI610r75ayduklT5wLEjs3g69rM+KrYYlUhNwu5yB6Ql3Tvhp0cYvaKxgrFXQ4bl7HPxXgxr4vn0ufYbeLMDG7Erh7ZutH9UMZ/T4/Naic6+hh/q0LF9YrpZVTXxZjxPpzuiottMymlOnPbZrPPn8as75LDwio3PRdVxTcD2utFOIgyXQLnZ88m8K2IawbzpDt5+7TZNZhhJO9SaEUSu+8nsspZ6xt6DA8wN7fYXM/1RFy0S6c6N+JTN15Wfl71sWIY8InGq6OfNS2RGq6l8vwnXjO8jaNAN11j0GICNDn7L+m0K6IVMqakEHVMiMc1OniGz3nrnt0vsOVd46C7UPBoyFU+9OsA7QLpckNclIxq/nArfuSEyw56k2XMunoUMpKwC2I5b/nUFHke99W+K+DRLRLiDzNoNJYs0tIy0KJMTuU8vwzg8s71ZQeS0+w+Ij311zYb1+olxQi7pAZ0IDiGi6HNIEy/Xo9sm0o7BoF2epCzWnmZ535Dxb/DMnyw52TUGYQ5G0O+yfDxl58SJKf/He78fDFO9dnoKcXh9vHFSThHaFy87+Zh0kdNwpbu1rOik/YcoEJWy5SN09SRvyYTa8HjXGGB+zygPYdFimcfIfpaDHSscrsfdcY8N9pymWOz1WlO8IAACAASURBVNSGubjx+BXJYkW23r6kQ7cxxPCAVQ9oQLIyMF0FqO8vm251csgecOLmU6r9uZdoEcNypG9pIoS1re21+OjtXHv0CsGLEGaISOFtmx+yvWfeeiNAd93JhogAXfpL8g3fovSY6eWXdp1LjZW/WQ8IKJiAg6UuBY2Wm91mr+VeLDh0g9bFUytf9Oak9rT9HLr6GF2geVIyLKXDUtrdclfQuVjj+Baar6Yqn7Ypefn2g8LvK+LMbK0AQxUasU0BiJv9S16K+Udk1VBqo8aHbheCzgd6NS9qBGf/g7JDoWA7vbMCjptTXQXzqTQO8jS1rEOy9uEiwaePX1B5JVifVgQixeJV54sKBZXQrbkU52FsRnh+G5pv40H0LOQdtkUBftvzawmSxIxsdo/ahVXXMulob+3Cyj5vG7MMD/h5wH+/+FdYF3b6SQOrCowib6c6Y5rhAds88OwOjPN95yjYAcr+Ztv8EDxaqhfzDdvKwxdvlSDbFlanRy/ekmvIFmX3zvouCMGuDGC6EaC77iRDRIAu7pG+VAGPKpnBMtCQ61xprPzNe+DSVphXE+JmhLaBOKr9bV4QgoWn11qprm5KqfdvYGoheHQJygyGQh2DztX3zsCUAkpfMz1vWOxDz9x/g8Jvv61rMVLFjeoUm4QypeTYnQpl2IkBZQPeYh+fD6vaQMpi0Pg/p6znkJIdI2DHcMjRAKpPtk/VhGzw9Dr8slHNjtsq716ppfZ8hu6XIYoVqj5b9ds6XloxhsSFTx+g8xmIkZh60w+w/8ojq6W+9f86wL7LjxhXOzs1cyaxdWVjvOEBmz2Q87fNSjXe+o5FlLJ0R6Xl3CNsPH2PQVUz07igP3pIRxUb8w0P6PGA3IQO8gXhLT8S8rfSM+ubGbP17D2azj6i7GdDpyJkSKDvb1qbp6fS65txls6NGAG6TkcFwbAQE6AHwd4NlYYHbPPAk+sw0bf0VnqGkxUwGZh5eftQZZLKUy3ZwDYl0nwFbOQ/e3O8XxliRjHDO64FzKIsTHi13zkQB7ttm7Ay+uN7NeD7+A46noCY5l8ypcRdykQXNM9PgdQBeeHttWnm3qsMWn2GAqlis6BFoIB1yyCVI9xK+b29a9s8Tyk7bwRx0kHbQ7YDxcnL1NAE8OENdPCEWLYD2yg2a335OujxbN6jrRNePoTRqYFQ0O8BhAnH4sM36bHspIJXsLZDEaJE+Lo9QyonJPtx//lblrUuQK7k/qj1bLXBGG94QKcHNHC5mf/LQ4kM8XTOMj9Ma2+a8XNuSmcykgkOO9RQYLsHDkxVq7J++gfCm8fAsV1xyJjRet5RhYq5fr5kDKthmg438E4EC0gwgX7KlYQxtbKHjI0Gk5VGgB5MjjaxjBGgu873xsoh0QMzyoD3oS+WC1BX1IAvdm8/fCR93w1+Y4QesLpHQN53jc5D+HxPDixrvkdRC0pFW6FOau9xUItG1WKO9st3/TrT9nNQb4m+DpuFZktecJ+9+UCfihlpXjRVwFnSg31mFZQbDgXa6NAYxENeP4UxadXLjFZ7IIG+lwE/q4SPfYQvenSfu2r5uj0y70eQ3sMqEyHX/+zR4Lw5d0+p1R6R40CPy4peqXwqNmo7T169V1oWZjXJ89Xz7v3kFYVHbids6FBKy4RBm+m8IzE0mfdAs9mH2XL2vtNoCT0Gb1Kec2dl5I2zMzxgeMA2D+y//Ih6fx1AsCUO9SlFtIjhrCooO34nF+69MKq3THjKCNCtPj5BNsAI0IPMtYbib9IDWi+4trlasyFz9a+2qvXTygd5U8RicauAVGRbztyj2ZwjZE4UXckqmpWpReDuSagxDbLXDR6XrmgFJxYoNFmW+NbbLzjO6hO3nUZ32HPZSRYevolHsh9Y1KLA11zGUwrBvVMWeeiDx0H+VlnYAM6tUdsOpP3AFnlwAf7MAxFiQK8btswMOHZDLzgwGQq0g3JD7dfjjJknF8Py5pAwB7Tc6afx+I0n1Jl+QGE3MMUJrdH2Sf/8f+10UA46w1ZDx3fvgb4rvZh34AbtS6aha9n0Dvnj1bsPZOqv4nLIpWt0HYGBQwsakw0PGB74ygNSjSVtclLdN6VBTipYAOqVyVpbnVwOH+1bhhiRrQf035PbjQDddadtBOiu872xckj0wNvnMLcGeB9Wrc/bEiqOMrmTe8/eUHDENoULN3BG5e89VxFAoYpZEzC5QS7TnnhxX83QiljiyHa2H32RwUlXHuovMqtdA0RqUTQVvSt+ofiy1xzhDxYeYZPlodLbLKX3H15D+2MQW8qo3UBOr4QljSF2Wmiv9r7plqu7YHYV++b6X+TIP7CmM6QtCw2W6F4+SAYu+R+cXgFFukKp/gGW0ND5pdd3XtO8xI4awe/zgf+dVmivbAX3CZI9GEq/Gw/8uf0Sozee58ecSRhb27HSVr+qqIhh8RpY7rvxobFRwwPu5oHBq8/wz96r1MmdlJE/WWYE0ejZrGEGudseg8uekBygS6PcH0AV4BOwDBAEpxcWnBcREP4iSYfJG4pcuUq95j1/c36XglYgC3AWyGFCnzx1wvWUB3jga4fpSMG8MUaAHlxPubHOt+UBLTCLnxVaq/3mpqTtv8dYe/KO8pFk0hPEiKhQkz1/+0H5762KpaZnBTNI76eWwdJf1NJpKaEOLtHQ0iPFhO5XzALFTdt5meHrz1EtRyIm1vWw37on13njuYTsG1PzlvAKRUocf8GbotjnFozPBKHDgpSDh3GTW26/nmtUUL2IMfT7QUPMT1EE/rdG/7zAI6/tgVmVVLwAwQ1wlXx4B6NSwbvn0GwrJMkdwJJTt3yo/If6HMeKEp59PUv6lbILPY7Q5OhiNHDV/ox1vzkPLD/mTZfFJyiUJjbzm9kB0ujPI9vP36fJzMNkSBCNDZ2KfnO+MjZkeCCkeGDXhQf8/M8h4kePwIFepSzSHDaZeYjt5x/Qv3ImfilsJw5MSHGMHXaG5AB9PSBExy0BeWOcCUhqrb4FP0wROm9AmgV9gEm+wb0E5JpIgH4eyAdIIB44QJfAWniGhBdgOCDNj/8AnYDpNpyBEaDb4CxjqOEBPw+8eOCb3f5sEUzt/N3nlJtgnhZtasOclM9ihitd413P0RCqm+ddd/qpSKA1IqkKXtb2MMRNZ3KJFce96bzohGlAN71GSWZ8WlG450Xf903YGaMqu3uU/Hr2lZ0wpyrESg0djunVHjzjxmcFnxvQeDWktOHFfN8fsKkvZPkJfvrbflv9Ki1CqZcX4eQO2IJIFYiAAUZ2MhCbdlEQJR50PW/yYkfLWIp1/7UrpNDBffr0mUwDNig0ms5kBLDfocbM78UD+y4/pP5fB0kVJwrbuhV3aNvzDlyn78pTlM4YjxmNJW9iiOEBwwOu8ICA8OYYvEn5TdnSpShp4kUzaYaUwwuTg+BGrGhTEI9kMV1hrluvGVIDdKnpPOObwdZqG8sD6wDhiLltwuuSXpFstwTwS30/l/SZZMmlSTUwd9NAQBpcAwforQFpNkwAvPPVM8J3rHni5a8NMgJ0t/7TMIxzaw/MrgpXd0KJPlCsh1lTh68/y5oTd6iSPRFPXr5j0ZGbytiksSKxs1sJQocOZXruyrbgOQ9K9IVi3YPXFTMrwvW9UHUS5Gxkcu19lx5Sf8ZBHKIm8VoKy1T+7zkfynAkcx9+r2ciG394BqztCmnLQYPFwesLa6tp4HW2UuBt7AP7JzneOy5o8CNTwJun0GovJJDCKzMiHOrSy//8DrTZD9GFos1JcmQmrOlk9Yw02rXRP2WjVu6kXH/0kmKjdyiYA2cHl/+K8cBJ1hlqDA985QHt2YsQNjTnfitvMdNmzX0aEvTPBZIzuJqFv0FriozPDQ8YHnDYA1pVlqUkiADTFh29nXBhVHDSCGHDOLzut6YgpAbov/iWqvu/chH+mDdALWCFiYOS1NBWQOY89ff5dSHLAcYHmmMuQJ8DSHDtH52qBLBNqgeBJzofEiNA1+koY5jhga884LkAVraC6ImhwVKIn0mXkyZsuaBQesxqktcyPdnMSnB9D9ScAdnkKyUYRUOPj5dJzQyb4Nf2H1idGljua1A3S+bePweXNsO+SfDirjJy18eseFf+V6FH+UokOJcg3R4wtqB2257xsGUgZK4BtWbpX21Zc/BaDGV+g0Id9M8zNVJjF/hpJmSpaV6X1vcuIwp2gLK/Obau/9mbB8DeCZC3BVQcbVav1m9eIUsCOpRKi/eT1zSfc4RMCaOzrqMFwETnWWpoMjygeEBACzP0W8+nzyiIz/GiWak+seC3DguOI2CHvSpkoGUxN8HIMM7Z8MB36oFOC4+z0vM2Pcqnp03xNCa9sMrzFh0XepI9SQxWGeCkJn0UUgP03kBjIDD0531gACCl7IFFMudSBv8FHUcdIbxN24FfA00wF6BvAq76ltZrUyQ6OA3I/5eMvCmRdf2vLXUf3j4+PkSPLrG6IYYHDA/o9sDbFzApDzy/DRGiq1zY0c2UqwdSKqVVoUKZyZxrY8dnAZ+b0HQzJM2r2yynDBTO9xml4eV9yF4fqv4BYQLyV8sePH7bzNNX71nVthDZk/6gf2nt8gH4QGjC8okn4RMQvec50xlULaNfYzpkr6N/neAYqZXfC7VYlzMQNvDXuxkjBCBOAmZn7EmrtpB2iAojIILpkj5WtYPjc1WDBD1e7I0Q1Tle0gDiyg2DAm3N6lxw6Aa9lnspn4cPE5pauZMw/+ANqudIxARHsAycswtDy3fmgYLDt3Lb5w3LWhckV3L7S1x/nLKPo9efMKm+B5WzObEy5Ts7D2O7hgec4YGJWy4yfssFauVKwmgz3OZ9Vngpvz2NCyRnkFH1YtLt7hagS6l44EA5sOFS3i5pipAWoEvAL5cHAcQI0J3xdWDo+C498Ow2/FtHpUKTQLaGqXs5OzwjfeBDhF/9M5jgWrdDo+1T/Gdbw4RXs9cl+wbQ87+Zh9hx/gGDqmamccEU+taQkuxBX4L5iR9q0jHscj4TilCmeqhl/KiU8PoJtNwNCS2jsuozwomjpJ97Qla1bLzmX5Cttj7lf+SGRxfh51WQyrH+V/ZMgC2+X+3JC0GTdSDo7lLdka4cCP2Z8LVv6A1vBfrEV+ougAwV9dlrbdT04nD7ONT9FzIIzIppkSBGgpnA0r1cetqWMJ3psLa08bnhAXs9UHvafg5dfewwQGH+YVu5++yN0ctq70EY8wwPONEDGnVnnhQxWdKq4FeahWWn6KjtvP3widm/5KVYurhOXP3bUeVuAbqcUmwr7r0CNAyBJe5GBv3b+bsxduIuHvA+AjNKqdZYAFWzydxHl+GPnBAuMvS+Dday7TYp1zlY+pVHp1YDY00G+gvupC9nywUmbLloW/bz6Q01oAVOFJ1BtU2ROBWxOVF5BW0OQjxfGI03Pioq+vO7MDY9hAoNve9YB0HTuT2nDts5GrYPUVVW+xM85OfBgohvhyZQg2ZBXhcEdkfk/HpYIMQgvtJkA8wUSBSps9qlAvFpEi2RGrQfnQl5mkOlMY6s/GWu9MHLs9J6H8TPbFbn8zfvyTpQisACyl8/56ZMpvjOscXQYnhApwe6Lj7BsmPedCubjnYlfWktdc7VhkmpfPp+65G7REdL5W1c2hhueMDwgAkPaKwhcaIKM0yZACPef/xEm/nH2HzmnlI1s7RVAesVjd+pl90tQNd7DBpInHDJHPWdVBbYoAMkrp4vJZtMkxL5c3aCxMnbzHvftYf5ZvUNkDi9J2iMMzzgLA8sqAfn10Gu/0GVifZrlcDt3Jr/t3fm8VZN7x9/N09fhUyVEhpI0aiBvjSKor5J+KZBMhMVRWSuDIUiZUwov0S+klJKNKJCGZqUUqE5TRru8Hs9d++je2+37j7nntPe557P+ofuXXutZ72fvffdz1rPAJbBfcOPcOLZcHvm3JGRDx/2lW+2gtWzDl5mBnLBov/8+4tlG+kycj7lSxbli3stDYaHtnwKjGkPJ1XhuYqjGDJ9BbOOfZSye5fB1aPh7FYQSh7XuB+UqenUno+k1rgHcaLSZfcWeL0pbLWydAWg19Is4/b/mWv7Wni+qtM3rWxcxvCBsGVK2uck0Qu5r9foePD/S9dwTrZDrcGdULYejO0AJSvAnaE/X2HPevAC20x50s0dcP/6bN3mB09dhpXCWbTO2fDJnzcPX/Vtcmh5vRyIpEtFwAuB0Cajl5rJhxsvlGzKEh0ufazF4RN/ehFIfURABHJMYNe+JKo+bFWsYdHDzSlR5GBp1memLGXYjJVpIVbv3lQvR6EtORY04APEq4FuWK3MmhnJt6Qrs2YZ3UNl1sq4SeE6uXHmdo35wJpPoZVZ2+HWL7efp/fBMD8/Cwy0ce2rNxR0aVnjLWu7ZYO3Mmx2DPGUWy/dyqz1UJm1gN/tEi93ElgzF0ZeCvkKwT3LoUgY8djpiSx8Ez6+6+BPzr4crn7HP2YrpsHoKw/O3+1zOLXWP//evmc/1R/7LO3f3/VrxnHFCmYv66xnYfqjrCl9GQ/mu5tZKzYzvfzbnPnnZPh3b2j8AIy7Hn4a79Q9r3wZLJkAVVpDe8uPGdBmru7D6sLWldC8PzS44/CChuLWo2Ugh2aa2BMWvA4Fj3HqkWfV7ETdTuyfOh1Sk+HOb6FkDpNa/bEYXm4IFoffe6UnBVkOAytBuGrTbl7pVIvGZ+n03BM4dYoqgQ8WrqPXuEU0OLMkY26MrBZ6qFzb6ScUY0YOy7VFdXEaTAQSmMD5/aexcec+xtxYlwZnnvAPiRbPz2Tpnzt5sm01rjk/i6S0Ccws89Lj2UC3jOlWx/xyt5b5B4Cl493lLtL8Fi2ZmxnZX7g/szShgwE7RTeXc9viuQ1wUhk7zfpelMU9cjqw2v25BWJacWQruLnZNfTNWA+nKYt7OLTUVwQOR8B8G4edD5uXw1Wj4Jz0BRbCwDahO3w7CvIXgXq3gCX9OsHnuFxLGDfhDiehWavnofb1GRbUeNAXrNq8m5Fd6tDoLIubz6a52cufPtCel5IdTvNabqLU9LucU/I75jvu/XYanb61ewOqptssyG4eP35vcd8Te2Tv+fBPSbLm0GFc9CT9cTy8n1E/aYOfXA1qdHBc6i17u4VMmFfCys+jk819yccw9jooUwtutGIi3ppt8Ozcm0TZ4w96ZXi7Ur1EIDoELP7c4tCt7OWs3lZoJ/w2bsFa7n1/MRdWOIF3utUNfwBdIQIiEHUCvd9fxHsL1tG2Zhmebe9Uq7Ya6ec8PIXklFTm3teY0scWifq8uWnAeDbQ410PMtDjXYOSPzgELAHXVxZ/3BFa275dBO2NS+G3ueElG4tgmrAv+ewhmDME6nSDlra/eLD1HPs9479bn1Yyq2ezSkceOjWV1KE1yLPtV7ruv4fPU2pySvHCzOtZmzyDKkHSXug8EUa1csYpUAwO7IbCx0KvZcGMP0+/YnP1fvpMSDkAdyw8/ObK1H4wdyjUvdXJuh6ttnMDDM5CByHPhPTzhOLWLc6/59IMoQthi/PVcPj0PqjSBtqPCvtyXSACfhHYtHMfdfpPS9uz+v6hjK6wXmWKhpu817nUTwREwBuBb3/bRtuXnISklgTupQ41WbFxF22GzaFkMYtNb6rY82xQykD3dq/FopcM9FhQ1ZiJSeCX6fBOW7AkXFa+KpLEbk+fAXu2wE1fQmlnxzcQLRQTbnXRb5uXQaS3562m30c/8e9KJ/JW12zKwW1aluZpsC81PzX2vcIeCh90LR3b0XFlP/V8WPcNlCgHDXvCxLuhYS9o8lAgUGQrxFttYNUMaP4EWLx3+mYGvHkQrHBi47j0Gah7U7ZDhtXBSv+ZJ0f6duMMJ5Y/fbN8B89WcerQd5kE5S8Ia5oMnac8APNehPp3wCX9Ix9HV4qADwQufmYGq7fs8e4FlEnGe8ctYtzCdWkblLZRqSYCIuA/AQujuuLFOfyw3sl18tzV57FrXzL9/vejt+8V/5fguwQy0P1TgQx0/9hr5txG4MBesEzWSX9D16lQLkxXR0s09swZDhXL3F6wWHAIWXZuO+E2F+lbZsMpThZ2az+s+4vLX5zNMYXz822/ZhTIl/fwcs9+DqY9wozk87j+gFPN8o0utZ34YysFNv7Gg9eG4u93/AH/Ogny5gsOjyNJ8vXLMLk3lKsPXS1nqNssRt3yFKybf/BnHT6Aik2juy5zsTdX+1ArXRO6TYe8Wejl9Utg7Vc5C8uwed7rDD//Dy4ZCPUtYktNBOKHQMjAvvXiM+nTIpw8u84arxoxl/mrt+W4VFv8EJOkIhAfBLbs2sdVI+alheF1rHcalsH9/+av5fZGZ3LvJeE/6/Gx6uhJKQM9eizDHUkGerjE1F8EjkTgf7fD9+84sdIWMx1OWzPPKY1Voiz0+DGcK49O39AJd6ZT0qTkFOoNnM7mXfsZeX0dGlU+Qhy668L/wIGuHKjRhf/WPY3qZd2Eenu2OvXOQ+2yQXB+OoP96Kwy57OklZGzFCGpkH4NM5+Bz59wEt9ZcjirLd/lEyhsr+Eoth8/gPe7Qp580He9M1++gxlsM8xkceMWP55T1q81dTYe2r8NVa6I4mI0lAjEnsB7C9bS+/3FaROZgV61THEaVvReF7nW45+xZfd+Jt55IVXLWA5fNREQgaAQ+GTxH9w+5tu059raj+t3MLxDTS6tViooIgZWDhno/qlGBrp/7DVzbiTwxyKn5rQZRRYzXexg5tBsl7twFHzcHc5sAh3HZ9v9qHcIJSArVR1u/jLD9A999CNvzVuTIRnLIfKlJJM68FTyHNhD432DuK3dpbSrdWrGbs9UhN0bnZ89sCH4MeeHU8LMQfD540Aep+xexWYwpDok74t9fgHzdhh+IZQ6D64dc+TbJHTaflEfaNQ38ltq8Nmw83cnQZwlilMTgTgisHbrHho+PeMfia3s3+w+jTmlhOX0PXLbtns/NR53Kln89OglFCuUw5KJ2U2o34uACIRF4Pftf9PgyYzJS2f1bqTkpB4oykD3AClGXWSgxwishk1gAkMtA/lK6PQRnHGxdxBWx3r+a8GN412/EF5tDMVPhZ4/ZVjX/NVb09zIjimUn/kPNqVwgSzc0d34892phaidMpJZfZoeWvd6yUSYdA9c8YJj1MZrs6z+k/vANy87J9mVL3Xq25vb+/WTI8tPEA4Lm99LDoQZA+DLp6B2V2j1XDgzHOybnARPnAipKdBrORyjcmmRgdRVfhKYsOh35q3czLvfrE0T495LKnN7o+wraCxcs5Urh8+jVInCzLu/iZ9L0NwiIAKHIVBvwHT+3LE37bdWE/37h5opQZyHu0UGugdIMeoiAz1GYDVsAhMYfRWsmJplSbIjUhlxIfz5Q87jgWOFPs11u5pT6/3BDRkMwJSUVC546nP++GsvL3esxSXnnHKoFIvHwfhuLEipxNR6b9H3srNjJWkwxjUj+c1WsGb2QXk6TYAzsqqg6ZPI37zqbIiE4v0jEWP7Wni+KuQtAA9uzDrWPZJxdY0I+EAgVDKtfMmiaTXN82Sz0RVyj1eJNR+UpSlFwCOBPu8vZuwCZ/PtggolGd2tnscrE7ubDHT/9C8D3T/2mjm3EpjU2zk5tXrTzc3N2UPbtxOeLOecQlrJq+IBjI3avwcGuHLdt/aQ2On+n/zMq7N+pdW5pXjxv5kyhgMpUx4k77wXGJXUjAu6v0mFk/7lAUycdwnVB7dlVGntbL54Odk+Wsv+6X8wrvOhCe3CmT+UO+HY0+BuJ45XTQTilcDufUnUfPwz9iWlML3XRZx54pHfUwMnL+HlL1fRuf5pPNq6arwuW3KLQK4mEEpma4u00LpBV52Xq9cbrcXJQI8WyfDHkYEePjNdIQJHJvDVCPi0T3inkqu+gLdaO6XFevwQXML9Szt1ybt/B8e7GeddaRev255W0qRIgXws7NeUogUzxmLuebUlRdfP5sGUm3nskafImzdPcNcZLcmslNmoy8E2YDp/DEXchHjRGj+n46yeA29e5iStu3NhZKNZxniLZS/fELpMjGwMXSUCASLQbvhcFqzZlvYRf0iejExydhu1gGlLNvDoFefQuUH5AK1CooiACKQn0GDgdH7/ay+vdapN0yoKxfJyd8hA90IpNn1koMeGq0ZNZALLp8KYq+DkqnDrHG8kQhm+I8n+7m2G6PSy7OTb18ANn0HZjDXPreboxYO+YM2WPQy9tgZXnFc6w5x7B55B4X1b6H388zzd/froyKNRckZg03IYVgcKlYD7f4tsrJGXwZo50PQRuLBHZGPoKhEIEIEBk5bwysxV/LduOQb852BJyaxEbDz4C1Zt2s07N9TlwophJAUN0HoliggkAoGNO/fy/W/baVbl5GxDVxKBh5c1ykD3Qik2fWSgx4arRk1kAptXwIu1oUAxp8yVF5fmD2+FRWOgcT/49z3BpfdqE1i/AK4ZA2e1PETOQVOW8eKMX9L+AL7aqfbB3+/9y3HhBwacO5W+bcOsER9cIvEtWfrSdhY/nr9QeOvZtgaGWEm5PNDjJyhRJrzr1VsEAkhg8g9/cOvobzm7VHEm39XwsBJaTeWz+31KUkoq8+5vTKkSRQK4GokkAiIgApERkIEeGbdoXCUDPRoUNYYIpCeQtA/6n+LEk7d+CWp0yJ7PyJZOMrG2r8G5V2Xf368eY66B5ZOd0mG1uhwixbI/d3LJ8zMpmC8vix9pfjCb+7qF8FpjNqQey5etZtO+Tlm/VqB50xOwRHaPnwApSU4Wd8vmHk779m2YcAeUawBdJ4dzpfqKQGAJbNixl7oDpmNROF/d34STimddbm3lpl00GfwlRQvmSyuxll1CucAuWIKJgAiIQBYEZKD7d1vIQPePvWbOzQSG1YVNS50V3jIHTskmedBz1eCv36DrVCgX4NPlj26H79457Em/ublXf+wz/vr7AJ/e3ZCzTrFXDLDo/+DDlNsMEgAAGNlJREFUm5mXXIXCN06iRrnjcrP242ttA8vCvh2OzOGWBgzVe69xHbQeFl/rlrQicAQCbYbN4fu122lbowzPXl09y55Tf/qTm95eSNUyxZl45+FP2gVaBERABOKRgAx0/7QmA90/9po5NxPY+isMOx+S92dfbi2tjvRJkJoc3AzuIV1NewRmPwd1b4VLn8xSg62HzWHR2u0M71CTS6s5Wd9Tpz1OntmDGJ3UhCb3juGUElmfSOXmWyKwa3v3Wlg2yRGv/h1wSX/vok6+D74eDhfcDc0e9X6deopAwAnYO6zNS3MwJ5NZvRtR9viih0g8/IuVPPXpUlpXL82Qa2oEfEUSTwREQATCIyADPTxe0ewtAz2aNDWWCKQnMLUfzB0KdbpBy8GHZ7NtNQw5z6kv/sCfwa4jPW8YTOkLVdtBu9ezXFOPsd/z4Xfr6d2iMrddXCGtz94x11F4+cc8kXQd9z36Avnz5dW9EhQCSfth/quOXkudBzfP9C7ZB93gh3HQvD80uMP7deopAnFA4Mrhc1m4ZhtPtzuX9rUPDcu5d9wixi1cR89mlejepGIcrEgiioAIiIB3AjLQvbOKdk8Z6NEmqvFEIERg8Xsw/kYoWw9umHJ4Lr/OdEpx5aTU1dGiHlrT6RdB5wlZzjp0+gqe/Ww5V9U6lT0Hklm5YScfpt5NkR2ruDtfX57v1+doSat5vBLY+ScMruwke+vzKxTxGIJgpQGtROB/XoHzrvY6m/qJQFwQCCW9PJybe/sR8/hm9dYsq1bExQIlpAiIgAgcgYAMdP9uDxno/rHXzLmdwMYl8FI9KHgM3Pfb4U/GLabbYrvPbAwdPww2ldBmwjGlnKzdefMdIu/Hi37nzne/4/QTivHr5t1cnPc73iz4DHtTC3DD8aMYfdeh2d+DvegEke7FOrB5OVzUBxr19bbo4RfAhh/huvFQoYm3a9RLBOKEwOwVm7nu9a8pVaIwc+9rfEgSuFBd5Q9va6C8GnGiU4kpAiLgnYAMdO+sot1TBnq0iWo8EQgRsNjyAaUheR90/w6OPyNrNjMGwJdPOVnRLTt6kJtlqB9UEaxs2mESiv24/i9avTD7n1V8WPAhauT9hZeTWjK/Yg9e61wnyCtMXNncRH5pAK4eDWe3yp7FoEqwawPcPAtKWbk1NRHIPQT+3p/MuY9O4UByKt0bV2DP/mR6tziLgvnzsj8phbP6TSYlFeY/0JQTjwmzRGHuwaSViIAI5FICMtD9U6wMdP/Ya+ZEIPBqY1i/EC4fCrU6Z73iD2+BRe9Ck4egYa/gU5nYAxa8AdXaw5WvHiLvrn1JVH3YcekvxH5+LnQ9+fKkUn/vCzSqW4MB/6kW/DUmqoST+8DXI6Dgv+CW2XD86YcnkZLilGiLh+SGiapPrTvHBLq+OZ/Pl278Z5wn2lTl6jplsZKSthFZKH9elj7eQiXWckxaA4iACASNgAx0/zQiA90/9po5EQiEylAdyX39jUvht7lw5etQrV3wqbg1zdME7fABVGx6iMzdRs1n2pKNVMmzmkmF+rI9tRjV971Cj6aVuaupkikFVsnJB2DkZbDum+w3jPZshaddA/7BTZC/YGCXJcFEIFICnyz+g9vHfPvP5RVO+he1yh3H2AVr03525onFmN7r4kiH13UiIAIiEFgCMtD9U40MdP/Ya+ZEILBlJbxQE/Lkg3tWQLGSh6762XNgxzq4YRqUjRP374k9YcHrkL8ItH0FqlyRYV0bduylxfMzaZb0JU/nfZFvUirTfv/DPNm2GtecXy4RNB+/a5z3Eky5Hyq1gP+OPfw6Ni1zSgkWLuHkWFATgVxIYO+BZGo89hl/H0jOcnUXVTqRUV3Pz4Ur15JEQAQSnYAMdP/uABno/rHXzIlC4KX6sPFnuGoUnNMm46qtxFX/kyE1BXoth2NOjg8qB/bC2A7wyzTIVxBumAqlM9YB3rhjL4W+fIISC19Iq3/+QNINvNKxFs3POSU+1pioUoY8JCyTe+9fIU+erEmsng1vtoyP6gOJqkutOyoErCb62m17sNP0yT/+mWHMDnXL0V9hO1HhrEFEQASCRUAGun/6kIHuH3vNnCgELEO7ZWrPKjv21l9haHXIX9ipgX44YyiIrFKSYWxHWPYJHHc63DoHChbLKOm718KySQzOfwMj/m7KF/c2osyxRYK4GskUImBu7gPLQtLfcPt8OLFS1mxmPQvTH4Vy9aHrp+InArmewGuzVvHEJ0syrLNT/dN4rHXVXL92LVAERCDxCMhA90/nMtD9Y6+ZE4VAyGX4rFZwzeiMq7Ya0lZL+oRKcMf8+CPy93awUlvmol/vNmgxMOMahlSHbb+y6+rxbD2pPuVKFo2/NSaixBaHvmYOXNwXLs6ibv3PE+C9jg6Zqu2g3euJSElrTjACC9ds48rhczOsesg11WldvUyCkdByRUAEEoGADHT/tCwD3T/2mjlRCISMcCuzZuXWfvoQzGhvM9xJDjfhTqjQFK77ID6JrJgGo690XN37rIECReDtNrDhZ9ht2Y/zQO9VUPT4+FxfIkq9+D0YfyPkK+R4RpyQLrGfeX2MaAj7d0LF5tDyWTi2bCJS0poTjMC+pGQqP+h4izQ9+yRanluKNtXLKIN7gt0HWq4IJAoBGej+aVoGun/sNXOiENi1CQZVcAzVXkthcGVn5eUbQolTnRJrtbtCq+fik0hqKjxbBXb+Dp0mOGuyxHihVrom3DQjPteWqFKbTt+5ElZOh3INoMsnkDevQ8M2lL59y3Ft7zwR8uVPVEpadwIS6Pj618xasZlJ3RtSpbR9QqmJgAiIQO4kIAPdP73KQPePvWZOJALPVIDdm5zM2MuziNdtNxKqto1fIh90gx/GOXH25inw4c0H19LwHmjSL37XlqiSb1sDluDwwO6DJQD37oDBZzk/6zIJyl+QqHS07gQlsHPvAbbu3s9pJTPl20hQHlq2CIhA7iUgA90/3cpA94+9Zk4kAnYaaRnPM7cCxaDFAKjZOb4SxGVex4KRMPFuOO0COPEspwRbqMmQi987feqDMPcF5/68YihMfxxmDXJyJtz+TXzfs/GrFUkuAiIgAiIgAjEnIAM95ogPO4EMdP/Ya+ZEIvD1yzC5t7PivAWcWHRLwlWhWda10eONzeZf4MVaGaUuWQHK1YPLh0LefPG2IslrBH7+CN7rBKWqwwXd4f2uDpc2I6D6tWIkAiIgAiIgAiKQSwnIQPdPsTLQ/WOvmROJgLkLDznXWXGp8+Dmmblv9TMGwsxnIDXZWVuPn6GEshvHtaK3rYYh5zmbSseVhy0roEF3aP54XC9LwouACIiACIiACByZgAx0/+4QGej+sdfMiUbgkRLOihv2giYP5c7Vb1npJL0rXgZqX58715hIq7JkcU+Vh73bnVUXKAo9l0CRYxOJgtYqAiIgAiIgAglHQAa6fyqXge4fe82caATWzoclH0GjB5xSZGoiEA8E3mwFq2c5ktbpBi0Hx4PUklEEREAEREAERCAHBGSg5wBeDi+VgZ5DgLpcBERABHI1gTlD4LOHoPJl8J8RUNj1BMnVi9biREAEREAERCCxCchA90//MtD9Y6+ZRUAERCD4BMzNfcfvULy0srYHX1uSUAREQAREQASiQkAGelQwRjSIDPSIsOkiERABERABERABERABERABEcidBGSg+6dXGej+sdfMIiACIiACIiACIiACIiACIhA4AjLQ/VOJDHT/2GtmERABERABERABERABERABEQgcARno/qlEBrp/7DWzCIiACIiACIiACIiACIiACASOgAx0/1QiA90/9ppZBERABERABERABERABERABAJHQAa6fyqRge4fe80sAiIgAiIgAiIgAiIgAiIgAoEjIAPdP5XIQPePvWYWAREQAREQAREQAREQAREQgcARkIHun0pkoPvHXjOLgAiIgAiIgAiIgAiIgAiIQOAIyED3TyUy0P1jr5lFQAREQAREQAREQAREQAREIHAEZKD7pxIZ6P6x18wiIAIiIAIiIAIiIAIiIAIiEDgCMtD9U4kMdP/Ya2YREAEREAEREAEREAEREAERCBwBGej+qUQGun/sNbMIiIAIiIAIiIAIiIAIiIAIBI6ADHT/VCID3T/2mlkEREAEREAEREAEREAEREAEAkdABrp/KpGB7h97zSwCIiACIiACIiACIiACIiACgSMgA90/lchA94+9ZhYBERABERABERABERABERCBwBGQge6fSmSg+8deM4uACIiACIiACIiACIiACIhA4AjIQPdPJTLQ/WOvmUVABERABERABERABERABEQgcARkoPunkjQDfe3atRQvbv+rJgIiIAIiIAIiIAIiIAIiIAIikMgEzEAvW7asISgB7MgJizw5uTgBry0DrEvAdWvJIiACIiACIiACIiACIiACIiACRyZwKrA+J5BkoIdHz3iVBnaGd9lR7X2Mu4lgN0eQ5TyqUAIymXQTEEVkIYZ0I90El0BwJdNzI90El0BwJdNzI90El0BwJYuX58bk/B1IzQlKGeg5oRfMa9Pc8KPhXhHM5cW1VNJNcNUn3Ug3wSUQXMn03Eg3wSUQXMn03Eg3wSUQXMkS6rmRgR7cGzFSyRLqBo4Ukk/XSTc+gfcwrXTjAZJPXaQbn8B7mFa68QDJpy7SjU/gPUwr3XiA5FMX6cYn8B6mTSjdyED3cEfEWZeEuoGlmzgjEFxx9dxIN8ElEFzJ9NxIN8ElEFzJ9NxIN8ElEFzJEuq5kYEe3BsxUskKAfcDA4F9kQ6i62JCQLqJCdaoDCrdRAVjTAaRbmKCNSqDSjdRwRiTQaSbmGCNyqDSTVQwxmQQ6SYmWKMyaELpRgZ6VO4ZDSICIiACIiACIiACIiACIiACIiACOSMgAz1n/HS1CIiACIiACIiACIiACIiACIiACESFgAz0qGDUICIgAiIgAiIgAiIgAiIgAiIgAiKQMwIy0HPGT1eLgAiIgAiIgAiIgAiIgAiIgAiIQFQIyECPCkYNIgIiIAIiIAIiIAIiIAIiIAIiIAI5IyADPWf8/Lr6duBe4BRgEXAn8M0RhLkKeBwoD6wA+gCT/BI+l88bjm5uBDoBVV0mC4G+2egyl+OL6fLC0U16Qa4B3gU+AtrEVMLEHTxc3RwL9AfaAscDa4C79V6LyQ0Urm5MD7cC5YDNwPtuZZG9MZEucQf9t/sdUAsoBfwH+F82OC4GngXOAdYCTwBvJi7CmK08XN3Ye8yemeqAZar+CXgEmBIzCRN34HB1k57UBcCXwI+urhKXYmxWHolu7Hl5CLjOtYn+AB4D3oiNiEdvVBnoR491tGa6GngLuAX42v0oNQO8MrAxi0kaADPdD6SJwH9dA72m+5KJllwaB8LVzWhgDjAXsI9X2zixjyz7eFovoFElEK5uQpPbptZsYBWwVQZ6VHUSGixc3RR0nxt73w1wn5XTgO3uhmVMhEzQQcPVjf19sQ+jru57rZJrAP4f0DNBGcZq2ZcCZjDYxu54Dwb66e7f/BHAa0AT4HmgpQzBqKsoXN2YHn4HZrjvseuBe4C6wHdRly6xBwxXNyFatilsz9ovwMky0GNyE0WiGzs4MX086OrGNivzut8IMRHyaA0qA/1okY7ePGaUzwfucIe0G9F2wl8AnsximrFAMaBVut99BXzvGvnRk0wjhaubzMTyAdtc3domjFr0CESiG9OHbW6ZwdEQsD/QOkGPnk5CI4WrG9ucNA+is4AD0RdHI6YjEK5uXgTOdo2/0DCDXUPjQpGNGYFUDwb6U64xHvLYMmFs48Teay1iJpkG9qKbrCjZKbp9v9lpoFpsCISjG3tWzAM12f0OMG8HtdgR8KIbe2+ZXs5wD1BiJ40PI8tA9wF6Dqa0k6M9QLtMrmyj3D+yrbMY+zfXpc12aEPtUfcFc14OZNGlGQlEopvMDI9xvSDMI8K8HdSiQyBS3dhzcq774WtuoDLQo6OP9KNEohsLzzFvBnsX2jtvEzAGMAPEPp7UokMgEt3YCfpLQHM3VMc+nD4B3na9HaIjmUbJTMDLx6xtNn7ret2FrreTWvs2KCGkMSPgRTeZJ7eDl9XA04BteqnFhoBX3dhzYiEI5pFqJ7W2US8DPTY6CY3qRTf2t8a8tBYAHYHdwASgH/B3bMWL/egy0GPPOJozlHbdOe0lMS/dwPYSv8g9pcg8336gsxtDG/rdbcDDrltINOVL5LEi0U1mXvayucR1cVe8ZvTupkh0Y6d9tjNrf4QtjlYGevT0kX6kSHSz1M2nYSEi9sxUcP87FLBNFbXoEIhENzZzd2AQYN8X+QFzqbaPW7XYEfDyMbscGAkMTCfGZe4GStHc8EEbO7w5GtmLbjJP0Bu4z/USyip0MUcC6eJ/CHjRTUU3zM286OwZstwAMtBjfxN50c2ngOXVmOZ6mpzgfgtYqIhtqsR1k4EeX+qL5INJBvrR0XEkukkvmf0xtj/K9rJZfHRETphZwtWNeTKYDmwja7JLSQZ6bG6XcHVjUthHUmHAYmpDJ+YW32xu7xZ/phYdApHoxt5ftrFlp0zmHm+bJ0OAV91EpdGRTKNkJuDlY1YGuj/3jRfdpJfMvFDseTHvIDM81GJHIDvdWJibhYS+7m40miQy0GOnj/QjZ6cb6zvVDT+0hNl/uRdbwkVLTGqhvXF9ii4D/ejcaNGaJRKXQ7m4R4v+kceJRDehES0ZjH3QNnVddY6OxIkzS7i6sVNzS8yT3l3aXA6tpbgJGVcmDr6YrjRc3ZgwlkXXYs/teQk1Sy5jru+W0dU2JdVyTiAS3cxyP2htsyTULLvuK8C/3Ocn55JphMwEvHzMysXdn/vGi25CklnFEMt5YmFuFhqiFlsC2enGwtosL1DmbwGznexnFsrzeWxFTNjRs9ONgbHwXkuUaRvBoWY5UH52Xd8tZ0DcNhno8ac6O5WwkmpWWs2aGQ5mhFuc0uGSxJn72uXplmpZw+2E0JItqUWPQLi6sZnt1PwB17XddmrVYkMgHN3Y6Wz6F75JZOWI7GT9LvcEV0Zg9PQUjm5sVsvcbqdMFt9sGybWTC9WBcFOfdWiRyBc3ViWYzv1M12E2rXuCZQ9P8oRED3dpB/Jy8es5Wgwl/Zq6S603A1WplBJ4mKjFxvVi26snz0nZpybkW6ZqdViTyA73dj3dZVMYphnXWM3F9Svbtxz7CVNvBmy040RucnNoXESsMtFZJ4nVtXCNoR1gp54942vK7ayN7ZrdLNrqFvN2fZurNIGtwSblei635XS4tXtxMlcqG1H1l7+VmtbZdair8ZwdWMfsZah1YwNK7cWavaiCb1soi9lYo4Yrm4yU5KLe+zum3B1U9atE2zvQateYTGC9mFrMehWG10tegTC1Y25f1q4gX04hVzch7vliWwstegRsA/Q0EaiefwYd4u9tASKtmlvseZlgE7ulKEya8Pc58WMDHtmVGYtejoJjRSubuwbwN5nttFoxkWomYERct2NvpSJOWK4uslMSS7usbtvwtWN9V/iem1ZXi2LQbcSkmbz3Bg7MY/OyDpBPzqcoz2LlVgzF0KLu7ByaZaUxz6GrH3hZv/skm5Sc5eyE0Cr6WwuH3Zqa+6gatEnEI5uLEur1W/O3CzRlf0RUIsugXB0k3lmGejR1UXm0cLVTX3gOTeJn21IWoygsrjHRkfh6MaSwplHkGXUNePQMux/7P7M6tSrRY+AxfubQZ65maFnf//tnWV/861fqNn/23Njp4Lr3LwA1k8tugTC1Y19t1mi38PpMrrSJfZo4eomMy0Z6LG7fyLRjZVbtY16c3XfArznhozG9em5IZaBHrsbTSOLgAiIgAiIgAiIgAiIgAiIgAiIgGcCMtA9o1JHERABERABERABERABERABERABEYgdARnosWOrkUVABERABERABERABERABERABETAMwEZ6J5RqaMIiIAIiIAIiIAIiIAIiIAIiIAIxI6ADPTYsdXIIiACIiACIiACIiACIiACIiACIuCZgAx0z6jUUQREQAREQAREQAREQAREQAREQARiR0AGeuzYamQREAEREAEREAEREAEREAEREAER8ExABrpnVOooAiIgAiIgAiIgAiIgAiIgAiIgArEjIAM9dmw1sgiIgAiIgAiIgAiIgAiIgAiIgAh4JiAD3TMqdRQBERABERABERABERABERABERCB2BGQgR47thpZBERABERABERABERABERABERABDwTkIHuGZU6ioAIiIAIiIAIiIAIiIAIiIAIiEDsCMhAjx1bjSwCIiACIiACIiACIiACIiACIiACngnIQPeMSh1FQAREQAREQAREQAREQAREQAREIHYEZKDHjq1GFgEREAEREAEREAEREAEREAEREAHPBGSge0aljiIgAiIgAiIgAiIgAiIgAiIgAiIQOwIy0GPHViOLgAiIgAiIgAiIgAiIgAiIgAiIgGcCMtA9o1JHERABERABERABERABERABERABEYgdgf8H/4+33uCPahwAAAAASUVORK5CYII=\" width=\"1000\">"
      ],
      "text/plain": [
       "<IPython.core.display.HTML object>"
      ]
     },
     "metadata": {},
     "output_type": "display_data"
    }
   ],
   "source": [
    "%matplotlib notebook\n",
    "from matplotlib import pyplot as plt\n",
    "\n",
    "# Set up the plot\n",
    "fig, ax = plt.subplots(figsize=(10,5))\n",
    "\n",
    "# Seperate events by  if they recalled it or not\n",
    "forgotten = z_eeg.sel(events=z_eeg.events.data['recalled']==0)\n",
    "recalled = z_eeg.sel(events=z_eeg.events.data['recalled']==1)\n",
    "\n",
    "# Get mean forgotten and mean remembered across all events, channels\n",
    "f = forgotten.mean('events').mean('bipolar_pairs')\n",
    "r = recalled.mean('events').mean('bipolar_pairs')\n",
    "\n",
    "# Plot!\n",
    "plt.plot(z_eeg.time.data, f, label = 'forgotten')\n",
    "plt.plot(z_eeg.time.data, r, label = 'recalled')\n",
    "\n",
    "# Show the legend\n",
    "ax.legend()\n",
    "plt.tight_layout()\n",
    "plt.show()"
   ]
  },
  {
   "cell_type": "markdown",
   "metadata": {},
   "source": [
    "# <center> Demo interacting with Ram and PTSA and EEGToolbox </center>"
   ]
  },
  {
   "cell_type": "markdown",
   "metadata": {},
   "source": [
    "### RAM Computational Pipeline\n",
    "This tutorial demonstrates how to build Logistic Regression Classifier of Good memory for a single patient in 30 lines of code. The code is based on the refactored PTSA toolkit that uses xarray as a core container for the time series data. To construct classifier we will need two classes of objects:\n",
    "\n",
    "\n",
    "Readers\n",
    "\n",
    "Filters\n",
    "\n",
    "Readers are objects that read data store on the hard drive. For the purpose of building memory classifiers we need the following readers:\n",
    "\n",
    "BaseEventReader - an object that reads so called events files (stored in Matlab format)\n",
    "\n",
    "TalReader - an object that reads the so called \"Tal Structs\" i.e. the information about pairing of bipolar electrodes, location of electrods specified in various coordinates systems and name of the brain areas where electrodes are placed.\n",
    "\n",
    "EEGReader - and object that reads raw EEG for specified events and electrodes\n",
    "\n",
    "We will use 3 filter objects:\n",
    "\n",
    "MonopolarToBipolarFilter - an onbject that takes as an input monopolar time series (as returned by EEGReader) and returns another time series where for each bipolar pair we form a series that is difference of two monopolar time series as specified as given by the bipolar pair specification. For example, we may have 100 monopolar electrodes but the number of bipolar pairs wcould be 125 or so. MonopolarToBipolarFilter will transform an input time series corresponding witj monopolar data to the one corresponding to bipolar data\n",
    "\n",
    "ButterworthFiler - an object that applies Butterworth filter along time axis of the series. For example our time series can be represented by a 3-dimensional array with dimensions \"bipolar_pairs\", \"events\" and \"time\"and in this case ButterworthFilter will do filtering along \"time\" dimension\n",
    "\n",
    "MorletWaveletFilter - an object that takes as an input a time series, applies continuous wavelet convolution along time axis and returns another time series of wavelet coeeficients (represented as power and phase arrays). For example our time series can be represented by a 3-dimensional array with dimensions \"bipolar_pairs\", \"events\" and \"time\" and in this case MoreletWaveletFilter would return 4-dimensional array of wavelet coeeficients (power, phase) with dimensions being frequency, \"bipolar_pairs\", \"events\" and \"time\", where frequency is center wavelet frequency.\n",
    "\n",
    "First let us start by importing modules/classes that we will need in our computational pipeline:"
   ]
  },
  {
   "cell_type": "code",
   "execution_count": 16,
   "metadata": {
    "collapsed": true
   },
   "outputs": [],
   "source": [
    "import sys\n",
    "import numpy.testing \n",
    "import numpy as np\n",
    "from ptsa.data.readers import BaseEventReader\n",
    "from ptsa.data.readers.TalReader import TalReader\n",
    "from ptsa.data.readers import EEGReader\n",
    "from ptsa.data.filters import MonopolarToBipolarMapper\n",
    "from ptsa.data.filters import ButterworthFilter\n",
    "from ptsa.data.filters.MorletWaveletFilter import MorletWaveletFilter\n",
    "from sklearn.linear_model import LogisticRegression\n",
    "from sklearn.metrics import roc_auc_score, roc_curve\n",
    "from scipy.stats.mstats import zscore\n",
    "from time import time\n",
    "import os"
   ]
  },
  {
   "cell_type": "markdown",
   "metadata": {},
   "source": [
    "### 1. Load Event Data"
   ]
  },
  {
   "cell_type": "code",
   "execution_count": 17,
   "metadata": {
    "collapsed": true
   },
   "outputs": [],
   "source": [
    "subject = 'R1111M'\n",
    "exp = 'FR1'\n",
    "\n",
    "# ------------------- READING EVENTS\n",
    "base_events = get_sub_events(subject, exp)\n",
    "base_events = base_events[base_events.type == 'WORD']"
   ]
  },
  {
   "cell_type": "markdown",
   "metadata": {},
   "source": [
    "### 2. Load EEG data"
   ]
  },
  {
   "cell_type": "code",
   "execution_count": 23,
   "metadata": {
    "collapsed": true
   },
   "outputs": [],
   "source": [
    "monopolar_eeg = get_sub_eeg(subject=subject, experiment = exp, events=base_events, \n",
    "                            reference = 'monopolar', eeg_start=0., eeg_end=1.6, eeg_buffer=1.0)\n",
    "\n",
    "bipolar_eeg = get_sub_eeg(subject=subject, experiment = exp, events=base_events, \n",
    "                          reference = 'bipolar', eeg_start=0., eeg_end=1.6, eeg_buffer=1.0)"
   ]
  },
  {
   "cell_type": "markdown",
   "metadata": {},
   "source": [
    "### 3. Verify that monopolar -> bipolar filtering was done correctly"
   ]
  },
  {
   "cell_type": "code",
   "execution_count": 26,
   "metadata": {
    "collapsed": false
   },
   "outputs": [
    {
     "data": {
      "text/plain": [
       "[<matplotlib.lines.Line2D at 0x2b66a9b73f50>]"
      ]
     },
     "execution_count": 26,
     "metadata": {},
     "output_type": "execute_result"
    },
    {
     "data": {
      "image/png": "[encoded data removed]",
      "text/plain": [
       "<matplotlib.figure.Figure at 0x2b66927e90d0>"
      ]
     },
     "metadata": {},
     "output_type": "display_data"
    }
   ],
   "source": [
    "first_bp = bipolar_eeg[0,0,:]\n",
    "second_bp = bipolar_eeg[1,0,:]\n",
    "\n",
    "first_bp_manual = monopolar_eeg[0,0,:]-monopolar_eeg[1,0,:]\n",
    "second_bp_manual = monopolar_eeg[0,0,:]-monopolar_eeg[8,0,:]\n",
    "\n",
    "np.testing.assert_array_equal(first_bp_manual, first_bp)\n",
    "np.testing.assert_array_equal(second_bp_manual, second_bp)\n",
    "\n",
    "plt.plot(first_bp['time'][0:100], first_bp[0:100],'b')\n",
    "plt.plot(first_bp_manual['time'][0:100], first_bp_manual[0:100],'r--')"
   ]
  },
  {
   "cell_type": "markdown",
   "metadata": {},
   "source": [
    "As you can see the action of the MonopolarToBipolarMapper matches our \"manual\" computations so at this point we are ready to filter out unwanted frequencies from our bipolar EEG spectrum. We will Apply ButterworthFilter to supporess signal components in the 58 -62 Hz bandwidth:"
   ]
  },
  {
   "cell_type": "code",
   "execution_count": 27,
   "metadata": {
    "collapsed": true
   },
   "outputs": [],
   "source": [
    "#Apply ButterworthFilter to remove signal components in 58-62Hz\n",
    "b_filter = ButterworthFilter(time_series=bipolar_eeg, freq_range=[58., 62.], \n",
    "                             filt_type='stop', order=4)\n",
    "bp_eegs_filtered = b_filter.filter()"
   ]
  },
  {
   "cell_type": "markdown",
   "metadata": {},
   "source": [
    "Now we are ready to compute wavelet coefficients for our filtered time series of bipolar EEG data. To do that we will use object called MorletWaveltFilter that takes as its constructor parameters time_series object for which we compute wavelets, an array of center wavelet frequencies - freqs (here we are using 8 frequencies that are logaritmically-spacedbetween 3 and 180 Hz) and optional parameter that specifies the return value - here we return power so the output parameter has value 'power' . To allow rudimentary benchmarking of the code we will measure time it takes for the MorletWaveletFilter to carry out its computations. Notice that the filter() function of the MorletWaveletFilter returns two objects - power and phase arrays. Since we are requesting power coeeficients only the phase array will be set to None."
   ]
  },
  {
   "cell_type": "code",
   "execution_count": 28,
   "metadata": {
    "collapsed": false
   },
   "outputs": [
    {
     "name": "stdout",
     "output_type": "stream",
     "text": [
      "('total time wavelet loop: ', 222.25957083702087)\n",
      "TOTAL WAVELET TIME= 222.270047903\n"
     ]
    }
   ],
   "source": [
    "s = time()\n",
    "wf = MorletWaveletFilter(time_series=bp_eegs_filtered,\n",
    "                         freqs=np.logspace(np.log10(3), np.log10(180), 8),\n",
    "                         output='power'                   \n",
    "                         )\n",
    "\n",
    "pow_wavelet, phase_wavelet = wf.filter()\n",
    "print 'TOTAL WAVELET TIME=', time()-s"
   ]
  },
  {
   "cell_type": "markdown",
   "metadata": {},
   "source": [
    "Now that we have wavelets computted we will remove buffer to truncate those segments of time series for which wavelet convolution is \"contaminated\" by so called edge effects. We will also tak logarithm of the powers to handle the fact that spectral powers in the EEG signals show power-law decay with increasing frequencies"
   ]
  },
  {
   "cell_type": "code",
   "execution_count": 29,
   "metadata": {
    "collapsed": true
   },
   "outputs": [],
   "source": [
    "pow_wavelet = pow_wavelet.remove_buffer(duration=1.0)\n",
    "np.log10(pow_wavelet.data, out=pow_wavelet.data);"
   ]
  },
  {
   "cell_type": "markdown",
   "metadata": {},
   "source": [
    "For the subsequent analysis we will need to reorder the axes of the wavelet power array and compute the mean power across encoding epoch as follows:"
   ]
  },
  {
   "cell_type": "code",
   "execution_count": 30,
   "metadata": {
    "collapsed": true
   },
   "outputs": [],
   "source": [
    "pow_wavelet = pow_wavelet.transpose(\"events\",\"bipolar_pairs\",\"frequency\",\"time\")\n",
    "mean_powers_nd = pow_wavelet.mean(skipna=True,axis=-1)"
   ]
  },
  {
   "cell_type": "code",
   "execution_count": 31,
   "metadata": {
    "collapsed": false
   },
   "outputs": [
    {
     "name": "stdout",
     "output_type": "stream",
     "text": [
      "[[ 0  1  2  3]\n",
      " [ 4  5  6  7]\n",
      " [ 8  9 10 11]]\n"
     ]
    },
    {
     "data": {
      "text/plain": [
       "array([[-1., -1., -1., -1.],\n",
       "       [ 0.,  0.,  0.,  0.],\n",
       "       [ 1.,  1.,  1.,  1.]])"
      ]
     },
     "execution_count": 31,
     "metadata": {},
     "output_type": "execute_result"
    }
   ],
   "source": [
    "a = np.arange(12).reshape(3,4)\n",
    "print a\n",
    "a_z = zscore(a, axis=0, ddof=1)\n",
    "a_z"
   ]
  },
  {
   "cell_type": "markdown",
   "metadata": {},
   "source": [
    "Once we computed mean powers we are essentially ready to compute classifier, but first we will normalize features (i.e. mean power for each combination of bipolar pair and spectral freqnency) accross the events we will use to train the classifier. As a first step however we will reshape mean_powers_nd array (with dimensions events, bipolar_pair, frequency) to a 2-D array where one axis will correspond to events and the other one will be a Cartesian product of bipolar_pair and frequency axes:"
   ]
  },
  {
   "cell_type": "code",
   "execution_count": 32,
   "metadata": {
    "collapsed": true
   },
   "outputs": [],
   "source": [
    "mean_powers_rs = mean_powers_nd.data.reshape(mean_powers_nd.data.shape[0],-1)"
   ]
  },
  {
   "cell_type": "markdown",
   "metadata": {},
   "source": [
    "first axis of mean_powers_nd corresponds to events and the second one corresponds to Cartesian product of bipolar_pair and frequency axes of the mean_powers_nd. At this point we are ready to z-score along axis the first axis (axis with index 0 since we number axes starting from 0 in Python) :"
   ]
  },
  {
   "cell_type": "code",
   "execution_count": 33,
   "metadata": {
    "collapsed": true
   },
   "outputs": [],
   "source": [
    "zscore_mean_powers = zscore(mean_powers_rs, axis=0, ddof=1)"
   ]
  },
  {
   "cell_type": "code",
   "execution_count": 34,
   "metadata": {
    "collapsed": false
   },
   "outputs": [
    {
     "name": "stdout",
     "output_type": "stream",
     "text": [
      "[[-1.91693354 -0.52356911 -0.49182165 ..., -1.75118268 -1.36462355\n",
      "  -0.11498746]\n",
      " [-0.26718101  0.1459354   1.70491493 ..., -1.04715025 -0.32914546\n",
      "  -0.60125053]\n",
      " [ 2.03447104  0.61856508  0.51044202 ..., -0.41302451 -0.43812397\n",
      "  -0.70770282]\n",
      " ..., \n",
      " [ 0.80106252 -0.05958818 -0.65227765 ..., -0.0317476  -0.43256113\n",
      "  -0.8516289 ]\n",
      " [-0.69439572 -0.8074528   0.17807984 ..., -0.90261483 -0.4898147\n",
      "   0.44389501]\n",
      " [-1.01986587 -0.80533344 -1.37458074 ..., -0.78290898  0.03349096\n",
      "  -0.40827408]]\n"
     ]
    }
   ],
   "source": [
    "print(zscore_mean_powers)"
   ]
  },
  {
   "cell_type": "code",
   "execution_count": 35,
   "metadata": {
    "collapsed": false
   },
   "outputs": [
    {
     "data": {
      "text/plain": [
       "array([0, 1, 2, 3])"
      ]
     },
     "execution_count": 35,
     "metadata": {},
     "output_type": "execute_result"
    }
   ],
   "source": [
    "#check how many FR1 sessions we have in data\n",
    "np.unique(base_events.session)"
   ]
  },
  {
   "cell_type": "markdown",
   "metadata": {},
   "source": [
    "\n",
    "We have 3 sessions so for the purpose of this tutorial we will use session 0 and 1 as training data and session 2 as a test data Let's first construct mask arrays that we will use to perform selection along axis corresponding to events. in essence the masking or selector array, if you will, is a Boolean array that has number of elements equal to the number of events. So when e.g. 20th element of this array is True and 22nd is False the selection along events axis will pick 20th element but discard 22nd. IN the code below we are constructing selector arrays for training and validation sessions and use this array to select events and zscored powers for training and validation sessions"
   ]
  },
  {
   "cell_type": "code",
   "execution_count": 36,
   "metadata": {
    "collapsed": true
   },
   "outputs": [],
   "source": [
    "sess_min = 0\n",
    "sess_max = 1\n",
    "validation_sess_min = 2\n",
    "validation_sess_max = 2\n",
    "\n",
    "evs = base_events\n",
    "# ----------------------- computting training and validation session mask arrays to facilitate event selection\n",
    "training_session_mask =(evs.session>=sess_min) &(evs.session<=sess_max)  \n",
    "validation_session_mask =(evs.session>=validation_sess_min) &(evs.session<=validation_sess_max)  \n",
    "\n",
    "\n",
    "\n",
    "# --------------- selecting training events\n",
    "evs_sel = evs[training_session_mask]\n",
    "# ---------- converting recalled field of the events into integer array (recalled items are 1's and non-recalled are 0s)\n",
    "recalls_array = evs_sel.recalled.astype(np.int)\n",
    "# --------------- selecting zscored powers for training data\n",
    "training_data = zscore_mean_powers[training_session_mask,...]\n",
    "\n",
    "# --------------- selecting validation events (out session data)\n",
    "evs_val = evs[validation_session_mask]\n",
    "# --------------- selecting zscored powers for out session data\n",
    "validation_data = zscore_mean_powers[validation_session_mask,...]\n",
    "# ---------- converting recalled field of the events into integer array for out session data\n",
    "validation_recalls_array = evs_val.recalled.astype(np.int)"
   ]
  },
  {
   "cell_type": "markdown",
   "metadata": {},
   "source": [
    "\n",
    "Now, we will construct LogisticRegression object that will fit logistic regression coefficients for classifier features (i.e., zscored mean powers for each combination of bipoar pair and frequency):"
   ]
  },
  {
   "cell_type": "code",
   "execution_count": 37,
   "metadata": {
    "collapsed": false
   },
   "outputs": [
    {
     "data": {
      "text/plain": [
       "LogisticRegression(C=0.00072, class_weight='balanced', dual=False,\n",
       "          fit_intercept=True, intercept_scaling=1, max_iter=100,\n",
       "          multi_class='ovr', n_jobs=1, penalty='l2', random_state=None,\n",
       "          solver='liblinear', tol=0.0001, verbose=0, warm_start=False)"
      ]
     },
     "execution_count": 37,
     "metadata": {},
     "output_type": "execute_result"
    }
   ],
   "source": [
    "lr_classifier = LogisticRegression(C=7.2e-4, penalty='l2', class_weight='balanced', solver='liblinear') #c=7.2e-4\n",
    "lr_classifier.fit(training_data, recalls_array)"
   ]
  },
  {
   "cell_type": "markdown",
   "metadata": {},
   "source": [
    "\n",
    "Once we have the coeeficients we can calculate AUC for the training data."
   ]
  },
  {
   "cell_type": "code",
   "execution_count": 38,
   "metadata": {
    "collapsed": false
   },
   "outputs": [
    {
     "name": "stdout",
     "output_type": "stream",
     "text": [
      "0.831736464358\n"
     ]
    }
   ],
   "source": [
    "recall_prob_array = lr_classifier.predict_proba(training_data)[:,1]\n",
    "auc = roc_auc_score(recalls_array, recall_prob_array)\n",
    "print auc"
   ]
  },
  {
   "cell_type": "markdown",
   "metadata": {},
   "source": [
    "We can also plot ROC curve (false positives rate (FPR) vs. true positives rate (TPR) ) for in-session (aka training) data"
   ]
  },
  {
   "cell_type": "code",
   "execution_count": 39,
   "metadata": {
    "collapsed": false
   },
   "outputs": [
    {
     "data": {
      "text/plain": [
       "<matplotlib.text.Text at 0x2b66b6e6bad0>"
      ]
     },
     "execution_count": 39,
     "metadata": {},
     "output_type": "execute_result"
    },
    {
     "data": {
      "image/png": "[encoded data removed]",
      "text/plain": [
       "<matplotlib.figure.Figure at 0x2b66a9a3b5d0>"
      ]
     },
     "metadata": {},
     "output_type": "display_data"
    }
   ],
   "source": [
    "roc_curve_data_in = roc_curve(recalls_array,recall_prob_array)\n",
    "fpr_in = roc_curve_data_in[0]\n",
    "tpr_in = roc_curve_data_in[1]\n",
    "plt.plot(fpr_in,tpr_in)\n",
    "plt.plot((0.0,1.0),(0.,1.),'k--')\n",
    "plt.xlabel('FPR')\n",
    "plt.ylabel('TPR')\n",
    "plt.title('In-session ROC-curve')"
   ]
  },
  {
   "cell_type": "markdown",
   "metadata": {},
   "source": [
    "\n",
    "However to asses real value of the classifier wee need to test it on the data differennt than the training data (out-session data). We already have validation dataset solet's use it to compute out-session AUC and ROC curve:"
   ]
  },
  {
   "cell_type": "code",
   "execution_count": 40,
   "metadata": {
    "collapsed": false
   },
   "outputs": [
    {
     "data": {
      "text/plain": [
       "0.71083138464600226"
      ]
     },
     "execution_count": 40,
     "metadata": {},
     "output_type": "execute_result"
    }
   ],
   "source": [
    "validation_recall_prob_array = lr_classifier.predict_proba(validation_data)[:,1]\n",
    "validation_auc = roc_auc_score(validation_recalls_array, validation_recall_prob_array)\n",
    "validation_auc"
   ]
  },
  {
   "cell_type": "code",
   "execution_count": 41,
   "metadata": {
    "collapsed": false
   },
   "outputs": [
    {
     "data": {
      "text/plain": [
       "<matplotlib.text.Text at 0x2b66b7081a10>"
      ]
     },
     "execution_count": 41,
     "metadata": {},
     "output_type": "execute_result"
    },
    {
     "data": {
      "image/png": "[encoded data removed]",
      "text/plain": [
       "<matplotlib.figure.Figure at 0x2b66b6e9ab50>"
      ]
     },
     "metadata": {},
     "output_type": "display_data"
    }
   ],
   "source": [
    "roc_curve_data_out = roc_curve(validation_recalls_array, validation_recall_prob_array)\n",
    "fpr_out = roc_curve_data_out[0]\n",
    "tpr_out = roc_curve_data_out[1]\n",
    "plt.plot(fpr_out,tpr_out)\n",
    "plt.plot((0.0,1.0),(0.,1.),'k--')\n",
    "plt.xlabel('FPR')\n",
    "plt.ylabel('TPR')\n",
    "plt.title('Out-Session ROC-curve')"
   ]
  },
  {
   "cell_type": "markdown",
   "metadata": {},
   "source": [
    "Notice that in our example we used entire data set (training + x-validation) during z-scoring. In real applications we will have training data set which we will z-score and then then we will compute z-score for the training dataset separately (possibly using variance estimate for the training set). However in order to keep this tutorial relatively simple i made simplifying assumption and zscored entire data set."
   ]
  },
  {
   "cell_type": "markdown",
   "metadata": {},
   "source": [
    "For logistic regression classifier we estimate probabilities that a given event belongs to a a class of recalled events. The probability formula is given by:\n",
    "$P(x)=\\left({1+e^{-\\left(B+\\sum w_i x_i\\right)}}\\right)^{-1}$\n",
    "which implies that we are looking for a dividing hyperplane that will separate recalled and non-recalled events. The equation of this hyperplane is simply\n",
    "$B+\\sum w_i x_i = 0$\n",
    "where $B$ is the intercept and $w_i$'s are weights coefficients fitted by Logistic Regression algorithm. $x_i$'s are features of the classifier - in our case $x_i$'s denote mean powers for the i-th combination of spectral frequency and bipolar pair. While ROC and AUC can give you a sense of classifier performance, sometimes it is nice to be able to visualize how well the dividing hyperplane separates data points belonging to thtw two classes (here recalled vs non recalled) We can do it by projecting N dimensional space into two dimennsions and plot dividing plane as well as individual , color-coded events. Let's rewrite $B+\\sum w_i x_i = 0$ as\n",
    "$ B+X+Y = 0 $ where $X = \\sum_{i=0}^{i=200} w_i x_i$ and $Y = \\sum_{i=201}^{i=N} w_i x_i$. The number 200 is arbitrary here. The idea is that we can treat a weighted sum of first n features as one variable and the weighted sum of the remaining features as another variable and plot those on a scatter plot. Here I picked $n=200$ and $N$ denotes total number of features. Since $ B+X+Y = 0 $ is the exponent in the logistic probability function the line along which the probability of the data point belonging to either class is exactly 0.5 is called dividing line. It is not hard to see that the equation of hte dividing line is exactly  $ B+X+Y = 0 $ because when the exponent is $0$ then\n",
    "$P(x)=\\left({1+e^{-0}}\\right)^{-1}=0.5$\n",
    "Now, the data points that lie above the dividing line will get assigned high probability (here, of being recalled) and those that lie below will get assigned low probability"
   ]
  },
  {
   "cell_type": "code",
   "execution_count": 42,
   "metadata": {
    "collapsed": true
   },
   "outputs": [],
   "source": [
    "w_tmp = np.squeeze(lr_classifier.coef_)"
   ]
  },
  {
   "cell_type": "code",
   "execution_count": 43,
   "metadata": {
    "collapsed": true
   },
   "outputs": [],
   "source": [
    "w=np.zeros(len(w_tmp)+1)\n",
    "w[0]=lr_classifier.intercept_\n",
    "w[1:]=w_tmp"
   ]
  },
  {
   "cell_type": "code",
   "execution_count": 44,
   "metadata": {
    "collapsed": true
   },
   "outputs": [],
   "source": [
    "x_project=np.dot(training_data[:,:200],w[1:201])\n",
    "y_project=np.dot(training_data[:,200:],w[201:])\n",
    "recalled_ind = recalls_array==0"
   ]
  },
  {
   "cell_type": "code",
   "execution_count": 45,
   "metadata": {
    "collapsed": false
   },
   "outputs": [
    {
     "data": {
      "text/plain": [
       "<matplotlib.collections.PathCollection at 0x2b66b717a1d0>"
      ]
     },
     "execution_count": 45,
     "metadata": {},
     "output_type": "execute_result"
    },
    {
     "data": {
      "image/png": "[encoded data removed]",
      "text/plain": [
       "<matplotlib.figure.Figure at 0x2b66b7032d50>"
      ]
     },
     "metadata": {},
     "output_type": "display_data"
    }
   ],
   "source": [
    "fig = plt.figure(figsize=(10, 10))\n",
    "\n",
    "# plt.plot(x_line, y_line)\n",
    "# plt.ylabel('uniform sample')\n",
    "x = np.linspace(-.5,.5)\n",
    "plt.plot(x, -w[0]-x)\n",
    "plt.scatter(x=x_project[recalled_ind], y=y_project[recalled_ind], s=80, facecolors='none', edgecolors='r')\n",
    "plt.scatter(x=x_project[~recalled_ind], y=y_project[~recalled_ind], s=80, facecolors='none', edgecolors='b')"
   ]
  },
  {
   "cell_type": "markdown",
   "metadata": {},
   "source": [
    "The analogous plot for the validation data would look as follows"
   ]
  },
  {
   "cell_type": "code",
   "execution_count": 46,
   "metadata": {
    "collapsed": false
   },
   "outputs": [
    {
     "data": {
      "text/plain": [
       "<matplotlib.collections.PathCollection at 0x2b66b71fb610>"
      ]
     },
     "execution_count": 46,
     "metadata": {},
     "output_type": "execute_result"
    },
    {
     "data": {
      "image/png": "[encoded data removed]",
      "text/plain": [
       "<matplotlib.figure.Figure at 0x2b66b6f356d0>"
      ]
     },
     "metadata": {},
     "output_type": "display_data"
    }
   ],
   "source": [
    "x_project_val=np.dot(validation_data[:,:200],w[1:201])\n",
    "y_project_val=np.dot(validation_data[:,200:],w[201:])\n",
    "validation_recalled_ind = validation_recalls_array==0\n",
    "fig = plt.figure(figsize=(10, 10))\n",
    "\n",
    "# plt.plot(x_line, y_line)\n",
    "# plt.ylabel('uniform sample')\n",
    "x = np.linspace(-.5,.5)\n",
    "plt.plot(x, -w[0]-x)\n",
    "plt.scatter(x=x_project_val[validation_recalled_ind], y=y_project_val[validation_recalled_ind], s=80, facecolors='none', edgecolors='r')\n",
    "plt.scatter(x=x_project_val[~validation_recalled_ind], y=y_project_val[~validation_recalled_ind], s=80, facecolors='none', edgecolors='b')"
   ]
  },
  {
   "cell_type": "code",
   "execution_count": null,
   "metadata": {
    "collapsed": true
   },
   "outputs": [],
   "source": []
  }
 ],
 "metadata": {
  "kernelspec": {
   "display_name": "py3",
   "language": "python",
   "name": "py3"
  },
  "language_info": {
   "codemirror_mode": {
    "name": "ipython",
    "version": 3
   },
   "file_extension": ".py",
   "mimetype": "text/x-python",
   "name": "python",
   "nbconvert_exporter": "python",
   "pygments_lexer": "ipython3",
   "version": "3.5.4"
  }
 },
 "nbformat": 4,
 "nbformat_minor": 0
}
