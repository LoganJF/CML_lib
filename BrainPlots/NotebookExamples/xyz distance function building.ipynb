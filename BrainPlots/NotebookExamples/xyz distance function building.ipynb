{
 "cells": [
  {
   "cell_type": "code",
   "execution_count": 1,
   "metadata": {
    "collapsed": false
   },
   "outputs": [
    {
     "name": "stdout",
     "output_type": "stream",
     "text": [
      "Could not import MorletWaveletFilterCppLegacy (single-core C++ version of MorletWaveletFilter): cannot import name MorletWaveletTransform\n",
      "You can still use MorletWaveletFilter\n"
     ]
    }
   ],
   "source": [
    "from SphereBrainParc import get_avg_surface_spheres, get_avg_surface_spheres_ranges\n",
    "import numpy as np\n",
    "import math\n",
    "from itertools import product\n",
    "\n",
    "def get_atlas(subject, _load = np.load):\n",
    "    path = '/scratch/loganf/subject_brain_atlas/{}.npy'.format(subject)\n",
    "    return _load(path)\n",
    "\n",
    "def get_coords(tals, atlas='avg', snap_to_cortex=True, _vstack = np.vstack):\n",
    "    \"\"\" Return x,y,z coordinates (coords) and x,y,z snapped to cortex (snaps)\n",
    "    tal: tal_reader/wholebrain_atlas\n",
    "    atlas: str, type of atlas, e.g. ind, avg\n",
    "    snap_to_cortex: bool, default = True, whether to return \n",
    "                    x,y,z and x,y,z snapped to cortex (True)\n",
    "                    or just x,y,z coordinate\n",
    "    \"\"\"\n",
    "    \n",
    "    # Get coordinates\n",
    "    coords = _vstack((tals['atlases'][atlas]['x'], \n",
    "                      tals['atlases'][atlas]['y'], \n",
    "                      tals['atlases'][atlas]['z']) ).T\n",
    "    if not snap_to_cortex:\n",
    "        return coords, None\n",
    "    \n",
    "    # Get snapped to cortex\n",
    "    atlas = ''.join([atlas, '.dural'])\n",
    "    snaps = _vstack((tals['atlases'][atlas]['x'], \n",
    "                     tals['atlases'][atlas]['y'], \n",
    "                     tals['atlases'][atlas]['z']) ).T\n",
    "    return coords, snaps\n",
    "\n",
    "def get_x_y_z_distance(coordinates_a, coordinates_b, _sqrt = np.sqrt):\n",
    "    \"\"\"Returns the euclidean distance between coordinates_a and coordinates_b\n",
    "    \n",
    "    Notes:\n",
    "    coordinates_a and coordinates_b must be of same size\n",
    "    \n",
    "    -----\n",
    "    Parameters\n",
    "    coordinates_a: np.array; x,y,z coordinate\n",
    "    coordinates_b: np.array; x,y,z coordinate\n",
    "    -----\n",
    "    OUTPUT\n",
    "    euclidean distance between coordinates_a and coordinates_b\n",
    "    \"\"\"\n",
    "    return _sqrt(((coordinates_a-coordinates_b)**2).sum(1))\n"
   ]
  },
  {
   "cell_type": "code",
   "execution_count": 2,
   "metadata": {
    "collapsed": false
   },
   "outputs": [
    {
     "data": {
      "text/plain": [
       "array([ 2.48383544,  4.59082089,  1.42229624,  1.19790333,  0.82070643,\n",
       "        2.02918902,  1.60125744,  1.44417617,  2.33587313,  1.06624997,\n",
       "        2.4655123 ,  1.0830436 ,  1.46102969,  1.8768587 ,  1.03793705,\n",
       "        3.6654152 ,  6.94120499,  1.95368956,  2.3657064 ,  0.87673585,\n",
       "        3.25330389,  1.95145586,  1.69595115,  0.81848131,  1.17342662,\n",
       "        0.24857409,  0.3445188 ,  0.80189475,  1.73864004,  0.83032652,\n",
       "        5.51431798,  6.8747416 ,  2.52604326,  4.45452196,  1.3022268 ,\n",
       "        1.69234642,  1.54886027,  0.61044908,  1.55120321,  1.27604394,\n",
       "        1.67137081,  1.06220756,  1.65545086,  1.68150913,  0.9561432 ,\n",
       "        5.73057716,  5.21040201,  3.24802046,  4.39673038,  1.00487447,\n",
       "        1.19263531,  1.18234469,  1.00338844,  1.58545989,  1.43334302,\n",
       "        0.9879105 ,  0.81891229,  1.01628777,  1.67092894,  3.91089014,\n",
       "        3.38052958,  4.84150346,  2.49160218,  2.69471955,  1.18359935,\n",
       "        2.77463622,  0.94603653,  0.68748294,  2.26831258,  4.05470458,\n",
       "        2.8763589 ,  2.50145908,  4.4226353 ,  1.39241058,  5.60136459,\n",
       "        4.37028347,  2.42912566,  3.24972366,  3.74019652,  2.37983394,\n",
       "        3.30964188,  4.05346382,  1.30813103,  3.77534168,  3.89376616,\n",
       "        1.07495362,  1.45786123,  3.04553237,  0.50308054,  4.97204297,\n",
       "        3.27456558,  0.9027669 ,  4.53582884,  2.52293058,  2.8078306 ,\n",
       "        1.98365737,  1.81650524,  1.29030747,  0.39820049,  1.00171741,\n",
       "        0.78617403,  0.65691232,  2.63539667,  0.96050976,  4.04288399,\n",
       "        0.56635372,  0.30243545,  0.83291772,  0.81074456,  0.3211976 ,\n",
       "        0.3724296 ,  2.24914767,  0.        ,  0.        ,  0.        ,\n",
       "        0.        ,  0.        ,  0.        ,  4.72310708,  1.29021889,\n",
       "        0.50320293,  1.04992821,  2.91849677,  2.30419179,  1.44285486,\n",
       "        5.89751989,  5.95221171,  5.8997506 ,  5.3790895 ,  3.35443961,\n",
       "        0.98405601,  0.24041053,  5.36914397,  5.42852183,  3.03163572,\n",
       "        4.28247406,  5.0925427 ,  4.27266291,  0.        ,  0.        ,  0.        ])"
      ]
     },
     "execution_count": 2,
     "metadata": {},
     "output_type": "execute_result"
    }
   ],
   "source": [
    "atlas = get_atlas('R1111M')\n",
    "coords, snaps = get_coords(atlas, atlas='avg')\n",
    "get_x_y_z_distance(coords,snaps)"
   ]
  },
  {
   "cell_type": "code",
   "execution_count": 3,
   "metadata": {
    "collapsed": false
   },
   "outputs": [],
   "source": [
    "# - > new way\n",
    "x,y,z = get_avg_surface_spheres_ranges(10,3)\n",
    "spheres_10mm = sum([1 for x,y,z in product(x,y,z)])\n",
    "\n",
    "# - > Burke way\n",
    "x,y,z = get_avg_surface_spheres_ranges(12.5,3)\n",
    "spheres_12_5mm = sum([1 for x,y,z in product(x,y,z)])"
   ]
  },
  {
   "cell_type": "code",
   "execution_count": 4,
   "metadata": {
    "collapsed": false
   },
   "outputs": [
    {
     "data": {
      "text/plain": [
       "65892"
      ]
     },
     "execution_count": 4,
     "metadata": {},
     "output_type": "execute_result"
    }
   ],
   "source": [
    "spheres_12_5mm"
   ]
  },
  {
   "cell_type": "code",
   "execution_count": 5,
   "metadata": {
    "collapsed": false
   },
   "outputs": [
    {
     "data": {
      "text/plain": [
       "70980"
      ]
     },
     "execution_count": 5,
     "metadata": {},
     "output_type": "execute_result"
    }
   ],
   "source": [
    "spheres_10mm"
   ]
  },
  {
   "cell_type": "code",
   "execution_count": null,
   "metadata": {
    "collapsed": true
   },
   "outputs": [],
   "source": []
  }
 ],
 "metadata": {
  "kernelspec": {
   "display_name": "ptsa_fresh",
   "language": "python",
   "name": "ptsa_fresh"
  },
  "language_info": {
   "codemirror_mode": {
    "name": "ipython",
    "version": 2
   },
   "file_extension": ".py",
   "mimetype": "text/x-python",
   "name": "python",
   "nbconvert_exporter": "python",
   "pygments_lexer": "ipython2",
   "version": "2.7.13"
  }
 },
 "nbformat": 4,
 "nbformat_minor": 0
}
